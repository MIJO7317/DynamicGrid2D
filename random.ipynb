{
 "cells": [
  {
   "cell_type": "code",
   "execution_count": 2,
   "metadata": {},
   "outputs": [],
   "source": [
    "import numpy as np\n",
    "import matplotlib\n",
    "import matplotlib.pyplot as plt\n",
    "matplotlib.rcParams[\"figure.dpi\"] = 100\n",
    "import plotly.graph_objects as go\n",
    "from scipy.optimize import fsolve\n",
    "# import warnings\n",
    "# warnings.filterwarnings(\"error\")\n",
    "import pyvista as pv"
   ]
  },
  {
   "cell_type": "code",
   "execution_count": 26,
   "metadata": {},
   "outputs": [
    {
     "name": "stderr",
     "output_type": "stream",
     "text": [
      "c:\\Users\\rouol\\AppData\\Local\\Programs\\Python\\Python310\\lib\\site-packages\\scipy\\optimize\\_minpack_py.py:175: RuntimeWarning: The iteration is not making good progress, as measured by the \n",
      "  improvement from the last ten iterations.\n",
      "  warnings.warn(msg, RuntimeWarning)\n"
     ]
    }
   ],
   "source": [
    "T = 3\n",
    "\n",
    "a = 0\n",
    "b = 1\n",
    "\n",
    "h = 0.01\n",
    "tau = 0.01\n",
    "\n",
    "M = int(T/tau) + 1\n",
    "N = int((b-a)/h) + 1\n",
    "\n",
    "# taus = np.random.uniform(low=0.001, high=0.1, size=(M))\n",
    "# taus = taus / taus.sum() * T\n",
    "taus = np.ones(M) * tau\n",
    "U = np.zeros((M, N))\n",
    "Q = np.zeros(N)\n",
    "# Psi = np.ones(N-1)\n",
    "# Psi = np.random.uniform(low=0.001, high=5, size=(N-1))#np.random.rand(N-1)\n",
    "# Psi = Psi / Psi.sum() * (b-a)/h\n",
    "Psi = np.ones(N-1)\n",
    "Psis = [Psi.copy()]\n",
    "\n",
    "Kuxt = lambda u, x, t: u**2\n",
    "K = lambda m, n: Kuxt(U[m][n], n*h, m*tau)\n",
    "\n",
    "for n in range(N):\n",
    "    U[0][n] = 0#1 - n*h\n",
    "    # U[0][n] = -40*((n*h)-0.5)**2+10\n",
    "    # U[0][n] = 10*np.sin(10*n*h)\n",
    "\n",
    "for m in range(1, M):\n",
    "    Psi_next = Psi\n",
    "    tau = taus[m]\n",
    "    def Equations(U_m):\n",
    "        Equations_returned = np.zeros(N)\n",
    "        Equations_returned[0] = U_m[0] - 1\n",
    "        Equations_returned[N-1] = U_m[N-1]\n",
    "        for n in range(1, N-1):\n",
    "            Equations_returned[n] = (tau/(2*h**2)*(K(m-1, n+1) + K(m-1, n))/Psi[n]) * U_m[n+1] -\\\n",
    "                                    ((Psi_next[n] + Psi_next[n-1])/2 +\\\n",
    "                                        tau/(2*h**2)*((K(m-1,n+1) + K(m-1, n))/Psi[n]+(K(m-1,n) + K(m-1, n-1))/Psi[n-1]))*U_m[n] +\\\n",
    "                                    (tau/(2*h**2)*(K(m-1, n) + K(m-1, n-1))/Psi[n-1]) * U_m[n-1] -\\\n",
    "                                    tau/h*(Q[n+1]*U[m-1][n+1] - Q[n]*U[m-1][n]) +\\\n",
    "                                    (Psi[n]+Psi[n-1])/2*U[m-1][n]\n",
    "        return Equations_returned\n",
    "                    \n",
    "    U[m] = fsolve(Equations, U[m-1])\n",
    "    \n",
    "    Psis.append(Psi.copy())"
   ]
  },
  {
   "cell_type": "code",
   "execution_count": 27,
   "metadata": {},
   "outputs": [
    {
     "data": {
      "image/png": "[encoded data removed]",
      "text/plain": [
       "<Figure size 432x288 with 1 Axes>"
      ]
     },
     "metadata": {
      "needs_background": "light"
     },
     "output_type": "display_data"
    }
   ],
   "source": [
    "t = 0\n",
    "graph = []\n",
    "for i, Psi in enumerate(Psis):\n",
    "    if i % 1 == 0:\n",
    "        X = list()\n",
    "        xi = 0\n",
    "        X.append(xi)\n",
    "        for psi in Psi:\n",
    "            xi += psi * h\n",
    "            X.append(xi)\n",
    "        graph.append([X, list(np.full((len(X)), t))])\n",
    "        # plt.scatter(X, np.full((len(X)), t), s=1, color='black')\n",
    "        t += taus[i]\n",
    "graph = np.array(graph)\n",
    "graph = graph.transpose()\n",
    "# graph.shape, graph[0]\n",
    "for l in graph:\n",
    "    # l = line.transpose()\n",
    "    plt.scatter(l[0], l[1], s=1)\n",
    "plt.show()"
   ]
  },
  {
   "cell_type": "code",
   "execution_count": 28,
   "metadata": {},
   "outputs": [
    {
     "data": {
      "application/vnd.jupyter.widget-view+json": {
       "model_id": "fc7768d0a3084c888ae3c15d9d4c0529",
       "version_major": 2,
       "version_minor": 0
      },
      "text/plain": [
       "ViewInteractiveWidget(height=768, layout=Layout(height='auto', width='100%'), width=1024)"
      ]
     },
     "metadata": {},
     "output_type": "display_data"
    }
   ],
   "source": [
    "def make_point_set():\n",
    "    t = 0\n",
    "    points = np.zeros((M*N, 3))\n",
    "    for i, Psi in enumerate(Psis):\n",
    "        points[i*N:(i+1)*N, 2] = U[i, :]\n",
    "        if i % 1 == 0:\n",
    "            X = np.zeros((N))\n",
    "            for j, psi in enumerate(Psi, 1):\n",
    "                X[j] = X[j-1] + psi * h\n",
    "            points[i*N:(i+1)*N, 0] = X\n",
    "            points[i*N:(i+1)*N, 1] = np.full((N), t)\n",
    "            # points[i*N:(i+1)*N, :2] = np.array([X, np.full((N), t)]).transpose()\n",
    "            # plt.scatter(X, np.full((len(X)), t), s=1, color='black')\n",
    "            t += tau\n",
    "    foo = pv.PolyData(points)\n",
    "    foo.rotate_z(0, inplace=True)\n",
    "    return foo.points\n",
    "# def make_point_set_example():\n",
    "#     \"\"\"Ignore the contents of this function. Just know that it returns an\n",
    "#     n by 3 numpy array of structured coordinates.\"\"\"\n",
    "#     n, m = 29, 32\n",
    "#     x = np.linspace(-200, 200, num=n) + np.random.uniform(-5, 5, size=n)\n",
    "#     y = np.linspace(-200, 200, num=m) + np.random.uniform(-5, 5, size=m)\n",
    "#     xx, yy = np.meshgrid(x, y)\n",
    "#     A, b = 100, 100\n",
    "#     zz = A * np.exp(-0.5 * ((xx / b) ** 2.0 + (yy / b) ** 2.0))\n",
    "#     points = np.c_[xx.reshape(-1), yy.reshape(-1), zz.reshape(-1)]\n",
    "#     foo = pv.PolyData(points)\n",
    "#     foo.rotate_z(36.6, inplace=True)\n",
    "#     return foo.points\n",
    "\n",
    "\n",
    "# poly_data = pv.PolyData(points)\n",
    "mesh = pv.StructuredGrid()\n",
    "# Set the coordinates from the numpy array\n",
    "mesh.points = make_point_set()\n",
    "# set the dimensions\n",
    "mesh.dimensions = [N, M, 1]\n",
    "# mesh.plot()\n",
    "mesh.plot(show_edges=True, show_grid=True)\n",
    "# mesh.plot(show_edges=True, show_grid=True, cpos=\"xy\")\n",
    "\n",
    "# plt.figure(figsize=(10, 10))\n",
    "# plt.scatter(points[:, 0], points[:, 1], c=points[:, 2], s=1)\n",
    "# plt.axis(\"image\")\n",
    "# plt.xlabel(\"X Coordinate\")\n",
    "# plt.ylabel(\"Y Coordinate\")\n",
    "# plt.show()"
   ]
  }
 ],
 "metadata": {
  "interpreter": {
   "hash": "8cdd4720bede866ee1b3071e84d868d1c4a135aa16519d603c9b26c0f1a0af05"
  },
  "kernelspec": {
   "display_name": "Python 3.10.2 64-bit",
   "language": "python",
   "name": "python3"
  },
  "language_info": {
   "codemirror_mode": {
    "name": "ipython",
    "version": 3
   },
   "file_extension": ".py",
   "mimetype": "text/x-python",
   "name": "python",
   "nbconvert_exporter": "python",
   "pygments_lexer": "ipython3",
   "version": "3.10.2"
  },
  "orig_nbformat": 4
 },
 "nbformat": 4,
 "nbformat_minor": 2
}
