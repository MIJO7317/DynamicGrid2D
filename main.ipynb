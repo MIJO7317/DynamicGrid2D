{
 "cells": [
  {
   "cell_type": "code",
   "execution_count": 106,
   "metadata": {},
   "outputs": [],
   "source": [
    "import numpy as np\n",
    "import matplotlib\n",
    "import matplotlib.pyplot as plt\n",
    "matplotlib.rcParams[\"figure.dpi\"] = 100\n",
    "import plotly.graph_objects as go\n",
    "from scipy.optimize import fsolve\n",
    "# import warnings\n",
    "# warnings.filterwarnings(\"error\")"
   ]
  },
  {
   "cell_type": "code",
   "execution_count": 107,
   "metadata": {},
   "outputs": [
    {
     "name": "stdout",
     "output_type": "stream",
     "text": [
      "[1. 1. 1. 1. 1.]\n"
     ]
    },
    {
     "data": {
      "text/plain": [
       "1.0"
      ]
     },
     "execution_count": 107,
     "metadata": {},
     "output_type": "execute_result"
    }
   ],
   "source": [
    "arr = np.ones(5)\n",
    "print(arr)\n",
    "i = 5\n",
    "np.sum(arr[4:])"
   ]
  },
  {
   "cell_type": "code",
   "execution_count": 108,
   "metadata": {},
   "outputs": [
    {
     "ename": "SyntaxError",
     "evalue": "invalid syntax (3979649936.py, line 86)",
     "output_type": "error",
     "traceback": [
      "\u001b[1;36m  Input \u001b[1;32mIn [108]\u001b[1;36m\u001b[0m\n\u001b[1;33m    A[m][m-1] = tau/2/h**2*(K(U[]))\u001b[0m\n\u001b[1;37m                                ^\u001b[0m\n\u001b[1;31mSyntaxError\u001b[0m\u001b[1;31m:\u001b[0m invalid syntax\n"
     ]
    }
   ],
   "source": [
    "T = 0.1\n",
    "\n",
    "a = 0\n",
    "b = 1\n",
    "\n",
    "h = 0.01\n",
    "tau = 0.01\n",
    "\n",
    "M = int(T/tau) + 1\n",
    "N = int((b-a)/h) + 1\n",
    "\n",
    "K = lambda u, x, t: u**2\n",
    "\n",
    "U = np.zeros((M, N))\n",
    "Psi = np.ones(N-1)\n",
    "Q = np.zeros(N)\n",
    "\n",
    "Psis = [Psi.copy()]\n",
    "\n",
    "for n in range(N):\n",
    "    U[0][n] = 10\n",
    "\n",
    "for m in range(1, M):\n",
    "    # tau = 0.001\n",
    "    for n in range(1, N - 1):\n",
    "        # Q[0] = 0\n",
    "        # for i in range(1, N - 1):\n",
    "        #     # if np.abs(A[m-1][i+1] - A[m-1][i-1]) < 0.01 or np.abs(Psi[i]+Psi[i-1]) < 0.01:\n",
    "        #     #     Q[i] = (K(A[m-1][i+1], h*(i+1), tau*(m-1))*(A[m-1][i+1] - A[m-1][i]) - \\\n",
    "        #     #             K(A[m-1][i-1], h*(i-1), tau*(m-1))*(A[m-1][i] - A[m-1][i-1])) * \\\n",
    "        #     #             2/h/0.01/ 0.01\n",
    "        #     # else:\n",
    "        #     #     try:\n",
    "        #     #         Q[i] = (K(A[m-1][i+1], h*(i+1), tau*(m-1))*(A[m-1][i+1] - A[m-1][i]) - \\\n",
    "        #     #                 K(A[m-1][i-1], h*(i-1), tau*(m-1))*(A[m-1][i] - A[m-1][i-1])) * \\\n",
    "        #     #                 2/h/(Psi[i]+Psi[i-1])/(A[m-1][i+1] - A[m-1][i-1])\n",
    "        #     #     except:\n",
    "        #     #         pass\n",
    "        #     # if Psi[i-1] + tau/h*(Q[i-1]-Q[i]) < 0:\n",
    "        #     #     Q[i] = h/tau*Psi[i-1]/2 + Q[i-1]\n",
    "        #     # else:\n",
    "        #     #     Q[i] += h/tau*Psi[i-1]/2 + Q[i-1]\n",
    "        #     # counted = (K(A[m-1][i+1], h*(i+1), tau*(m-1))*(A[m-1][i+1] - A[m-1][i]) - \\\n",
    "        #     #                 K(A[m-1][i-1], h*(i-1), tau*(m-1))*(A[m-1][i] - A[m-1][i-1])) * \\\n",
    "        #     #                 2/h/(Psi[i]+Psi[i-1])/(A[m-1][i+1] - A[m-1][i-1])\n",
    "        #     # right =  h/tau*np.sum(Psi[:i])\n",
    "        #     # left = -h/tau*np.sum(Psi[i:])\n",
    "        #     # if  left < counted < right:\n",
    "        #     #     Q[i] = counted\n",
    "        #     # elif counted > right:\n",
    "        #     #     Q[i] = right/2\n",
    "        #     # elif counted < left:\n",
    "        #     #     Q[i] = left/2\n",
    "        #     # Q[i] = (left+right)/2\n",
    "        #     Q[i] = 0\n",
    "        # Q[N-1] = 0\n",
    "        Q = np.zeros(N)\n",
    "        \n",
    "        # Psi_next = np.zeros(N-1)\n",
    "        \n",
    "        # taus = list()\n",
    "        # for i in range(0, N-1):\n",
    "        #     if Q[i] != Q[i+1]:\n",
    "        #         taus.append(abs(h*Psi[i]/2/(Q[i+1] - Q[i])))\n",
    "        # if len(taus) != 0:\n",
    "        #     tau = min(taus)\n",
    "        \n",
    "        # for i in range(0, N - 1):\n",
    "        #     Psi_next[i] = Psi[i] + tau/h*(Q[i]-Q[i+1])\n",
    "        Psi_next = np.ones(N)\n",
    "                \n",
    "        # A[m][n] = (A[m-1][n] * (Psi[n] + Psi[n-1]) / 2 + tau / h**2 * \\\n",
    "        #     (K((A[m-1][n+1] + A[m-1][n])/2, (n+1/2)*h, (m-1)*tau) / Psi[n] * (A[m-1][n+1]-A[m-1][n]) \\\n",
    "        #     - \\\n",
    "        #     K((A[m-1][n] + A[m-1][n-1])/2, (n-1/2)*h, (m-1)*tau) / Psi[n-1] * (A[m-1][n]-A[m-1][n-1])) \\\n",
    "        #     - \\\n",
    "        #     tau / (2*h) * (Q[n+1] * A[m-1][n+1] - Q[n-1]*A[m-1][n-1])) * 2 / (Psi_next[n]+Psi_next[n-1])\n",
    "        A = np.zeros((N, N))\n",
    "        B = np.zeros(N)\n",
    "        for m in range(0, N):\n",
    "            if m == 0:\n",
    "                A[m][0] = 1\n",
    "            elif m == N-1:\n",
    "                A[m][N-1] = 1\n",
    "            else:\n",
    "                A[m][m-1] = tau/2/h**2*(K(U[]))\n",
    "                A[m][m] = \n",
    "                A[m][m+1] = \n",
    "            # if n != 1:\n",
    "            #     Psi_n_prev = (Psi[n-1] + Psi[n-2])/2\n",
    "            # Psi_n = (Psi[n] + Psi[n-1])/2\n",
    "            # Psi_m_next = (Psi_next[n] + Psi_next[n-1])/2\n",
    "            # # if n != 1:\n",
    "            # A[n-1][n-2] = tau/2/h**2*(K(U[m-1][n], n*h, (m-1)*tau)/Psi_n + K(U[m-1][n-1], (n-1)*h, (m-1)*tau)/Psi_n_prev)\n",
    "            # # else:\n",
    "            # #     A[n-1][n-2] = 0\n",
    "            # A[n-1][n-1] = -(Psi_m_next + tau/2/h**2*(K(U[m-1][n+1], (n+1)*h, (m-1)*tau)/Psi_n_next +\\\n",
    "            #                                         2*K(U[m-1][n], n*h, (m-1)*tau)/Psi_n +\\\n",
    "            #                                         K(U[m-1][n-1], (n-1)*h, (m-1)*tau)/Psi_n_prev))\n",
    "            # # if n != N-2:\n",
    "            # A[n-1][n] = tau/2/h**2*(K(U[m-1][n], n*h, (m-1)*tau)/Psi_n + K(U[m-1][n+1], (n+1)*h, (m-1)*tau)/Psi_n_next)\n",
    "            # # else:\n",
    "            # #     A[n-1][n] = 0\n",
    "            # B[n-1] = tau/h*(Q[n+1]*U[m-1][n+1] - Q[n]*U[m-1][n]) - Psi_n*U[m-1][n]\n",
    "            \n",
    "        X = np.linalg.inv(A).dot(B)\n",
    "        U[m] = X\n",
    "        # A[m][n] = A[m-1][n] + tau/h**2*(K((A[m-1][n+1] + A[m-1][n])/2, (n+1/2)*h, (m-1)*tau)*(A[m-1][n+1]-A[m-1][n])\\\n",
    "        #     -\\\n",
    "        #     K((A[m-1][n] + A[m-1][n-1])/2, (n-1/2)*h, (m-1)*tau)*(A[m-1][n]-A[m-1][n-1]))\n",
    "\n",
    "        Psi = np.copy(Psi_next)\n",
    "        \n",
    "        Psis.append(Psi.copy())\n",
    "        "
   ]
  },
  {
   "cell_type": "code",
   "execution_count": null,
   "metadata": {},
   "outputs": [
    {
     "name": "stderr",
     "output_type": "stream",
     "text": [
      "C:\\Users\\stas2\\AppData\\Local\\Temp\\ipykernel_4224\\3302677630.py:103: RuntimeWarning:\n",
      "\n",
      "invalid value encountered in double_scalars\n",
      "\n",
      "C:\\Users\\stas2\\AppData\\Local\\Temp\\ipykernel_4224\\3302677630.py:104: RuntimeWarning:\n",
      "\n",
      "invalid value encountered in double_scalars\n",
      "\n",
      "c:\\Users\\stas2\\AppData\\Local\\Programs\\Python\\Python39\\lib\\site-packages\\scipy\\optimize\\_minpack_py.py:175: RuntimeWarning:\n",
      "\n",
      "The iteration is not making good progress, as measured by the \n",
      "  improvement from the last ten iterations.\n",
      "\n"
     ]
    }
   ],
   "source": [
    "T = 0.1\n",
    "\n",
    "a = 0\n",
    "b = 1\n",
    "\n",
    "h = 0.01\n",
    "tau = 0.01\n",
    "\n",
    "M = int(T/tau) + 1\n",
    "N = int((b-a)/h) + 1\n",
    "\n",
    "U = np.zeros((M, N))\n",
    "Q = np.zeros(N)\n",
    "Psi = np.ones(N-1)\n",
    "Psis = [Psi.copy()]\n",
    "\n",
    "Kuxt = lambda u, x, t: u**2\n",
    "K = lambda m, n: Kuxt(U[m][n], n*h, m*tau)\n",
    "\n",
    "for n in range(N):\n",
    "    U[0][n] = 0\n",
    "    # U[0][n] = -40*((n*h)-0.5)**2+10\n",
    "    # U[0][n] = 10*np.sin(10*n*h)\n",
    "\n",
    "for m in range(1, M):\n",
    "    def F(Q_m):\n",
    "        F_retuned = np.zeros(N)\n",
    "        F_retuned[0] = Q_m[0]\n",
    "        for i in range(1, N-1):\n",
    "            A = 0.4*Q_m[i-1]+0.6*Q_m[i+1]+h/tau*(0.4*Psi[i-1] - 0.6*Psi[i])\n",
    "            B = 0.6*Q_m[i-1]+0.4*Q_m[i+1]+h/tau*(0.6*Psi[i-1] - 0.4*Psi[i])\n",
    "            if np.abs(U[m-1][i+1] - U[m-1][i-1]) < 0.0000001:\n",
    "                if (K(m-1, i+1)*(U[m-1][i+1] - U[m-1][i]) - \\\n",
    "                    K(m-1, i-1)*(U[m-1][i] - U[m-1][i-1])) * \\\n",
    "                    2/h/(Psi[i]+Psi[i-1]) * (U[m-1][i+1] - U[m-1][i-1]) < 0:\n",
    "                    F_retuned[i] = A - Q_m[i]\n",
    "                else:\n",
    "                    F_retuned[i] = B - Q_m[i]\n",
    "            else:\n",
    "                Q_counted = (K(m-1, i+1)*(U[m-1][i+1] - U[m-1][i]) - \\\n",
    "                        K(m-1, i-1)*(U[m-1][i] - U[m-1][i-1])) * \\\n",
    "                        2/h/(Psi[i]+Psi[i-1])/(U[m-1][i+1] - U[m-1][i-1])\n",
    "                if Q_counted < Q_m[i+1] - h/tau*Psi[i]:\n",
    "                    F_retuned[i] = A - Q_m[i]\n",
    "                elif Q_counted > Q_m[i-1] + h/tau*Psi[i-1]:\n",
    "                    F_retuned[i] = B - Q_m[i]\n",
    "                else:\n",
    "                    F_retuned[i] = Q_counted - Q_m[i]\n",
    "        F_retuned[N-1] = Q_m[N-1]\n",
    "        return F_retuned\n",
    "    Q = fsolve(F, h*np.ones(N))\n",
    "    # Q[0] = 0\n",
    "    # for i in range(1, N - 1):\n",
    "    #     # if np.abs(A[m-1][i+1] - A[m-1][i-1]) < 0.01 or np.abs(Psi[i]+Psi[i-1]) < 0.01:\n",
    "    #     #     Q[i] = (K(A[m-1][i+1], h*(i+1), tau*(m-1))*(A[m-1][i+1] - A[m-1][i]) - \\\n",
    "    #     #             K(A[m-1][i-1], h*(i-1), tau*(m-1))*(A[m-1][i] - A[m-1][i-1])) * \\\n",
    "    #     #             2/h/0.01/ 0.01\n",
    "    #     # else:\n",
    "    #     #     try:\n",
    "    #     #         Q[i] = (K(A[m-1][i+1], h*(i+1), tau*(m-1))*(A[m-1][i+1] - A[m-1][i]) - \\\n",
    "    #     #                 K(A[m-1][i-1], h*(i-1), tau*(m-1))*(A[m-1][i] - A[m-1][i-1])) * \\\n",
    "    #     #                 2/h/(Psi[i]+Psi[i-1])/(A[m-1][i+1] - A[m-1][i-1])\n",
    "    #     #     except:\n",
    "    #     #         pass\n",
    "    #     # if Psi[i-1] + tau/h*(Q[i-1]-Q[i]) < 0:\n",
    "    #     #     Q[i] = h/tau*Psi[i-1]/2 + Q[i-1]\n",
    "    #     # else:\n",
    "    #     #     Q[i] += h/tau*Psi[i-1]/2 + Q[i-1]\n",
    "    #     counted = (K(m-1, i+1)*(U[m-1][i+1] - U[m-1][i]) - \\\n",
    "    #                 K(m-1, i-1)*(U[m-1][i] - U[m-1][i-1])) * \\\n",
    "    #                 2/h/(Psi[i]+Psi[i-1])/(U[m-1][i+1] - U[m-1][i-1])\n",
    "    #     right =  h/tau*np.min(Psi[:i])\n",
    "    #     left = -h/tau*np.min(Psi[i:])\n",
    "    #     if left < counted < right:\n",
    "    #         Q[i] = counted\n",
    "    #     elif counted > right:\n",
    "    #         Q[i] = right/2\n",
    "    #     elif counted < left:\n",
    "    #         Q[i] = left/2\n",
    "    #     # Q[i] = (left+right)/2\n",
    "    #     # Q[i] = 0\n",
    "    # Q[N-1] = 0\n",
    "\n",
    "    Psi_next = np.ones(N-1)\n",
    "    for i in range(0, N-1):\n",
    "        Psi_next[i] = Psi[i] + tau/h*(Q[i]-Q[i+1])\n",
    "            \n",
    "    A = np.zeros((N, N))\n",
    "    B = np.zeros(N)\n",
    "    for n in range(0, N):\n",
    "        if n == 0:\n",
    "            A[n][0] = 1\n",
    "            B[n] = 1\n",
    "        elif n == N-1:\n",
    "            A[n][N-1] = 1\n",
    "            B[n] = 0\n",
    "        else:\n",
    "            Psi_nM1 = (Psi[n-2] + Psi[n-1])/2\n",
    "            Psi_n = (Psi[n-1] + Psi[n])/2\n",
    "            Psi_nP1 = (Psi[n] + Psi[n] if n == N-2 else 2*Psi[n+1])/2\n",
    "            Psi_n_next = (Psi_next[n-1] + Psi_next[n])/2\n",
    "            A[n][n-1] = tau/2/h**2*(K(m-1, n)/Psi_n+K(m-1, n-1)/Psi_nM1)\n",
    "            A[n][n] = -(Psi_n_next+tau/2/h**2*(K(m-1, n+1)/Psi_nP1+2*K(m-1, n)/Psi_n+K(m-1, n-1)/Psi_nM1))\n",
    "            A[n][n+1] = tau/2/h**2*(K(m-1, n+1)/Psi_nP1+K(m-1, n)/Psi_n)\n",
    "            B[n] = tau/h*(Q[n+1]*U[m-1][n+1]-Q[n]*U[m-1][n])-Psi_n*U[m-1][n]\n",
    "        \n",
    "    X = np.linalg.inv(A).dot(B)\n",
    "    U[m] = X\n",
    "\n",
    "    Psi = Psi_next.copy()\n",
    "    \n",
    "    Psis.append(Psi.copy())"
   ]
  },
  {
   "cell_type": "code",
   "execution_count": null,
   "metadata": {},
   "outputs": [
    {
     "data": {
      "text/plain": [
       "array([1.22982721e-16, 1.84474082e-16, 2.76711123e-16, 4.15066684e-16,\n",
       "       6.22600027e-16, 9.33900040e-16, 1.40085006e-15, 2.10127509e-15,\n",
       "       3.15191264e-15, 4.72786895e-15, 7.09180343e-15, 1.06377051e-14,\n",
       "       1.59565577e-14, 2.39348366e-14, 3.59022549e-14, 5.38533823e-14,\n",
       "       8.07800734e-14, 1.21170110e-13, 1.81755165e-13, 2.72632748e-13,\n",
       "       4.08949122e-13, 6.13423683e-13, 9.20135524e-13, 1.38020329e-12,\n",
       "       2.07030493e-12, 3.10545739e-12, 4.65818609e-12, 6.98727914e-12,\n",
       "       1.04809187e-11, 1.57213781e-11, 2.35820671e-11, 3.53731006e-11,\n",
       "       5.30596509e-11, 7.95894764e-11, 1.19384215e-10, 1.79076322e-10,\n",
       "       2.68614483e-10, 4.02921724e-10, 6.04382586e-10, 9.06573880e-10,\n",
       "       1.35986082e-09, 2.03979123e-09, 3.05968684e-09, 4.58953027e-09,\n",
       "       6.88429540e-09, 1.03264431e-08, 1.54896646e-08, 2.32344970e-08,\n",
       "       3.48517455e-08, 5.22776182e-08, 7.84164273e-08, 1.17624641e-07,\n",
       "       1.76436961e-07, 2.64655442e-07, 3.96983163e-07, 5.95474745e-07,\n",
       "       8.93212117e-07, 1.33981818e-06, 2.00972726e-06, 3.01459089e-06,\n",
       "       4.52188634e-06, 6.78282951e-06, 1.01742443e-05, 1.52613664e-05,\n",
       "       2.28920496e-05, 3.43380744e-05, 5.15071116e-05, 7.72606674e-05,\n",
       "       1.15891001e-04, 1.73836502e-04, 2.60754753e-04, 3.91132129e-04,\n",
       "       5.86698193e-04, 8.80047290e-04, 1.32007093e-03, 1.98010640e-03,\n",
       "       2.97015960e-03, 4.45523940e-03, 6.68285911e-03, 1.00242887e-02,\n",
       "       1.50364330e-02, 2.25546495e-02, 3.38319742e-02, 5.07479613e-02,\n",
       "       7.61219420e-02, 1.14182913e-01, 1.71274370e-01, 2.56911554e-01,\n",
       "       3.85367331e-01, 5.78050997e-01, 8.67076496e-01, 1.30061474e+00,\n",
       "       1.95092212e+00, 2.92638317e+00, 4.38957476e+00, 6.58436214e+00,\n",
       "       9.87654321e+00, 1.48148148e+01, 2.22222222e+01, 3.33333333e+01])"
      ]
     },
     "execution_count": 103,
     "metadata": {},
     "output_type": "execute_result"
    }
   ],
   "source": [
    "Psi"
   ]
  },
  {
   "cell_type": "code",
   "execution_count": null,
   "metadata": {},
   "outputs": [
    {
     "data": {
      "image/png": "[encoded data removed]",
      "image/svg+xml": "<?xml version=\"1.0\" encoding=\"utf-8\" standalone=\"no\"?>\n<!DOCTYPE svg PUBLIC \"-//W3C//DTD SVG 1.1//EN\"\n  \"http://www.w3.org/Graphics/SVG/1.1/DTD/svg11.dtd\">\n<svg xmlns:xlink=\"http://www.w3.org/1999/xlink\" width=\"378.465625pt\" height=\"248.518125pt\" viewBox=\"0 0 378.465625 248.518125\" xmlns=\"http://www.w3.org/2000/svg\" version=\"1.1\">\n <metadata>\n  <rdf:RDF xmlns:dc=\"http://purl.org/dc/elements/1.1/\" xmlns:cc=\"http://creativecommons.org/ns#\" xmlns:rdf=\"http://www.w3.org/1999/02/22-rdf-syntax-ns#\">\n   <cc:Work>\n    <dc:type rdf:resource=\"http://purl.org/dc/dcmitype/StillImage\"/>\n    <dc:date>2022-05-18T15:08:28.967288</dc:date>\n    <dc:format>image/svg+xml</dc:format>\n    <dc:creator>\n     <cc:Agent>\n      <dc:title>Matplotlib v3.5.1, https://matplotlib.org/</dc:title>\n     </cc:Agent>\n    </dc:creator>\n   </cc:Work>\n  </rdf:RDF>\n </metadata>\n <defs>\n  <style type=\"text/css\">*{stroke-linejoin: round; stroke-linecap: butt}</style>\n </defs>\n <g id=\"figure_1\">\n  <g id=\"patch_1\">\n   <path d=\"M 0 248.518125 \nL 378.465625 248.518125 \nL 378.465625 0 \nL 0 0 \nL 0 248.518125 \nz\n\" style=\"fill: none\"/>\n  </g>\n  <g id=\"axes_1\">\n   <g id=\"patch_2\">\n    <path d=\"M 36.465625 224.64 \nL 371.265625 224.64 \nL 371.265625 7.2 \nL 36.465625 7.2 \nz\n\" style=\"fill: #ffffff\"/>\n   </g>\n   <g id=\"matplotlib.axis_1\">\n    <g id=\"xtick_1\">\n     <g id=\"line2d_1\">\n      <defs>\n       <path id=\"m391357d449\" d=\"M 0 0 \nL 0 3.5 \n\" style=\"stroke: #000000; stroke-width: 0.8\"/>\n      </defs>\n      <g>\n       <use xlink:href=\"#m391357d449\" x=\"51.683807\" y=\"224.64\" style=\"stroke: #000000; stroke-width: 0.8\"/>\n      </g>\n     </g>\n     <g id=\"text_1\">\n      <!-- 0.0 -->\n      <g transform=\"translate(43.732244 239.238437)scale(0.1 -0.1)\">\n       <defs>\n        <path id=\"DejaVuSans-30\" d=\"M 2034 4250 \nQ 1547 4250 1301 3770 \nQ 1056 3291 1056 2328 \nQ 1056 1369 1301 889 \nQ 1547 409 2034 409 \nQ 2525 409 2770 889 \nQ 3016 1369 3016 2328 \nQ 3016 3291 2770 3770 \nQ 2525 4250 2034 4250 \nz\nM 2034 4750 \nQ 2819 4750 3233 4129 \nQ 3647 3509 3647 2328 \nQ 3647 1150 3233 529 \nQ 2819 -91 2034 -91 \nQ 1250 -91 836 529 \nQ 422 1150 422 2328 \nQ 422 3509 836 4129 \nQ 1250 4750 2034 4750 \nz\n\" transform=\"scale(0.015625)\"/>\n        <path id=\"DejaVuSans-2e\" d=\"M 684 794 \nL 1344 794 \nL 1344 0 \nL 684 0 \nL 684 794 \nz\n\" transform=\"scale(0.015625)\"/>\n       </defs>\n       <use xlink:href=\"#DejaVuSans-30\"/>\n       <use xlink:href=\"#DejaVuSans-2e\" x=\"63.623047\"/>\n       <use xlink:href=\"#DejaVuSans-30\" x=\"95.410156\"/>\n      </g>\n     </g>\n    </g>\n    <g id=\"xtick_2\">\n     <g id=\"line2d_2\">\n      <g>\n       <use xlink:href=\"#m391357d449\" x=\"112.556534\" y=\"224.64\" style=\"stroke: #000000; stroke-width: 0.8\"/>\n      </g>\n     </g>\n     <g id=\"text_2\">\n      <!-- 0.2 -->\n      <g transform=\"translate(104.604972 239.238437)scale(0.1 -0.1)\">\n       <defs>\n        <path id=\"DejaVuSans-32\" d=\"M 1228 531 \nL 3431 531 \nL 3431 0 \nL 469 0 \nL 469 531 \nQ 828 903 1448 1529 \nQ 2069 2156 2228 2338 \nQ 2531 2678 2651 2914 \nQ 2772 3150 2772 3378 \nQ 2772 3750 2511 3984 \nQ 2250 4219 1831 4219 \nQ 1534 4219 1204 4116 \nQ 875 4013 500 3803 \nL 500 4441 \nQ 881 4594 1212 4672 \nQ 1544 4750 1819 4750 \nQ 2544 4750 2975 4387 \nQ 3406 4025 3406 3419 \nQ 3406 3131 3298 2873 \nQ 3191 2616 2906 2266 \nQ 2828 2175 2409 1742 \nQ 1991 1309 1228 531 \nz\n\" transform=\"scale(0.015625)\"/>\n       </defs>\n       <use xlink:href=\"#DejaVuSans-30\"/>\n       <use xlink:href=\"#DejaVuSans-2e\" x=\"63.623047\"/>\n       <use xlink:href=\"#DejaVuSans-32\" x=\"95.410156\"/>\n      </g>\n     </g>\n    </g>\n    <g id=\"xtick_3\">\n     <g id=\"line2d_3\">\n      <g>\n       <use xlink:href=\"#m391357d449\" x=\"173.429261\" y=\"224.64\" style=\"stroke: #000000; stroke-width: 0.8\"/>\n      </g>\n     </g>\n     <g id=\"text_3\">\n      <!-- 0.4 -->\n      <g transform=\"translate(165.477699 239.238437)scale(0.1 -0.1)\">\n       <defs>\n        <path id=\"DejaVuSans-34\" d=\"M 2419 4116 \nL 825 1625 \nL 2419 1625 \nL 2419 4116 \nz\nM 2253 4666 \nL 3047 4666 \nL 3047 1625 \nL 3713 1625 \nL 3713 1100 \nL 3047 1100 \nL 3047 0 \nL 2419 0 \nL 2419 1100 \nL 313 1100 \nL 313 1709 \nL 2253 4666 \nz\n\" transform=\"scale(0.015625)\"/>\n       </defs>\n       <use xlink:href=\"#DejaVuSans-30\"/>\n       <use xlink:href=\"#DejaVuSans-2e\" x=\"63.623047\"/>\n       <use xlink:href=\"#DejaVuSans-34\" x=\"95.410156\"/>\n      </g>\n     </g>\n    </g>\n    <g id=\"xtick_4\">\n     <g id=\"line2d_4\">\n      <g>\n       <use xlink:href=\"#m391357d449\" x=\"234.301989\" y=\"224.64\" style=\"stroke: #000000; stroke-width: 0.8\"/>\n      </g>\n     </g>\n     <g id=\"text_4\">\n      <!-- 0.6 -->\n      <g transform=\"translate(226.350426 239.238437)scale(0.1 -0.1)\">\n       <defs>\n        <path id=\"DejaVuSans-36\" d=\"M 2113 2584 \nQ 1688 2584 1439 2293 \nQ 1191 2003 1191 1497 \nQ 1191 994 1439 701 \nQ 1688 409 2113 409 \nQ 2538 409 2786 701 \nQ 3034 994 3034 1497 \nQ 3034 2003 2786 2293 \nQ 2538 2584 2113 2584 \nz\nM 3366 4563 \nL 3366 3988 \nQ 3128 4100 2886 4159 \nQ 2644 4219 2406 4219 \nQ 1781 4219 1451 3797 \nQ 1122 3375 1075 2522 \nQ 1259 2794 1537 2939 \nQ 1816 3084 2150 3084 \nQ 2853 3084 3261 2657 \nQ 3669 2231 3669 1497 \nQ 3669 778 3244 343 \nQ 2819 -91 2113 -91 \nQ 1303 -91 875 529 \nQ 447 1150 447 2328 \nQ 447 3434 972 4092 \nQ 1497 4750 2381 4750 \nQ 2619 4750 2861 4703 \nQ 3103 4656 3366 4563 \nz\n\" transform=\"scale(0.015625)\"/>\n       </defs>\n       <use xlink:href=\"#DejaVuSans-30\"/>\n       <use xlink:href=\"#DejaVuSans-2e\" x=\"63.623047\"/>\n       <use xlink:href=\"#DejaVuSans-36\" x=\"95.410156\"/>\n      </g>\n     </g>\n    </g>\n    <g id=\"xtick_5\">\n     <g id=\"line2d_5\">\n      <g>\n       <use xlink:href=\"#m391357d449\" x=\"295.174716\" y=\"224.64\" style=\"stroke: #000000; stroke-width: 0.8\"/>\n      </g>\n     </g>\n     <g id=\"text_5\">\n      <!-- 0.8 -->\n      <g transform=\"translate(287.223153 239.238437)scale(0.1 -0.1)\">\n       <defs>\n        <path id=\"DejaVuSans-38\" d=\"M 2034 2216 \nQ 1584 2216 1326 1975 \nQ 1069 1734 1069 1313 \nQ 1069 891 1326 650 \nQ 1584 409 2034 409 \nQ 2484 409 2743 651 \nQ 3003 894 3003 1313 \nQ 3003 1734 2745 1975 \nQ 2488 2216 2034 2216 \nz\nM 1403 2484 \nQ 997 2584 770 2862 \nQ 544 3141 544 3541 \nQ 544 4100 942 4425 \nQ 1341 4750 2034 4750 \nQ 2731 4750 3128 4425 \nQ 3525 4100 3525 3541 \nQ 3525 3141 3298 2862 \nQ 3072 2584 2669 2484 \nQ 3125 2378 3379 2068 \nQ 3634 1759 3634 1313 \nQ 3634 634 3220 271 \nQ 2806 -91 2034 -91 \nQ 1263 -91 848 271 \nQ 434 634 434 1313 \nQ 434 1759 690 2068 \nQ 947 2378 1403 2484 \nz\nM 1172 3481 \nQ 1172 3119 1398 2916 \nQ 1625 2713 2034 2713 \nQ 2441 2713 2670 2916 \nQ 2900 3119 2900 3481 \nQ 2900 3844 2670 4047 \nQ 2441 4250 2034 4250 \nQ 1625 4250 1398 4047 \nQ 1172 3844 1172 3481 \nz\n\" transform=\"scale(0.015625)\"/>\n       </defs>\n       <use xlink:href=\"#DejaVuSans-30\"/>\n       <use xlink:href=\"#DejaVuSans-2e\" x=\"63.623047\"/>\n       <use xlink:href=\"#DejaVuSans-38\" x=\"95.410156\"/>\n      </g>\n     </g>\n    </g>\n    <g id=\"xtick_6\">\n     <g id=\"line2d_6\">\n      <g>\n       <use xlink:href=\"#m391357d449\" x=\"356.047443\" y=\"224.64\" style=\"stroke: #000000; stroke-width: 0.8\"/>\n      </g>\n     </g>\n     <g id=\"text_6\">\n      <!-- 1.0 -->\n      <g transform=\"translate(348.095881 239.238437)scale(0.1 -0.1)\">\n       <defs>\n        <path id=\"DejaVuSans-31\" d=\"M 794 531 \nL 1825 531 \nL 1825 4091 \nL 703 3866 \nL 703 4441 \nL 1819 4666 \nL 2450 4666 \nL 2450 531 \nL 3481 531 \nL 3481 0 \nL 794 0 \nL 794 531 \nz\n\" transform=\"scale(0.015625)\"/>\n       </defs>\n       <use xlink:href=\"#DejaVuSans-31\"/>\n       <use xlink:href=\"#DejaVuSans-2e\" x=\"63.623047\"/>\n       <use xlink:href=\"#DejaVuSans-30\" x=\"95.410156\"/>\n      </g>\n     </g>\n    </g>\n   </g>\n   <g id=\"matplotlib.axis_2\">\n    <g id=\"ytick_1\">\n     <g id=\"line2d_7\">\n      <defs>\n       <path id=\"m6ba6250cca\" d=\"M 0 0 \nL -3.5 0 \n\" style=\"stroke: #000000; stroke-width: 0.8\"/>\n      </defs>\n      <g>\n       <use xlink:href=\"#m6ba6250cca\" x=\"36.465625\" y=\"214.756364\" style=\"stroke: #000000; stroke-width: 0.8\"/>\n      </g>\n     </g>\n     <g id=\"text_7\">\n      <!-- 0.00 -->\n      <g transform=\"translate(7.2 218.555582)scale(0.1 -0.1)\">\n       <use xlink:href=\"#DejaVuSans-30\"/>\n       <use xlink:href=\"#DejaVuSans-2e\" x=\"63.623047\"/>\n       <use xlink:href=\"#DejaVuSans-30\" x=\"95.410156\"/>\n       <use xlink:href=\"#DejaVuSans-30\" x=\"159.033203\"/>\n      </g>\n     </g>\n    </g>\n    <g id=\"ytick_2\">\n     <g id=\"line2d_8\">\n      <g>\n       <use xlink:href=\"#m6ba6250cca\" x=\"36.465625\" y=\"175.221818\" style=\"stroke: #000000; stroke-width: 0.8\"/>\n      </g>\n     </g>\n     <g id=\"text_8\">\n      <!-- 0.02 -->\n      <g transform=\"translate(7.2 179.021037)scale(0.1 -0.1)\">\n       <use xlink:href=\"#DejaVuSans-30\"/>\n       <use xlink:href=\"#DejaVuSans-2e\" x=\"63.623047\"/>\n       <use xlink:href=\"#DejaVuSans-30\" x=\"95.410156\"/>\n       <use xlink:href=\"#DejaVuSans-32\" x=\"159.033203\"/>\n      </g>\n     </g>\n    </g>\n    <g id=\"ytick_3\">\n     <g id=\"line2d_9\">\n      <g>\n       <use xlink:href=\"#m6ba6250cca\" x=\"36.465625\" y=\"135.687273\" style=\"stroke: #000000; stroke-width: 0.8\"/>\n      </g>\n     </g>\n     <g id=\"text_9\">\n      <!-- 0.04 -->\n      <g transform=\"translate(7.2 139.486491)scale(0.1 -0.1)\">\n       <use xlink:href=\"#DejaVuSans-30\"/>\n       <use xlink:href=\"#DejaVuSans-2e\" x=\"63.623047\"/>\n       <use xlink:href=\"#DejaVuSans-30\" x=\"95.410156\"/>\n       <use xlink:href=\"#DejaVuSans-34\" x=\"159.033203\"/>\n      </g>\n     </g>\n    </g>\n    <g id=\"ytick_4\">\n     <g id=\"line2d_10\">\n      <g>\n       <use xlink:href=\"#m6ba6250cca\" x=\"36.465625\" y=\"96.152727\" style=\"stroke: #000000; stroke-width: 0.8\"/>\n      </g>\n     </g>\n     <g id=\"text_10\">\n      <!-- 0.06 -->\n      <g transform=\"translate(7.2 99.951946)scale(0.1 -0.1)\">\n       <use xlink:href=\"#DejaVuSans-30\"/>\n       <use xlink:href=\"#DejaVuSans-2e\" x=\"63.623047\"/>\n       <use xlink:href=\"#DejaVuSans-30\" x=\"95.410156\"/>\n       <use xlink:href=\"#DejaVuSans-36\" x=\"159.033203\"/>\n      </g>\n     </g>\n    </g>\n    <g id=\"ytick_5\">\n     <g id=\"line2d_11\">\n      <g>\n       <use xlink:href=\"#m6ba6250cca\" x=\"36.465625\" y=\"56.618182\" style=\"stroke: #000000; stroke-width: 0.8\"/>\n      </g>\n     </g>\n     <g id=\"text_11\">\n      <!-- 0.08 -->\n      <g transform=\"translate(7.2 60.417401)scale(0.1 -0.1)\">\n       <use xlink:href=\"#DejaVuSans-30\"/>\n       <use xlink:href=\"#DejaVuSans-2e\" x=\"63.623047\"/>\n       <use xlink:href=\"#DejaVuSans-30\" x=\"95.410156\"/>\n       <use xlink:href=\"#DejaVuSans-38\" x=\"159.033203\"/>\n      </g>\n     </g>\n    </g>\n    <g id=\"ytick_6\">\n     <g id=\"line2d_12\">\n      <g>\n       <use xlink:href=\"#m6ba6250cca\" x=\"36.465625\" y=\"17.083636\" style=\"stroke: #000000; stroke-width: 0.8\"/>\n      </g>\n     </g>\n     <g id=\"text_12\">\n      <!-- 0.10 -->\n      <g transform=\"translate(7.2 20.882855)scale(0.1 -0.1)\">\n       <use xlink:href=\"#DejaVuSans-30\"/>\n       <use xlink:href=\"#DejaVuSans-2e\" x=\"63.623047\"/>\n       <use xlink:href=\"#DejaVuSans-31\" x=\"95.410156\"/>\n       <use xlink:href=\"#DejaVuSans-30\" x=\"159.033203\"/>\n      </g>\n     </g>\n    </g>\n   </g>\n   <g id=\"line2d_13\">\n    <path d=\"M 51.683807 214.756364 \nL 51.683807 194.989091 \nL 51.683807 175.221818 \nL 51.683807 155.454545 \nL 51.683807 135.687273 \nL 51.683807 115.92 \nL 51.683807 96.152727 \nL 51.683807 76.385455 \nL 51.683807 56.618182 \nL 51.683807 36.850909 \nL 51.683807 17.083636 \n\" clip-path=\"url(#pcc2213014c)\" style=\"fill: none; stroke: #1f77b4; stroke-width: 1.5; stroke-linecap: square\"/>\n   </g>\n   <g id=\"line2d_14\">\n    <path d=\"M 54.727443 214.756364 \nL 51.683807 194.989091 \nL 51.683807 175.221818 \nL 51.683807 155.454545 \nL 51.683807 135.687273 \nL 51.683807 115.92 \nL 51.683807 96.152727 \nL 51.683807 76.385455 \nL 51.683807 56.618182 \nL 51.683807 36.850909 \nL 51.683807 17.083636 \n\" clip-path=\"url(#pcc2213014c)\" style=\"fill: none; stroke: #ff7f0e; stroke-width: 1.5; stroke-linecap: square\"/>\n   </g>\n   <g id=\"line2d_15\">\n    <path d=\"M 57.77108 214.756364 \nL 51.683807 194.989091 \nL 51.683807 175.221818 \nL 51.683807 155.454545 \nL 51.683807 135.687273 \nL 51.683807 115.92 \nL 51.683807 96.152727 \nL 51.683807 76.385455 \nL 51.683807 56.618182 \nL 51.683807 36.850909 \nL 51.683807 17.083636 \n\" clip-path=\"url(#pcc2213014c)\" style=\"fill: none; stroke: #2ca02c; stroke-width: 1.5; stroke-linecap: square\"/>\n   </g>\n   <g id=\"line2d_16\">\n    <path d=\"M 60.814716 214.756364 \nL 51.683807 194.989091 \nL 51.683807 175.221818 \nL 51.683807 155.454545 \nL 51.683807 135.687273 \nL 51.683807 115.92 \nL 51.683807 96.152727 \nL 51.683807 76.385455 \nL 51.683807 56.618182 \nL 51.683807 36.850909 \nL 51.683807 17.083636 \n\" clip-path=\"url(#pcc2213014c)\" style=\"fill: none; stroke: #d62728; stroke-width: 1.5; stroke-linecap: square\"/>\n   </g>\n   <g id=\"line2d_17\">\n    <path d=\"M 63.858352 214.756364 \nL 51.683807 194.989091 \nL 51.683807 175.221818 \nL 51.683807 155.454545 \nL 51.683807 135.687273 \nL 51.683807 115.92 \nL 51.683807 96.152727 \nL 51.683807 76.385455 \nL 51.683807 56.618182 \nL 51.683807 36.850909 \nL 51.683807 17.083636 \n\" clip-path=\"url(#pcc2213014c)\" style=\"fill: none; stroke: #9467bd; stroke-width: 1.5; stroke-linecap: square\"/>\n   </g>\n   <g id=\"line2d_18\">\n    <path d=\"M 66.901989 214.756364 \nL 51.683807 194.989091 \nL 51.683807 175.221818 \nL 51.683807 155.454545 \nL 51.683807 135.687273 \nL 51.683807 115.92 \nL 51.683807 96.152727 \nL 51.683807 76.385455 \nL 51.683807 56.618182 \nL 51.683807 36.850909 \nL 51.683807 17.083636 \n\" clip-path=\"url(#pcc2213014c)\" style=\"fill: none; stroke: #8c564b; stroke-width: 1.5; stroke-linecap: square\"/>\n   </g>\n   <g id=\"line2d_19\">\n    <path d=\"M 69.945625 214.756364 \nL 51.683807 194.989091 \nL 51.683807 175.221818 \nL 51.683807 155.454545 \nL 51.683807 135.687273 \nL 51.683807 115.92 \nL 51.683807 96.152727 \nL 51.683807 76.385455 \nL 51.683807 56.618182 \nL 51.683807 36.850909 \nL 51.683807 17.083636 \n\" clip-path=\"url(#pcc2213014c)\" style=\"fill: none; stroke: #e377c2; stroke-width: 1.5; stroke-linecap: square\"/>\n   </g>\n   <g id=\"line2d_20\">\n    <path d=\"M 72.989261 214.756364 \nL 51.683807 194.989091 \nL 51.683807 175.221818 \nL 51.683807 155.454545 \nL 51.683807 135.687273 \nL 51.683807 115.92 \nL 51.683807 96.152727 \nL 51.683807 76.385455 \nL 51.683807 56.618182 \nL 51.683807 36.850909 \nL 51.683807 17.083636 \n\" clip-path=\"url(#pcc2213014c)\" style=\"fill: none; stroke: #7f7f7f; stroke-width: 1.5; stroke-linecap: square\"/>\n   </g>\n   <g id=\"line2d_21\">\n    <path d=\"M 76.032898 214.756364 \nL 51.683807 194.989091 \nL 51.683807 175.221818 \nL 51.683807 155.454545 \nL 51.683807 135.687273 \nL 51.683807 115.92 \nL 51.683807 96.152727 \nL 51.683807 76.385455 \nL 51.683807 56.618182 \nL 51.683807 36.850909 \nL 51.683807 17.083636 \n\" clip-path=\"url(#pcc2213014c)\" style=\"fill: none; stroke: #bcbd22; stroke-width: 1.5; stroke-linecap: square\"/>\n   </g>\n   <g id=\"line2d_22\">\n    <path d=\"M 79.076534 214.756364 \nL 51.683807 194.989091 \nL 51.683807 175.221818 \nL 51.683807 155.454545 \nL 51.683807 135.687273 \nL 51.683807 115.92 \nL 51.683807 96.152727 \nL 51.683807 76.385455 \nL 51.683807 56.618182 \nL 51.683807 36.850909 \nL 51.683807 17.083636 \n\" clip-path=\"url(#pcc2213014c)\" style=\"fill: none; stroke: #17becf; stroke-width: 1.5; stroke-linecap: square\"/>\n   </g>\n   <g id=\"line2d_23\">\n    <path d=\"M 82.12017 214.756364 \nL 51.683807 194.989091 \nL 51.683807 175.221818 \nL 51.683807 155.454545 \nL 51.683807 135.687273 \nL 51.683807 115.92 \nL 51.683807 96.152727 \nL 51.683807 76.385455 \nL 51.683807 56.618182 \nL 51.683807 36.850909 \nL 51.683807 17.083636 \n\" clip-path=\"url(#pcc2213014c)\" style=\"fill: none; stroke: #1f77b4; stroke-width: 1.5; stroke-linecap: square\"/>\n   </g>\n   <g id=\"line2d_24\">\n    <path d=\"M 85.163807 214.756364 \nL 51.683807 194.989091 \nL 51.683807 175.221818 \nL 51.683807 155.454545 \nL 51.683807 135.687273 \nL 51.683807 115.92 \nL 51.683807 96.152727 \nL 51.683807 76.385455 \nL 51.683807 56.618182 \nL 51.683807 36.850909 \nL 51.683807 17.083636 \n\" clip-path=\"url(#pcc2213014c)\" style=\"fill: none; stroke: #ff7f0e; stroke-width: 1.5; stroke-linecap: square\"/>\n   </g>\n   <g id=\"line2d_25\">\n    <path d=\"M 88.207443 214.756364 \nL 51.683807 194.989091 \nL 51.683807 175.221818 \nL 51.683807 155.454545 \nL 51.683807 135.687273 \nL 51.683807 115.92 \nL 51.683807 96.152727 \nL 51.683807 76.385455 \nL 51.683807 56.618182 \nL 51.683807 36.850909 \nL 51.683807 17.083636 \n\" clip-path=\"url(#pcc2213014c)\" style=\"fill: none; stroke: #2ca02c; stroke-width: 1.5; stroke-linecap: square\"/>\n   </g>\n   <g id=\"line2d_26\">\n    <path d=\"M 91.25108 214.756364 \nL 51.683807 194.989091 \nL 51.683807 175.221818 \nL 51.683807 155.454545 \nL 51.683807 135.687273 \nL 51.683807 115.92 \nL 51.683807 96.152727 \nL 51.683807 76.385455 \nL 51.683807 56.618182 \nL 51.683807 36.850909 \nL 51.683807 17.083636 \n\" clip-path=\"url(#pcc2213014c)\" style=\"fill: none; stroke: #d62728; stroke-width: 1.5; stroke-linecap: square\"/>\n   </g>\n   <g id=\"line2d_27\">\n    <path d=\"M 94.294716 214.756364 \nL 51.683807 194.989091 \nL 51.683807 175.221818 \nL 51.683807 155.454545 \nL 51.683807 135.687273 \nL 51.683807 115.92 \nL 51.683807 96.152727 \nL 51.683807 76.385455 \nL 51.683807 56.618182 \nL 51.683807 36.850909 \nL 51.683807 17.083636 \n\" clip-path=\"url(#pcc2213014c)\" style=\"fill: none; stroke: #9467bd; stroke-width: 1.5; stroke-linecap: square\"/>\n   </g>\n   <g id=\"line2d_28\">\n    <path d=\"M 97.338352 214.756364 \nL 51.683807 194.989091 \nL 51.683807 175.221818 \nL 51.683807 155.454545 \nL 51.683807 135.687273 \nL 51.683807 115.92 \nL 51.683807 96.152727 \nL 51.683807 76.385455 \nL 51.683807 56.618182 \nL 51.683807 36.850909 \nL 51.683807 17.083636 \n\" clip-path=\"url(#pcc2213014c)\" style=\"fill: none; stroke: #8c564b; stroke-width: 1.5; stroke-linecap: square\"/>\n   </g>\n   <g id=\"line2d_29\">\n    <path d=\"M 100.381989 214.756364 \nL 51.683807 194.989091 \nL 51.683807 175.221818 \nL 51.683807 155.454545 \nL 51.683807 135.687273 \nL 51.683807 115.92 \nL 51.683807 96.152727 \nL 51.683807 76.385455 \nL 51.683807 56.618182 \nL 51.683807 36.850909 \nL 51.683807 17.083636 \n\" clip-path=\"url(#pcc2213014c)\" style=\"fill: none; stroke: #e377c2; stroke-width: 1.5; stroke-linecap: square\"/>\n   </g>\n   <g id=\"line2d_30\">\n    <path d=\"M 103.425625 214.756364 \nL 51.683807 194.989091 \nL 51.683807 175.221818 \nL 51.683807 155.454545 \nL 51.683807 135.687273 \nL 51.683807 115.92 \nL 51.683807 96.152727 \nL 51.683807 76.385455 \nL 51.683807 56.618182 \nL 51.683807 36.850909 \nL 51.683807 17.083636 \n\" clip-path=\"url(#pcc2213014c)\" style=\"fill: none; stroke: #7f7f7f; stroke-width: 1.5; stroke-linecap: square\"/>\n   </g>\n   <g id=\"line2d_31\">\n    <path d=\"M 106.469261 214.756364 \nL 51.683807 194.989091 \nL 51.683807 175.221818 \nL 51.683807 155.454545 \nL 51.683807 135.687273 \nL 51.683807 115.92 \nL 51.683807 96.152727 \nL 51.683807 76.385455 \nL 51.683807 56.618182 \nL 51.683807 36.850909 \nL 51.683807 17.083636 \n\" clip-path=\"url(#pcc2213014c)\" style=\"fill: none; stroke: #bcbd22; stroke-width: 1.5; stroke-linecap: square\"/>\n   </g>\n   <g id=\"line2d_32\">\n    <path d=\"M 109.512898 214.756364 \nL 51.683807 194.989091 \nL 51.683807 175.221818 \nL 51.683807 155.454545 \nL 51.683807 135.687273 \nL 51.683807 115.92 \nL 51.683807 96.152727 \nL 51.683807 76.385455 \nL 51.683807 56.618182 \nL 51.683807 36.850909 \nL 51.683807 17.083636 \n\" clip-path=\"url(#pcc2213014c)\" style=\"fill: none; stroke: #17becf; stroke-width: 1.5; stroke-linecap: square\"/>\n   </g>\n   <g id=\"line2d_33\">\n    <path d=\"M 112.556534 214.756364 \nL 51.683807 194.989091 \nL 51.683807 175.221818 \nL 51.683807 155.454545 \nL 51.683807 135.687273 \nL 51.683807 115.92 \nL 51.683807 96.152727 \nL 51.683807 76.385455 \nL 51.683807 56.618182 \nL 51.683807 36.850909 \nL 51.683807 17.083636 \n\" clip-path=\"url(#pcc2213014c)\" style=\"fill: none; stroke: #1f77b4; stroke-width: 1.5; stroke-linecap: square\"/>\n   </g>\n   <g id=\"line2d_34\">\n    <path d=\"M 115.60017 214.756364 \nL 51.683807 194.989091 \nL 51.683807 175.221818 \nL 51.683807 155.454545 \nL 51.683807 135.687273 \nL 51.683807 115.92 \nL 51.683807 96.152727 \nL 51.683807 76.385455 \nL 51.683807 56.618182 \nL 51.683807 36.850909 \nL 51.683807 17.083636 \n\" clip-path=\"url(#pcc2213014c)\" style=\"fill: none; stroke: #ff7f0e; stroke-width: 1.5; stroke-linecap: square\"/>\n   </g>\n   <g id=\"line2d_35\">\n    <path d=\"M 118.643807 214.756364 \nL 51.683807 194.989091 \nL 51.683807 175.221818 \nL 51.683807 155.454545 \nL 51.683807 135.687273 \nL 51.683807 115.92 \nL 51.683807 96.152727 \nL 51.683807 76.385455 \nL 51.683807 56.618182 \nL 51.683807 36.850909 \nL 51.683807 17.083636 \n\" clip-path=\"url(#pcc2213014c)\" style=\"fill: none; stroke: #2ca02c; stroke-width: 1.5; stroke-linecap: square\"/>\n   </g>\n   <g id=\"line2d_36\">\n    <path d=\"M 121.687443 214.756364 \nL 51.683807 194.989091 \nL 51.683807 175.221818 \nL 51.683807 155.454545 \nL 51.683807 135.687273 \nL 51.683807 115.92 \nL 51.683807 96.152727 \nL 51.683807 76.385455 \nL 51.683807 56.618182 \nL 51.683807 36.850909 \nL 51.683807 17.083636 \n\" clip-path=\"url(#pcc2213014c)\" style=\"fill: none; stroke: #d62728; stroke-width: 1.5; stroke-linecap: square\"/>\n   </g>\n   <g id=\"line2d_37\">\n    <path d=\"M 124.73108 214.756364 \nL 51.683807 194.989091 \nL 51.683807 175.221818 \nL 51.683807 155.454545 \nL 51.683807 135.687273 \nL 51.683807 115.92 \nL 51.683807 96.152727 \nL 51.683807 76.385455 \nL 51.683807 56.618182 \nL 51.683807 36.850909 \nL 51.683807 17.083636 \n\" clip-path=\"url(#pcc2213014c)\" style=\"fill: none; stroke: #9467bd; stroke-width: 1.5; stroke-linecap: square\"/>\n   </g>\n   <g id=\"line2d_38\">\n    <path d=\"M 127.774716 214.756364 \nL 51.683807 194.989091 \nL 51.683807 175.221818 \nL 51.683807 155.454545 \nL 51.683807 135.687273 \nL 51.683807 115.92 \nL 51.683807 96.152727 \nL 51.683807 76.385455 \nL 51.683807 56.618182 \nL 51.683807 36.850909 \nL 51.683807 17.083636 \n\" clip-path=\"url(#pcc2213014c)\" style=\"fill: none; stroke: #8c564b; stroke-width: 1.5; stroke-linecap: square\"/>\n   </g>\n   <g id=\"line2d_39\">\n    <path d=\"M 130.818352 214.756364 \nL 51.683807 194.989091 \nL 51.683807 175.221818 \nL 51.683807 155.454545 \nL 51.683807 135.687273 \nL 51.683807 115.92 \nL 51.683807 96.152727 \nL 51.683807 76.385455 \nL 51.683807 56.618182 \nL 51.683807 36.850909 \nL 51.683807 17.083636 \n\" clip-path=\"url(#pcc2213014c)\" style=\"fill: none; stroke: #e377c2; stroke-width: 1.5; stroke-linecap: square\"/>\n   </g>\n   <g id=\"line2d_40\">\n    <path d=\"M 133.861989 214.756364 \nL 51.683807 194.989091 \nL 51.683807 175.221818 \nL 51.683807 155.454545 \nL 51.683807 135.687273 \nL 51.683807 115.92 \nL 51.683807 96.152727 \nL 51.683807 76.385455 \nL 51.683807 56.618182 \nL 51.683807 36.850909 \nL 51.683807 17.083636 \n\" clip-path=\"url(#pcc2213014c)\" style=\"fill: none; stroke: #7f7f7f; stroke-width: 1.5; stroke-linecap: square\"/>\n   </g>\n   <g id=\"line2d_41\">\n    <path d=\"M 136.905625 214.756364 \nL 51.683807 194.989091 \nL 51.683807 175.221818 \nL 51.683807 155.454545 \nL 51.683807 135.687273 \nL 51.683807 115.92 \nL 51.683807 96.152727 \nL 51.683807 76.385455 \nL 51.683807 56.618182 \nL 51.683807 36.850909 \nL 51.683807 17.083636 \n\" clip-path=\"url(#pcc2213014c)\" style=\"fill: none; stroke: #bcbd22; stroke-width: 1.5; stroke-linecap: square\"/>\n   </g>\n   <g id=\"line2d_42\">\n    <path d=\"M 139.949261 214.756364 \nL 51.683807 194.989091 \nL 51.683807 175.221818 \nL 51.683807 155.454545 \nL 51.683807 135.687273 \nL 51.683807 115.92 \nL 51.683807 96.152727 \nL 51.683807 76.385455 \nL 51.683807 56.618182 \nL 51.683807 36.850909 \nL 51.683807 17.083636 \n\" clip-path=\"url(#pcc2213014c)\" style=\"fill: none; stroke: #17becf; stroke-width: 1.5; stroke-linecap: square\"/>\n   </g>\n   <g id=\"line2d_43\">\n    <path d=\"M 142.992898 214.756364 \nL 51.683807 194.989091 \nL 51.683807 175.221818 \nL 51.683807 155.454545 \nL 51.683807 135.687273 \nL 51.683807 115.92 \nL 51.683807 96.152727 \nL 51.683807 76.385455 \nL 51.683807 56.618182 \nL 51.683807 36.850909 \nL 51.683807 17.083636 \n\" clip-path=\"url(#pcc2213014c)\" style=\"fill: none; stroke: #1f77b4; stroke-width: 1.5; stroke-linecap: square\"/>\n   </g>\n   <g id=\"line2d_44\">\n    <path d=\"M 146.036534 214.756364 \nL 51.683807 194.989091 \nL 51.683807 175.221818 \nL 51.683807 155.454545 \nL 51.683807 135.687273 \nL 51.683807 115.92 \nL 51.683807 96.152727 \nL 51.683807 76.385455 \nL 51.683807 56.618182 \nL 51.683807 36.850909 \nL 51.683807 17.083636 \n\" clip-path=\"url(#pcc2213014c)\" style=\"fill: none; stroke: #ff7f0e; stroke-width: 1.5; stroke-linecap: square\"/>\n   </g>\n   <g id=\"line2d_45\">\n    <path d=\"M 149.08017 214.756364 \nL 51.683807 194.989091 \nL 51.683807 175.221818 \nL 51.683807 155.454545 \nL 51.683807 135.687273 \nL 51.683807 115.92 \nL 51.683807 96.152727 \nL 51.683807 76.385455 \nL 51.683807 56.618182 \nL 51.683807 36.850909 \nL 51.683807 17.083636 \n\" clip-path=\"url(#pcc2213014c)\" style=\"fill: none; stroke: #2ca02c; stroke-width: 1.5; stroke-linecap: square\"/>\n   </g>\n   <g id=\"line2d_46\">\n    <path d=\"M 152.123807 214.756364 \nL 51.683807 194.989091 \nL 51.683807 175.221818 \nL 51.683807 155.454545 \nL 51.683807 135.687273 \nL 51.683807 115.92 \nL 51.683807 96.152727 \nL 51.683807 76.385455 \nL 51.683807 56.618182 \nL 51.683807 36.850909 \nL 51.683807 17.083636 \n\" clip-path=\"url(#pcc2213014c)\" style=\"fill: none; stroke: #d62728; stroke-width: 1.5; stroke-linecap: square\"/>\n   </g>\n   <g id=\"line2d_47\">\n    <path d=\"M 155.167443 214.756364 \nL 51.683807 194.989091 \nL 51.683807 175.221818 \nL 51.683807 155.454545 \nL 51.683807 135.687273 \nL 51.683807 115.92 \nL 51.683807 96.152727 \nL 51.683807 76.385455 \nL 51.683807 56.618182 \nL 51.683807 36.850909 \nL 51.683807 17.083636 \n\" clip-path=\"url(#pcc2213014c)\" style=\"fill: none; stroke: #9467bd; stroke-width: 1.5; stroke-linecap: square\"/>\n   </g>\n   <g id=\"line2d_48\">\n    <path d=\"M 158.21108 214.756364 \nL 51.683807 194.989091 \nL 51.683807 175.221818 \nL 51.683807 155.454545 \nL 51.683807 135.687273 \nL 51.683807 115.92 \nL 51.683807 96.152727 \nL 51.683807 76.385455 \nL 51.683807 56.618182 \nL 51.683807 36.850909 \nL 51.683807 17.083636 \n\" clip-path=\"url(#pcc2213014c)\" style=\"fill: none; stroke: #8c564b; stroke-width: 1.5; stroke-linecap: square\"/>\n   </g>\n   <g id=\"line2d_49\">\n    <path d=\"M 161.254716 214.756364 \nL 51.683807 194.989091 \nL 51.683807 175.221818 \nL 51.683807 155.454545 \nL 51.683807 135.687273 \nL 51.683807 115.92 \nL 51.683807 96.152727 \nL 51.683807 76.385455 \nL 51.683807 56.618182 \nL 51.683807 36.850909 \nL 51.683807 17.083636 \n\" clip-path=\"url(#pcc2213014c)\" style=\"fill: none; stroke: #e377c2; stroke-width: 1.5; stroke-linecap: square\"/>\n   </g>\n   <g id=\"line2d_50\">\n    <path d=\"M 164.298352 214.756364 \nL 51.683807 194.989091 \nL 51.683807 175.221818 \nL 51.683807 155.454545 \nL 51.683807 135.687273 \nL 51.683807 115.92 \nL 51.683807 96.152727 \nL 51.683807 76.385455 \nL 51.683807 56.618182 \nL 51.683807 36.850909 \nL 51.683807 17.083636 \n\" clip-path=\"url(#pcc2213014c)\" style=\"fill: none; stroke: #7f7f7f; stroke-width: 1.5; stroke-linecap: square\"/>\n   </g>\n   <g id=\"line2d_51\">\n    <path d=\"M 167.341989 214.756364 \nL 51.683807 194.989091 \nL 51.683807 175.221818 \nL 51.683807 155.454545 \nL 51.683807 135.687273 \nL 51.683807 115.92 \nL 51.683807 96.152727 \nL 51.683807 76.385455 \nL 51.683807 56.618182 \nL 51.683807 36.850909 \nL 51.683807 17.083636 \n\" clip-path=\"url(#pcc2213014c)\" style=\"fill: none; stroke: #bcbd22; stroke-width: 1.5; stroke-linecap: square\"/>\n   </g>\n   <g id=\"line2d_52\">\n    <path d=\"M 170.385625 214.756364 \nL 51.683807 194.989091 \nL 51.683807 175.221818 \nL 51.683807 155.454545 \nL 51.683807 135.687273 \nL 51.683807 115.92 \nL 51.683807 96.152727 \nL 51.683807 76.385455 \nL 51.683807 56.618182 \nL 51.683807 36.850909 \nL 51.683807 17.083636 \n\" clip-path=\"url(#pcc2213014c)\" style=\"fill: none; stroke: #17becf; stroke-width: 1.5; stroke-linecap: square\"/>\n   </g>\n   <g id=\"line2d_53\">\n    <path d=\"M 173.429261 214.756364 \nL 51.683807 194.989091 \nL 51.683807 175.221818 \nL 51.683807 155.454545 \nL 51.683807 135.687273 \nL 51.683807 115.92 \nL 51.683807 96.152727 \nL 51.683807 76.385455 \nL 51.683807 56.618182 \nL 51.683807 36.850909 \nL 51.683807 17.083636 \n\" clip-path=\"url(#pcc2213014c)\" style=\"fill: none; stroke: #1f77b4; stroke-width: 1.5; stroke-linecap: square\"/>\n   </g>\n   <g id=\"line2d_54\">\n    <path d=\"M 176.472898 214.756364 \nL 51.683807 194.989091 \nL 51.683807 175.221818 \nL 51.683807 155.454545 \nL 51.683807 135.687273 \nL 51.683807 115.92 \nL 51.683807 96.152727 \nL 51.683807 76.385455 \nL 51.683807 56.618182 \nL 51.683807 36.850909 \nL 51.683807 17.083636 \n\" clip-path=\"url(#pcc2213014c)\" style=\"fill: none; stroke: #ff7f0e; stroke-width: 1.5; stroke-linecap: square\"/>\n   </g>\n   <g id=\"line2d_55\">\n    <path d=\"M 179.516534 214.756364 \nL 51.683807 194.989091 \nL 51.683807 175.221818 \nL 51.683807 155.454545 \nL 51.683807 135.687273 \nL 51.683807 115.92 \nL 51.683807 96.152727 \nL 51.683807 76.385455 \nL 51.683807 56.618182 \nL 51.683807 36.850909 \nL 51.683807 17.083636 \n\" clip-path=\"url(#pcc2213014c)\" style=\"fill: none; stroke: #2ca02c; stroke-width: 1.5; stroke-linecap: square\"/>\n   </g>\n   <g id=\"line2d_56\">\n    <path d=\"M 182.56017 214.756364 \nL 51.683807 194.989091 \nL 51.683807 175.221818 \nL 51.683807 155.454545 \nL 51.683807 135.687273 \nL 51.683807 115.92 \nL 51.683807 96.152727 \nL 51.683807 76.385455 \nL 51.683807 56.618182 \nL 51.683807 36.850909 \nL 51.683807 17.083636 \n\" clip-path=\"url(#pcc2213014c)\" style=\"fill: none; stroke: #d62728; stroke-width: 1.5; stroke-linecap: square\"/>\n   </g>\n   <g id=\"line2d_57\">\n    <path d=\"M 185.603807 214.756364 \nL 51.683807 194.989091 \nL 51.683807 175.221818 \nL 51.683807 155.454545 \nL 51.683807 135.687273 \nL 51.683807 115.92 \nL 51.683807 96.152727 \nL 51.683807 76.385455 \nL 51.683807 56.618182 \nL 51.683807 36.850909 \nL 51.683807 17.083636 \n\" clip-path=\"url(#pcc2213014c)\" style=\"fill: none; stroke: #9467bd; stroke-width: 1.5; stroke-linecap: square\"/>\n   </g>\n   <g id=\"line2d_58\">\n    <path d=\"M 188.647443 214.756364 \nL 51.683807 194.989091 \nL 51.683807 175.221818 \nL 51.683807 155.454545 \nL 51.683807 135.687273 \nL 51.683807 115.92 \nL 51.683807 96.152727 \nL 51.683807 76.385455 \nL 51.683807 56.618182 \nL 51.683807 36.850909 \nL 51.683807 17.083636 \n\" clip-path=\"url(#pcc2213014c)\" style=\"fill: none; stroke: #8c564b; stroke-width: 1.5; stroke-linecap: square\"/>\n   </g>\n   <g id=\"line2d_59\">\n    <path d=\"M 191.69108 214.756364 \nL 51.683807 194.989091 \nL 51.683807 175.221818 \nL 51.683807 155.454545 \nL 51.683807 135.687273 \nL 51.683807 115.92 \nL 51.683807 96.152727 \nL 51.683807 76.385455 \nL 51.683807 56.618182 \nL 51.683807 36.850909 \nL 51.683807 17.083636 \n\" clip-path=\"url(#pcc2213014c)\" style=\"fill: none; stroke: #e377c2; stroke-width: 1.5; stroke-linecap: square\"/>\n   </g>\n   <g id=\"line2d_60\">\n    <path d=\"M 194.734716 214.756364 \nL 51.683807 194.989091 \nL 51.683807 175.221818 \nL 51.683807 155.454545 \nL 51.683807 135.687273 \nL 51.683807 115.92 \nL 51.683807 96.152727 \nL 51.683807 76.385455 \nL 51.683807 56.618182 \nL 51.683807 36.850909 \nL 51.683807 17.083636 \n\" clip-path=\"url(#pcc2213014c)\" style=\"fill: none; stroke: #7f7f7f; stroke-width: 1.5; stroke-linecap: square\"/>\n   </g>\n   <g id=\"line2d_61\">\n    <path d=\"M 197.778352 214.756364 \nL 51.683807 194.989091 \nL 51.683807 175.221818 \nL 51.683807 155.454545 \nL 51.683807 135.687273 \nL 51.683807 115.92 \nL 51.683807 96.152727 \nL 51.683807 76.385455 \nL 51.683807 56.618182 \nL 51.683807 36.850909 \nL 51.683807 17.083636 \n\" clip-path=\"url(#pcc2213014c)\" style=\"fill: none; stroke: #bcbd22; stroke-width: 1.5; stroke-linecap: square\"/>\n   </g>\n   <g id=\"line2d_62\">\n    <path d=\"M 200.821989 214.756364 \nL 51.683807 194.989091 \nL 51.683807 175.221818 \nL 51.683807 155.454545 \nL 51.683807 135.687273 \nL 51.683807 115.92 \nL 51.683807 96.152727 \nL 51.683807 76.385455 \nL 51.683807 56.618182 \nL 51.683807 36.850909 \nL 51.683807 17.083636 \n\" clip-path=\"url(#pcc2213014c)\" style=\"fill: none; stroke: #17becf; stroke-width: 1.5; stroke-linecap: square\"/>\n   </g>\n   <g id=\"line2d_63\">\n    <path d=\"M 203.865625 214.756364 \nL 51.683807 194.989091 \nL 51.683807 175.221818 \nL 51.683807 155.454545 \nL 51.683807 135.687273 \nL 51.683807 115.92 \nL 51.683807 96.152727 \nL 51.683807 76.385455 \nL 51.683807 56.618182 \nL 51.683807 36.850909 \nL 51.683807 17.083636 \n\" clip-path=\"url(#pcc2213014c)\" style=\"fill: none; stroke: #1f77b4; stroke-width: 1.5; stroke-linecap: square\"/>\n   </g>\n   <g id=\"line2d_64\">\n    <path d=\"M 206.909261 214.756364 \nL 51.683808 194.989091 \nL 51.683808 175.221818 \nL 51.683808 155.454545 \nL 51.683808 135.687273 \nL 51.683808 115.92 \nL 51.683808 96.152727 \nL 51.683808 76.385455 \nL 51.683808 56.618182 \nL 51.683808 36.850909 \nL 51.683808 17.083636 \n\" clip-path=\"url(#pcc2213014c)\" style=\"fill: none; stroke: #ff7f0e; stroke-width: 1.5; stroke-linecap: square\"/>\n   </g>\n   <g id=\"line2d_65\">\n    <path d=\"M 209.952898 214.756364 \nL 51.683808 194.989091 \nL 51.683808 175.221818 \nL 51.683808 155.454545 \nL 51.683808 135.687273 \nL 51.683808 115.92 \nL 51.683808 96.152727 \nL 51.683808 76.385455 \nL 51.683808 56.618182 \nL 51.683808 36.850909 \nL 51.683808 17.083636 \n\" clip-path=\"url(#pcc2213014c)\" style=\"fill: none; stroke: #2ca02c; stroke-width: 1.5; stroke-linecap: square\"/>\n   </g>\n   <g id=\"line2d_66\">\n    <path d=\"M 212.996534 214.756364 \nL 51.683808 194.989091 \nL 51.683808 175.221818 \nL 51.683808 155.454545 \nL 51.683808 135.687273 \nL 51.683808 115.92 \nL 51.683808 96.152727 \nL 51.683808 76.385455 \nL 51.683808 56.618182 \nL 51.683808 36.850909 \nL 51.683808 17.083636 \n\" clip-path=\"url(#pcc2213014c)\" style=\"fill: none; stroke: #d62728; stroke-width: 1.5; stroke-linecap: square\"/>\n   </g>\n   <g id=\"line2d_67\">\n    <path d=\"M 216.04017 214.756364 \nL 51.683809 194.989091 \nL 51.683809 175.221818 \nL 51.683809 155.454545 \nL 51.683809 135.687273 \nL 51.683809 115.92 \nL 51.683809 96.152727 \nL 51.683809 76.385455 \nL 51.683809 56.618182 \nL 51.683809 36.850909 \nL 51.683809 17.083636 \n\" clip-path=\"url(#pcc2213014c)\" style=\"fill: none; stroke: #9467bd; stroke-width: 1.5; stroke-linecap: square\"/>\n   </g>\n   <g id=\"line2d_68\">\n    <path d=\"M 219.083807 214.756364 \nL 51.68381 194.989091 \nL 51.68381 175.221818 \nL 51.68381 155.454545 \nL 51.68381 135.687273 \nL 51.68381 115.92 \nL 51.68381 96.152727 \nL 51.68381 76.385455 \nL 51.68381 56.618182 \nL 51.68381 36.850909 \nL 51.68381 17.083636 \n\" clip-path=\"url(#pcc2213014c)\" style=\"fill: none; stroke: #8c564b; stroke-width: 1.5; stroke-linecap: square\"/>\n   </g>\n   <g id=\"line2d_69\">\n    <path d=\"M 222.127443 214.756364 \nL 51.683812 194.989091 \nL 51.683812 175.221818 \nL 51.683812 155.454545 \nL 51.683812 135.687273 \nL 51.683812 115.92 \nL 51.683812 96.152727 \nL 51.683812 76.385455 \nL 51.683812 56.618182 \nL 51.683812 36.850909 \nL 51.683812 17.083636 \n\" clip-path=\"url(#pcc2213014c)\" style=\"fill: none; stroke: #e377c2; stroke-width: 1.5; stroke-linecap: square\"/>\n   </g>\n   <g id=\"line2d_70\">\n    <path d=\"M 225.17108 214.756364 \nL 51.683815 194.989091 \nL 51.683815 175.221818 \nL 51.683815 155.454545 \nL 51.683815 135.687273 \nL 51.683815 115.92 \nL 51.683815 96.152727 \nL 51.683815 76.385455 \nL 51.683815 56.618182 \nL 51.683815 36.850909 \nL 51.683815 17.083636 \n\" clip-path=\"url(#pcc2213014c)\" style=\"fill: none; stroke: #7f7f7f; stroke-width: 1.5; stroke-linecap: square\"/>\n   </g>\n   <g id=\"line2d_71\">\n    <path d=\"M 228.214716 214.756364 \nL 51.683819 194.989091 \nL 51.683819 175.221818 \nL 51.683819 155.454545 \nL 51.683819 135.687273 \nL 51.683819 115.92 \nL 51.683819 96.152727 \nL 51.683819 76.385455 \nL 51.683819 56.618182 \nL 51.683819 36.850909 \nL 51.683819 17.083636 \n\" clip-path=\"url(#pcc2213014c)\" style=\"fill: none; stroke: #bcbd22; stroke-width: 1.5; stroke-linecap: square\"/>\n   </g>\n   <g id=\"line2d_72\">\n    <path d=\"M 231.258352 214.756364 \nL 51.683825 194.989091 \nL 51.683825 175.221818 \nL 51.683825 155.454545 \nL 51.683825 135.687273 \nL 51.683825 115.92 \nL 51.683825 96.152727 \nL 51.683825 76.385455 \nL 51.683825 56.618182 \nL 51.683825 36.850909 \nL 51.683825 17.083636 \n\" clip-path=\"url(#pcc2213014c)\" style=\"fill: none; stroke: #17becf; stroke-width: 1.5; stroke-linecap: square\"/>\n   </g>\n   <g id=\"line2d_73\">\n    <path d=\"M 234.301989 214.756364 \nL 51.683834 194.989091 \nL 51.683834 175.221818 \nL 51.683834 155.454545 \nL 51.683834 135.687273 \nL 51.683834 115.92 \nL 51.683834 96.152727 \nL 51.683834 76.385455 \nL 51.683834 56.618182 \nL 51.683834 36.850909 \nL 51.683834 17.083636 \n\" clip-path=\"url(#pcc2213014c)\" style=\"fill: none; stroke: #1f77b4; stroke-width: 1.5; stroke-linecap: square\"/>\n   </g>\n   <g id=\"line2d_74\">\n    <path d=\"M 237.345625 214.756364 \nL 51.683848 194.989091 \nL 51.683848 175.221818 \nL 51.683848 155.454545 \nL 51.683848 135.687273 \nL 51.683848 115.92 \nL 51.683848 96.152727 \nL 51.683848 76.385455 \nL 51.683848 56.618182 \nL 51.683848 36.850909 \nL 51.683848 17.083636 \n\" clip-path=\"url(#pcc2213014c)\" style=\"fill: none; stroke: #ff7f0e; stroke-width: 1.5; stroke-linecap: square\"/>\n   </g>\n   <g id=\"line2d_75\">\n    <path d=\"M 240.389261 214.756364 \nL 51.683869 194.989091 \nL 51.683869 175.221818 \nL 51.683869 155.454545 \nL 51.683869 135.687273 \nL 51.683869 115.92 \nL 51.683869 96.152727 \nL 51.683869 76.385455 \nL 51.683869 56.618182 \nL 51.683869 36.850909 \nL 51.683869 17.083636 \n\" clip-path=\"url(#pcc2213014c)\" style=\"fill: none; stroke: #2ca02c; stroke-width: 1.5; stroke-linecap: square\"/>\n   </g>\n   <g id=\"line2d_76\">\n    <path d=\"M 243.432898 214.756364 \nL 51.6839 194.989091 \nL 51.6839 175.221818 \nL 51.6839 155.454545 \nL 51.6839 135.687273 \nL 51.6839 115.92 \nL 51.6839 96.152727 \nL 51.6839 76.385455 \nL 51.6839 56.618182 \nL 51.6839 36.850909 \nL 51.6839 17.083636 \n\" clip-path=\"url(#pcc2213014c)\" style=\"fill: none; stroke: #d62728; stroke-width: 1.5; stroke-linecap: square\"/>\n   </g>\n   <g id=\"line2d_77\">\n    <path d=\"M 246.476534 214.756364 \nL 51.683946 194.989091 \nL 51.683946 175.221818 \nL 51.683946 155.454545 \nL 51.683946 135.687273 \nL 51.683946 115.92 \nL 51.683946 96.152727 \nL 51.683946 76.385455 \nL 51.683946 56.618182 \nL 51.683946 36.850909 \nL 51.683946 17.083636 \n\" clip-path=\"url(#pcc2213014c)\" style=\"fill: none; stroke: #9467bd; stroke-width: 1.5; stroke-linecap: square\"/>\n   </g>\n   <g id=\"line2d_78\">\n    <path d=\"M 249.52017 214.756364 \nL 51.684016 194.989091 \nL 51.684016 175.221818 \nL 51.684016 155.454545 \nL 51.684016 135.687273 \nL 51.684016 115.92 \nL 51.684016 96.152727 \nL 51.684016 76.385455 \nL 51.684016 56.618182 \nL 51.684016 36.850909 \nL 51.684016 17.083636 \n\" clip-path=\"url(#pcc2213014c)\" style=\"fill: none; stroke: #8c564b; stroke-width: 1.5; stroke-linecap: square\"/>\n   </g>\n   <g id=\"line2d_79\">\n    <path d=\"M 252.563807 214.756364 \nL 51.68412 194.989091 \nL 51.68412 175.221818 \nL 51.68412 155.454545 \nL 51.68412 135.687273 \nL 51.68412 115.92 \nL 51.68412 96.152727 \nL 51.68412 76.385455 \nL 51.68412 56.618182 \nL 51.68412 36.850909 \nL 51.68412 17.083636 \n\" clip-path=\"url(#pcc2213014c)\" style=\"fill: none; stroke: #e377c2; stroke-width: 1.5; stroke-linecap: square\"/>\n   </g>\n   <g id=\"line2d_80\">\n    <path d=\"M 255.607443 214.756364 \nL 51.684277 194.989091 \nL 51.684277 175.221818 \nL 51.684277 155.454545 \nL 51.684277 135.687273 \nL 51.684277 115.92 \nL 51.684277 96.152727 \nL 51.684277 76.385455 \nL 51.684277 56.618182 \nL 51.684277 36.850909 \nL 51.684277 17.083636 \n\" clip-path=\"url(#pcc2213014c)\" style=\"fill: none; stroke: #7f7f7f; stroke-width: 1.5; stroke-linecap: square\"/>\n   </g>\n   <g id=\"line2d_81\">\n    <path d=\"M 258.65108 214.756364 \nL 51.684512 194.989091 \nL 51.684512 175.221818 \nL 51.684512 155.454545 \nL 51.684512 135.687273 \nL 51.684512 115.92 \nL 51.684512 96.152727 \nL 51.684512 76.385455 \nL 51.684512 56.618182 \nL 51.684512 36.850909 \nL 51.684512 17.083636 \n\" clip-path=\"url(#pcc2213014c)\" style=\"fill: none; stroke: #bcbd22; stroke-width: 1.5; stroke-linecap: square\"/>\n   </g>\n   <g id=\"line2d_82\">\n    <path d=\"M 261.694716 214.756364 \nL 51.684865 194.989091 \nL 51.684865 175.221818 \nL 51.684865 155.454545 \nL 51.684865 135.687273 \nL 51.684865 115.92 \nL 51.684865 96.152727 \nL 51.684865 76.385455 \nL 51.684865 56.618182 \nL 51.684865 36.850909 \nL 51.684865 17.083636 \n\" clip-path=\"url(#pcc2213014c)\" style=\"fill: none; stroke: #17becf; stroke-width: 1.5; stroke-linecap: square\"/>\n   </g>\n   <g id=\"line2d_83\">\n    <path d=\"M 264.738352 214.756364 \nL 51.685394 194.989091 \nL 51.685394 175.221818 \nL 51.685394 155.454545 \nL 51.685394 135.687273 \nL 51.685394 115.92 \nL 51.685394 96.152727 \nL 51.685394 76.385455 \nL 51.685394 56.618182 \nL 51.685394 36.850909 \nL 51.685394 17.083636 \n\" clip-path=\"url(#pcc2213014c)\" style=\"fill: none; stroke: #1f77b4; stroke-width: 1.5; stroke-linecap: square\"/>\n   </g>\n   <g id=\"line2d_84\">\n    <path d=\"M 267.781989 214.756364 \nL 51.686188 194.989091 \nL 51.686188 175.221818 \nL 51.686188 155.454545 \nL 51.686188 135.687273 \nL 51.686188 115.92 \nL 51.686188 96.152727 \nL 51.686188 76.385455 \nL 51.686188 56.618182 \nL 51.686188 36.850909 \nL 51.686188 17.083636 \n\" clip-path=\"url(#pcc2213014c)\" style=\"fill: none; stroke: #ff7f0e; stroke-width: 1.5; stroke-linecap: square\"/>\n   </g>\n   <g id=\"line2d_85\">\n    <path d=\"M 270.825625 214.756364 \nL 51.687378 194.989091 \nL 51.687378 175.221818 \nL 51.687378 155.454545 \nL 51.687378 135.687273 \nL 51.687378 115.92 \nL 51.687378 96.152727 \nL 51.687378 76.385455 \nL 51.687378 56.618182 \nL 51.687378 36.850909 \nL 51.687378 17.083636 \n\" clip-path=\"url(#pcc2213014c)\" style=\"fill: none; stroke: #2ca02c; stroke-width: 1.5; stroke-linecap: square\"/>\n   </g>\n   <g id=\"line2d_86\">\n    <path d=\"M 273.869261 214.756364 \nL 51.689164 194.989091 \nL 51.689164 175.221818 \nL 51.689164 155.454545 \nL 51.689164 135.687273 \nL 51.689164 115.92 \nL 51.689164 96.152727 \nL 51.689164 76.385455 \nL 51.689164 56.618182 \nL 51.689164 36.850909 \nL 51.689164 17.083636 \n\" clip-path=\"url(#pcc2213014c)\" style=\"fill: none; stroke: #d62728; stroke-width: 1.5; stroke-linecap: square\"/>\n   </g>\n   <g id=\"line2d_87\">\n    <path d=\"M 276.912898 214.756364 \nL 51.691842 194.989091 \nL 51.691842 175.221818 \nL 51.691842 155.454545 \nL 51.691842 135.687273 \nL 51.691842 115.92 \nL 51.691842 96.152727 \nL 51.691842 76.385455 \nL 51.691842 56.618182 \nL 51.691842 36.850909 \nL 51.691842 17.083636 \n\" clip-path=\"url(#pcc2213014c)\" style=\"fill: none; stroke: #9467bd; stroke-width: 1.5; stroke-linecap: square\"/>\n   </g>\n   <g id=\"line2d_88\">\n    <path d=\"M 279.956534 214.756364 \nL 51.69586 194.989091 \nL 51.69586 175.221818 \nL 51.69586 155.454545 \nL 51.69586 135.687273 \nL 51.69586 115.92 \nL 51.69586 96.152727 \nL 51.69586 76.385455 \nL 51.69586 56.618182 \nL 51.69586 36.850909 \nL 51.69586 17.083636 \n\" clip-path=\"url(#pcc2213014c)\" style=\"fill: none; stroke: #8c564b; stroke-width: 1.5; stroke-linecap: square\"/>\n   </g>\n   <g id=\"line2d_89\">\n    <path d=\"M 283.00017 214.756364 \nL 51.701887 194.989091 \nL 51.701887 175.221818 \nL 51.701887 155.454545 \nL 51.701887 135.687273 \nL 51.701887 115.92 \nL 51.701887 96.152727 \nL 51.701887 76.385455 \nL 51.701887 56.618182 \nL 51.701887 36.850909 \nL 51.701887 17.083636 \n\" clip-path=\"url(#pcc2213014c)\" style=\"fill: none; stroke: #e377c2; stroke-width: 1.5; stroke-linecap: square\"/>\n   </g>\n   <g id=\"line2d_90\">\n    <path d=\"M 286.043807 214.756364 \nL 51.710927 194.989091 \nL 51.710927 175.221818 \nL 51.710927 155.454545 \nL 51.710927 135.687273 \nL 51.710927 115.92 \nL 51.710927 96.152727 \nL 51.710927 76.385455 \nL 51.710927 56.618182 \nL 51.710927 36.850909 \nL 51.710927 17.083636 \n\" clip-path=\"url(#pcc2213014c)\" style=\"fill: none; stroke: #7f7f7f; stroke-width: 1.5; stroke-linecap: square\"/>\n   </g>\n   <g id=\"line2d_91\">\n    <path d=\"M 289.087443 214.756364 \nL 51.724487 194.989091 \nL 51.724487 175.221818 \nL 51.724487 155.454545 \nL 51.724487 135.687273 \nL 51.724487 115.92 \nL 51.724487 96.152727 \nL 51.724487 76.385455 \nL 51.724487 56.618182 \nL 51.724487 36.850909 \nL 51.724487 17.083636 \n\" clip-path=\"url(#pcc2213014c)\" style=\"fill: none; stroke: #bcbd22; stroke-width: 1.5; stroke-linecap: square\"/>\n   </g>\n   <g id=\"line2d_92\">\n    <path d=\"M 292.13108 214.756364 \nL 51.744827 194.989091 \nL 51.744827 175.221818 \nL 51.744827 155.454545 \nL 51.744827 135.687273 \nL 51.744827 115.92 \nL 51.744827 96.152727 \nL 51.744827 76.385455 \nL 51.744827 56.618182 \nL 51.744827 36.850909 \nL 51.744827 17.083636 \n\" clip-path=\"url(#pcc2213014c)\" style=\"fill: none; stroke: #17becf; stroke-width: 1.5; stroke-linecap: square\"/>\n   </g>\n   <g id=\"line2d_93\">\n    <path d=\"M 295.174716 214.756364 \nL 51.775338 194.989091 \nL 51.775338 175.221818 \nL 51.775338 155.454545 \nL 51.775338 135.687273 \nL 51.775338 115.92 \nL 51.775338 96.152727 \nL 51.775338 76.385455 \nL 51.775338 56.618182 \nL 51.775338 36.850909 \nL 51.775338 17.083636 \n\" clip-path=\"url(#pcc2213014c)\" style=\"fill: none; stroke: #1f77b4; stroke-width: 1.5; stroke-linecap: square\"/>\n   </g>\n   <g id=\"line2d_94\">\n    <path d=\"M 298.218352 214.756364 \nL 51.821103 194.989091 \nL 51.821103 175.221818 \nL 51.821103 155.454545 \nL 51.821103 135.687273 \nL 51.821103 115.92 \nL 51.821103 96.152727 \nL 51.821103 76.385455 \nL 51.821103 56.618182 \nL 51.821103 36.850909 \nL 51.821103 17.083636 \n\" clip-path=\"url(#pcc2213014c)\" style=\"fill: none; stroke: #ff7f0e; stroke-width: 1.5; stroke-linecap: square\"/>\n   </g>\n   <g id=\"line2d_95\">\n    <path d=\"M 301.261989 214.756364 \nL 51.889751 194.989091 \nL 51.889751 175.221818 \nL 51.889751 155.454545 \nL 51.889751 135.687273 \nL 51.889751 115.92 \nL 51.889751 96.152727 \nL 51.889751 76.385455 \nL 51.889751 56.618182 \nL 51.889751 36.850909 \nL 51.889751 17.083636 \n\" clip-path=\"url(#pcc2213014c)\" style=\"fill: none; stroke: #2ca02c; stroke-width: 1.5; stroke-linecap: square\"/>\n   </g>\n   <g id=\"line2d_96\">\n    <path d=\"M 304.305625 214.756364 \nL 51.992723 194.989091 \nL 51.992723 175.221818 \nL 51.992723 155.454545 \nL 51.992723 135.687273 \nL 51.992723 115.92 \nL 51.992723 96.152727 \nL 51.992723 76.385455 \nL 51.992723 56.618182 \nL 51.992723 36.850909 \nL 51.992723 17.083636 \n\" clip-path=\"url(#pcc2213014c)\" style=\"fill: none; stroke: #d62728; stroke-width: 1.5; stroke-linecap: square\"/>\n   </g>\n   <g id=\"line2d_97\">\n    <path d=\"M 307.349261 214.756364 \nL 52.147182 194.989091 \nL 52.147182 175.221818 \nL 52.147182 155.454545 \nL 52.147182 135.687273 \nL 52.147182 115.92 \nL 52.147182 96.152727 \nL 52.147182 76.385455 \nL 52.147182 56.618182 \nL 52.147182 36.850909 \nL 52.147182 17.083636 \n\" clip-path=\"url(#pcc2213014c)\" style=\"fill: none; stroke: #9467bd; stroke-width: 1.5; stroke-linecap: square\"/>\n   </g>\n   <g id=\"line2d_98\">\n    <path d=\"M 310.392898 214.756364 \nL 52.378869 194.989091 \nL 52.378869 175.221818 \nL 52.378869 155.454545 \nL 52.378869 135.687273 \nL 52.378869 115.92 \nL 52.378869 96.152727 \nL 52.378869 76.385455 \nL 52.378869 56.618182 \nL 52.378869 36.850909 \nL 52.378869 17.083636 \n\" clip-path=\"url(#pcc2213014c)\" style=\"fill: none; stroke: #8c564b; stroke-width: 1.5; stroke-linecap: square\"/>\n   </g>\n   <g id=\"line2d_99\">\n    <path d=\"M 313.436534 214.756364 \nL 52.726401 194.989091 \nL 52.726401 175.221818 \nL 52.726401 155.454545 \nL 52.726401 135.687273 \nL 52.726401 115.92 \nL 52.726401 96.152727 \nL 52.726401 76.385455 \nL 52.726401 56.618182 \nL 52.726401 36.850909 \nL 52.726401 17.083636 \n\" clip-path=\"url(#pcc2213014c)\" style=\"fill: none; stroke: #e377c2; stroke-width: 1.5; stroke-linecap: square\"/>\n   </g>\n   <g id=\"line2d_100\">\n    <path d=\"M 316.48017 214.756364 \nL 53.247698 194.989091 \nL 53.247698 175.221818 \nL 53.247698 155.454545 \nL 53.247698 135.687273 \nL 53.247698 115.92 \nL 53.247698 96.152727 \nL 53.247698 76.385455 \nL 53.247698 56.618182 \nL 53.247698 36.850909 \nL 53.247698 17.083636 \n\" clip-path=\"url(#pcc2213014c)\" style=\"fill: none; stroke: #7f7f7f; stroke-width: 1.5; stroke-linecap: square\"/>\n   </g>\n   <g id=\"line2d_101\">\n    <path d=\"M 319.523807 214.756364 \nL 54.029643 194.989091 \nL 54.029643 175.221818 \nL 54.029643 155.454545 \nL 54.029643 135.687273 \nL 54.029643 115.92 \nL 54.029643 96.152727 \nL 54.029643 76.385455 \nL 54.029643 56.618182 \nL 54.029643 36.850909 \nL 54.029643 17.083636 \n\" clip-path=\"url(#pcc2213014c)\" style=\"fill: none; stroke: #bcbd22; stroke-width: 1.5; stroke-linecap: square\"/>\n   </g>\n   <g id=\"line2d_102\">\n    <path d=\"M 322.567443 214.756364 \nL 55.202561 194.989091 \nL 55.202561 175.221818 \nL 55.202561 155.454545 \nL 55.202561 135.687273 \nL 55.202561 115.92 \nL 55.202561 96.152727 \nL 55.202561 76.385455 \nL 55.202561 56.618182 \nL 55.202561 36.850909 \nL 55.202561 17.083636 \n\" clip-path=\"url(#pcc2213014c)\" style=\"fill: none; stroke: #17becf; stroke-width: 1.5; stroke-linecap: square\"/>\n   </g>\n   <g id=\"line2d_103\">\n    <path d=\"M 325.61108 214.756364 \nL 56.961938 194.989091 \nL 56.961938 175.221818 \nL 56.961938 155.454545 \nL 56.961938 135.687273 \nL 56.961938 115.92 \nL 56.961938 96.152727 \nL 56.961938 76.385455 \nL 56.961938 56.618182 \nL 56.961938 36.850909 \nL 56.961938 17.083636 \n\" clip-path=\"url(#pcc2213014c)\" style=\"fill: none; stroke: #1f77b4; stroke-width: 1.5; stroke-linecap: square\"/>\n   </g>\n   <g id=\"line2d_104\">\n    <path d=\"M 328.654716 214.756364 \nL 59.601003 194.989091 \nL 59.601003 175.221818 \nL 59.601003 155.454545 \nL 59.601003 135.687273 \nL 59.601003 115.92 \nL 59.601003 96.152727 \nL 59.601003 76.385455 \nL 59.601003 56.618182 \nL 59.601003 36.850909 \nL 59.601003 17.083636 \n\" clip-path=\"url(#pcc2213014c)\" style=\"fill: none; stroke: #ff7f0e; stroke-width: 1.5; stroke-linecap: square\"/>\n   </g>\n   <g id=\"line2d_105\">\n    <path d=\"M 331.698352 214.756364 \nL 63.559602 194.989091 \nL 63.559602 175.221818 \nL 63.559602 155.454545 \nL 63.559602 135.687273 \nL 63.559602 115.92 \nL 63.559602 96.152727 \nL 63.559602 76.385455 \nL 63.559602 56.618182 \nL 63.559602 36.850909 \nL 63.559602 17.083636 \n\" clip-path=\"url(#pcc2213014c)\" style=\"fill: none; stroke: #2ca02c; stroke-width: 1.5; stroke-linecap: square\"/>\n   </g>\n   <g id=\"line2d_106\">\n    <path d=\"M 334.741989 214.756364 \nL 69.497499 194.989091 \nL 69.497499 175.221818 \nL 69.497499 155.454545 \nL 69.497499 135.687273 \nL 69.497499 115.92 \nL 69.497499 96.152727 \nL 69.497499 76.385455 \nL 69.497499 56.618182 \nL 69.497499 36.850909 \nL 69.497499 17.083636 \n\" clip-path=\"url(#pcc2213014c)\" style=\"fill: none; stroke: #d62728; stroke-width: 1.5; stroke-linecap: square\"/>\n   </g>\n   <g id=\"line2d_107\">\n    <path d=\"M 337.785625 214.756364 \nL 78.404346 194.989091 \nL 78.404346 175.221818 \nL 78.404346 155.454545 \nL 78.404346 135.687273 \nL 78.404346 115.92 \nL 78.404346 96.152727 \nL 78.404346 76.385455 \nL 78.404346 56.618182 \nL 78.404346 36.850909 \nL 78.404346 17.083636 \n\" clip-path=\"url(#pcc2213014c)\" style=\"fill: none; stroke: #9467bd; stroke-width: 1.5; stroke-linecap: square\"/>\n   </g>\n   <g id=\"line2d_108\">\n    <path d=\"M 340.829261 214.756364 \nL 91.764615 194.989091 \nL 91.764615 175.221818 \nL 91.764615 155.454545 \nL 91.764615 135.687273 \nL 91.764615 115.92 \nL 91.764615 96.152727 \nL 91.764615 76.385455 \nL 91.764615 56.618182 \nL 91.764615 36.850909 \nL 91.764615 17.083636 \n\" clip-path=\"url(#pcc2213014c)\" style=\"fill: none; stroke: #8c564b; stroke-width: 1.5; stroke-linecap: square\"/>\n   </g>\n   <g id=\"line2d_109\">\n    <path d=\"M 343.872898 214.756364 \nL 111.805019 194.989091 \nL 111.805019 175.221818 \nL 111.805019 155.454545 \nL 111.805019 135.687273 \nL 111.805019 115.92 \nL 111.805019 96.152727 \nL 111.805019 76.385455 \nL 111.805019 56.618182 \nL 111.805019 36.850909 \nL 111.805019 17.083636 \n\" clip-path=\"url(#pcc2213014c)\" style=\"fill: none; stroke: #e377c2; stroke-width: 1.5; stroke-linecap: square\"/>\n   </g>\n   <g id=\"line2d_110\">\n    <path d=\"M 346.916534 214.756364 \nL 141.865625 194.989091 \nL 141.865625 175.221818 \nL 141.865625 155.454545 \nL 141.865625 135.687273 \nL 141.865625 115.92 \nL 141.865625 96.152727 \nL 141.865625 76.385455 \nL 141.865625 56.618182 \nL 141.865625 36.850909 \nL 141.865625 17.083636 \n\" clip-path=\"url(#pcc2213014c)\" style=\"fill: none; stroke: #7f7f7f; stroke-width: 1.5; stroke-linecap: square\"/>\n   </g>\n   <g id=\"line2d_111\">\n    <path d=\"M 349.96017 214.756364 \nL 186.956534 194.989091 \nL 186.956534 175.221818 \nL 186.956534 155.454545 \nL 186.956534 135.687273 \nL 186.956534 115.92 \nL 186.956534 96.152727 \nL 186.956534 76.385455 \nL 186.956534 56.618182 \nL 186.956534 36.850909 \nL 186.956534 17.083636 \n\" clip-path=\"url(#pcc2213014c)\" style=\"fill: none; stroke: #bcbd22; stroke-width: 1.5; stroke-linecap: square\"/>\n   </g>\n   <g id=\"line2d_112\">\n    <path d=\"M 353.003807 214.756364 \nL 254.592898 194.989091 \nL 254.592898 175.221818 \nL 254.592898 155.454545 \nL 254.592898 135.687273 \nL 254.592898 115.92 \nL 254.592898 96.152727 \nL 254.592898 76.385455 \nL 254.592898 56.618182 \nL 254.592898 36.850909 \nL 254.592898 17.083636 \n\" clip-path=\"url(#pcc2213014c)\" style=\"fill: none; stroke: #17becf; stroke-width: 1.5; stroke-linecap: square\"/>\n   </g>\n   <g id=\"line2d_113\">\n    <path d=\"M 356.047443 214.756364 \nL 356.047443 194.989091 \nL 356.047443 175.221818 \nL 356.047443 155.454545 \nL 356.047443 135.687273 \nL 356.047443 115.92 \nL 356.047443 96.152727 \nL 356.047443 76.385455 \nL 356.047443 56.618182 \nL 356.047443 36.850909 \nL 356.047443 17.083636 \n\" clip-path=\"url(#pcc2213014c)\" style=\"fill: none; stroke: #1f77b4; stroke-width: 1.5; stroke-linecap: square\"/>\n   </g>\n   <g id=\"patch_3\">\n    <path d=\"M 36.465625 224.64 \nL 36.465625 7.2 \n\" style=\"fill: none; stroke: #000000; stroke-width: 0.8; stroke-linejoin: miter; stroke-linecap: square\"/>\n   </g>\n   <g id=\"patch_4\">\n    <path d=\"M 371.265625 224.64 \nL 371.265625 7.2 \n\" style=\"fill: none; stroke: #000000; stroke-width: 0.8; stroke-linejoin: miter; stroke-linecap: square\"/>\n   </g>\n   <g id=\"patch_5\">\n    <path d=\"M 36.465625 224.64 \nL 371.265625 224.64 \n\" style=\"fill: none; stroke: #000000; stroke-width: 0.8; stroke-linejoin: miter; stroke-linecap: square\"/>\n   </g>\n   <g id=\"patch_6\">\n    <path d=\"M 36.465625 7.2 \nL 371.265625 7.2 \n\" style=\"fill: none; stroke: #000000; stroke-width: 0.8; stroke-linejoin: miter; stroke-linecap: square\"/>\n   </g>\n  </g>\n </g>\n <defs>\n  <clipPath id=\"pcc2213014c\">\n   <rect x=\"36.465625\" y=\"7.2\" width=\"334.8\" height=\"217.44\"/>\n  </clipPath>\n </defs>\n</svg>\n",
      "text/plain": [
       "<Figure size 600x400 with 1 Axes>"
      ]
     },
     "metadata": {
      "needs_background": "light"
     },
     "output_type": "display_data"
    }
   ],
   "source": [
    "t = 0\n",
    "graph = []\n",
    "for i, Psi in enumerate(Psis):\n",
    "    if i % 1 == 0:\n",
    "        X = list()\n",
    "        xi = 0\n",
    "        X.append(xi)\n",
    "        for psi in Psi:\n",
    "            xi += psi * h\n",
    "            X.append(xi)\n",
    "        graph.append([X, list(np.full((len(X)), t))])\n",
    "        # plt.scatter(X, np.full((len(X)), t), s=1, color='black')\n",
    "        t += tau\n",
    "graph = np.array(graph)\n",
    "graph = graph.transpose()\n",
    "# graph.shape, graph[0]\n",
    "for l in graph:\n",
    "    # l = line.transpose()\n",
    "    plt.plot(l[0], l[1])\n",
    "plt.show()"
   ]
  },
  {
   "cell_type": "code",
   "execution_count": null,
   "metadata": {},
   "outputs": [
    {
     "data": {
      "application/vnd.plotly.v1+json": {
       "config": {
        "plotlyServerURL": "https://plot.ly"
       },
       "data": [
        {
         "type": "surface",
         "x": [
          0,
          0.01,
          0.02,
          0.03,
          0.04,
          0.05,
          0.06,
          0.07,
          0.08,
          0.09,
          0.1,
          0.11,
          0.12,
          0.13,
          0.14,
          0.15,
          0.16,
          0.17,
          0.18,
          0.19,
          0.2,
          0.21,
          0.22,
          0.23,
          0.24,
          0.25,
          0.26,
          0.27,
          0.28,
          0.29,
          0.3,
          0.31,
          0.32,
          0.33,
          0.34,
          0.35000000000000003,
          0.36,
          0.37,
          0.38,
          0.39,
          0.4,
          0.41000000000000003,
          0.42,
          0.43,
          0.44,
          0.45,
          0.46,
          0.47000000000000003,
          0.48,
          0.49,
          0.5,
          0.51,
          0.52,
          0.53,
          0.54,
          0.55,
          0.56,
          0.5700000000000001,
          0.58,
          0.59,
          0.6,
          0.61,
          0.62,
          0.63,
          0.64,
          0.65,
          0.66,
          0.67,
          0.68,
          0.6900000000000001,
          0.7000000000000001,
          0.71,
          0.72,
          0.73,
          0.74,
          0.75,
          0.76,
          0.77,
          0.78,
          0.79,
          0.8,
          0.81,
          0.8200000000000001,
          0.8300000000000001,
          0.84,
          0.85,
          0.86,
          0.87,
          0.88,
          0.89,
          0.9,
          0.91,
          0.92,
          0.93,
          0.9400000000000001,
          0.9500000000000001,
          0.96,
          0.97,
          0.98,
          0.99,
          1
         ],
         "y": [
          0,
          0.001,
          0.002,
          0.003,
          0.004,
          0.005,
          0.006,
          0.007,
          0.008,
          0.009000000000000001,
          0.01,
          0.011,
          0.012,
          0.013000000000000001,
          0.014,
          0.015,
          0.016,
          0.017,
          0.018000000000000002,
          0.019,
          0.02,
          0.021,
          0.022,
          0.023,
          0.024,
          0.025,
          0.026000000000000002,
          0.027,
          0.028,
          0.029,
          0.03,
          0.031,
          0.032,
          0.033,
          0.034,
          0.035,
          0.036000000000000004,
          0.037,
          0.038,
          0.039,
          0.04,
          0.041,
          0.042,
          0.043000000000000003,
          0.044,
          0.045,
          0.046,
          0.047,
          0.048,
          0.049,
          0.05,
          0.051000000000000004,
          0.052000000000000005,
          0.053,
          0.054,
          0.055,
          0.056,
          0.057,
          0.058,
          0.059000000000000004,
          0.06,
          0.061,
          0.062,
          0.063,
          0.064,
          0.065,
          0.066,
          0.067,
          0.068,
          0.069,
          0.07,
          0.07100000000000001,
          0.07200000000000001,
          0.073,
          0.074,
          0.075,
          0.076,
          0.077,
          0.078,
          0.079,
          0.08,
          0.081,
          0.082,
          0.083,
          0.084,
          0.085,
          0.08600000000000001,
          0.08700000000000001,
          0.088,
          0.089,
          0.09,
          0.091,
          0.092,
          0.093,
          0.094,
          0.095,
          0.096,
          0.097,
          0.098,
          0.099,
          0.1
         ],
         "z": [
          [
           0,
           0,
           0,
           0,
           0,
           0,
           0,
           0,
           0,
           0,
           0,
           0,
           0,
           0,
           0,
           0,
           0,
           0,
           0,
           0,
           0,
           0,
           0,
           0,
           0,
           0,
           0,
           0,
           0,
           0,
           0,
           0,
           0,
           0,
           0,
           0,
           0,
           0,
           0,
           0,
           0,
           0,
           0,
           0,
           0,
           0,
           0,
           0,
           0,
           0,
           0,
           0,
           0,
           0,
           0,
           0,
           0,
           0,
           0,
           0,
           0,
           0,
           0,
           0,
           0,
           0,
           0,
           0,
           0,
           0,
           0,
           0,
           0,
           0,
           0,
           0,
           0,
           0,
           0,
           0,
           0,
           0,
           0,
           0,
           0,
           0,
           0,
           0,
           0,
           0,
           0,
           0,
           0,
           0,
           0,
           0,
           0,
           0,
           0,
           0,
           0
          ],
          [
           1,
           0,
           0,
           0,
           0,
           0,
           0,
           0,
           0,
           0,
           0,
           0,
           0,
           0,
           0,
           0,
           0,
           0,
           0,
           0,
           0,
           0,
           0,
           0,
           0,
           0,
           0,
           0,
           0,
           0,
           0,
           0,
           0,
           0,
           0,
           0,
           0,
           0,
           0,
           0,
           0,
           0,
           0,
           0,
           0,
           0,
           0,
           0,
           0,
           0,
           0,
           0,
           0,
           0,
           0,
           0,
           0,
           0,
           0,
           0,
           0,
           0,
           0,
           0,
           0,
           0,
           0,
           0,
           0,
           0,
           0,
           0,
           0,
           0,
           0,
           0,
           0,
           0,
           0,
           0,
           0,
           0,
           0,
           0,
           0,
           0,
           0,
           0,
           0,
           0,
           0,
           0,
           0,
           0,
           0,
           0,
           0,
           0,
           0,
           0,
           0
          ],
          [
           null,
           null,
           null,
           null,
           null,
           null,
           null,
           null,
           null,
           null,
           null,
           null,
           null,
           null,
           null,
           null,
           null,
           null,
           null,
           null,
           null,
           null,
           null,
           null,
           null,
           null,
           null,
           null,
           null,
           null,
           null,
           null,
           null,
           null,
           null,
           null,
           null,
           null,
           null,
           null,
           null,
           null,
           null,
           null,
           null,
           null,
           null,
           null,
           null,
           null,
           null,
           null,
           null,
           null,
           null,
           null,
           null,
           null,
           null,
           null,
           null,
           null,
           null,
           null,
           null,
           null,
           null,
           null,
           null,
           null,
           null,
           null,
           null,
           null,
           null,
           null,
           null,
           null,
           null,
           null,
           null,
           null,
           null,
           null,
           null,
           null,
           null,
           null,
           null,
           null,
           null,
           null,
           null,
           null,
           null,
           null,
           null,
           null,
           null,
           null,
           null
          ],
          [
           null,
           null,
           null,
           null,
           null,
           null,
           null,
           null,
           null,
           null,
           null,
           null,
           null,
           null,
           null,
           null,
           null,
           null,
           null,
           null,
           null,
           null,
           null,
           null,
           null,
           null,
           null,
           null,
           null,
           null,
           null,
           null,
           null,
           null,
           null,
           null,
           null,
           null,
           null,
           null,
           null,
           null,
           null,
           null,
           null,
           null,
           null,
           null,
           null,
           null,
           null,
           null,
           null,
           null,
           null,
           null,
           null,
           null,
           null,
           null,
           null,
           null,
           null,
           null,
           null,
           null,
           null,
           null,
           null,
           null,
           null,
           null,
           null,
           null,
           null,
           null,
           null,
           null,
           null,
           null,
           null,
           null,
           null,
           null,
           null,
           null,
           null,
           null,
           null,
           null,
           null,
           null,
           null,
           null,
           null,
           null,
           null,
           null,
           null,
           null,
           null
          ],
          [
           null,
           null,
           null,
           null,
           null,
           null,
           null,
           null,
           null,
           null,
           null,
           null,
           null,
           null,
           null,
           null,
           null,
           null,
           null,
           null,
           null,
           null,
           null,
           null,
           null,
           null,
           null,
           null,
           null,
           null,
           null,
           null,
           null,
           null,
           null,
           null,
           null,
           null,
           null,
           null,
           null,
           null,
           null,
           null,
           null,
           null,
           null,
           null,
           null,
           null,
           null,
           null,
           null,
           null,
           null,
           null,
           null,
           null,
           null,
           null,
           null,
           null,
           null,
           null,
           null,
           null,
           null,
           null,
           null,
           null,
           null,
           null,
           null,
           null,
           null,
           null,
           null,
           null,
           null,
           null,
           null,
           null,
           null,
           null,
           null,
           null,
           null,
           null,
           null,
           null,
           null,
           null,
           null,
           null,
           null,
           null,
           null,
           null,
           null,
           null,
           null
          ],
          [
           null,
           null,
           null,
           null,
           null,
           null,
           null,
           null,
           null,
           null,
           null,
           null,
           null,
           null,
           null,
           null,
           null,
           null,
           null,
           null,
           null,
           null,
           null,
           null,
           null,
           null,
           null,
           null,
           null,
           null,
           null,
           null,
           null,
           null,
           null,
           null,
           null,
           null,
           null,
           null,
           null,
           null,
           null,
           null,
           null,
           null,
           null,
           null,
           null,
           null,
           null,
           null,
           null,
           null,
           null,
           null,
           null,
           null,
           null,
           null,
           null,
           null,
           null,
           null,
           null,
           null,
           null,
           null,
           null,
           null,
           null,
           null,
           null,
           null,
           null,
           null,
           null,
           null,
           null,
           null,
           null,
           null,
           null,
           null,
           null,
           null,
           null,
           null,
           null,
           null,
           null,
           null,
           null,
           null,
           null,
           null,
           null,
           null,
           null,
           null,
           null
          ],
          [
           null,
           null,
           null,
           null,
           null,
           null,
           null,
           null,
           null,
           null,
           null,
           null,
           null,
           null,
           null,
           null,
           null,
           null,
           null,
           null,
           null,
           null,
           null,
           null,
           null,
           null,
           null,
           null,
           null,
           null,
           null,
           null,
           null,
           null,
           null,
           null,
           null,
           null,
           null,
           null,
           null,
           null,
           null,
           null,
           null,
           null,
           null,
           null,
           null,
           null,
           null,
           null,
           null,
           null,
           null,
           null,
           null,
           null,
           null,
           null,
           null,
           null,
           null,
           null,
           null,
           null,
           null,
           null,
           null,
           null,
           null,
           null,
           null,
           null,
           null,
           null,
           null,
           null,
           null,
           null,
           null,
           null,
           null,
           null,
           null,
           null,
           null,
           null,
           null,
           null,
           null,
           null,
           null,
           null,
           null,
           null,
           null,
           null,
           null,
           null,
           null
          ],
          [
           null,
           null,
           null,
           null,
           null,
           null,
           null,
           null,
           null,
           null,
           null,
           null,
           null,
           null,
           null,
           null,
           null,
           null,
           null,
           null,
           null,
           null,
           null,
           null,
           null,
           null,
           null,
           null,
           null,
           null,
           null,
           null,
           null,
           null,
           null,
           null,
           null,
           null,
           null,
           null,
           null,
           null,
           null,
           null,
           null,
           null,
           null,
           null,
           null,
           null,
           null,
           null,
           null,
           null,
           null,
           null,
           null,
           null,
           null,
           null,
           null,
           null,
           null,
           null,
           null,
           null,
           null,
           null,
           null,
           null,
           null,
           null,
           null,
           null,
           null,
           null,
           null,
           null,
           null,
           null,
           null,
           null,
           null,
           null,
           null,
           null,
           null,
           null,
           null,
           null,
           null,
           null,
           null,
           null,
           null,
           null,
           null,
           null,
           null,
           null,
           null
          ],
          [
           null,
           null,
           null,
           null,
           null,
           null,
           null,
           null,
           null,
           null,
           null,
           null,
           null,
           null,
           null,
           null,
           null,
           null,
           null,
           null,
           null,
           null,
           null,
           null,
           null,
           null,
           null,
           null,
           null,
           null,
           null,
           null,
           null,
           null,
           null,
           null,
           null,
           null,
           null,
           null,
           null,
           null,
           null,
           null,
           null,
           null,
           null,
           null,
           null,
           null,
           null,
           null,
           null,
           null,
           null,
           null,
           null,
           null,
           null,
           null,
           null,
           null,
           null,
           null,
           null,
           null,
           null,
           null,
           null,
           null,
           null,
           null,
           null,
           null,
           null,
           null,
           null,
           null,
           null,
           null,
           null,
           null,
           null,
           null,
           null,
           null,
           null,
           null,
           null,
           null,
           null,
           null,
           null,
           null,
           null,
           null,
           null,
           null,
           null,
           null,
           null
          ],
          [
           null,
           null,
           null,
           null,
           null,
           null,
           null,
           null,
           null,
           null,
           null,
           null,
           null,
           null,
           null,
           null,
           null,
           null,
           null,
           null,
           null,
           null,
           null,
           null,
           null,
           null,
           null,
           null,
           null,
           null,
           null,
           null,
           null,
           null,
           null,
           null,
           null,
           null,
           null,
           null,
           null,
           null,
           null,
           null,
           null,
           null,
           null,
           null,
           null,
           null,
           null,
           null,
           null,
           null,
           null,
           null,
           null,
           null,
           null,
           null,
           null,
           null,
           null,
           null,
           null,
           null,
           null,
           null,
           null,
           null,
           null,
           null,
           null,
           null,
           null,
           null,
           null,
           null,
           null,
           null,
           null,
           null,
           null,
           null,
           null,
           null,
           null,
           null,
           null,
           null,
           null,
           null,
           null,
           null,
           null,
           null,
           null,
           null,
           null,
           null,
           null
          ],
          [
           null,
           null,
           null,
           null,
           null,
           null,
           null,
           null,
           null,
           null,
           null,
           null,
           null,
           null,
           null,
           null,
           null,
           null,
           null,
           null,
           null,
           null,
           null,
           null,
           null,
           null,
           null,
           null,
           null,
           null,
           null,
           null,
           null,
           null,
           null,
           null,
           null,
           null,
           null,
           null,
           null,
           null,
           null,
           null,
           null,
           null,
           null,
           null,
           null,
           null,
           null,
           null,
           null,
           null,
           null,
           null,
           null,
           null,
           null,
           null,
           null,
           null,
           null,
           null,
           null,
           null,
           null,
           null,
           null,
           null,
           null,
           null,
           null,
           null,
           null,
           null,
           null,
           null,
           null,
           null,
           null,
           null,
           null,
           null,
           null,
           null,
           null,
           null,
           null,
           null,
           null,
           null,
           null,
           null,
           null,
           null,
           null,
           null,
           null,
           null,
           null
          ]
         ]
        }
       ],
       "layout": {
        "autosize": false,
        "height": 500,
        "margin": {
         "b": 5,
         "l": 5,
         "r": 50,
         "t": 55
        },
        "template": {
         "data": {
          "bar": [
           {
            "error_x": {
             "color": "#2a3f5f"
            },
            "error_y": {
             "color": "#2a3f5f"
            },
            "marker": {
             "line": {
              "color": "#E5ECF6",
              "width": 0.5
             },
             "pattern": {
              "fillmode": "overlay",
              "size": 10,
              "solidity": 0.2
             }
            },
            "type": "bar"
           }
          ],
          "barpolar": [
           {
            "marker": {
             "line": {
              "color": "#E5ECF6",
              "width": 0.5
             },
             "pattern": {
              "fillmode": "overlay",
              "size": 10,
              "solidity": 0.2
             }
            },
            "type": "barpolar"
           }
          ],
          "carpet": [
           {
            "aaxis": {
             "endlinecolor": "#2a3f5f",
             "gridcolor": "white",
             "linecolor": "white",
             "minorgridcolor": "white",
             "startlinecolor": "#2a3f5f"
            },
            "baxis": {
             "endlinecolor": "#2a3f5f",
             "gridcolor": "white",
             "linecolor": "white",
             "minorgridcolor": "white",
             "startlinecolor": "#2a3f5f"
            },
            "type": "carpet"
           }
          ],
          "choropleth": [
           {
            "colorbar": {
             "outlinewidth": 0,
             "ticks": ""
            },
            "type": "choropleth"
           }
          ],
          "contour": [
           {
            "colorbar": {
             "outlinewidth": 0,
             "ticks": ""
            },
            "colorscale": [
             [
              0,
              "#0d0887"
             ],
             [
              0.1111111111111111,
              "#46039f"
             ],
             [
              0.2222222222222222,
              "#7201a8"
             ],
             [
              0.3333333333333333,
              "#9c179e"
             ],
             [
              0.4444444444444444,
              "#bd3786"
             ],
             [
              0.5555555555555556,
              "#d8576b"
             ],
             [
              0.6666666666666666,
              "#ed7953"
             ],
             [
              0.7777777777777778,
              "#fb9f3a"
             ],
             [
              0.8888888888888888,
              "#fdca26"
             ],
             [
              1,
              "#f0f921"
             ]
            ],
            "type": "contour"
           }
          ],
          "contourcarpet": [
           {
            "colorbar": {
             "outlinewidth": 0,
             "ticks": ""
            },
            "type": "contourcarpet"
           }
          ],
          "heatmap": [
           {
            "colorbar": {
             "outlinewidth": 0,
             "ticks": ""
            },
            "colorscale": [
             [
              0,
              "#0d0887"
             ],
             [
              0.1111111111111111,
              "#46039f"
             ],
             [
              0.2222222222222222,
              "#7201a8"
             ],
             [
              0.3333333333333333,
              "#9c179e"
             ],
             [
              0.4444444444444444,
              "#bd3786"
             ],
             [
              0.5555555555555556,
              "#d8576b"
             ],
             [
              0.6666666666666666,
              "#ed7953"
             ],
             [
              0.7777777777777778,
              "#fb9f3a"
             ],
             [
              0.8888888888888888,
              "#fdca26"
             ],
             [
              1,
              "#f0f921"
             ]
            ],
            "type": "heatmap"
           }
          ],
          "heatmapgl": [
           {
            "colorbar": {
             "outlinewidth": 0,
             "ticks": ""
            },
            "colorscale": [
             [
              0,
              "#0d0887"
             ],
             [
              0.1111111111111111,
              "#46039f"
             ],
             [
              0.2222222222222222,
              "#7201a8"
             ],
             [
              0.3333333333333333,
              "#9c179e"
             ],
             [
              0.4444444444444444,
              "#bd3786"
             ],
             [
              0.5555555555555556,
              "#d8576b"
             ],
             [
              0.6666666666666666,
              "#ed7953"
             ],
             [
              0.7777777777777778,
              "#fb9f3a"
             ],
             [
              0.8888888888888888,
              "#fdca26"
             ],
             [
              1,
              "#f0f921"
             ]
            ],
            "type": "heatmapgl"
           }
          ],
          "histogram": [
           {
            "marker": {
             "pattern": {
              "fillmode": "overlay",
              "size": 10,
              "solidity": 0.2
             }
            },
            "type": "histogram"
           }
          ],
          "histogram2d": [
           {
            "colorbar": {
             "outlinewidth": 0,
             "ticks": ""
            },
            "colorscale": [
             [
              0,
              "#0d0887"
             ],
             [
              0.1111111111111111,
              "#46039f"
             ],
             [
              0.2222222222222222,
              "#7201a8"
             ],
             [
              0.3333333333333333,
              "#9c179e"
             ],
             [
              0.4444444444444444,
              "#bd3786"
             ],
             [
              0.5555555555555556,
              "#d8576b"
             ],
             [
              0.6666666666666666,
              "#ed7953"
             ],
             [
              0.7777777777777778,
              "#fb9f3a"
             ],
             [
              0.8888888888888888,
              "#fdca26"
             ],
             [
              1,
              "#f0f921"
             ]
            ],
            "type": "histogram2d"
           }
          ],
          "histogram2dcontour": [
           {
            "colorbar": {
             "outlinewidth": 0,
             "ticks": ""
            },
            "colorscale": [
             [
              0,
              "#0d0887"
             ],
             [
              0.1111111111111111,
              "#46039f"
             ],
             [
              0.2222222222222222,
              "#7201a8"
             ],
             [
              0.3333333333333333,
              "#9c179e"
             ],
             [
              0.4444444444444444,
              "#bd3786"
             ],
             [
              0.5555555555555556,
              "#d8576b"
             ],
             [
              0.6666666666666666,
              "#ed7953"
             ],
             [
              0.7777777777777778,
              "#fb9f3a"
             ],
             [
              0.8888888888888888,
              "#fdca26"
             ],
             [
              1,
              "#f0f921"
             ]
            ],
            "type": "histogram2dcontour"
           }
          ],
          "mesh3d": [
           {
            "colorbar": {
             "outlinewidth": 0,
             "ticks": ""
            },
            "type": "mesh3d"
           }
          ],
          "parcoords": [
           {
            "line": {
             "colorbar": {
              "outlinewidth": 0,
              "ticks": ""
             }
            },
            "type": "parcoords"
           }
          ],
          "pie": [
           {
            "automargin": true,
            "type": "pie"
           }
          ],
          "scatter": [
           {
            "marker": {
             "colorbar": {
              "outlinewidth": 0,
              "ticks": ""
             }
            },
            "type": "scatter"
           }
          ],
          "scatter3d": [
           {
            "line": {
             "colorbar": {
              "outlinewidth": 0,
              "ticks": ""
             }
            },
            "marker": {
             "colorbar": {
              "outlinewidth": 0,
              "ticks": ""
             }
            },
            "type": "scatter3d"
           }
          ],
          "scattercarpet": [
           {
            "marker": {
             "colorbar": {
              "outlinewidth": 0,
              "ticks": ""
             }
            },
            "type": "scattercarpet"
           }
          ],
          "scattergeo": [
           {
            "marker": {
             "colorbar": {
              "outlinewidth": 0,
              "ticks": ""
             }
            },
            "type": "scattergeo"
           }
          ],
          "scattergl": [
           {
            "marker": {
             "colorbar": {
              "outlinewidth": 0,
              "ticks": ""
             }
            },
            "type": "scattergl"
           }
          ],
          "scattermapbox": [
           {
            "marker": {
             "colorbar": {
              "outlinewidth": 0,
              "ticks": ""
             }
            },
            "type": "scattermapbox"
           }
          ],
          "scatterpolar": [
           {
            "marker": {
             "colorbar": {
              "outlinewidth": 0,
              "ticks": ""
             }
            },
            "type": "scatterpolar"
           }
          ],
          "scatterpolargl": [
           {
            "marker": {
             "colorbar": {
              "outlinewidth": 0,
              "ticks": ""
             }
            },
            "type": "scatterpolargl"
           }
          ],
          "scatterternary": [
           {
            "marker": {
             "colorbar": {
              "outlinewidth": 0,
              "ticks": ""
             }
            },
            "type": "scatterternary"
           }
          ],
          "surface": [
           {
            "colorbar": {
             "outlinewidth": 0,
             "ticks": ""
            },
            "colorscale": [
             [
              0,
              "#0d0887"
             ],
             [
              0.1111111111111111,
              "#46039f"
             ],
             [
              0.2222222222222222,
              "#7201a8"
             ],
             [
              0.3333333333333333,
              "#9c179e"
             ],
             [
              0.4444444444444444,
              "#bd3786"
             ],
             [
              0.5555555555555556,
              "#d8576b"
             ],
             [
              0.6666666666666666,
              "#ed7953"
             ],
             [
              0.7777777777777778,
              "#fb9f3a"
             ],
             [
              0.8888888888888888,
              "#fdca26"
             ],
             [
              1,
              "#f0f921"
             ]
            ],
            "type": "surface"
           }
          ],
          "table": [
           {
            "cells": {
             "fill": {
              "color": "#EBF0F8"
             },
             "line": {
              "color": "white"
             }
            },
            "header": {
             "fill": {
              "color": "#C8D4E3"
             },
             "line": {
              "color": "white"
             }
            },
            "type": "table"
           }
          ]
         },
         "layout": {
          "annotationdefaults": {
           "arrowcolor": "#2a3f5f",
           "arrowhead": 0,
           "arrowwidth": 1
          },
          "autotypenumbers": "strict",
          "coloraxis": {
           "colorbar": {
            "outlinewidth": 0,
            "ticks": ""
           }
          },
          "colorscale": {
           "diverging": [
            [
             0,
             "#8e0152"
            ],
            [
             0.1,
             "#c51b7d"
            ],
            [
             0.2,
             "#de77ae"
            ],
            [
             0.3,
             "#f1b6da"
            ],
            [
             0.4,
             "#fde0ef"
            ],
            [
             0.5,
             "#f7f7f7"
            ],
            [
             0.6,
             "#e6f5d0"
            ],
            [
             0.7,
             "#b8e186"
            ],
            [
             0.8,
             "#7fbc41"
            ],
            [
             0.9,
             "#4d9221"
            ],
            [
             1,
             "#276419"
            ]
           ],
           "sequential": [
            [
             0,
             "#0d0887"
            ],
            [
             0.1111111111111111,
             "#46039f"
            ],
            [
             0.2222222222222222,
             "#7201a8"
            ],
            [
             0.3333333333333333,
             "#9c179e"
            ],
            [
             0.4444444444444444,
             "#bd3786"
            ],
            [
             0.5555555555555556,
             "#d8576b"
            ],
            [
             0.6666666666666666,
             "#ed7953"
            ],
            [
             0.7777777777777778,
             "#fb9f3a"
            ],
            [
             0.8888888888888888,
             "#fdca26"
            ],
            [
             1,
             "#f0f921"
            ]
           ],
           "sequentialminus": [
            [
             0,
             "#0d0887"
            ],
            [
             0.1111111111111111,
             "#46039f"
            ],
            [
             0.2222222222222222,
             "#7201a8"
            ],
            [
             0.3333333333333333,
             "#9c179e"
            ],
            [
             0.4444444444444444,
             "#bd3786"
            ],
            [
             0.5555555555555556,
             "#d8576b"
            ],
            [
             0.6666666666666666,
             "#ed7953"
            ],
            [
             0.7777777777777778,
             "#fb9f3a"
            ],
            [
             0.8888888888888888,
             "#fdca26"
            ],
            [
             1,
             "#f0f921"
            ]
           ]
          },
          "colorway": [
           "#636efa",
           "#EF553B",
           "#00cc96",
           "#ab63fa",
           "#FFA15A",
           "#19d3f3",
           "#FF6692",
           "#B6E880",
           "#FF97FF",
           "#FECB52"
          ],
          "font": {
           "color": "#2a3f5f"
          },
          "geo": {
           "bgcolor": "white",
           "lakecolor": "white",
           "landcolor": "#E5ECF6",
           "showlakes": true,
           "showland": true,
           "subunitcolor": "white"
          },
          "hoverlabel": {
           "align": "left"
          },
          "hovermode": "closest",
          "mapbox": {
           "style": "light"
          },
          "paper_bgcolor": "white",
          "plot_bgcolor": "#E5ECF6",
          "polar": {
           "angularaxis": {
            "gridcolor": "white",
            "linecolor": "white",
            "ticks": ""
           },
           "bgcolor": "#E5ECF6",
           "radialaxis": {
            "gridcolor": "white",
            "linecolor": "white",
            "ticks": ""
           }
          },
          "scene": {
           "xaxis": {
            "backgroundcolor": "#E5ECF6",
            "gridcolor": "white",
            "gridwidth": 2,
            "linecolor": "white",
            "showbackground": true,
            "ticks": "",
            "zerolinecolor": "white"
           },
           "yaxis": {
            "backgroundcolor": "#E5ECF6",
            "gridcolor": "white",
            "gridwidth": 2,
            "linecolor": "white",
            "showbackground": true,
            "ticks": "",
            "zerolinecolor": "white"
           },
           "zaxis": {
            "backgroundcolor": "#E5ECF6",
            "gridcolor": "white",
            "gridwidth": 2,
            "linecolor": "white",
            "showbackground": true,
            "ticks": "",
            "zerolinecolor": "white"
           }
          },
          "shapedefaults": {
           "line": {
            "color": "#2a3f5f"
           }
          },
          "ternary": {
           "aaxis": {
            "gridcolor": "white",
            "linecolor": "white",
            "ticks": ""
           },
           "baxis": {
            "gridcolor": "white",
            "linecolor": "white",
            "ticks": ""
           },
           "bgcolor": "#E5ECF6",
           "caxis": {
            "gridcolor": "white",
            "linecolor": "white",
            "ticks": ""
           }
          },
          "title": {
           "x": 0.05
          },
          "xaxis": {
           "automargin": true,
           "gridcolor": "white",
           "linecolor": "white",
           "ticks": "",
           "title": {
            "standoff": 15
           },
           "zerolinecolor": "white",
           "zerolinewidth": 2
          },
          "yaxis": {
           "automargin": true,
           "gridcolor": "white",
           "linecolor": "white",
           "ticks": "",
           "title": {
            "standoff": 15
           },
           "zerolinecolor": "white",
           "zerolinewidth": 2
          }
         }
        },
        "title": {
         "text": "surface"
        },
        "width": 500
       }
      }
     },
     "metadata": {},
     "output_type": "display_data"
    }
   ],
   "source": [
    "sh_0, sh_1 = A.shape\n",
    "fig = go.Figure()\n",
    "fig.add_surface(\n",
    "    # contours = {\n",
    "    #     \"x\": {\"show\": True, \"start\": 1.5, \"end\": 2, \"size\": 0.04, \"color\":\"white\"},\n",
    "    #     \"z\": {\"show\": True, \"start\": 0.5, \"end\": 0.8, \"size\": 0.05}\n",
    "    # },\n",
    "    x = np.linspace(a, b, sh_1),\n",
    "    y = np.linspace(0, T, sh_0),\n",
    "    z = U\n",
    "    )\n",
    "# fig.add_scatter3d(name='scat_p', x=np.linspace(a, b, sh_1), y=np.linspace(0, T, sh_0), z=U, mode='markers',\n",
    "#     marker=dict(size=10, color='black',colorscale='Reds'))\n",
    "# fig.update_layout(\n",
    "#         scene = {\n",
    "#             \"xaxis\": {\"nticks\": 20},\n",
    "#             \"zaxis\": {\"nticks\": 4},\n",
    "#             'camera_eye': {\"x\": 0, \"y\": -1, \"z\": 0.5},\n",
    "#             \"aspectratio\": {\"x\": 1, \"y\": 1, \"z\": 0.2}\n",
    "#         })\n",
    "fig.update_layout(title='surface', autosize=False,\n",
    "                  width=500, height=500,\n",
    "                  margin=dict(l=5, r=50, b=5, t=55))\n",
    "fig.show()"
   ]
  }
 ],
 "metadata": {
  "interpreter": {
   "hash": "670f886bb491df400b8a46c547cdac4d4234710212a6195cc7ddd83502d821f4"
  },
  "kernelspec": {
   "display_name": "Python 3.9.10 64-bit",
   "language": "python",
   "name": "python3"
  },
  "language_info": {
   "codemirror_mode": {
    "name": "ipython",
    "version": 3
   },
   "file_extension": ".py",
   "mimetype": "text/x-python",
   "name": "python",
   "nbconvert_exporter": "python",
   "pygments_lexer": "ipython3",
   "version": "3.9.10"
  },
  "orig_nbformat": 4
 },
 "nbformat": 4,
 "nbformat_minor": 2
}
