{
 "cells": [
  {
   "cell_type": "code",
   "execution_count": 106,
   "metadata": {},
   "outputs": [],
   "source": [
    "import numpy as np\n",
    "import matplotlib\n",
    "import matplotlib.pyplot as plt\n",
    "matplotlib.rcParams[\"figure.dpi\"] = 100\n",
    "import plotly.graph_objects as go\n",
    "from scipy.optimize import fsolve\n",
    "# import warnings\n",
    "# warnings.filterwarnings(\"error\")"
   ]
  },
  {
   "cell_type": "code",
   "execution_count": 107,
   "metadata": {},
   "outputs": [
    {
     "name": "stdout",
     "output_type": "stream",
     "text": [
      "[1. 1. 1. 1. 1.]\n"
     ]
    },
    {
     "data": {
      "text/plain": [
       "1.0"
      ]
     },
     "execution_count": 107,
     "metadata": {},
     "output_type": "execute_result"
    }
   ],
   "source": [
    "arr = np.ones(5)\n",
    "print(arr)\n",
    "i = 5\n",
    "np.sum(arr[4:])"
   ]
  },
  {
   "cell_type": "code",
   "execution_count": 51,
   "metadata": {},
   "outputs": [
    {
     "name": "stderr",
     "output_type": "stream",
     "text": [
      "c:\\Users\\stas2\\AppData\\Local\\Programs\\Python\\Python39\\lib\\site-packages\\scipy\\optimize\\_minpack_py.py:175: RuntimeWarning: The iteration is not making good progress, as measured by the \n",
      "  improvement from the last ten iterations.\n",
      "  warnings.warn(msg, RuntimeWarning)\n",
      "c:\\Users\\stas2\\AppData\\Local\\Programs\\Python\\Python39\\lib\\site-packages\\scipy\\optimize\\_minpack_py.py:175: RuntimeWarning: The iteration is not making good progress, as measured by the \n",
      "  improvement from the last five Jacobian evaluations.\n",
      "  warnings.warn(msg, RuntimeWarning)\n"
     ]
    }
   ],
   "source": [
    "T = 0.5\n",
    "\n",
    "a = 0\n",
    "b = 1\n",
    "\n",
    "h = 0.01\n",
    "tau = 0.01\n",
    "\n",
    "M = int(T/tau) + 1\n",
    "N = int((b-a)/h) + 1\n",
    "\n",
    "U = np.zeros((M, N))\n",
    "Q = np.zeros(N)\n",
    "Psi = np.ones(N-1)\n",
    "Psis = [Psi.copy()]\n",
    "\n",
    "Kuxt = lambda u, x, t: u**2\n",
    "K = lambda m, n: Kuxt(U[m][n], n*h, m*tau)\n",
    "\n",
    "for n in range(N):\n",
    "    U[0][n] = 0\n",
    "    # U[0][n] = -40*((n*h)-0.5)**2+10\n",
    "    # U[0][n] = 10*np.sin(10*n*h)\n",
    "\n",
    "for m in range(1, M):\n",
    "    def F(Q_m):\n",
    "        F_retuned = np.zeros(N)\n",
    "        F_retuned[0] = Q_m[0]\n",
    "        for i in range(1, N-1):\n",
    "            alpha = 0.001\n",
    "            A = (0.5-alpha)*Q_m[i-1]+(0.5+alpha)*Q_m[i+1]+h/tau*((0.5-alpha)*Psi[i-1] - (0.5+alpha)*Psi[i])\n",
    "            B = (0.5+alpha)*Q_m[i-1]+(0.5-alpha)*Q_m[i+1]+h/tau*((0.5+alpha)*Psi[i-1] - (0.5-alpha)*Psi[i])\n",
    "            if np.abs(U[m-1][i+1] - U[m-1][i-1]) < 0.0000001:\n",
    "                if (K(m-1, i+1)*(U[m-1][i+1] - U[m-1][i]) - \\\n",
    "                    K(m-1, i-1)*(U[m-1][i] - U[m-1][i-1])) * \\\n",
    "                    2/h/(Psi[i]+Psi[i-1]) * (U[m-1][i+1] - U[m-1][i-1]) < 0:\n",
    "                    F_retuned[i] = A - Q_m[i]\n",
    "                else:\n",
    "                    F_retuned[i] = B - Q_m[i]\n",
    "            else:\n",
    "                Q_counted = (K(m-1, i+1)*(U[m-1][i+1] - U[m-1][i]) - \\\n",
    "                        K(m-1, i-1)*(U[m-1][i] - U[m-1][i-1])) * \\\n",
    "                        2/h/(Psi[i]+Psi[i-1])/(U[m-1][i+1] - U[m-1][i-1])\n",
    "                if Q_counted < Q_m[i+1] - h/tau*Psi[i]:\n",
    "                    F_retuned[i] = A - Q_m[i]\n",
    "                elif Q_counted > Q_m[i-1] + h/tau*Psi[i-1]:\n",
    "                    F_retuned[i] = B - Q_m[i]\n",
    "                else:\n",
    "                    F_retuned[i] = Q_counted - Q_m[i]\n",
    "        F_retuned[N-1] = Q_m[N-1]\n",
    "        return F_retuned\n",
    "    Q = fsolve(F, h*np.ones(N))\n",
    "    # Q[0] = 0\n",
    "    # for i in range(1, N - 1):\n",
    "    #     # if np.abs(A[m-1][i+1] - A[m-1][i-1]) < 0.01 or np.abs(Psi[i]+Psi[i-1]) < 0.01:\n",
    "    #     #     Q[i] = (K(A[m-1][i+1], h*(i+1), tau*(m-1))*(A[m-1][i+1] - A[m-1][i]) - \\\n",
    "    #     #             K(A[m-1][i-1], h*(i-1), tau*(m-1))*(A[m-1][i] - A[m-1][i-1])) * \\\n",
    "    #     #             2/h/0.01/ 0.01\n",
    "    #     # else:\n",
    "    #     #     try:\n",
    "    #     #         Q[i] = (K(A[m-1][i+1], h*(i+1), tau*(m-1))*(A[m-1][i+1] - A[m-1][i]) - \\\n",
    "    #     #                 K(A[m-1][i-1], h*(i-1), tau*(m-1))*(A[m-1][i] - A[m-1][i-1])) * \\\n",
    "    #     #                 2/h/(Psi[i]+Psi[i-1])/(A[m-1][i+1] - A[m-1][i-1])\n",
    "    #     #     except:\n",
    "    #     #         pass\n",
    "    #     # if Psi[i-1] + tau/h*(Q[i-1]-Q[i]) < 0:\n",
    "    #     #     Q[i] = h/tau*Psi[i-1]/2 + Q[i-1]\n",
    "    #     # else:\n",
    "    #     #     Q[i] += h/tau*Psi[i-1]/2 + Q[i-1]\n",
    "    #     counted = (K(m-1, i+1)*(U[m-1][i+1] - U[m-1][i]) - \\\n",
    "    #                 K(m-1, i-1)*(U[m-1][i] - U[m-1][i-1])) * \\\n",
    "    #                 2/h/(Psi[i]+Psi[i-1])/(U[m-1][i+1] - U[m-1][i-1])\n",
    "    #     right =  h/tau*np.min(Psi[:i])\n",
    "    #     left = -h/tau*np.min(Psi[i:])\n",
    "    #     if left < counted < right:\n",
    "    #         Q[i] = counted\n",
    "    #     elif counted > right:\n",
    "    #         Q[i] = right/2\n",
    "    #     elif counted < left:\n",
    "    #         Q[i] = left/2\n",
    "    #     # Q[i] = (left+right)/2\n",
    "    #     # Q[i] = 0\n",
    "    # Q[N-1] = 0\n",
    "\n",
    "    Psi_next = np.ones(N-1)\n",
    "    for i in range(0, N-1):\n",
    "        Psi_next[i] = Psi[i] + tau/h*(Q[i]-Q[i+1])\n",
    "            \n",
    "    A = np.zeros((N, N))\n",
    "    B = np.zeros(N)\n",
    "    for n in range(0, N):\n",
    "        if n == 0:\n",
    "            A[n][0] = 1\n",
    "            B[n] = 1\n",
    "        elif n == N-1:\n",
    "            A[n][N-1] = 1\n",
    "            B[n] = 0\n",
    "        else:\n",
    "            Psi_nM1 = (Psi[n-2] + Psi[n-1])/2\n",
    "            Psi_n = (Psi[n-1] + Psi[n])/2\n",
    "            Psi_nP1 = (Psi[n] + Psi[n] if n == N-2 else 2*Psi[n+1])/2\n",
    "            Psi_n_next = (Psi_next[n-1] + Psi_next[n])/2\n",
    "            A[n][n-1] = tau/2/h**2*(K(m-1, n)/Psi_n+K(m-1, n-1)/Psi_nM1)\n",
    "            A[n][n] = -(Psi_n_next+tau/2/h**2*(K(m-1, n+1)/Psi_nP1+2*K(m-1, n)/Psi_n+K(m-1, n-1)/Psi_nM1))\n",
    "            A[n][n+1] = tau/2/h**2*(K(m-1, n+1)/Psi_nP1+K(m-1, n)/Psi_n)\n",
    "            B[n] = tau/h*(Q[n+1]*U[m-1][n+1]-Q[n]*U[m-1][n])-Psi_n*U[m-1][n]\n",
    "        \n",
    "    X = np.linalg.inv(A).dot(B)\n",
    "    U[m] = X\n",
    "\n",
    "    Psi = Psi_next.copy()\n",
    "    \n",
    "    Psis.append(Psi.copy())"
   ]
  },
  {
   "cell_type": "code",
   "execution_count": 31,
   "metadata": {},
   "outputs": [
    {
     "data": {
      "text/plain": [
       "array([0.11332801, 0.10888377, 0.10461382, 0.10888377, 0.11332801,\n",
       "       0.10888377, 0.11332801, 0.11795364, 0.11332801, 0.10888377,\n",
       "       0.11332801, 0.11795364, 0.12276807, 0.12777902, 0.13299449,\n",
       "       0.13842283, 0.14407274, 0.14995327, 0.15607381, 0.16244417,\n",
       "       0.16907454, 0.17597554, 0.18315822, 0.19063406, 0.19841504,\n",
       "       0.20651362, 0.21494275, 0.22371592, 0.23284718, 0.24235115,\n",
       "       0.25224303, 0.26253866, 0.27325453, 0.28440777, 0.29601625,\n",
       "       0.30809855, 0.320674  , 0.33376274, 0.34738571, 0.36156471,\n",
       "       0.37632246, 0.39168256, 0.4076696 , 0.42430918, 0.44162792,\n",
       "       0.45965355, 0.47841492, 0.49794206, 0.51826622, 0.53941995,\n",
       "       0.56143709, 0.58435289, 0.60820402, 0.63302868, 0.65886658,\n",
       "       0.6857591 , 0.71374926, 0.74288189, 0.7732036 , 0.80476293,\n",
       "       0.83761039, 0.87179857, 0.90738219, 0.9444182 , 0.98296588,\n",
       "       1.02308693, 1.06484558, 1.10830867, 1.15354576, 1.20062926,\n",
       "       1.24963453, 1.30064002, 1.35372737, 1.40898155, 1.466491  ,\n",
       "       1.52634778, 1.58864769, 1.65349045, 1.72097985, 1.79122393,\n",
       "       1.86433511, 1.94043042, 2.01963166, 2.10206561, 2.18786421,\n",
       "       2.27716478, 2.37011029, 2.46684948, 2.56753722, 2.67233465,\n",
       "       2.78140954, 2.89493646, 3.01309713, 3.13608068, 3.26408398,\n",
       "       3.3973119 , 3.53597769, 3.68030331, 3.83051977, 3.98686751])"
      ]
     },
     "execution_count": 31,
     "metadata": {},
     "output_type": "execute_result"
    }
   ],
   "source": [
    "Psi"
   ]
  },
  {
   "cell_type": "code",
   "execution_count": 52,
   "metadata": {},
   "outputs": [
    {
     "data": {
      "image/png": "[encoded data removed]",
      "image/svg+xml": "<?xml version=\"1.0\" encoding=\"utf-8\" standalone=\"no\"?>\n<!DOCTYPE svg PUBLIC \"-//W3C//DTD SVG 1.1//EN\"\n  \"http://www.w3.org/Graphics/SVG/1.1/DTD/svg11.dtd\">\n<svg xmlns:xlink=\"http://www.w3.org/1999/xlink\" width=\"372.103125pt\" height=\"248.518125pt\" viewBox=\"0 0 372.103125 248.518125\" xmlns=\"http://www.w3.org/2000/svg\" version=\"1.1\">\n <metadata>\n  <rdf:RDF xmlns:dc=\"http://purl.org/dc/elements/1.1/\" xmlns:cc=\"http://creativecommons.org/ns#\" xmlns:rdf=\"http://www.w3.org/1999/02/22-rdf-syntax-ns#\">\n   <cc:Work>\n    <dc:type rdf:resource=\"http://purl.org/dc/dcmitype/StillImage\"/>\n    <dc:date>2022-05-18T15:54:26.238171</dc:date>\n    <dc:format>image/svg+xml</dc:format>\n    <dc:creator>\n     <cc:Agent>\n      <dc:title>Matplotlib v3.5.1, https://matplotlib.org/</dc:title>\n     </cc:Agent>\n    </dc:creator>\n   </cc:Work>\n  </rdf:RDF>\n </metadata>\n <defs>\n  <style type=\"text/css\">*{stroke-linejoin: round; stroke-linecap: butt}</style>\n </defs>\n <g id=\"figure_1\">\n  <g id=\"patch_1\">\n   <path d=\"M 0 248.518125 \nL 372.103125 248.518125 \nL 372.103125 0 \nL 0 0 \nL 0 248.518125 \nz\n\" style=\"fill: none\"/>\n  </g>\n  <g id=\"axes_1\">\n   <g id=\"patch_2\">\n    <path d=\"M 30.103125 224.64 \nL 364.903125 224.64 \nL 364.903125 7.2 \nL 30.103125 7.2 \nz\n\" style=\"fill: #ffffff\"/>\n   </g>\n   <g id=\"matplotlib.axis_1\">\n    <g id=\"xtick_1\">\n     <g id=\"line2d_1\">\n      <defs>\n       <path id=\"mc9d6da1b3e\" d=\"M 0 0 \nL 0 3.5 \n\" style=\"stroke: #000000; stroke-width: 0.8\"/>\n      </defs>\n      <g>\n       <use xlink:href=\"#mc9d6da1b3e\" x=\"45.321307\" y=\"224.64\" style=\"stroke: #000000; stroke-width: 0.8\"/>\n      </g>\n     </g>\n     <g id=\"text_1\">\n      <!-- 0.0 -->\n      <g transform=\"translate(37.369744 239.238437)scale(0.1 -0.1)\">\n       <defs>\n        <path id=\"DejaVuSans-30\" d=\"M 2034 4250 \nQ 1547 4250 1301 3770 \nQ 1056 3291 1056 2328 \nQ 1056 1369 1301 889 \nQ 1547 409 2034 409 \nQ 2525 409 2770 889 \nQ 3016 1369 3016 2328 \nQ 3016 3291 2770 3770 \nQ 2525 4250 2034 4250 \nz\nM 2034 4750 \nQ 2819 4750 3233 4129 \nQ 3647 3509 3647 2328 \nQ 3647 1150 3233 529 \nQ 2819 -91 2034 -91 \nQ 1250 -91 836 529 \nQ 422 1150 422 2328 \nQ 422 3509 836 4129 \nQ 1250 4750 2034 4750 \nz\n\" transform=\"scale(0.015625)\"/>\n        <path id=\"DejaVuSans-2e\" d=\"M 684 794 \nL 1344 794 \nL 1344 0 \nL 684 0 \nL 684 794 \nz\n\" transform=\"scale(0.015625)\"/>\n       </defs>\n       <use xlink:href=\"#DejaVuSans-30\"/>\n       <use xlink:href=\"#DejaVuSans-2e\" x=\"63.623047\"/>\n       <use xlink:href=\"#DejaVuSans-30\" x=\"95.410156\"/>\n      </g>\n     </g>\n    </g>\n    <g id=\"xtick_2\">\n     <g id=\"line2d_2\">\n      <g>\n       <use xlink:href=\"#mc9d6da1b3e\" x=\"106.194034\" y=\"224.64\" style=\"stroke: #000000; stroke-width: 0.8\"/>\n      </g>\n     </g>\n     <g id=\"text_2\">\n      <!-- 0.2 -->\n      <g transform=\"translate(98.242472 239.238437)scale(0.1 -0.1)\">\n       <defs>\n        <path id=\"DejaVuSans-32\" d=\"M 1228 531 \nL 3431 531 \nL 3431 0 \nL 469 0 \nL 469 531 \nQ 828 903 1448 1529 \nQ 2069 2156 2228 2338 \nQ 2531 2678 2651 2914 \nQ 2772 3150 2772 3378 \nQ 2772 3750 2511 3984 \nQ 2250 4219 1831 4219 \nQ 1534 4219 1204 4116 \nQ 875 4013 500 3803 \nL 500 4441 \nQ 881 4594 1212 4672 \nQ 1544 4750 1819 4750 \nQ 2544 4750 2975 4387 \nQ 3406 4025 3406 3419 \nQ 3406 3131 3298 2873 \nQ 3191 2616 2906 2266 \nQ 2828 2175 2409 1742 \nQ 1991 1309 1228 531 \nz\n\" transform=\"scale(0.015625)\"/>\n       </defs>\n       <use xlink:href=\"#DejaVuSans-30\"/>\n       <use xlink:href=\"#DejaVuSans-2e\" x=\"63.623047\"/>\n       <use xlink:href=\"#DejaVuSans-32\" x=\"95.410156\"/>\n      </g>\n     </g>\n    </g>\n    <g id=\"xtick_3\">\n     <g id=\"line2d_3\">\n      <g>\n       <use xlink:href=\"#mc9d6da1b3e\" x=\"167.066761\" y=\"224.64\" style=\"stroke: #000000; stroke-width: 0.8\"/>\n      </g>\n     </g>\n     <g id=\"text_3\">\n      <!-- 0.4 -->\n      <g transform=\"translate(159.115199 239.238437)scale(0.1 -0.1)\">\n       <defs>\n        <path id=\"DejaVuSans-34\" d=\"M 2419 4116 \nL 825 1625 \nL 2419 1625 \nL 2419 4116 \nz\nM 2253 4666 \nL 3047 4666 \nL 3047 1625 \nL 3713 1625 \nL 3713 1100 \nL 3047 1100 \nL 3047 0 \nL 2419 0 \nL 2419 1100 \nL 313 1100 \nL 313 1709 \nL 2253 4666 \nz\n\" transform=\"scale(0.015625)\"/>\n       </defs>\n       <use xlink:href=\"#DejaVuSans-30\"/>\n       <use xlink:href=\"#DejaVuSans-2e\" x=\"63.623047\"/>\n       <use xlink:href=\"#DejaVuSans-34\" x=\"95.410156\"/>\n      </g>\n     </g>\n    </g>\n    <g id=\"xtick_4\">\n     <g id=\"line2d_4\">\n      <g>\n       <use xlink:href=\"#mc9d6da1b3e\" x=\"227.939489\" y=\"224.64\" style=\"stroke: #000000; stroke-width: 0.8\"/>\n      </g>\n     </g>\n     <g id=\"text_4\">\n      <!-- 0.6 -->\n      <g transform=\"translate(219.987926 239.238437)scale(0.1 -0.1)\">\n       <defs>\n        <path id=\"DejaVuSans-36\" d=\"M 2113 2584 \nQ 1688 2584 1439 2293 \nQ 1191 2003 1191 1497 \nQ 1191 994 1439 701 \nQ 1688 409 2113 409 \nQ 2538 409 2786 701 \nQ 3034 994 3034 1497 \nQ 3034 2003 2786 2293 \nQ 2538 2584 2113 2584 \nz\nM 3366 4563 \nL 3366 3988 \nQ 3128 4100 2886 4159 \nQ 2644 4219 2406 4219 \nQ 1781 4219 1451 3797 \nQ 1122 3375 1075 2522 \nQ 1259 2794 1537 2939 \nQ 1816 3084 2150 3084 \nQ 2853 3084 3261 2657 \nQ 3669 2231 3669 1497 \nQ 3669 778 3244 343 \nQ 2819 -91 2113 -91 \nQ 1303 -91 875 529 \nQ 447 1150 447 2328 \nQ 447 3434 972 4092 \nQ 1497 4750 2381 4750 \nQ 2619 4750 2861 4703 \nQ 3103 4656 3366 4563 \nz\n\" transform=\"scale(0.015625)\"/>\n       </defs>\n       <use xlink:href=\"#DejaVuSans-30\"/>\n       <use xlink:href=\"#DejaVuSans-2e\" x=\"63.623047\"/>\n       <use xlink:href=\"#DejaVuSans-36\" x=\"95.410156\"/>\n      </g>\n     </g>\n    </g>\n    <g id=\"xtick_5\">\n     <g id=\"line2d_5\">\n      <g>\n       <use xlink:href=\"#mc9d6da1b3e\" x=\"288.812216\" y=\"224.64\" style=\"stroke: #000000; stroke-width: 0.8\"/>\n      </g>\n     </g>\n     <g id=\"text_5\">\n      <!-- 0.8 -->\n      <g transform=\"translate(280.860653 239.238437)scale(0.1 -0.1)\">\n       <defs>\n        <path id=\"DejaVuSans-38\" d=\"M 2034 2216 \nQ 1584 2216 1326 1975 \nQ 1069 1734 1069 1313 \nQ 1069 891 1326 650 \nQ 1584 409 2034 409 \nQ 2484 409 2743 651 \nQ 3003 894 3003 1313 \nQ 3003 1734 2745 1975 \nQ 2488 2216 2034 2216 \nz\nM 1403 2484 \nQ 997 2584 770 2862 \nQ 544 3141 544 3541 \nQ 544 4100 942 4425 \nQ 1341 4750 2034 4750 \nQ 2731 4750 3128 4425 \nQ 3525 4100 3525 3541 \nQ 3525 3141 3298 2862 \nQ 3072 2584 2669 2484 \nQ 3125 2378 3379 2068 \nQ 3634 1759 3634 1313 \nQ 3634 634 3220 271 \nQ 2806 -91 2034 -91 \nQ 1263 -91 848 271 \nQ 434 634 434 1313 \nQ 434 1759 690 2068 \nQ 947 2378 1403 2484 \nz\nM 1172 3481 \nQ 1172 3119 1398 2916 \nQ 1625 2713 2034 2713 \nQ 2441 2713 2670 2916 \nQ 2900 3119 2900 3481 \nQ 2900 3844 2670 4047 \nQ 2441 4250 2034 4250 \nQ 1625 4250 1398 4047 \nQ 1172 3844 1172 3481 \nz\n\" transform=\"scale(0.015625)\"/>\n       </defs>\n       <use xlink:href=\"#DejaVuSans-30\"/>\n       <use xlink:href=\"#DejaVuSans-2e\" x=\"63.623047\"/>\n       <use xlink:href=\"#DejaVuSans-38\" x=\"95.410156\"/>\n      </g>\n     </g>\n    </g>\n    <g id=\"xtick_6\">\n     <g id=\"line2d_6\">\n      <g>\n       <use xlink:href=\"#mc9d6da1b3e\" x=\"349.684943\" y=\"224.64\" style=\"stroke: #000000; stroke-width: 0.8\"/>\n      </g>\n     </g>\n     <g id=\"text_6\">\n      <!-- 1.0 -->\n      <g transform=\"translate(341.733381 239.238437)scale(0.1 -0.1)\">\n       <defs>\n        <path id=\"DejaVuSans-31\" d=\"M 794 531 \nL 1825 531 \nL 1825 4091 \nL 703 3866 \nL 703 4441 \nL 1819 4666 \nL 2450 4666 \nL 2450 531 \nL 3481 531 \nL 3481 0 \nL 794 0 \nL 794 531 \nz\n\" transform=\"scale(0.015625)\"/>\n       </defs>\n       <use xlink:href=\"#DejaVuSans-31\"/>\n       <use xlink:href=\"#DejaVuSans-2e\" x=\"63.623047\"/>\n       <use xlink:href=\"#DejaVuSans-30\" x=\"95.410156\"/>\n      </g>\n     </g>\n    </g>\n   </g>\n   <g id=\"matplotlib.axis_2\">\n    <g id=\"ytick_1\">\n     <g id=\"line2d_7\">\n      <defs>\n       <path id=\"m54c3806d41\" d=\"M 0 0 \nL -3.5 0 \n\" style=\"stroke: #000000; stroke-width: 0.8\"/>\n      </defs>\n      <g>\n       <use xlink:href=\"#m54c3806d41\" x=\"30.103125\" y=\"214.756364\" style=\"stroke: #000000; stroke-width: 0.8\"/>\n      </g>\n     </g>\n     <g id=\"text_7\">\n      <!-- 0.0 -->\n      <g transform=\"translate(7.2 218.555582)scale(0.1 -0.1)\">\n       <use xlink:href=\"#DejaVuSans-30\"/>\n       <use xlink:href=\"#DejaVuSans-2e\" x=\"63.623047\"/>\n       <use xlink:href=\"#DejaVuSans-30\" x=\"95.410156\"/>\n      </g>\n     </g>\n    </g>\n    <g id=\"ytick_2\">\n     <g id=\"line2d_8\">\n      <g>\n       <use xlink:href=\"#m54c3806d41\" x=\"30.103125\" y=\"175.221818\" style=\"stroke: #000000; stroke-width: 0.8\"/>\n      </g>\n     </g>\n     <g id=\"text_8\">\n      <!-- 0.1 -->\n      <g transform=\"translate(7.2 179.021037)scale(0.1 -0.1)\">\n       <use xlink:href=\"#DejaVuSans-30\"/>\n       <use xlink:href=\"#DejaVuSans-2e\" x=\"63.623047\"/>\n       <use xlink:href=\"#DejaVuSans-31\" x=\"95.410156\"/>\n      </g>\n     </g>\n    </g>\n    <g id=\"ytick_3\">\n     <g id=\"line2d_9\">\n      <g>\n       <use xlink:href=\"#m54c3806d41\" x=\"30.103125\" y=\"135.687273\" style=\"stroke: #000000; stroke-width: 0.8\"/>\n      </g>\n     </g>\n     <g id=\"text_9\">\n      <!-- 0.2 -->\n      <g transform=\"translate(7.2 139.486491)scale(0.1 -0.1)\">\n       <use xlink:href=\"#DejaVuSans-30\"/>\n       <use xlink:href=\"#DejaVuSans-2e\" x=\"63.623047\"/>\n       <use xlink:href=\"#DejaVuSans-32\" x=\"95.410156\"/>\n      </g>\n     </g>\n    </g>\n    <g id=\"ytick_4\">\n     <g id=\"line2d_10\">\n      <g>\n       <use xlink:href=\"#m54c3806d41\" x=\"30.103125\" y=\"96.152727\" style=\"stroke: #000000; stroke-width: 0.8\"/>\n      </g>\n     </g>\n     <g id=\"text_10\">\n      <!-- 0.3 -->\n      <g transform=\"translate(7.2 99.951946)scale(0.1 -0.1)\">\n       <defs>\n        <path id=\"DejaVuSans-33\" d=\"M 2597 2516 \nQ 3050 2419 3304 2112 \nQ 3559 1806 3559 1356 \nQ 3559 666 3084 287 \nQ 2609 -91 1734 -91 \nQ 1441 -91 1130 -33 \nQ 819 25 488 141 \nL 488 750 \nQ 750 597 1062 519 \nQ 1375 441 1716 441 \nQ 2309 441 2620 675 \nQ 2931 909 2931 1356 \nQ 2931 1769 2642 2001 \nQ 2353 2234 1838 2234 \nL 1294 2234 \nL 1294 2753 \nL 1863 2753 \nQ 2328 2753 2575 2939 \nQ 2822 3125 2822 3475 \nQ 2822 3834 2567 4026 \nQ 2313 4219 1838 4219 \nQ 1578 4219 1281 4162 \nQ 984 4106 628 3988 \nL 628 4550 \nQ 988 4650 1302 4700 \nQ 1616 4750 1894 4750 \nQ 2613 4750 3031 4423 \nQ 3450 4097 3450 3541 \nQ 3450 3153 3228 2886 \nQ 3006 2619 2597 2516 \nz\n\" transform=\"scale(0.015625)\"/>\n       </defs>\n       <use xlink:href=\"#DejaVuSans-30\"/>\n       <use xlink:href=\"#DejaVuSans-2e\" x=\"63.623047\"/>\n       <use xlink:href=\"#DejaVuSans-33\" x=\"95.410156\"/>\n      </g>\n     </g>\n    </g>\n    <g id=\"ytick_5\">\n     <g id=\"line2d_11\">\n      <g>\n       <use xlink:href=\"#m54c3806d41\" x=\"30.103125\" y=\"56.618182\" style=\"stroke: #000000; stroke-width: 0.8\"/>\n      </g>\n     </g>\n     <g id=\"text_11\">\n      <!-- 0.4 -->\n      <g transform=\"translate(7.2 60.417401)scale(0.1 -0.1)\">\n       <use xlink:href=\"#DejaVuSans-30\"/>\n       <use xlink:href=\"#DejaVuSans-2e\" x=\"63.623047\"/>\n       <use xlink:href=\"#DejaVuSans-34\" x=\"95.410156\"/>\n      </g>\n     </g>\n    </g>\n    <g id=\"ytick_6\">\n     <g id=\"line2d_12\">\n      <g>\n       <use xlink:href=\"#m54c3806d41\" x=\"30.103125\" y=\"17.083636\" style=\"stroke: #000000; stroke-width: 0.8\"/>\n      </g>\n     </g>\n     <g id=\"text_12\">\n      <!-- 0.5 -->\n      <g transform=\"translate(7.2 20.882855)scale(0.1 -0.1)\">\n       <defs>\n        <path id=\"DejaVuSans-35\" d=\"M 691 4666 \nL 3169 4666 \nL 3169 4134 \nL 1269 4134 \nL 1269 2991 \nQ 1406 3038 1543 3061 \nQ 1681 3084 1819 3084 \nQ 2600 3084 3056 2656 \nQ 3513 2228 3513 1497 \nQ 3513 744 3044 326 \nQ 2575 -91 1722 -91 \nQ 1428 -91 1123 -41 \nQ 819 9 494 109 \nL 494 744 \nQ 775 591 1075 516 \nQ 1375 441 1709 441 \nQ 2250 441 2565 725 \nQ 2881 1009 2881 1497 \nQ 2881 1984 2565 2268 \nQ 2250 2553 1709 2553 \nQ 1456 2553 1204 2497 \nQ 953 2441 691 2322 \nL 691 4666 \nz\n\" transform=\"scale(0.015625)\"/>\n       </defs>\n       <use xlink:href=\"#DejaVuSans-30\"/>\n       <use xlink:href=\"#DejaVuSans-2e\" x=\"63.623047\"/>\n       <use xlink:href=\"#DejaVuSans-35\" x=\"95.410156\"/>\n      </g>\n     </g>\n    </g>\n   </g>\n   <g id=\"line2d_13\">\n    <path d=\"M 45.321307 214.756364 \nL 45.321307 210.802909 \nL 45.321307 206.849455 \nL 45.321307 202.896 \nL 45.321307 198.942545 \nL 45.321307 194.989091 \nL 45.321307 191.035636 \nL 45.321307 187.082182 \nL 45.321307 183.128727 \nL 45.321307 179.175273 \nL 45.321307 175.221818 \nL 45.321307 171.268364 \nL 45.321307 167.314909 \nL 45.321307 163.361455 \nL 45.321307 159.408 \nL 45.321307 155.454545 \nL 45.321307 151.501091 \nL 45.321307 147.547636 \nL 45.321307 143.594182 \nL 45.321307 139.640727 \nL 45.321307 135.687273 \nL 45.321307 131.733818 \nL 45.321307 127.780364 \nL 45.321307 123.826909 \nL 45.321307 119.873455 \nL 45.321307 115.92 \nL 45.321307 111.966545 \nL 45.321307 108.013091 \nL 45.321307 104.059636 \nL 45.321307 100.106182 \nL 45.321307 96.152727 \nL 45.321307 92.199273 \nL 45.321307 88.245818 \nL 45.321307 84.292364 \nL 45.321307 80.338909 \nL 45.321307 76.385455 \nL 45.321307 72.432 \nL 45.321307 68.478545 \nL 45.321307 64.525091 \nL 45.321307 60.571636 \nL 45.321307 56.618182 \nL 45.321307 52.664727 \nL 45.321307 48.711273 \nL 45.321307 44.757818 \nL 45.321307 40.804364 \nL 45.321307 36.850909 \nL 45.321307 32.897455 \nL 45.321307 28.944 \nL 45.321307 24.990545 \nL 45.321307 21.037091 \nL 45.321307 17.083636 \n\" clip-path=\"url(#pb624a29358)\" style=\"fill: none; stroke: #1f77b4; stroke-width: 1.5; stroke-linecap: square\"/>\n   </g>\n   <g id=\"line2d_14\">\n    <path d=\"M 48.364943 214.756364 \nL 47.801647 210.802909 \nL 47.821405 206.849455 \nL 47.841154 202.896 \nL 47.840821 198.942545 \nL 47.860553 194.989091 \nL 48.451684 191.035636 \nL 47.899953 187.082182 \nL 47.89926 183.128727 \nL 49.136212 179.175273 \nL 48.352848 175.221818 \nL 48.188919 171.268364 \nL 48.431086 167.314909 \nL 47.997139 163.361455 \nL 49.161206 159.408 \nL 49.079411 155.454545 \nL 48.525317 151.501091 \nL 48.756064 147.547636 \nL 49.017158 143.594182 \nL 48.96525 139.640727 \nL 49.624225 135.687273 \nL 49.987139 131.733818 \nL 51.105565 127.780364 \nL 49.876935 123.826909 \nL 48.994413 119.873455 \nL 48.409158 115.92 \nL 49.736642 111.966545 \nL 48.205152 108.013091 \nL 48.095947 104.059636 \nL 49.599001 100.106182 \nL 48.438876 96.152727 \nL 48.165815 92.199273 \nL 48.243083 88.245818 \nL 47.583319 84.292364 \nL 48.392618 80.338909 \nL 49.283059 76.385455 \nL 50.419462 72.432 \nL 51.239954 68.478545 \nL 49.792066 64.525091 \nL 50.824341 60.571636 \nL 48.178121 56.618182 \nL 50.940495 52.664727 \nL 51.927007 48.711273 \nL 49.207361 44.757818 \nL 50.303787 40.804364 \nL 51.312826 36.850909 \nL 48.921041 32.897455 \nL 48.630978 28.944 \nL 49.163869 24.990545 \nL 49.65123 21.037091 \nL 48.992389 17.083636 \n\" clip-path=\"url(#pb624a29358)\" style=\"fill: none; stroke: #ff7f0e; stroke-width: 1.5; stroke-linecap: square\"/>\n   </g>\n   <g id=\"line2d_15\">\n    <path d=\"M 51.40858 214.756364 \nL 50.291928 210.802909 \nL 50.311523 206.849455 \nL 50.350943 202.896 \nL 50.370434 198.942545 \nL 50.389662 194.989091 \nL 51.569565 191.035636 \nL 50.468306 187.082182 \nL 50.466922 183.128727 \nL 52.935888 179.175273 \nL 51.372288 175.221818 \nL 51.045083 171.268364 \nL 51.528451 167.314909 \nL 50.662289 163.361455 \nL 52.985776 159.408 \nL 52.567285 155.454545 \nL 51.716536 151.501091 \nL 52.177109 147.547636 \nL 52.698256 143.594182 \nL 52.594647 139.640727 \nL 52.407949 135.687273 \nL 54.634346 131.733818 \nL 53.609868 127.780364 \nL 54.414376 123.826909 \nL 52.682241 119.873455 \nL 51.479179 115.92 \nL 52.293807 111.966545 \nL 51.077485 108.013091 \nL 50.881708 104.059636 \nL 53.859619 100.106182 \nL 51.543999 96.152727 \nL 50.998968 92.199273 \nL 51.303327 88.245818 \nL 49.808393 84.292364 \nL 51.471369 80.338909 \nL 53.228996 76.385455 \nL 55.497265 72.432 \nL 54.517096 68.478545 \nL 54.244977 64.525091 \nL 56.348555 60.571636 \nL 59.779826 56.618182 \nL 56.582205 52.664727 \nL 58.506337 48.711273 \nL 62.376653 44.757818 \nL 55.306237 40.804364 \nL 57.280426 36.850909 \nL 61.239074 32.897455 \nL 51.953915 28.944 \nL 52.991093 24.990545 \nL 53.963868 21.037091 \nL 51.813963 17.083636 \n\" clip-path=\"url(#pb624a29358)\" style=\"fill: none; stroke: #2ca02c; stroke-width: 1.5; stroke-linecap: square\"/>\n   </g>\n   <g id=\"line2d_16\">\n    <path d=\"M 54.452216 214.756364 \nL 52.79219 210.802909 \nL 52.811622 206.849455 \nL 52.850712 202.896 \nL 52.889949 198.942545 \nL 52.928907 194.989091 \nL 54.098457 191.035636 \nL 53.026406 187.082182 \nL 53.044876 183.128727 \nL 55.275115 179.175273 \nL 54.379674 175.221818 \nL 53.889846 171.268364 \nL 54.613452 167.314909 \nL 53.3168 163.361455 \nL 55.730557 159.408 \nL 55.601209 155.454545 \nL 54.895016 151.501091 \nL 55.584497 147.547636 \nL 56.364659 143.594182 \nL 56.209555 139.640727 \nL 55.18056 135.687273 \nL 57.176824 131.733818 \nL 56.14654 127.780364 \nL 58.970004 123.826909 \nL 56.355348 119.873455 \nL 54.471542 115.92 \nL 54.840764 111.966545 \nL 53.938352 108.013091 \nL 53.656348 104.059636 \nL 56.674856 100.106182 \nL 54.636727 96.152727 \nL 53.920805 92.199273 \nL 54.082311 88.245818 \nL 51.994814 84.292364 \nL 54.601088 80.338909 \nL 57.190748 76.385455 \nL 58.608083 72.432 \nL 57.790926 68.478545 \nL 58.715736 64.525091 \nL 61.849806 60.571636 \nL 63.442376 56.618182 \nL 62.201394 52.664727 \nL 65.112038 48.711273 \nL 69.587534 44.757818 \nL 60.288717 40.804364 \nL 63.271945 36.850909 \nL 64.552484 32.897455 \nL 55.263586 28.944 \nL 56.833663 24.990545 \nL 58.358946 21.037091 \nL 54.509499 17.083636 \n\" clip-path=\"url(#pb624a29358)\" style=\"fill: none; stroke: #d62728; stroke-width: 1.5; stroke-linecap: square\"/>\n   </g>\n   <g id=\"line2d_17\">\n    <path d=\"M 57.495852 214.756364 \nL 55.302473 210.802909 \nL 55.321741 206.849455 \nL 55.3605 202.896 \nL 55.399405 198.942545 \nL 55.458016 194.989091 \nL 56.637486 191.035636 \nL 55.574294 187.082182 \nL 55.612538 183.128727 \nL 56.53654 179.175273 \nL 57.375054 175.221818 \nL 56.723252 171.268364 \nL 57.686137 167.314909 \nL 55.960714 163.361455 \nL 58.057165 159.408 \nL 58.182663 155.454545 \nL 58.060807 151.501091 \nL 58.978283 147.547636 \nL 60.016425 143.594182 \nL 59.810032 139.640727 \nL 57.942102 135.687273 \nL 59.932951 131.733818 \nL 59.649221 127.780364 \nL 61.976846 123.826909 \nL 60.013791 119.873455 \nL 57.401121 115.92 \nL 57.377553 111.966545 \nL 56.787798 108.013091 \nL 56.419911 104.059636 \nL 59.312509 100.106182 \nL 57.717109 96.152727 \nL 56.830977 92.199273 \nL 57.010122 88.245818 \nL 55.585397 84.292364 \nL 57.779514 80.338909 \nL 59.638181 76.385455 \nL 61.706482 72.432 \nL 61.107858 68.478545 \nL 63.168648 64.525091 \nL 65.014099 60.571636 \nL 67.090306 56.618182 \nL 67.843104 52.664727 \nL 71.691368 48.711273 \nL 72.399384 44.757818 \nL 65.251307 40.804364 \nL 66.220596 36.850909 \nL 67.852943 32.897455 \nL 58.586523 28.944 \nL 60.660815 24.990545 \nL 63.265816 21.037091 \nL 58.09059 17.083636 \n\" clip-path=\"url(#pb624a29358)\" style=\"fill: none; stroke: #9467bd; stroke-width: 1.5; stroke-linecap: square\"/>\n   </g>\n   <g id=\"line2d_18\">\n    <path d=\"M 60.539489 214.756364 \nL 57.822817 210.802909 \nL 57.84192 206.849455 \nL 57.880348 202.896 \nL 57.91892 198.942545 \nL 57.977029 194.989091 \nL 59.166379 191.035636 \nL 58.132394 187.082182 \nL 58.16995 183.128727 \nL 57.792929 179.175273 \nL 59.357177 175.221818 \nL 59.545347 171.268364 \nL 60.746556 167.314909 \nL 58.594074 163.361455 \nL 60.374485 159.408 \nL 60.690264 155.454545 \nL 61.213961 151.501091 \nL 59.60593 147.547636 \nL 63.653613 143.594182 \nL 63.42494 139.640727 \nL 60.692621 135.687273 \nL 62.678317 131.733818 \nL 62.501915 127.780364 \nL 64.971684 123.826909 \nL 62.716168 119.873455 \nL 60.239767 115.92 \nL 59.92451 111.966545 \nL 59.625869 108.013091 \nL 59.172443 104.059636 \nL 61.944057 100.106182 \nL 60.785194 96.152727 \nL 59.729533 92.199273 \nL 59.955954 88.245818 \nL 59.136345 84.292364 \nL 62.541322 80.338909 \nL 62.095423 76.385455 \nL 64.792512 72.432 \nL 64.464455 68.478545 \nL 66.144341 64.525091 \nL 68.16495 60.571636 \nL 70.752856 56.618182 \nL 73.462292 52.664727 \nL 74.525243 48.711273 \nL 75.200008 44.757818 \nL 70.233788 40.804364 \nL 69.157477 36.850909 \nL 70.291148 32.897455 \nL 61.896195 28.944 \nL 64.468197 24.990545 \nL 67.157406 21.037091 \nL 61.432419 17.083636 \n\" clip-path=\"url(#pb624a29358)\" style=\"fill: none; stroke: #8c564b; stroke-width: 1.5; stroke-linecap: square\"/>\n   </g>\n   <g id=\"line2d_19\">\n    <path d=\"M 63.583125 214.756364 \nL 60.353263 210.802909 \nL 60.372201 206.849455 \nL 60.410295 202.896 \nL 60.448533 198.942545 \nL 60.506138 194.989091 \nL 61.685176 191.035636 \nL 60.680281 187.082182 \nL 60.737612 183.128727 \nL 60.363551 179.175273 \nL 61.347244 175.221818 \nL 62.378753 171.268364 \nL 62.675218 167.314909 \nL 61.216921 163.361455 \nL 62.701092 159.408 \nL 63.561749 155.454545 \nL 64.379752 151.501091 \nL 63.668939 147.547636 \nL 67.30538 143.594182 \nL 66.079152 139.640727 \nL 63.432159 135.687273 \nL 65.435407 131.733818 \nL 65.249054 127.780364 \nL 67.954567 123.826909 \nL 65.407758 119.873455 \nL 63.045033 115.92 \nL 62.461299 111.966545 \nL 62.452611 108.013091 \nL 61.913986 104.059636 \nL 64.569635 100.106182 \nL 63.84103 96.152727 \nL 62.616517 92.199273 \nL 62.894263 88.245818 \nL 62.644862 84.292364 \nL 63.495486 80.338909 \nL 64.542856 76.385455 \nL 67.890911 72.432 \nL 67.88791 68.478545 \nL 69.698282 64.525091 \nL 71.327337 60.571636 \nL 74.400785 56.618182 \nL 76.07589 52.664727 \nL 77.347806 48.711273 \nL 78.011858 44.757818 \nL 75.196378 40.804364 \nL 72.082633 36.850909 \nL 72.706498 32.897455 \nL 65.192654 28.944 \nL 68.284056 24.990545 \nL 69.583337 21.037091 \nL 64.561412 17.083636 \n\" clip-path=\"url(#pb624a29358)\" style=\"fill: none; stroke: #e377c2; stroke-width: 1.5; stroke-linecap: square\"/>\n   </g>\n   <g id=\"line2d_20\">\n    <path d=\"M 66.626761 214.756364 \nL 62.893851 210.802909 \nL 62.912622 206.849455 \nL 62.950383 202.896 \nL 62.988284 198.942545 \nL 63.045384 194.989091 \nL 64.214069 191.035636 \nL 63.217998 187.082182 \nL 63.295024 183.128727 \nL 62.944475 179.175273 \nL 63.919027 175.221818 \nL 65.223516 171.268364 \nL 64.61161 167.314909 \nL 63.829298 163.361455 \nL 67.271929 159.408 \nL 66.575004 155.454545 \nL 67.532906 151.501091 \nL 67.715729 147.547636 \nL 71.832904 143.594182 \nL 68.744002 139.640727 \nL 66.160761 135.687273 \nL 68.182618 131.733818 \nL 68.012589 127.780364 \nL 71.783337 123.826909 \nL 68.110135 119.873455 \nL 65.815205 115.92 \nL 64.987961 111.966545 \nL 65.268068 108.013091 \nL 64.644585 104.059636 \nL 67.187867 100.106182 \nL 66.884668 96.152727 \nL 65.491976 92.199273 \nL 65.846566 88.245818 \nL 66.125364 84.292364 \nL 64.688832 80.338909 \nL 67.000098 76.385455 \nL 71.001729 72.432 \nL 71.384197 68.478545 \nL 72.860828 64.525091 \nL 74.476243 60.571636 \nL 78.063336 56.618182 \nL 80.102292 52.664727 \nL 80.181681 48.711273 \nL 80.812483 44.757818 \nL 77.783943 40.804364 \nL 74.996113 36.850909 \nL 75.089472 32.897455 \nL 68.475953 28.944 \nL 73.103294 24.990545 \nL 72.018992 21.037091 \nL 67.616233 17.083636 \n\" clip-path=\"url(#pb624a29358)\" style=\"fill: none; stroke: #7f7f7f; stroke-width: 1.5; stroke-linecap: square\"/>\n   </g>\n   <g id=\"line2d_21\">\n    <path d=\"M 69.670398 214.756364 \nL 65.444622 210.802909 \nL 65.463226 206.849455 \nL 65.500651 202.896 \nL 65.538215 198.942545 \nL 65.594807 194.989091 \nL 66.753097 191.035636 \nL 65.765886 187.082182 \nL 65.842226 183.128727 \nL 65.515097 179.175273 \nL 66.501117 175.221818 \nL 67.793449 171.268364 \nL 67.207193 167.314909 \nL 66.452145 163.361455 \nL 69.317914 159.408 \nL 69.128889 155.454545 \nL 70.698697 151.501091 \nL 71.746364 147.547636 \nL 75.546322 143.594182 \nL 71.398213 139.640727 \nL 68.900299 135.687273 \nL 70.920296 131.733818 \nL 70.767776 127.780364 \nL 74.732278 123.826909 \nL 70.801725 119.873455 \nL 68.600641 115.92 \nL 67.504537 111.966545 \nL 68.072285 108.013091 \nL 67.364283 104.059636 \nL 69.796153 100.106182 \nL 69.916156 96.152727 \nL 68.355956 92.199273 \nL 68.954781 88.245818 \nL 70.011454 84.292364 \nL 71.293518 80.338909 \nL 69.467189 76.385455 \nL 74.100128 72.432 \nL 74.946441 68.478545 \nL 76.656858 64.525091 \nL 77.637484 60.571636 \nL 81.740565 56.618182 \nL 84.502503 52.664727 \nL 83.316707 48.711273 \nL 83.131708 44.757818 \nL 80.361179 40.804364 \nL 77.897961 36.850909 \nL 77.387547 32.897455 \nL 71.746146 28.944 \nL 77.081748 24.990545 \nL 74.444924 21.037091 \nL 70.675525 17.083636 \n\" clip-path=\"url(#pb624a29358)\" style=\"fill: none; stroke: #bcbd22; stroke-width: 1.5; stroke-linecap: square\"/>\n   </g>\n   <g id=\"line2d_22\">\n    <path d=\"M 72.714034 214.756364 \nL 68.005617 210.802909 \nL 68.024053 206.849455 \nL 68.06114 202.896 \nL 68.098366 198.942545 \nL 68.154448 194.989091 \nL 69.302302 191.035636 \nL 68.323986 187.082182 \nL 68.399638 183.128727 \nL 68.075456 179.175273 \nL 69.0729 175.221818 \nL 70.373682 171.268364 \nL 69.792415 167.314909 \nL 69.064521 163.361455 \nL 71.372099 159.408 \nL 71.265361 155.454545 \nL 73.851851 151.501091 \nL 75.760908 147.547636 \nL 79.348278 143.594182 \nL 74.041829 139.640727 \nL 71.628901 135.687273 \nL 73.648176 131.733818 \nL 73.511744 127.780364 \nL 77.666089 123.826909 \nL 73.482569 119.873455 \nL 71.361075 115.92 \nL 70.011066 111.966545 \nL 70.865309 108.013091 \nL 70.073124 104.059636 \nL 72.394484 100.106182 \nL 72.935542 96.152727 \nL 71.208504 92.199273 \nL 71.92403 88.245818 \nL 73.888078 84.292364 \nL 74.580842 80.338909 \nL 71.924431 76.385455 \nL 77.210945 72.432 \nL 78.573361 68.478545 \nL 81.596442 64.525091 \nL 80.811724 60.571636 \nL 85.403116 56.618182 \nL 87.926549 52.664727 \nL 86.439219 48.711273 \nL 85.46023 44.757818 \nL 82.928126 40.804364 \nL 80.788225 36.850909 \nL 79.595693 32.897455 \nL 75.003284 28.944 \nL 79.855185 24.990545 \nL 76.861171 21.037091 \nL 73.767014 17.083636 \n\" clip-path=\"url(#pb624a29358)\" style=\"fill: none; stroke: #17becf; stroke-width: 1.5; stroke-linecap: square\"/>\n   </g>\n   <g id=\"line2d_23\">\n    <path d=\"M 75.75767 214.756364 \nL 70.576876 210.802909 \nL 70.595144 206.849455 \nL 70.631892 202.896 \nL 70.668779 198.942545 \nL 70.724348 194.989091 \nL 71.861725 191.035636 \nL 70.892338 187.082182 \nL 70.9673 183.128727 \nL 70.646077 179.175273 \nL 71.634417 175.221818 \nL 72.943615 171.268364 \nL 72.387998 167.314909 \nL 71.666469 163.361455 \nL 73.418084 159.408 \nL 73.485934 155.454545 \nL 77.017642 151.501091 \nL 79.791543 147.547636 \nL 81.649185 143.594182 \nL 76.674892 139.640727 \nL 74.34661 135.687273 \nL 76.365857 131.733818 \nL 76.242048 127.780364 \nL 80.167693 123.826909 \nL 76.152712 119.873455 \nL 74.0802 115.92 \nL 72.50759 111.966545 \nL 73.647182 108.013091 \nL 72.771152 104.059636 \nL 74.416185 100.106182 \nL 75.942874 96.152727 \nL 74.049664 92.199273 \nL 74.964641 88.245818 \nL 76.920025 84.292364 \nL 77.872887 80.338909 \nL 75.832644 76.385455 \nL 80.334231 72.432 \nL 82.210024 68.478545 \nL 84.428774 64.525091 \nL 83.973985 60.571636 \nL 89.080346 56.618182 \nL 92.038022 52.664727 \nL 88.926761 48.711273 \nL 87.779455 44.757818 \nL 85.484826 40.804364 \nL 83.690074 36.850909 \nL 81.789737 32.897455 \nL 78.24742 28.944 \nL 80.144701 24.990545 \nL 79.267772 21.037091 \nL 76.881188 17.083636 \n\" clip-path=\"url(#pb624a29358)\" style=\"fill: none; stroke: #1f77b4; stroke-width: 1.5; stroke-linecap: square\"/>\n   </g>\n   <g id=\"line2d_24\">\n    <path d=\"M 78.801307 214.756364 \nL 73.15844 210.802909 \nL 73.176539 206.849455 \nL 73.212948 202.896 \nL 73.249493 198.942545 \nL 73.304549 194.989091 \nL 74.431405 191.035636 \nL 73.470985 187.082182 \nL 73.545254 183.128727 \nL 73.227002 179.175273 \nL 74.2062 175.221818 \nL 75.503289 171.268364 \nL 74.973219 167.314909 \nL 74.278846 163.361455 \nL 76.013612 159.408 \nL 76.249301 155.454545 \nL 80.196122 151.501091 \nL 80.837221 147.547636 \nL 83.940906 143.594182 \nL 79.297443 139.640727 \nL 77.053471 135.687273 \nL 79.072787 131.733818 \nL 78.973782 127.780364 \nL 80.941303 123.826909 \nL 78.812195 119.873455 \nL 76.753543 115.92 \nL 74.994147 111.966545 \nL 76.41795 108.013091 \nL 75.458409 104.059636 \nL 76.299705 100.106182 \nL 78.938202 96.152727 \nL 76.902211 92.199273 \nL 77.73941 88.245818 \nL 80.019962 84.292364 \nL 81.196743 80.338909 \nL 79.725256 76.385455 \nL 83.445048 72.432 \nL 85.862403 68.478545 \nL 87.003943 64.525091 \nL 87.124238 60.571636 \nL 92.742896 56.618182 \nL 94.013029 52.664727 \nL 91.404373 48.711273 \nL 90.784943 44.757818 \nL 88.46509 40.804364 \nL 86.603553 36.850909 \nL 84.038839 32.897455 \nL 81.478604 28.944 \nL 82.926874 24.990545 \nL 81.684019 21.037091 \nL 79.818318 17.083636 \n\" clip-path=\"url(#pb624a29358)\" style=\"fill: none; stroke: #ff7f0e; stroke-width: 1.5; stroke-linecap: square\"/>\n   </g>\n   <g id=\"line2d_25\">\n    <path d=\"M 81.844943 214.756364 \nL 75.750351 210.802909 \nL 75.768281 206.849455 \nL 75.804348 202.896 \nL 75.840551 198.942545 \nL 75.895091 194.989091 \nL 77.011385 191.035636 \nL 76.059967 187.082182 \nL 76.13354 183.128727 \nL 75.81827 179.175273 \nL 76.78829 175.221818 \nL 78.073222 171.268364 \nL 77.548121 167.314909 \nL 76.880794 163.361455 \nL 78.619543 159.408 \nL 78.70875 155.454545 \nL 80.253908 151.501091 \nL 81.878725 147.547636 \nL 86.241813 143.594182 \nL 81.909525 139.640727 \nL 79.749525 135.687273 \nL 81.768827 131.733818 \nL 81.802725 127.780364 \nL 84.155666 123.826909 \nL 81.482338 119.873455 \nL 79.378363 115.92 \nL 77.470778 111.966545 \nL 79.199824 108.013091 \nL 78.156437 104.059636 \nL 80.225869 100.106182 \nL 81.945534 96.152727 \nL 81.028286 92.199273 \nL 81.484935 88.245818 \nL 83.243237 84.292364 \nL 83.817322 80.338909 \nL 83.602329 76.385455 \nL 86.595158 72.432 \nL 89.498017 68.478545 \nL 89.573199 64.525091 \nL 90.261956 60.571636 \nL 92.90813 56.618182 \nL 95.980152 52.664727 \nL 93.891915 48.711273 \nL 93.778433 44.757818 \nL 91.433457 40.804364 \nL 89.417544 36.850909 \nL 86.403793 32.897455 \nL 86.672306 28.944 \nL 85.720198 24.990545 \nL 84.090621 21.037091 \nL 82.493855 17.083636 \n\" clip-path=\"url(#pb624a29358)\" style=\"fill: none; stroke: #2ca02c; stroke-width: 1.5; stroke-linecap: square\"/>\n   </g>\n   <g id=\"line2d_26\">\n    <path d=\"M 84.88858 214.756364 \nL 78.352651 210.802909 \nL 78.37041 206.849455 \nL 78.406135 202.896 \nL 78.441994 198.942545 \nL 78.496016 194.989091 \nL 79.601705 191.035636 \nL 78.659325 187.082182 \nL 78.732199 183.128727 \nL 78.419925 179.175273 \nL 79.38073 175.221818 \nL 80.653455 171.268364 \nL 80.133342 167.314909 \nL 79.472355 163.361455 \nL 81.215071 159.408 \nL 81.283308 155.454545 \nL 82.853423 151.501091 \nL 82.924403 147.547636 \nL 88.533534 143.594182 \nL 84.532077 139.640727 \nL 82.434817 135.687273 \nL 84.45395 131.733818 \nL 84.726259 127.780364 \nL 87.919417 123.826909 \nL 84.163182 119.873455 \nL 82.269131 115.92 \nL 80.536145 111.966545 \nL 81.992847 108.013091 \nL 80.843694 104.059636 \nL 84.167769 100.106182 \nL 86.759032 96.152727 \nL 85.170899 92.199273 \nL 85.57235 88.245818 \nL 86.572425 84.292364 \nL 86.455543 80.338909 \nL 87.328914 76.385455 \nL 89.757892 72.432 \nL 92.003023 68.478545 \nL 92.140781 64.525091 \nL 93.411782 60.571636 \nL 96.424979 56.618182 \nL 97.955159 52.664727 \nL 96.369527 48.711273 \nL 96.759972 44.757818 \nL 94.389974 40.804364 \nL 92.220301 36.850909 \nL 88.880094 32.897455 \nL 89.36652 28.944 \nL 88.50237 24.990545 \nL 86.506868 21.037091 \nL 84.918774 17.083636 \n\" clip-path=\"url(#pb624a29358)\" style=\"fill: none; stroke: #d62728; stroke-width: 1.5; stroke-linecap: square\"/>\n   </g>\n   <g id=\"line2d_27\">\n    <path d=\"M 87.932216 214.756364 \nL 80.965381 210.802909 \nL 80.982969 206.849455 \nL 81.01835 202.896 \nL 81.053864 198.942545 \nL 81.107365 194.989091 \nL 82.202408 191.035636 \nL 81.269102 187.082182 \nL 81.341274 183.128727 \nL 81.032007 179.175273 \nL 81.98356 175.221818 \nL 83.24403 171.268364 \nL 82.728926 167.314909 \nL 82.074303 163.361455 \nL 83.800238 159.408 \nL 83.884126 155.454545 \nL 85.463356 151.501091 \nL 85.533235 147.547636 \nL 90.834441 143.594182 \nL 87.165139 139.640727 \nL 85.109389 135.687273 \nL 87.128336 131.733818 \nL 87.717111 127.780364 \nL 90.513444 123.826909 \nL 86.833325 119.873455 \nL 85.132755 115.92 \nL 83.589275 111.966545 \nL 87.769619 108.013091 \nL 83.541721 104.059636 \nL 88.093933 100.106182 \nL 90.776336 96.152727 \nL 89.296974 92.199273 \nL 89.625614 88.245818 \nL 89.970601 84.292364 \nL 94.149824 80.338909 \nL 91.070441 76.385455 \nL 92.908001 72.432 \nL 94.512767 68.478545 \nL 94.702079 64.525091 \nL 96.548524 60.571636 \nL 96.556965 56.618182 \nL 99.922282 52.664727 \nL 98.857069 48.711273 \nL 99.72961 44.757818 \nL 97.334688 40.804364 \nL 95.01187 36.850909 \nL 91.437667 32.897455 \nL 92.484086 28.944 \nL 91.295694 24.990545 \nL 88.91347 21.037091 \nL 85.375819 17.083636 \n\" clip-path=\"url(#pb624a29358)\" style=\"fill: none; stroke: #9467bd; stroke-width: 1.5; stroke-linecap: square\"/>\n   </g>\n   <g id=\"line2d_28\">\n    <path d=\"M 90.975852 214.756364 \nL 83.588583 210.802909 \nL 83.605999 206.849455 \nL 83.641035 202.896 \nL 83.676202 198.942545 \nL 83.729181 194.989091 \nL 84.813534 191.035636 \nL 83.889339 187.082182 \nL 83.960807 183.128727 \nL 83.654559 179.175273 \nL 84.596823 175.221818 \nL 85.844988 171.268364 \nL 85.334912 167.314909 \nL 84.68668 163.361455 \nL 86.395767 159.408 \nL 86.474182 155.454545 \nL 88.062871 151.501091 \nL 88.152523 147.547636 \nL 93.144569 143.594182 \nL 89.808755 139.640727 \nL 87.773284 135.687273 \nL 89.792042 131.733818 \nL 90.274681 127.780364 \nL 93.097144 123.826909 \nL 89.514169 119.873455 \nL 87.929386 115.92 \nL 86.630217 111.966545 \nL 90.694432 108.013091 \nL 86.228978 104.059636 \nL 92.035833 100.106182 \nL 94.714868 96.152727 \nL 93.406578 92.199273 \nL 93.655193 88.245818 \nL 93.408068 84.292364 \nL 98.459161 80.338909 \nL 94.796993 76.385455 \nL 96.045535 72.432 \nL 97.035802 68.478545 \nL 97.268272 64.525091 \nL 99.228737 60.571636 \nL 96.688425 56.618182 \nL 101.89729 52.664727 \nL 101.354581 48.711273 \nL 102.687392 44.757818 \nL 100.267648 40.804364 \nL 97.792295 36.850909 \nL 94.070877 32.897455 \nL 94.725748 28.944 \nL 94.077866 24.990545 \nL 91.329717 21.037091 \nL 87.981571 17.083636 \n\" clip-path=\"url(#pb624a29358)\" style=\"fill: none; stroke: #8c564b; stroke-width: 1.5; stroke-linecap: square\"/>\n   </g>\n   <g id=\"line2d_29\">\n    <path d=\"M 94.019489 214.756364 \nL 86.222299 210.802909 \nL 86.239543 206.849455 \nL 86.274231 202.896 \nL 86.30905 198.942545 \nL 86.361505 194.989091 \nL 87.435126 191.035636 \nL 86.520078 187.082182 \nL 86.590838 183.128727 \nL 86.287621 179.175273 \nL 87.220559 175.221818 \nL 88.45637 171.268364 \nL 87.951343 167.314909 \nL 87.309527 163.361455 \nL 89.001698 159.408 \nL 89.079172 155.454545 \nL 90.652009 151.501091 \nL 90.761354 147.547636 \nL 95.463957 143.594182 \nL 92.441818 139.640727 \nL 90.426544 135.687273 \nL 92.445142 131.733818 \nL 94.291737 127.780364 \nL 95.690805 123.826909 \nL 92.184312 119.873455 \nL 90.678022 115.92 \nL 89.659019 111.966545 \nL 92.954927 108.013091 \nL 88.905507 104.059636 \nL 95.961997 100.106182 \nL 97.458442 96.152727 \nL 97.499776 92.199273 \nL 97.567253 88.245818 \nL 96.877011 84.292364 \nL 99.744355 80.338909 \nL 98.509038 76.385455 \nL 99.195644 72.432 \nL 99.576961 68.478545 \nL 99.846636 64.525091 \nL 102.139016 60.571636 \nL 100.401442 56.618182 \nL 103.880213 52.664727 \nL 103.862103 48.711273 \nL 105.633367 44.757818 \nL 103.188898 40.804364 \nL 100.561621 36.850909 \nL 96.815533 32.897455 \nL 97.519039 28.944 \nL 96.87119 24.990545 \nL 93.736318 21.037091 \nL 90.67586 17.083636 \n\" clip-path=\"url(#pb624a29358)\" style=\"fill: none; stroke: #e377c2; stroke-width: 1.5; stroke-linecap: square\"/>\n   </g>\n   <g id=\"line2d_30\">\n    <path d=\"M 97.063125 214.756364 \nL 88.86657 210.802909 \nL 88.883641 206.849455 \nL 88.917982 202.896 \nL 88.952451 198.942545 \nL 89.004379 194.989091 \nL 90.067225 191.035636 \nL 89.161361 187.082182 \nL 89.231411 183.128727 \nL 88.931237 179.175273 \nL 89.854812 175.221818 \nL 91.078219 171.268364 \nL 90.578261 167.314909 \nL 89.942886 163.361455 \nL 91.618074 159.408 \nL 91.695103 155.454545 \nL 93.251523 151.501091 \nL 93.359772 147.547636 \nL 98.03546 143.594182 \nL 95.064369 139.640727 \nL 93.069213 135.687273 \nL 95.087645 131.733818 \nL 97.40412 127.780364 \nL 98.273529 123.826909 \nL 94.843795 119.873455 \nL 93.400409 115.92 \nL 92.67573 111.966545 \nL 95.564195 108.013091 \nL 91.592764 104.059636 \nL 98.302492 100.106182 \nL 100.191062 96.152727 \nL 101.111216 92.199273 \nL 101.283032 88.245818 \nL 100.321996 84.292364 \nL 104.40667 80.338909 \nL 102.235146 76.385455 \nL 102.333178 72.432 \nL 102.129498 68.478545 \nL 102.437075 64.525091 \nL 105.577851 60.571636 \nL 104.129342 56.618182 \nL 105.844927 52.664727 \nL 106.379676 48.711273 \nL 108.567581 44.757818 \nL 106.098487 40.804364 \nL 103.319891 36.850909 \nL 99.729718 32.897455 \nL 100.323526 28.944 \nL 99.642602 24.990545 \nL 97.78425 21.037091 \nL 94.346693 17.083636 \n\" clip-path=\"url(#pb624a29358)\" style=\"fill: none; stroke: #7f7f7f; stroke-width: 1.5; stroke-linecap: square\"/>\n   </g>\n   <g id=\"line2d_31\">\n    <path d=\"M 100.106761 214.756364 \nL 91.52144 210.802909 \nL 91.538337 206.849455 \nL 91.572328 202.896 \nL 91.606447 198.942545 \nL 91.657847 194.989091 \nL 92.709873 191.035636 \nL 91.81323 187.082182 \nL 91.882567 183.128727 \nL 91.585449 179.175273 \nL 92.499622 175.221818 \nL 93.710577 171.268364 \nL 93.215708 167.314909 \nL 92.5868 163.361455 \nL 94.244936 159.408 \nL 94.320668 155.454545 \nL 95.861457 151.501091 \nL 95.968603 147.547636 \nL 100.596698 143.594182 \nL 97.676451 139.640727 \nL 95.722474 135.687273 \nL 97.719601 131.733818 \nL 98.361285 127.780364 \nL 100.845172 123.826909 \nL 97.513938 119.873455 \nL 96.117326 115.92 \nL 95.680398 111.966545 \nL 98.165572 108.013091 \nL 94.269294 104.059636 \nL 100.652368 100.106182 \nL 102.934635 96.152727 \nL 104.708239 92.199273 \nL 105.098106 88.245818 \nL 103.728123 84.292364 \nL 109.089082 80.338909 \nL 105.946147 76.385455 \nL 105.458187 72.432 \nL 104.686951 68.478545 \nL 105.027643 64.525091 \nL 108.648752 60.571636 \nL 107.842359 56.618182 \nL 107.801798 52.664727 \nL 108.907339 48.711273 \nL 111.513556 44.757818 \nL 108.996461 40.804364 \nL 107.100271 36.850909 \nL 102.904084 32.897455 \nL 103.116818 28.944 \nL 101.148264 24.990545 \nL 101.816023 21.037091 \nL 98.095213 17.083636 \n\" clip-path=\"url(#pb624a29358)\" style=\"fill: none; stroke: #bcbd22; stroke-width: 1.5; stroke-linecap: square\"/>\n   </g>\n   <g id=\"line2d_32\">\n    <path d=\"M 103.150398 214.756364 \nL 94.186951 210.802909 \nL 94.203674 206.849455 \nL 94.237314 202.896 \nL 94.27108 198.942545 \nL 94.321949 194.989091 \nL 95.363113 191.035636 \nL 94.475728 187.082182 \nL 94.544349 183.128727 \nL 94.250299 179.175273 \nL 95.155033 175.221818 \nL 96.353485 171.268364 \nL 95.863725 167.314909 \nL 95.241311 163.361455 \nL 96.882327 159.408 \nL 96.956804 155.454545 \nL 98.481851 151.501091 \nL 98.587891 147.547636 \nL 103.168202 143.594182 \nL 100.278106 139.640727 \nL 98.365143 135.687273 \nL 100.362103 131.733818 \nL 100.473084 127.780364 \nL 103.428485 123.826909 \nL 100.173421 119.873455 \nL 98.82966 115.92 \nL 98.673072 111.966545 \nL 101.072485 108.013091 \nL 97.353268 104.059636 \nL 103.011662 100.106182 \nL 106.450292 96.152727 \nL 108.319679 92.199273 \nL 108.210811 88.245818 \nL 107.092 84.292364 \nL 111.32832 80.338909 \nL 109.641879 76.385455 \nL 108.59572 72.432 \nL 107.238358 68.478545 \nL 107.613108 64.525091 \nL 110.31246 60.571636 \nL 111.540554 56.618182 \nL 110.499354 52.664727 \nL 111.445133 48.711273 \nL 114.93132 44.757818 \nL 112.260975 40.804364 \nL 110.61055 36.850909 \nL 106.411626 32.897455 \nL 105.921305 28.944 \nL 103.980041 24.990545 \nL 105.863955 21.037091 \nL 101.803122 17.083636 \n\" clip-path=\"url(#pb624a29358)\" style=\"fill: none; stroke: #17becf; stroke-width: 1.5; stroke-linecap: square\"/>\n   </g>\n   <g id=\"line2d_33\">\n    <path d=\"M 106.194034 214.756364 \nL 96.863145 210.802909 \nL 96.879692 206.849455 \nL 96.91298 202.896 \nL 96.946393 198.942545 \nL 96.996729 194.989091 \nL 98.026988 191.035636 \nL 97.148897 187.082182 \nL 97.2168 183.128727 \nL 96.925829 179.175273 \nL 97.821087 175.221818 \nL 99.006986 171.268364 \nL 98.522356 167.314909 \nL 97.906462 163.361455 \nL 99.530289 159.408 \nL 99.603523 155.454545 \nL 101.112748 151.501091 \nL 101.217677 147.547636 \nL 105.750012 143.594182 \nL 102.890188 139.640727 \nL 100.997262 135.687273 \nL 102.994057 131.733818 \nL 103.051795 127.780364 \nL 106.025304 123.826909 \nL 102.843564 119.873455 \nL 101.537447 115.92 \nL 101.653799 111.966545 \nL 103.840368 108.013091 \nL 100.42493 104.059636 \nL 105.898323 100.106182 \nL 109.98004 96.152727 \nL 110.983762 92.199273 \nL 111.155972 88.245818 \nL 110.425199 84.292364 \nL 113.624553 80.338909 \nL 113.327505 76.385455 \nL 111.720729 72.432 \nL 109.780009 68.478545 \nL 110.207395 64.525091 \nL 112.421548 60.571636 \nL 115.253572 56.618182 \nL 113.18614 52.664727 \nL 113.972796 48.711273 \nL 118.362782 44.757818 \nL 115.512456 40.804364 \nL 114.106815 36.850909 \nL 110.368884 32.897455 \nL 109.427998 28.944 \nL 106.823168 24.990545 \nL 109.928111 21.037091 \nL 105.379085 17.083636 \n\" clip-path=\"url(#pb624a29358)\" style=\"fill: none; stroke: #1f77b4; stroke-width: 1.5; stroke-linecap: square\"/>\n   </g>\n   <g id=\"line2d_34\">\n    <path d=\"M 109.23767 214.756364 \nL 99.550065 210.802909 \nL 99.566437 206.849455 \nL 99.599371 202.896 \nL 99.632428 198.942545 \nL 99.682229 194.989091 \nL 100.701539 191.035636 \nL 99.832781 187.082182 \nL 99.899962 183.128727 \nL 99.612083 179.175273 \nL 100.497827 175.221818 \nL 101.671122 171.268364 \nL 101.191643 167.314909 \nL 100.582294 163.361455 \nL 102.188863 159.408 \nL 102.260849 155.454545 \nL 103.754189 151.501091 \nL 103.858004 147.547636 \nL 108.34217 143.594182 \nL 105.51274 139.640727 \nL 103.639931 135.687273 \nL 105.615505 131.733818 \nL 105.695551 127.780364 \nL 108.639325 123.826909 \nL 105.528885 119.873455 \nL 104.234712 115.92 \nL 104.622627 111.966545 \nL 106.274802 108.013091 \nL 103.484331 104.059636 \nL 108.773461 100.106182 \nL 111.5969 96.152727 \nL 113.63721 92.199273 \nL 114.076637 88.245818 \nL 113.734717 84.292364 \nL 115.975266 80.338909 \nL 117.001213 76.385455 \nL 119.86742 72.432 \nL 112.328566 68.478545 \nL 112.791081 64.525091 \nL 114.524976 60.571636 \nL 117.892787 56.618182 \nL 115.862202 52.664727 \nL 116.490368 48.711273 \nL 119.403155 44.757818 \nL 118.750958 40.804364 \nL 117.617093 36.850909 \nL 114.876735 32.897455 \nL 114.985611 28.944 \nL 109.67769 24.990545 \nL 113.976043 21.037091 \nL 108.825574 17.083636 \n\" clip-path=\"url(#pb624a29358)\" style=\"fill: none; stroke: #ff7f0e; stroke-width: 1.5; stroke-linecap: square\"/>\n   </g>\n   <g id=\"line2d_35\">\n    <path d=\"M 112.281307 214.756364 \nL 102.247755 210.802909 \nL 102.26395 206.849455 \nL 102.296529 202.896 \nL 102.329229 198.942545 \nL 102.378494 194.989091 \nL 103.38681 191.035636 \nL 102.527421 187.082182 \nL 102.593877 183.128727 \nL 102.309104 179.175273 \nL 103.185295 175.221818 \nL 104.345936 171.268364 \nL 103.871628 167.314909 \nL 103.268851 163.361455 \nL 104.858093 159.408 \nL 104.928825 155.454545 \nL 106.406218 151.501091 \nL 106.508913 147.547636 \nL 110.944717 143.594182 \nL 108.145802 139.640727 \nL 106.293192 135.687273 \nL 108.247459 131.733818 \nL 108.320453 127.780364 \nL 111.249625 123.826909 \nL 108.203487 119.873455 \nL 106.922134 115.92 \nL 107.579603 111.966545 \nL 108.057108 108.013091 \nL 106.531518 104.059636 \nL 111.637121 100.106182 \nL 113.220241 96.152727 \nL 116.280066 92.199273 \nL 116.476929 88.245818 \nL 117.038466 84.292364 \nL 118.639962 80.338909 \nL 120.66042 76.385455 \nL 121.52661 72.432 \nL 114.865773 68.478545 \nL 115.385096 64.525091 \nL 116.628894 60.571636 \nL 118.958729 56.618182 \nL 118.52758 52.664727 \nL 119.018031 48.711273 \nL 122.263759 44.757818 \nL 122.002439 40.804364 \nL 121.113358 36.850909 \nL 119.94627 32.897455 \nL 121.971669 28.944 \nL 127.116811 24.990545 \nL 118.040199 21.037091 \nL 112.235806 17.083636 \n\" clip-path=\"url(#pb624a29358)\" style=\"fill: none; stroke: #2ca02c; stroke-width: 1.5; stroke-linecap: square\"/>\n   </g>\n   <g id=\"line2d_36\">\n    <path d=\"M 115.324943 214.756364 \nL 104.956257 210.802909 \nL 104.972274 206.849455 \nL 105.004497 202.896 \nL 105.036839 198.942545 \nL 105.085564 194.989091 \nL 106.082843 191.035636 \nL 105.232862 187.082182 \nL 105.298591 183.128727 \nL 105.016934 179.175273 \nL 105.883534 175.221818 \nL 107.031471 171.268364 \nL 106.562354 167.314909 \nL 105.966176 163.361455 \nL 107.538022 159.408 \nL 107.607495 155.454545 \nL 109.068876 151.501091 \nL 109.170446 147.547636 \nL 113.557695 143.594182 \nL 110.789418 139.640727 \nL 108.957087 135.687273 \nL 110.889962 131.733818 \nL 110.963271 127.780364 \nL 113.856296 123.826909 \nL 110.867412 119.873455 \nL 109.619492 115.92 \nL 110.270818 111.966545 \nL 109.832298 108.013091 \nL 110.752617 104.059636 \nL 114.512258 100.106182 \nL 115.929578 96.152727 \nL 118.933515 92.199273 \nL 119.096556 88.245818 \nL 119.614066 84.292364 \nL 121.30996 80.338909 \nL 123.637433 76.385455 \nL 123.179178 72.432 \nL 117.41189 68.478545 \nL 117.968844 64.525091 \nL 118.751874 60.571636 \nL 121.325485 56.618182 \nL 121.203641 52.664727 \nL 121.535604 48.711273 \nL 123.229535 44.757818 \nL 125.240941 40.804364 \nL 124.623637 36.850909 \nL 125.469927 32.897455 \nL 128.812277 28.944 \nL 129.603517 24.990545 \nL 122.088131 21.037091 \nL 115.672252 17.083636 \n\" clip-path=\"url(#pb624a29358)\" style=\"fill: none; stroke: #d62728; stroke-width: 1.5; stroke-linecap: square\"/>\n   </g>\n   <g id=\"line2d_37\">\n    <path d=\"M 118.36858 214.756364 \nL 107.675614 210.802909 \nL 107.691454 206.849455 \nL 107.723318 202.896 \nL 107.755302 198.942545 \nL 107.803485 194.989091 \nL 108.789683 191.035636 \nL 107.949146 187.082182 \nL 108.014144 183.128727 \nL 107.735618 179.175273 \nL 108.592588 175.221818 \nL 109.727769 171.268364 \nL 109.263865 167.314909 \nL 108.674311 163.361455 \nL 110.228692 159.408 \nL 110.296901 155.454545 \nL 111.742206 151.501091 \nL 111.842648 147.547636 \nL 116.181147 143.594182 \nL 113.44363 139.640727 \nL 111.631659 135.687273 \nL 113.543057 131.733818 \nL 113.615844 127.780364 \nL 116.476577 123.826909 \nL 113.520702 119.873455 \nL 112.306694 115.92 \nL 112.972819 111.966545 \nL 112.538761 108.013091 \nL 114.990634 104.059636 \nL 117.39892 100.106182 \nL 118.6281 96.152727 \nL 121.57637 92.199273 \nL 121.740617 88.245818 \nL 122.212177 84.292364 \nL 123.295082 80.338909 \nL 126.573864 76.385455 \nL 124.825148 72.432 \nL 119.947839 68.478545 \nL 120.542187 64.525091 \nL 120.890034 60.571636 \nL 123.402327 56.618182 \nL 123.869019 52.664727 \nL 124.063267 48.711273 \nL 125.034788 44.757818 \nL 128.492422 40.804364 \nL 128.119902 36.850909 \nL 131.231546 32.897455 \nL 131.372174 28.944 \nL 132.080296 24.990545 \nL 126.152287 21.037091 \nL 119.11015 17.083636 \n\" clip-path=\"url(#pb624a29358)\" style=\"fill: none; stroke: #9467bd; stroke-width: 1.5; stroke-linecap: square\"/>\n   </g>\n   <g id=\"line2d_38\">\n    <path d=\"M 121.412216 214.756364 \nL 110.405871 210.802909 \nL 110.421532 206.849455 \nL 110.453037 202.896 \nL 110.484659 198.942545 \nL 110.532299 194.989091 \nL 111.507371 191.035636 \nL 110.676317 187.082182 \nL 110.740582 183.128727 \nL 110.465198 179.175273 \nL 111.3125 175.221818 \nL 112.434874 171.268364 \nL 111.976204 167.314909 \nL 111.393301 163.361455 \nL 112.930146 159.408 \nL 112.997086 155.454545 \nL 114.42625 151.501091 \nL 114.525559 147.547636 \nL 118.815113 143.594182 \nL 116.108479 139.640727 \nL 114.316951 135.687273 \nL 116.206785 131.733818 \nL 116.278426 127.780364 \nL 119.108717 123.826909 \nL 116.184627 119.873455 \nL 114.983113 115.92 \nL 115.664034 111.966545 \nL 115.256072 108.013091 \nL 117.679353 104.059636 \nL 120.274057 100.106182 \nL 121.315849 96.152727 \nL 124.208676 92.199273 \nL 124.370622 88.245818 \nL 124.854076 84.292364 \nL 125.298864 80.338909 \nL 127.362884 76.385455 \nL 126.464547 72.432 \nL 122.492844 68.478545 \nL 123.105352 64.525091 \nL 123.04136 60.571636 \nL 125.797171 56.618182 \nL 126.54508 52.664727 \nL 126.174723 48.711273 \nL 126.832834 44.757818 \nL 131.128309 40.804364 \nL 131.63018 36.850909 \nL 133.835417 32.897455 \nL 133.921852 28.944 \nL 134.567002 24.990545 \nL 130.200219 21.037091 \nL 122.536226 17.083636 \n\" clip-path=\"url(#pb624a29358)\" style=\"fill: none; stroke: #8c564b; stroke-width: 1.5; stroke-linecap: square\"/>\n   </g>\n   <g id=\"line2d_39\">\n    <path d=\"M 124.455852 214.756364 \nL 113.147071 210.802909 \nL 113.162553 206.849455 \nL 113.193696 202.896 \nL 113.224957 198.942545 \nL 113.272051 194.989091 \nL 114.235952 191.035636 \nL 113.414418 187.082182 \nL 113.477947 183.128727 \nL 113.205718 179.175273 \nL 114.043313 175.221818 \nL 115.15283 171.268364 \nL 114.699414 167.314909 \nL 114.123189 163.361455 \nL 115.642427 159.408 \nL 115.708094 155.454545 \nL 117.121052 151.501091 \nL 117.219224 147.547636 \nL 121.459636 143.594182 \nL 118.78401 139.640727 \nL 117.013005 135.687273 \nL 118.881189 131.733818 \nL 118.951711 127.780364 \nL 121.75063 123.826909 \nL 118.859229 119.873455 \nL 117.670933 115.92 \nL 118.344505 111.966545 \nL 117.962535 108.013091 \nL 120.378849 104.059636 \nL 123.030683 100.106182 \nL 123.992869 96.152727 \nL 126.851531 92.199273 \nL 127.008121 88.245818 \nL 127.550854 84.292364 \nL 127.401493 80.338909 \nL 129.260496 76.385455 \nL 128.110518 72.432 \nL 125.026571 68.478545 \nL 125.658198 64.525091 \nL 125.190832 60.571636 \nL 128.288872 56.618182 \nL 129.231867 52.664727 \nL 128.294641 48.711273 \nL 130.453691 44.757818 \nL 133.774759 40.804364 \nL 134.297944 36.850909 \nL 136.435834 32.897455 \nL 135.876631 28.944 \nL 137.043781 24.990545 \nL 134.231992 21.037091 \nL 125.947415 17.083636 \n\" clip-path=\"url(#pb624a29358)\" style=\"fill: none; stroke: #e377c2; stroke-width: 1.5; stroke-linecap: square\"/>\n   </g>\n   <g id=\"line2d_40\">\n    <path d=\"M 127.499489 214.756364 \nL 115.899257 210.802909 \nL 115.914559 206.849455 \nL 115.94534 202.896 \nL 115.976237 198.942545 \nL 116.022783 194.989091 \nL 116.975469 191.035636 \nL 116.163494 187.082182 \nL 116.226284 183.128727 \nL 115.957222 179.175273 \nL 116.785072 175.221818 \nL 117.881679 171.268364 \nL 117.433539 167.314909 \nL 116.864018 163.361455 \nL 118.36558 159.408 \nL 118.429967 155.454545 \nL 119.826655 151.501091 \nL 119.923684 147.547636 \nL 124.114758 143.594182 \nL 121.470264 139.640727 \nL 119.719865 135.687273 \nL 121.566312 131.733818 \nL 121.635723 127.780364 \nL 124.402534 123.826909 \nL 121.54455 119.873455 \nL 120.369774 115.92 \nL 121.03572 111.966545 \nL 120.658194 108.013091 \nL 123.067568 104.059636 \nL 127.683061 100.106182 \nL 126.680618 96.152727 \nL 129.483837 92.199273 \nL 129.644606 88.245818 \nL 130.250481 84.292364 \nL 129.625541 80.338909 \nL 130.70937 76.385455 \nL 129.749917 72.432 \nL 127.569331 68.478545 \nL 128.200922 64.525091 \nL 128.278835 60.571636 \nL 130.790559 56.618182 \nL 131.929422 52.664727 \nL 132.887499 48.711273 \nL 134.089061 44.757818 \nL 136.410646 40.804364 \nL 136.976401 36.850909 \nL 138.12335 32.897455 \nL 137.823606 28.944 \nL 139.530487 24.990545 \nL 138.24767 21.037091 \nL 129.345019 17.083636 \n\" clip-path=\"url(#pb624a29358)\" style=\"fill: none; stroke: #7f7f7f; stroke-width: 1.5; stroke-linecap: square\"/>\n   </g>\n   <g id=\"line2d_41\">\n    <path d=\"M 130.543125 214.756364 \nL 118.662475 210.802909 \nL 118.677595 206.849455 \nL 118.708013 202.896 \nL 118.738544 198.942545 \nL 118.78454 194.989091 \nL 119.725966 191.035636 \nL 118.923588 187.082182 \nL 118.985636 183.128727 \nL 118.719754 179.175273 \nL 119.537819 175.221818 \nL 120.621465 171.268364 \nL 120.178622 167.314909 \nL 119.615832 163.361455 \nL 121.099646 159.408 \nL 121.16275 155.454545 \nL 122.543103 151.501091 \nL 122.638985 147.547636 \nL 126.780522 143.594182 \nL 124.167285 139.640727 \nL 122.437575 135.687273 \nL 124.262198 131.733818 \nL 124.330493 127.780364 \nL 127.064668 123.826909 \nL 124.240635 119.873455 \nL 123.079725 115.92 \nL 123.737721 111.966545 \nL 123.364658 108.013091 \nL 125.745554 104.059636 \nL 130.327315 100.106182 \nL 129.357638 96.152727 \nL 132.126693 92.199273 \nL 132.284433 88.245818 \nL 132.930071 84.292364 \nL 131.979534 80.338909 \nL 132.270991 76.385455 \nL 131.395887 72.432 \nL 130.368065 68.478545 \nL 130.937591 64.525091 \nL 132.380637 60.571636 \nL 133.302273 56.618182 \nL 134.63779 52.664727 \nL 135.981439 48.711273 \nL 137.709918 44.757818 \nL 139.057096 40.804364 \nL 139.644165 36.850909 \nL 140.050788 32.897455 \nL 139.778385 28.944 \nL 142.007267 24.990545 \nL 142.247317 21.037091 \nL 132.728368 17.083636 \n\" clip-path=\"url(#pb624a29358)\" style=\"fill: none; stroke: #bcbd22; stroke-width: 1.5; stroke-linecap: square\"/>\n   </g>\n   <g id=\"line2d_42\">\n    <path d=\"M 133.586761 214.756364 \nL 121.436767 210.802909 \nL 121.451706 206.849455 \nL 121.481758 202.896 \nL 121.511923 198.942545 \nL 121.557367 194.989091 \nL 122.487487 191.035636 \nL 121.694745 187.082182 \nL 121.756048 183.128727 \nL 121.493359 179.175273 \nL 122.3016 175.221818 \nL 123.372232 171.268364 \nL 122.934707 167.314909 \nL 122.378676 163.361455 \nL 123.844671 159.408 \nL 123.906485 155.454545 \nL 125.270437 151.501091 \nL 125.365168 147.547636 \nL 129.456971 143.594182 \nL 126.875115 139.640727 \nL 125.166176 135.687273 \nL 126.968888 131.733818 \nL 127.036063 127.780364 \nL 129.737535 123.826909 \nL 126.947525 119.873455 \nL 125.800509 115.92 \nL 126.450552 111.966545 \nL 126.081968 108.013091 \nL 128.434273 104.059636 \nL 132.961012 100.106182 \nL 132.023971 96.152727 \nL 134.780141 92.199273 \nL 134.936659 88.245818 \nL 135.589603 84.292364 \nL 134.459077 80.338909 \nL 134.126066 76.385455 \nL 133.048455 72.432 \nL 133.177071 68.478545 \nL 133.663351 64.525091 \nL 136.17061 60.571636 \nL 135.80396 56.618182 \nL 137.357012 52.664727 \nL 139.087843 48.711273 \nL 140.956921 44.757818 \nL 141.692983 40.804364 \nL 142.301279 36.850909 \nL 142.326756 32.897455 \nL 141.740998 28.944 \nL 144.493973 24.990545 \nL 146.262994 21.037091 \nL 136.094815 17.083636 \n\" clip-path=\"url(#pb624a29358)\" style=\"fill: none; stroke: #17becf; stroke-width: 1.5; stroke-linecap: square\"/>\n   </g>\n   <g id=\"line2d_43\">\n    <path d=\"M 136.630398 214.756364 \nL 124.222179 210.802909 \nL 124.236936 206.849455 \nL 124.266621 202.896 \nL 124.296418 198.942545 \nL 124.341307 194.989091 \nL 125.260077 191.035636 \nL 124.477009 187.082182 \nL 124.537563 183.128727 \nL 124.27808 179.175273 \nL 125.076458 175.221818 \nL 126.134025 171.268364 \nL 125.701839 167.314909 \nL 125.152593 163.361455 \nL 126.600698 159.408 \nL 126.661218 155.454545 \nL 128.008703 151.501091 \nL 128.102278 147.547636 \nL 132.144147 143.594182 \nL 129.593798 139.640727 \nL 127.905715 135.687273 \nL 129.686427 131.733818 \nL 129.752477 127.780364 \nL 132.421217 123.826909 \nL 129.665265 119.873455 \nL 128.532147 115.92 \nL 129.174255 111.966545 \nL 128.81017 108.013091 \nL 131.133769 104.059636 \nL 135.605266 100.106182 \nL 134.67966 96.152727 \nL 137.422997 92.199273 \nL 137.582575 88.245818 \nL 138.239482 84.292364 \nL 137.041926 80.338909 \nL 136.277073 76.385455 \nL 134.707646 72.432 \nL 135.996074 68.478545 \nL 136.400029 64.525091 \nL 140.380264 60.571636 \nL 138.688169 56.618182 \nL 140.065379 52.664727 \nL 142.181847 48.711273 \nL 144.021558 44.757818 \nL 144.318346 40.804364 \nL 144.947787 36.850909 \nL 144.887556 32.897455 \nL 144.482433 28.944 \nL 146.990646 24.990545 \nL 149.705001 21.037091 \nL 139.438761 17.083636 \n\" clip-path=\"url(#pb624a29358)\" style=\"fill: none; stroke: #1f77b4; stroke-width: 1.5; stroke-linecap: square\"/>\n   </g>\n   <g id=\"line2d_44\">\n    <path d=\"M 139.674034 214.756364 \nL 127.018755 210.802909 \nL 127.033328 206.849455 \nL 127.062646 202.896 \nL 127.092073 198.942545 \nL 127.136405 194.989091 \nL 128.043779 191.035636 \nL 127.270424 187.082182 \nL 127.330227 183.128727 \nL 127.073962 179.175273 \nL 127.862437 175.221818 \nL 128.906886 171.268364 \nL 128.480061 167.314909 \nL 127.937628 163.361455 \nL 129.367772 159.408 \nL 129.426992 155.454545 \nL 130.757944 151.501091 \nL 130.850358 147.547636 \nL 134.842093 143.594182 \nL 132.323378 139.640727 \nL 130.656233 135.687273 \nL 132.414858 131.733818 \nL 132.479778 127.780364 \nL 135.11569 123.826909 \nL 132.393897 119.873455 \nL 131.274682 115.92 \nL 131.908876 111.966545 \nL 131.549307 108.013091 \nL 133.844084 104.059636 \nL 138.260118 100.106182 \nL 137.345993 96.152727 \nL 140.055302 92.199273 \nL 140.221292 88.245818 \nL 140.901307 84.292364 \nL 139.689726 80.338909 \nL 138.665511 76.385455 \nL 140.784797 72.432 \nL 138.825379 68.478545 \nL 139.125785 64.525091 \nL 141.325491 60.571636 \nL 141.560863 56.618182 \nL 142.784602 52.664727 \nL 144.852495 48.711273 \nL 147.073961 44.757818 \nL 146.93323 40.804364 \nL 147.583729 36.850909 \nL 147.583458 32.897455 \nL 147.212924 28.944 \nL 149.515155 24.990545 \nL 153.160803 21.037091 \nL 142.75269 17.083636 \n\" clip-path=\"url(#pb624a29358)\" style=\"fill: none; stroke: #ff7f0e; stroke-width: 1.5; stroke-linecap: square\"/>\n   </g>\n   <g id=\"line2d_45\">\n    <path d=\"M 142.71767 214.756364 \nL 129.826539 210.802909 \nL 129.840929 206.849455 \nL 129.869877 202.896 \nL 129.898933 198.942545 \nL 129.942706 194.989091 \nL 130.838638 191.035636 \nL 130.075035 187.082182 \nL 130.134084 183.128727 \nL 129.88105 179.175273 \nL 130.659583 175.221818 \nL 131.690862 171.268364 \nL 131.269419 167.314909 \nL 130.733826 163.361455 \nL 132.145935 159.408 \nL 132.203851 155.454545 \nL 133.518204 151.501091 \nL 133.609453 147.547636 \nL 137.550852 143.594182 \nL 135.063898 139.640727 \nL 133.417776 135.687273 \nL 135.154225 131.733818 \nL 135.218011 127.780364 \nL 137.820945 123.826909 \nL 135.133466 119.873455 \nL 134.028192 115.92 \nL 134.654457 111.966545 \nL 134.299422 108.013091 \nL 136.565262 104.059636 \nL 140.925611 100.106182 \nL 140.023013 96.152727 \nL 142.698158 92.199273 \nL 142.858372 88.245818 \nL 143.553555 84.292364 \nL 142.383662 80.338909 \nL 141.230614 76.385455 \nL 141.630627 72.432 \nL 141.642898 68.478545 \nL 141.862466 64.525091 \nL 146.016058 60.571636 \nL 144.445071 56.618182 \nL 145.492969 52.664727 \nL 147.51141 48.711273 \nL 150.245178 44.757818 \nL 149.537674 40.804364 \nL 150.209148 36.850909 \nL 150.315751 32.897455 \nL 149.932515 28.944 \nL 152.049783 24.990545 \nL 156.452646 21.037091 \nL 146.034911 17.083636 \n\" clip-path=\"url(#pb624a29358)\" style=\"fill: none; stroke: #2ca02c; stroke-width: 1.5; stroke-linecap: square\"/>\n   </g>\n   <g id=\"line2d_46\">\n    <path d=\"M 145.761307 214.756364 \nL 132.645577 210.802909 \nL 132.659783 206.849455 \nL 132.688359 202.896 \nL 132.717042 198.942545 \nL 132.760255 194.989091 \nL 133.644699 191.035636 \nL 132.890886 187.082182 \nL 132.949178 183.128727 \nL 132.69939 179.175273 \nL 133.46794 175.221818 \nL 134.485995 171.268364 \nL 134.069956 167.314909 \nL 133.541231 163.361455 \nL 134.935234 159.408 \nL 134.991839 155.454545 \nL 136.289527 151.501091 \nL 136.379606 147.547636 \nL 140.270469 143.594182 \nL 137.815402 139.640727 \nL 136.190386 135.687273 \nL 137.904571 131.733818 \nL 137.967218 127.780364 \nL 140.537028 123.826909 \nL 137.884015 119.873455 \nL 136.792754 115.92 \nL 137.411042 111.966545 \nL 137.060559 108.013091 \nL 139.297347 104.059636 \nL 143.601787 100.106182 \nL 142.710762 96.152727 \nL 145.351606 92.199273 \nL 145.510608 88.245818 \nL 146.195266 84.292364 \nL 145.074597 80.338909 \nL 143.908673 76.385455 \nL 144.339381 72.432 \nL 144.471574 68.478545 \nL 144.588221 64.525091 \nL 146.589751 60.571636 \nL 147.317766 56.618182 \nL 148.212191 52.664727 \nL 150.158818 48.711273 \nL 152.792012 44.757818 \nL 152.131722 40.804364 \nL 152.84509 36.850909 \nL 156.584807 32.897455 \nL 152.663005 28.944 \nL 154.574293 24.990545 \nL 158.202408 21.037091 \nL 149.296788 17.083636 \n\" clip-path=\"url(#pb624a29358)\" style=\"fill: none; stroke: #d62728; stroke-width: 1.5; stroke-linecap: square\"/>\n   </g>\n   <g id=\"line2d_47\">\n    <path d=\"M 148.804943 214.756364 \nL 135.475914 210.802909 \nL 135.489934 206.849455 \nL 135.518138 202.896 \nL 135.546447 198.942545 \nL 135.589096 194.989091 \nL 136.462006 191.035636 \nL 135.718024 187.082182 \nL 135.775556 183.128727 \nL 135.529025 179.175273 \nL 136.287553 175.221818 \nL 137.292332 171.268364 \nL 136.881718 167.314909 \nL 136.359888 163.361455 \nL 137.735712 159.408 \nL 137.791002 155.454545 \nL 139.071958 151.501091 \nL 139.160862 147.547636 \nL 143.000985 143.594182 \nL 140.577935 139.640727 \nL 138.97411 135.687273 \nL 140.66594 131.733818 \nL 140.727445 127.780364 \nL 143.264005 123.826909 \nL 140.645588 119.873455 \nL 139.568395 115.92 \nL 140.178676 111.966545 \nL 139.832763 108.013091 \nL 142.040382 104.059636 \nL 146.288689 100.106182 \nL 145.409284 96.152727 \nL 148.01569 92.199273 \nL 148.172755 88.245818 \nL 148.848066 84.292364 \nL 147.750154 80.338909 \nL 146.641912 76.385455 \nL 147.058991 72.432 \nL 147.188822 68.478545 \nL 147.324901 64.525091 \nL 150.835636 60.571636 \nL 150.201974 56.618182 \nL 150.920559 52.664727 \nL 152.795876 48.711273 \nL 155.935375 44.757818 \nL 155.072143 40.804364 \nL 155.47051 36.850909 \nL 157.874539 32.897455 \nL 155.382596 28.944 \nL 157.108921 24.990545 \nL 160.5942 21.037091 \nL 152.557484 17.083636 \n\" clip-path=\"url(#pb624a29358)\" style=\"fill: none; stroke: #9467bd; stroke-width: 1.5; stroke-linecap: square\"/>\n   </g>\n   <g id=\"line2d_48\">\n    <path d=\"M 151.84858 214.756364 \nL 138.317595 210.802909 \nL 138.331429 206.849455 \nL 138.359259 202.896 \nL 138.387193 198.942545 \nL 138.429275 194.989091 \nL 139.290606 191.035636 \nL 138.556493 187.082182 \nL 138.613262 183.128727 \nL 138.370001 179.175273 \nL 139.118466 175.221818 \nL 140.109916 171.268364 \nL 139.70475 167.314909 \nL 139.189842 163.361455 \nL 140.547415 159.408 \nL 140.601384 155.454545 \nL 141.86554 151.501091 \nL 141.953265 147.547636 \nL 145.742446 143.594182 \nL 143.351539 139.640727 \nL 141.768991 135.687273 \nL 143.438377 131.733818 \nL 143.498734 127.780364 \nL 146.001911 123.826909 \nL 143.41823 119.873455 \nL 142.355168 115.92 \nL 142.957402 111.966545 \nL 142.616079 108.013091 \nL 144.794411 104.059636 \nL 148.986361 100.106182 \nL 148.118621 96.152727 \nL 150.690451 92.199273 \nL 150.845348 88.245818 \nL 151.511771 84.292364 \nL 150.430221 80.338909 \nL 149.34961 76.385455 \nL 149.767745 72.432 \nL 149.916984 68.478545 \nL 150.050657 64.525091 \nL 151.437926 60.571636 \nL 153.074669 56.618182 \nL 153.639781 52.664727 \nL 155.427433 48.711273 \nL 158.551449 44.757818 \nL 158.000827 40.804364 \nL 158.085449 36.850909 \nL 160.036436 32.897455 \nL 158.113087 28.944 \nL 159.63343 24.990545 \nL 162.560956 21.037091 \nL 155.82354 17.083636 \n\" clip-path=\"url(#pb624a29358)\" style=\"fill: none; stroke: #8c564b; stroke-width: 1.5; stroke-linecap: square\"/>\n   </g>\n   <g id=\"line2d_49\">\n    <path d=\"M 154.892216 214.756364 \nL 141.170665 210.802909 \nL 141.184313 206.849455 \nL 141.211767 202.896 \nL 141.239324 198.942545 \nL 141.280838 194.989091 \nL 142.130542 191.035636 \nL 141.406339 187.082182 \nL 141.462341 183.128727 \nL 141.222364 179.175273 \nL 141.960726 175.221818 \nL 142.938794 171.268364 \nL 142.539096 167.314909 \nL 142.031139 163.361455 \nL 143.370387 159.408 \nL 143.42303 155.454545 \nL 144.67032 151.501091 \nL 144.75686 147.547636 \nL 148.494894 143.594182 \nL 146.13626 139.640727 \nL 144.575073 135.687273 \nL 146.221926 131.733818 \nL 146.281131 127.780364 \nL 148.750791 123.826909 \nL 146.201984 119.873455 \nL 145.153104 115.92 \nL 145.747265 111.966545 \nL 145.410549 108.013091 \nL 147.559478 104.059636 \nL 151.694844 100.106182 \nL 150.838818 96.152727 \nL 153.375932 92.199273 \nL 153.528668 88.245818 \nL 154.186183 84.292364 \nL 153.118281 80.338909 \nL 152.067303 76.385455 \nL 152.465685 72.432 \nL 152.634266 68.478545 \nL 152.787337 64.525091 \nL 154.115532 60.571636 \nL 155.958877 56.618182 \nL 156.348149 52.664727 \nL 158.058934 48.711273 \nL 160.906103 44.757818 \nL 160.917819 40.804364 \nL 160.689949 36.850909 \nL 162.327752 32.897455 \nL 160.832678 28.944 \nL 162.168058 24.990545 \nL 169.520521 21.037091 \nL 159.103692 17.083636 \n\" clip-path=\"url(#pb624a29358)\" style=\"fill: none; stroke: #e377c2; stroke-width: 1.5; stroke-linecap: square\"/>\n   </g>\n   <g id=\"line2d_50\">\n    <path d=\"M 157.935852 214.756364 \nL 144.035171 210.802909 \nL 144.048631 206.849455 \nL 144.075708 202.896 \nL 144.102886 198.942545 \nL 144.14383 194.989091 \nL 144.981861 191.035636 \nL 144.267607 187.082182 \nL 144.32284 183.128727 \nL 144.086159 179.175273 \nL 144.814378 175.221818 \nL 145.779009 171.268364 \nL 145.384803 167.314909 \nL 144.883823 163.361455 \nL 146.204673 159.408 \nL 146.255985 155.454545 \nL 147.486341 151.501091 \nL 147.571692 147.547636 \nL 151.258374 143.594182 \nL 148.932142 139.640727 \nL 147.392403 135.687273 \nL 149.016631 131.733818 \nL 149.074679 127.780364 \nL 151.510688 123.826909 \nL 148.996896 119.873455 \nL 147.962259 115.92 \nL 148.548311 111.966545 \nL 148.21622 108.013091 \nL 150.335628 104.059636 \nL 154.414184 100.106182 \nL 153.569917 96.152727 \nL 156.072178 92.199273 \nL 156.222747 88.245818 \nL 156.87126 84.292364 \nL 155.817178 80.338909 \nL 154.775192 76.385455 \nL 155.174438 72.432 \nL 155.340703 68.478545 \nL 155.513092 64.525091 \nL 156.817248 60.571636 \nL 158.661053 56.618182 \nL 159.075402 52.664727 \nL 160.691226 48.711273 \nL 163.251356 44.757818 \nL 163.823166 40.804364 \nL 163.284051 36.850909 \nL 164.807783 32.897455 \nL 163.563169 28.944 \nL 164.387208 24.990545 \nL 170.738647 21.037091 \nL 162.345481 17.083636 \n\" clip-path=\"url(#pb624a29358)\" style=\"fill: none; stroke: #7f7f7f; stroke-width: 1.5; stroke-linecap: square\"/>\n   </g>\n   <g id=\"line2d_51\">\n    <path d=\"M 160.979489 214.756364 \nL 146.911157 210.802909 \nL 146.924429 206.849455 \nL 146.951127 202.896 \nL 146.977925 198.942545 \nL 147.018297 194.989091 \nL 147.844608 191.035636 \nL 147.140343 187.082182 \nL 147.194803 183.128727 \nL 146.961433 179.175273 \nL 147.679468 175.221818 \nL 148.630609 171.268364 \nL 148.241915 167.314909 \nL 147.747941 163.361455 \nL 149.050319 159.408 \nL 149.100295 155.454545 \nL 150.313648 151.501091 \nL 150.397806 147.547636 \nL 154.03293 143.594182 \nL 151.739231 139.640727 \nL 150.221024 135.687273 \nL 151.822538 131.733818 \nL 151.879424 127.780364 \nL 154.281647 123.826909 \nL 151.80301 119.873455 \nL 150.782669 115.92 \nL 151.360583 111.966545 \nL 151.033137 108.013091 \nL 153.122904 104.059636 \nL 157.144422 100.106182 \nL 156.311962 96.152727 \nL 158.779229 92.199273 \nL 158.927623 88.245818 \nL 159.567047 84.292364 \nL 158.527671 80.338909 \nL 157.501145 76.385455 \nL 157.894049 72.432 \nL 158.057986 68.478545 \nL 158.227967 64.525091 \nL 159.524364 60.571636 \nL 161.374059 56.618182 \nL 159.860275 52.664727 \nL 163.324656 48.711273 \nL 165.606009 44.757818 \nL 166.716916 40.804364 \nL 171.631328 36.850909 \nL 167.465266 32.897455 \nL 166.282759 28.944 \nL 166.597499 24.990545 \nL 171.961655 21.037091 \nL 165.570148 17.083636 \n\" clip-path=\"url(#pb624a29358)\" style=\"fill: none; stroke: #bcbd22; stroke-width: 1.5; stroke-linecap: square\"/>\n   </g>\n   <g id=\"line2d_52\">\n    <path d=\"M 164.023125 214.756364 \nL 149.798671 210.802909 \nL 149.811754 206.849455 \nL 149.838072 202.896 \nL 149.864488 198.942545 \nL 149.904285 194.989091 \nL 150.71883 191.035636 \nL 150.024593 187.082182 \nL 150.078278 183.128727 \nL 149.84823 179.175273 \nL 150.55604 175.221818 \nL 151.493637 171.268364 \nL 151.110478 167.314909 \nL 150.623539 163.361455 \nL 151.907371 159.408 \nL 151.956005 155.454545 \nL 153.152288 151.501091 \nL 153.235247 147.547636 \nL 156.818607 143.594182 \nL 154.55757 139.640727 \nL 153.060982 135.687273 \nL 154.639691 131.733818 \nL 154.695411 127.780364 \nL 157.063711 123.826909 \nL 154.620371 119.873455 \nL 153.614386 115.92 \nL 154.184126 111.966545 \nL 153.861343 108.013091 \nL 155.921352 104.059636 \nL 159.885604 100.106182 \nL 159.064998 96.152727 \nL 161.497131 92.199273 \nL 161.64334 88.245818 \nL 162.273634 84.292364 \nL 161.249257 80.338909 \nL 160.235438 76.385455 \nL 160.624559 72.432 \nL 160.786162 68.478545 \nL 160.953722 64.525091 \nL 162.232309 60.571636 \nL 164.076235 56.618182 \nL 162.613408 52.664727 \nL 165.979513 48.711273 \nL 168.735815 44.757818 \nL 169.423372 40.804364 \nL 171.675497 36.850909 \nL 170.200362 32.897455 \nL 169.01325 28.944 \nL 171.019736 24.990545 \nL 173.189564 21.037091 \nL 168.776909 17.083636 \n\" clip-path=\"url(#pb624a29358)\" style=\"fill: none; stroke: #17becf; stroke-width: 1.5; stroke-linecap: square\"/>\n   </g>\n   <g id=\"line2d_53\">\n    <path d=\"M 167.066761 214.756364 \nL 152.697758 210.802909 \nL 152.710651 206.849455 \nL 152.736587 202.896 \nL 152.76262 198.942545 \nL 152.80184 194.989091 \nL 153.604571 191.035636 \nL 152.920403 187.082182 \nL 152.973309 183.128727 \nL 152.746598 179.175273 \nL 153.444143 175.221818 \nL 154.36814 171.268364 \nL 153.990539 167.314909 \nL 153.510662 163.361455 \nL 154.775874 159.408 \nL 154.82316 155.454545 \nL 156.002305 151.501091 \nL 156.084061 147.547636 \nL 159.615449 143.594182 \nL 157.387205 139.640727 \nL 155.912324 135.687273 \nL 157.468135 131.733818 \nL 157.522684 127.780364 \nL 159.856927 123.826909 \nL 157.449024 119.873455 \nL 156.457451 115.92 \nL 157.018987 111.966545 \nL 156.700885 108.013091 \nL 158.731017 104.059636 \nL 162.637772 100.106182 \nL 161.829068 96.152727 \nL 164.225926 92.199273 \nL 164.369942 88.245818 \nL 164.991075 84.292364 \nL 163.981684 80.338909 \nL 162.983546 76.385455 \nL 163.366013 72.432 \nL 163.525273 68.478545 \nL 163.690402 64.525091 \nL 164.953349 60.571636 \nL 166.767623 56.618182 \nL 165.347483 52.664727 \nL 168.656832 48.711273 \nL 171.878164 44.757818 \nL 172.119025 40.804364 \nL 174.336832 36.850909 \nL 172.963231 32.897455 \nL 171.732841 28.944 \nL 174.143126 24.990545 \nL 174.412572 21.037091 \nL 172.021228 17.083636 \n\" clip-path=\"url(#pb624a29358)\" style=\"fill: none; stroke: #1f77b4; stroke-width: 1.5; stroke-linecap: square\"/>\n   </g>\n   <g id=\"line2d_54\">\n    <path d=\"M 170.110398 214.756364 \nL 155.608464 210.802909 \nL 155.621166 206.849455 \nL 155.646719 202.896 \nL 155.672368 198.942545 \nL 155.711008 194.989091 \nL 156.501878 191.035636 \nL 155.827819 187.082182 \nL 155.879944 183.128727 \nL 155.656583 179.175273 \nL 156.34382 175.221818 \nL 157.254165 171.268364 \nL 156.882143 167.314909 \nL 156.409357 163.361455 \nL 157.655874 159.408 \nL 157.701807 155.454545 \nL 158.863745 151.501091 \nL 158.944293 147.547636 \nL 162.4235 143.594182 \nL 160.228181 139.640727 \nL 158.775093 135.687273 \nL 160.307915 131.733818 \nL 160.361289 127.780364 \nL 162.661337 123.826909 \nL 160.289014 119.873455 \nL 159.311912 115.92 \nL 159.865209 111.966545 \nL 159.551808 108.013091 \nL 161.551942 104.059636 \nL 165.40097 100.106182 \nL 164.604216 96.152727 \nL 166.965658 92.199273 \nL 167.107473 88.245818 \nL 167.719413 84.292364 \nL 166.724992 80.338909 \nL 165.741446 76.385455 \nL 166.118456 72.432 \nL 166.275363 68.478545 \nL 166.438051 64.525091 \nL 167.684414 60.571636 \nL 169.469799 56.618182 \nL 168.070643 52.664727 \nL 171.337655 48.711273 \nL 175.00797 44.757818 \nL 174.803917 40.804364 \nL 176.987544 36.850909 \nL 175.698056 32.897455 \nL 174.463332 28.944 \nL 177.784351 24.990545 \nL 180.002689 21.037091 \nL 175.305715 17.083636 \n\" clip-path=\"url(#pb624a29358)\" style=\"fill: none; stroke: #ff7f0e; stroke-width: 1.5; stroke-linecap: square\"/>\n   </g>\n   <g id=\"line2d_55\">\n    <path d=\"M 173.154034 214.756364 \nL 158.530836 210.802909 \nL 158.543348 206.849455 \nL 158.568516 202.896 \nL 158.593778 198.942545 \nL 158.631837 194.989091 \nL 159.410797 191.035636 \nL 158.746889 187.082182 \nL 158.798229 183.128727 \nL 158.578231 179.175273 \nL 159.25512 175.221818 \nL 160.151757 171.268364 \nL 159.785337 167.314909 \nL 159.31967 163.361455 \nL 160.547417 159.408 \nL 160.591992 155.454545 \nL 161.736653 151.501091 \nL 161.815988 147.547636 \nL 165.242806 143.594182 \nL 163.080544 139.640727 \nL 161.649336 135.687273 \nL 163.159078 131.733818 \nL 163.211271 127.780364 \nL 165.476988 123.826909 \nL 163.140386 119.873455 \nL 162.177813 115.92 \nL 162.72284 111.966545 \nL 162.414157 108.013091 \nL 164.384174 104.059636 \nL 168.175244 100.106182 \nL 167.390487 96.152727 \nL 169.716371 92.199273 \nL 169.855975 88.245818 \nL 170.458685 84.292364 \nL 169.47931 80.338909 \nL 168.510621 76.385455 \nL 168.88193 72.432 \nL 169.036474 68.478545 \nL 169.196713 64.525091 \nL 170.424263 60.571636 \nL 172.182805 56.618182 \nL 170.804717 52.664727 \nL 174.018353 48.711273 \nL 177.658384 44.757818 \nL 177.47809 40.804364 \nL 179.627674 36.850909 \nL 178.403189 32.897455 \nL 177.182923 28.944 \nL 181.64773 24.990545 \nL 182.479724 21.037091 \nL 178.575624 17.083636 \n\" clip-path=\"url(#pb624a29358)\" style=\"fill: none; stroke: #2ca02c; stroke-width: 1.5; stroke-linecap: square\"/>\n   </g>\n   <g id=\"line2d_56\">\n    <path d=\"M 176.19767 214.756364 \nL 161.464922 210.802909 \nL 161.477241 206.849455 \nL 161.502023 202.896 \nL 161.526898 198.942545 \nL 161.564372 194.989091 \nL 162.331376 191.035636 \nL 161.677658 187.082182 \nL 161.72821 183.128727 \nL 161.511589 179.175273 \nL 162.178088 175.221818 \nL 163.060962 171.268364 \nL 162.700166 167.314909 \nL 162.241647 163.361455 \nL 163.450549 159.408 \nL 163.493761 155.454545 \nL 164.621076 151.501091 \nL 164.699194 147.547636 \nL 168.073412 143.594182 \nL 165.944339 139.640727 \nL 164.5351 135.687273 \nL 166.021668 131.733818 \nL 166.072676 127.780364 \nL 168.303924 123.826909 \nL 166.003188 119.873455 \nL 165.055201 115.92 \nL 165.591923 111.966545 \nL 165.287979 108.013091 \nL 167.227757 104.059636 \nL 170.960637 100.106182 \nL 170.187926 96.152727 \nL 172.478108 92.199273 \nL 172.615494 88.245818 \nL 173.208936 84.292364 \nL 172.244671 80.338909 \nL 171.29086 76.385455 \nL 171.65648 72.432 \nL 171.808651 68.478545 \nL 171.966431 64.525091 \nL 173.174966 60.571636 \nL 174.906685 56.618182 \nL 173.54975 52.664727 \nL 176.71576 48.711273 \nL 180.298217 44.757818 \nL 180.141588 40.804364 \nL 182.278385 36.850909 \nL 181.090089 32.897455 \nL 179.891657 28.944 \nL 183.071583 24.990545 \nL 184.94687 21.037091 \nL 181.80014 17.083636 \n\" clip-path=\"url(#pb624a29358)\" style=\"fill: none; stroke: #d62728; stroke-width: 1.5; stroke-linecap: square\"/>\n   </g>\n   <g id=\"line2d_57\">\n    <path d=\"M 179.241307 214.756364 \nL 164.410767 210.802909 \nL 164.422893 206.849455 \nL 164.447288 202.896 \nL 164.471773 198.942545 \nL 164.508661 194.989091 \nL 165.26366 191.035636 \nL 164.620174 187.082182 \nL 164.669934 183.128727 \nL 164.456704 179.175273 \nL 165.112771 175.221818 \nL 165.981828 171.268364 \nL 165.626679 167.314909 \nL 165.175336 163.361455 \nL 166.365317 159.408 \nL 166.40716 155.454545 \nL 167.51706 151.501091 \nL 167.593955 147.547636 \nL 170.915363 143.594182 \nL 168.819613 139.640727 \nL 167.432429 135.687273 \nL 168.895731 131.733818 \nL 168.945549 127.780364 \nL 171.142191 123.826909 \nL 168.877463 119.873455 \nL 167.944121 115.92 \nL 168.472507 111.966545 \nL 168.173319 108.013091 \nL 170.082738 104.059636 \nL 173.757194 100.106182 \nL 172.996576 96.152727 \nL 175.250915 92.199273 \nL 175.386072 88.245818 \nL 175.970209 84.292364 \nL 175.021116 80.338909 \nL 174.082257 76.385455 \nL 174.44215 72.432 \nL 174.59194 68.478545 \nL 174.747251 64.525091 \nL 175.936638 60.571636 \nL 177.641482 56.618182 \nL 176.305785 52.664727 \nL 179.424076 48.711273 \nL 182.948631 44.757818 \nL 182.794454 40.804364 \nL 184.918515 36.850909 \nL 183.766659 32.897455 \nL 182.589577 28.944 \nL 184.489752 24.990545 \nL 187.404168 21.037091 \nL 184.979344 17.083636 \n\" clip-path=\"url(#pb624a29358)\" style=\"fill: none; stroke: #9467bd; stroke-width: 1.5; stroke-linecap: square\"/>\n   </g>\n   <g id=\"line2d_58\">\n    <path d=\"M 182.284943 214.756364 \nL 167.368419 210.802909 \nL 167.380352 206.849455 \nL 167.404357 202.896 \nL 167.428451 198.942545 \nL 167.46475 194.989091 \nL 168.207697 191.035636 \nL 167.574483 187.082182 \nL 167.623449 183.128727 \nL 167.413623 179.175273 \nL 168.059217 175.221818 \nL 168.9144 171.268364 \nL 168.56492 167.314909 \nL 168.120783 163.361455 \nL 169.291767 159.408 \nL 169.332236 155.454545 \nL 170.424651 151.501091 \nL 170.500319 147.547636 \nL 173.768705 143.594182 \nL 171.70641 139.640727 \nL 170.341371 135.687273 \nL 171.781313 131.733818 \nL 171.829937 127.780364 \nL 173.991833 123.826909 \nL 171.763259 119.873455 \nL 170.844621 115.92 \nL 171.364635 111.966545 \nL 171.070224 108.013091 \nL 172.949161 104.059636 \nL 176.56496 100.106182 \nL 175.816484 96.152727 \nL 178.034836 92.199273 \nL 178.167755 88.245818 \nL 178.74255 84.292364 \nL 177.808688 80.338909 \nL 176.884837 76.385455 \nL 177.238986 72.432 \nL 177.386384 68.478545 \nL 177.539216 64.525091 \nL 178.709672 60.571636 \nL 180.387241 56.618182 \nL 179.072866 52.664727 \nL 182.142344 48.711273 \nL 185.609668 44.757818 \nL 185.457952 40.804364 \nL 187.548105 36.850909 \nL 186.434931 32.897455 \nL 185.298312 28.944 \nL 187.166982 24.990545 \nL 189.871315 21.037091 \nL 187.181461 17.083636 \n\" clip-path=\"url(#pb624a29358)\" style=\"fill: none; stroke: #8c564b; stroke-width: 1.5; stroke-linecap: square\"/>\n   </g>\n   <g id=\"line2d_59\">\n    <path d=\"M 185.32858 214.756364 \nL 170.337926 210.802909 \nL 170.349664 206.849455 \nL 170.373278 202.896 \nL 170.39698 198.942545 \nL 170.432688 194.989091 \nL 171.163534 191.035636 \nL 170.540633 187.082182 \nL 170.588802 183.128727 \nL 170.382393 179.175273 \nL 171.017472 175.221818 \nL 171.858726 171.268364 \nL 171.514939 167.314909 \nL 171.078035 163.361455 \nL 172.229947 159.408 \nL 172.269036 155.454545 \nL 173.343896 151.501091 \nL 173.418331 147.547636 \nL 176.633483 143.594182 \nL 174.604778 139.640727 \nL 173.261972 135.687273 \nL 174.678461 131.733818 \nL 174.725886 127.780364 \nL 176.852896 123.826909 \nL 174.66062 119.873455 \nL 173.756745 115.92 \nL 174.268355 111.966545 \nL 173.978739 108.013091 \nL 175.827073 104.059636 \nL 179.383979 100.106182 \nL 178.647694 96.152727 \nL 180.829914 92.199273 \nL 180.960587 88.245818 \nL 181.526003 84.292364 \nL 180.607433 80.338909 \nL 179.69865 76.385455 \nL 180.047031 72.432 \nL 180.192029 68.478545 \nL 180.342371 64.525091 \nL 181.493763 60.571636 \nL 183.144004 56.618182 \nL 181.851037 52.664727 \nL 184.870394 48.711273 \nL 188.28137 44.757818 \nL 188.132125 40.804364 \nL 190.188235 36.850909 \nL 189.093501 32.897455 \nL 187.996232 28.944 \nL 189.854942 24.990545 \nL 190.887878 21.037091 \nL 189.339318 17.083636 \n\" clip-path=\"url(#pb624a29358)\" style=\"fill: none; stroke: #e377c2; stroke-width: 1.5; stroke-linecap: square\"/>\n   </g>\n   <g id=\"line2d_60\">\n    <path d=\"M 188.372216 214.756364 \nL 173.319334 210.802909 \nL 173.330878 206.849455 \nL 173.354099 202.896 \nL 173.377407 198.942545 \nL 173.412521 194.989091 \nL 174.131218 191.035636 \nL 173.518672 187.082182 \nL 173.56604 183.128727 \nL 173.363062 179.175273 \nL 173.987584 175.221818 \nL 174.814853 171.268364 \nL 174.476781 167.314909 \nL 174.04714 163.361455 \nL 175.179903 159.408 \nL 175.217606 155.454545 \nL 176.274841 151.501091 \nL 176.348039 147.547636 \nL 179.509743 143.594182 \nL 177.514763 139.640727 \nL 176.194279 135.687273 \nL 177.587221 131.733818 \nL 177.633442 127.780364 \nL 179.725427 123.826909 \nL 177.569595 119.873455 \nL 176.680542 115.92 \nL 177.183714 111.966545 \nL 176.898912 108.013091 \nL 178.71652 104.059636 \nL 182.214297 100.106182 \nL 181.490252 96.152727 \nL 183.636195 92.199273 \nL 183.764613 88.245818 \nL 184.320612 84.292364 \nL 183.417396 80.338909 \nL 182.523742 76.385455 \nL 182.866331 72.432 \nL 183.008918 68.478545 \nL 183.156761 64.525091 \nL 184.289019 60.571636 \nL 185.911817 56.618182 \nL 184.640343 52.664727 \nL 187.609417 48.711273 \nL 190.963781 44.757818 \nL 190.817017 40.804364 \nL 192.838946 36.850909 \nL 191.76271 32.897455 \nL 190.683383 28.944 \nL 192.532172 24.990545 \nL 193.568446 21.037091 \nL 191.470737 17.083636 \n\" clip-path=\"url(#pb624a29358)\" style=\"fill: none; stroke: #7f7f7f; stroke-width: 1.5; stroke-linecap: square\"/>\n   </g>\n   <g id=\"line2d_61\">\n    <path d=\"M 191.415852 214.756364 \nL 176.312692 210.802909 \nL 176.32404 206.849455 \nL 176.346867 202.896 \nL 176.369779 198.942545 \nL 176.404297 194.989091 \nL 177.110796 191.035636 \nL 176.508647 187.082182 \nL 176.55521 183.128727 \nL 176.355678 179.175273 \nL 176.9696 175.221818 \nL 177.782828 171.268364 \nL 177.450494 167.314909 \nL 177.028145 163.361455 \nL 178.141683 159.408 \nL 178.177994 155.454545 \nL 179.217533 151.501091 \nL 179.289489 147.547636 \nL 182.397531 143.594182 \nL 180.436411 139.640727 \nL 179.138339 135.687273 \nL 180.507639 131.733818 \nL 180.552651 127.780364 \nL 182.609471 123.826909 \nL 180.490229 119.873455 \nL 179.616057 115.92 \nL 180.110757 111.966545 \nL 179.830789 108.013091 \nL 181.617548 104.059636 \nL 185.055958 100.106182 \nL 184.344202 96.152727 \nL 186.453724 92.199273 \nL 186.579878 88.245818 \nL 187.126421 84.292364 \nL 186.238621 80.338909 \nL 185.360156 76.385455 \nL 185.696931 72.432 \nL 185.837098 68.478545 \nL 185.982432 64.525091 \nL 187.095465 60.571636 \nL 188.690723 56.618182 \nL 187.440829 52.664727 \nL 190.359379 48.711273 \nL 193.656943 44.757818 \nL 193.512669 40.804364 \nL 195.500282 36.850909 \nL 194.442329 32.897455 \nL 193.381304 28.944 \nL 195.198714 24.990545 \nL 196.238313 21.037091 \nL 194.235728 17.083636 \n\" clip-path=\"url(#pb624a29358)\" style=\"fill: none; stroke: #bcbd22; stroke-width: 1.5; stroke-linecap: square\"/>\n   </g>\n   <g id=\"line2d_62\">\n    <path d=\"M 194.459489 214.756364 \nL 179.318047 210.802909 \nL 179.329198 206.849455 \nL 179.351629 202.896 \nL 179.374145 198.942545 \nL 179.408064 194.989091 \nL 180.102316 191.035636 \nL 179.510605 187.082182 \nL 179.556362 183.128727 \nL 179.360288 179.175273 \nL 179.963568 175.221818 \nL 180.762699 171.268364 \nL 180.436126 167.314909 \nL 180.021098 163.361455 \nL 181.115333 159.408 \nL 181.150248 155.454545 \nL 182.17202 151.501091 \nL 182.242728 147.547636 \nL 185.296894 143.594182 \nL 183.369769 139.640727 \nL 182.094199 135.687273 \nL 183.439762 131.733818 \nL 183.48356 127.780364 \nL 185.505074 123.826909 \nL 183.422568 119.873455 \nL 182.563337 115.92 \nL 183.049531 111.966545 \nL 182.774417 108.013091 \nL 184.530203 104.059636 \nL 187.90901 100.106182 \nL 187.209592 96.152727 \nL 189.282545 92.199273 \nL 189.406426 88.245818 \nL 189.943476 84.292364 \nL 189.071153 80.338909 \nL 188.207939 76.385455 \nL 188.538876 72.432 \nL 188.676613 68.478545 \nL 188.819428 64.525091 \nL 189.913163 60.571636 \nL 191.480766 56.618182 \nL 190.25254 52.664727 \nL 193.120548 48.711273 \nL 196.360899 44.757818 \nL 196.219126 40.804364 \nL 198.172284 36.850909 \nL 197.132636 32.897455 \nL 196.090038 28.944 \nL 197.875944 24.990545 \nL 198.897521 21.037091 \nL 196.973964 17.083636 \n\" clip-path=\"url(#pb624a29358)\" style=\"fill: none; stroke: #17becf; stroke-width: 1.5; stroke-linecap: square\"/>\n   </g>\n   <g id=\"line2d_63\">\n    <path d=\"M 197.503125 214.756364 \nL 182.335448 210.802909 \nL 182.346402 206.849455 \nL 182.368436 202.896 \nL 182.390552 198.942545 \nL 182.423871 194.989091 \nL 183.105827 191.035636 \nL 182.524596 187.082182 \nL 182.569542 183.128727 \nL 182.376941 179.175273 \nL 182.969536 175.221818 \nL 183.754514 171.268364 \nL 183.433724 167.314909 \nL 183.026047 163.361455 \nL 184.100902 159.408 \nL 184.134415 155.454545 \nL 185.138348 151.501091 \nL 185.207804 147.547636 \nL 188.207877 143.594182 \nL 186.314884 139.640727 \nL 185.061905 135.687273 \nL 186.383637 131.733818 \nL 186.426217 127.780364 \nL 188.412283 123.826909 \nL 186.366661 119.873455 \nL 185.522431 115.92 \nL 186.000085 111.966545 \nL 185.729843 108.013091 \nL 187.454532 104.059636 \nL 190.773496 100.106182 \nL 190.086465 96.152727 \nL 192.122704 92.199273 \nL 192.244303 88.245818 \nL 192.771822 84.292364 \nL 191.915038 80.338909 \nL 191.067136 76.385455 \nL 191.392211 72.432 \nL 191.527509 68.478545 \nL 191.667794 64.525091 \nL 192.742154 60.571636 \nL 194.281993 56.618182 \nL 193.07552 52.664727 \nL 195.892724 48.711273 \nL 199.075692 44.757818 \nL 198.936431 40.804364 \nL 200.854996 36.850909 \nL 199.83374 32.897455 \nL 198.809629 28.944 \nL 200.563904 24.990545 \nL 201.567388 21.037091 \nL 199.684033 17.083636 \n\" clip-path=\"url(#pb624a29358)\" style=\"fill: none; stroke: #1f77b4; stroke-width: 1.5; stroke-linecap: square\"/>\n   </g>\n   <g id=\"line2d_64\">\n    <path d=\"M 200.546761 214.756364 \nL 185.364943 210.802909 \nL 185.375698 206.849455 \nL 185.397333 202.896 \nL 185.419049 198.942545 \nL 185.451765 194.989091 \nL 186.121375 191.035636 \nL 185.550666 187.082182 \nL 185.594799 183.128727 \nL 185.405684 179.175273 \nL 185.987552 175.221818 \nL 186.758319 171.268364 \nL 186.443337 167.314909 \nL 186.04304 163.361455 \nL 187.098437 159.408 \nL 187.130542 155.454545 \nL 188.116566 151.501091 \nL 188.184764 147.547636 \nL 191.130527 143.594182 \nL 189.271802 139.640727 \nL 188.041507 135.687273 \nL 189.339311 131.733818 \nL 189.380667 127.780364 \nL 191.331144 123.826909 \nL 189.322553 119.873455 \nL 188.493384 115.92 \nL 188.962464 111.966545 \nL 188.697115 108.013091 \nL 190.390581 104.059636 \nL 193.649463 100.106182 \nL 192.97487 96.152727 \nL 194.974247 92.199273 \nL 195.093554 88.245818 \nL 195.611504 84.292364 \nL 194.770322 80.338909 \nL 193.937792 76.385455 \nL 194.256983 72.432 \nL 194.389831 68.478545 \nL 194.527577 64.525091 \nL 195.582484 60.571636 \nL 197.094447 56.618182 \nL 195.909814 52.664727 \nL 198.676033 48.711273 \nL 201.801367 44.757818 \nL 201.664626 40.804364 \nL 203.54846 36.850909 \nL 202.545698 32.897455 \nL 201.540119 28.944 \nL 203.262638 24.990545 \nL 204.247956 21.037091 \nL 202.396602 17.083636 \n\" clip-path=\"url(#pb624a29358)\" style=\"fill: none; stroke: #ff7f0e; stroke-width: 1.5; stroke-linecap: square\"/>\n   </g>\n   <g id=\"line2d_65\">\n    <path d=\"M 203.590398 214.756364 \nL 188.40658 210.802909 \nL 188.417136 206.849455 \nL 188.43837 202.896 \nL 188.459685 198.942545 \nL 188.491795 194.989091 \nL 189.14901 191.035636 \nL 188.588865 187.082182 \nL 188.632181 183.128727 \nL 188.446567 179.175273 \nL 189.017664 175.221818 \nL 189.774164 171.268364 \nL 189.465012 167.314909 \nL 189.072125 163.361455 \nL 190.107986 159.408 \nL 190.138677 155.454545 \nL 191.10672 151.501091 \nL 191.173656 147.547636 \nL 194.064892 143.594182 \nL 192.240573 139.640727 \nL 191.03305 135.687273 \nL 192.306832 131.733818 \nL 192.34696 127.780364 \nL 194.261704 123.826909 \nL 192.290293 119.873455 \nL 191.476245 115.92 \nL 191.936717 111.966545 \nL 191.676279 108.013091 \nL 193.338399 104.059636 \nL 196.536957 100.106182 \nL 195.874851 96.152727 \nL 197.837219 92.199273 \nL 197.954225 88.245818 \nL 198.462568 84.292364 \nL 197.637049 80.338909 \nL 196.819954 76.385455 \nL 197.133237 72.432 \nL 197.263625 68.478545 \nL 197.398822 64.525091 \nL 198.434199 60.571636 \nL 199.918173 56.618182 \nL 198.755468 52.664727 \nL 201.470474 48.711273 \nL 204.537966 44.757818 \nL 204.403756 40.804364 \nL 206.252719 36.850909 \nL 205.268521 32.897455 \nL 204.281554 28.944 \nL 205.972188 24.990545 \nL 206.939267 21.037091 \nL 205.119708 17.083636 \n\" clip-path=\"url(#pb624a29358)\" style=\"fill: none; stroke: #2ca02c; stroke-width: 1.5; stroke-linecap: square\"/>\n   </g>\n   <g id=\"line2d_66\">\n    <path d=\"M 206.634034 214.756364 \nL 191.460408 210.802909 \nL 191.470764 206.849455 \nL 191.491596 202.896 \nL 191.512507 198.942545 \nL 191.544009 194.989091 \nL 192.18878 191.035636 \nL 191.639241 187.082182 \nL 191.681737 183.128727 \nL 191.499638 179.175273 \nL 192.059921 175.221818 \nL 192.802097 171.268364 \nL 192.498799 167.314909 \nL 192.113351 163.361455 \nL 193.129597 159.408 \nL 193.15887 155.454545 \nL 194.108859 151.501091 \nL 194.174527 147.547636 \nL 197.011017 143.594182 \nL 195.221242 139.640727 \nL 194.036584 135.687273 \nL 195.286247 131.733818 \nL 195.325141 127.780364 \nL 197.204009 123.826909 \nL 195.269927 119.873455 \nL 194.471062 115.92 \nL 194.92289 111.966545 \nL 194.667384 108.013091 \nL 196.298031 104.059636 \nL 199.436024 100.106182 \nL 198.786455 96.152727 \nL 200.711665 92.199273 \nL 200.826362 88.245818 \nL 201.325059 84.292364 \nL 200.515267 80.338909 \nL 199.713668 76.385455 \nL 200.021018 72.432 \nL 200.148938 68.478545 \nL 200.281575 64.525091 \nL 201.297342 60.571636 \nL 202.753216 56.618182 \nL 201.612528 52.664727 \nL 204.276127 48.711273 \nL 207.285533 44.757818 \nL 207.153865 40.804364 \nL 208.967818 36.850909 \nL 208.002255 32.897455 \nL 207.033977 28.944 \nL 208.692598 24.990545 \nL 209.641366 21.037091 \nL 207.855644 17.083636 \n\" clip-path=\"url(#pb624a29358)\" style=\"fill: none; stroke: #d62728; stroke-width: 1.5; stroke-linecap: square\"/>\n   </g>\n   <g id=\"line2d_67\">\n    <path d=\"M 209.67767 214.756364 \nL 194.526475 210.802909 \nL 194.536631 206.849455 \nL 194.55706 202.896 \nL 194.577565 198.942545 \nL 194.608457 194.989091 \nL 195.240734 191.035636 \nL 194.701844 187.082182 \nL 194.743516 183.128727 \nL 194.564945 179.175273 \nL 195.114371 175.221818 \nL 195.842165 171.268364 \nL 195.544744 167.314909 \nL 195.166766 163.361455 \nL 196.16332 159.408 \nL 196.191167 155.454545 \nL 197.12303 151.501091 \nL 197.187426 147.547636 \nL 199.968951 143.594182 \nL 198.213858 139.640727 \nL 197.052156 135.687273 \nL 198.277603 131.733818 \nL 198.315259 127.780364 \nL 200.158108 123.826909 \nL 198.261504 119.873455 \nL 197.477882 115.92 \nL 197.921032 111.966545 \nL 197.670477 108.013091 \nL 199.269526 104.059636 \nL 202.346711 100.106182 \nL 201.709729 96.152727 \nL 203.597633 92.199273 \nL 203.71001 88.245818 \nL 204.199022 84.292364 \nL 203.40502 80.338909 \nL 202.61898 76.385455 \nL 202.920374 72.432 \nL 203.045815 68.478545 \nL 203.175882 64.525091 \nL 204.171962 60.571636 \nL 205.599623 56.618182 \nL 204.481039 52.664727 \nL 207.093022 48.711273 \nL 210.044112 44.757818 \nL 209.914996 40.804364 \nL 211.693798 36.850909 \nL 210.746946 32.897455 \nL 209.797431 28.944 \nL 211.423911 24.990545 \nL 212.354294 21.037091 \nL 210.603385 17.083636 \n\" clip-path=\"url(#pb624a29358)\" style=\"fill: none; stroke: #9467bd; stroke-width: 1.5; stroke-linecap: square\"/>\n   </g>\n   <g id=\"line2d_68\">\n    <path d=\"M 212.721307 214.756364 \nL 197.604832 210.802909 \nL 197.614786 206.849455 \nL 197.634809 202.896 \nL 197.654908 198.942545 \nL 197.685187 194.989091 \nL 198.304919 191.035636 \nL 197.776721 187.082182 \nL 197.817566 183.128727 \nL 197.642538 179.175273 \nL 198.181064 175.221818 \nL 198.894418 171.268364 \nL 198.602898 167.314909 \nL 198.232419 163.361455 \nL 199.209201 159.408 \nL 199.235618 155.454545 \nL 200.149283 151.501091 \nL 200.212401 147.547636 \nL 202.93874 143.594182 \nL 201.218468 139.640727 \nL 200.079814 135.687273 \nL 201.280948 131.733818 \nL 201.317361 127.780364 \nL 203.124046 123.826909 \nL 201.265071 119.873455 \nL 200.496753 115.92 \nL 200.931191 111.966545 \nL 200.685607 108.013091 \nL 202.25293 104.059636 \nL 205.269064 100.106182 \nL 204.64472 96.152727 \nL 206.495167 92.199273 \nL 206.605216 88.245818 \nL 207.084505 84.292364 \nL 206.306356 80.338909 \nL 205.535936 76.385455 \nL 205.831351 72.432 \nL 205.954303 68.478545 \nL 206.081789 64.525091 \nL 207.058103 60.571636 \nL 208.457438 56.618182 \nL 207.361046 52.664727 \nL 209.921208 48.711273 \nL 212.813748 44.757818 \nL 212.687194 40.804364 \nL 214.430704 36.850909 \nL 213.502637 32.897455 \nL 212.571961 28.944 \nL 214.166172 24.990545 \nL 215.078096 21.037091 \nL 213.36205 17.083636 \n\" clip-path=\"url(#pb624a29358)\" style=\"fill: none; stroke: #8c564b; stroke-width: 1.5; stroke-linecap: square\"/>\n   </g>\n   <g id=\"line2d_69\">\n    <path d=\"M 215.764943 214.756364 \nL 200.695526 210.802909 \nL 200.705278 206.849455 \nL 200.724895 202.896 \nL 200.744585 198.942545 \nL 200.774248 194.989091 \nL 201.381386 191.035636 \nL 200.863922 187.082182 \nL 200.903937 183.128727 \nL 200.732467 179.175273 \nL 201.260048 175.221818 \nL 201.958905 171.268364 \nL 201.673309 167.314909 \nL 201.310359 163.361455 \nL 202.26729 159.408 \nL 202.292271 155.454545 \nL 203.187664 151.501091 \nL 203.2495 147.547636 \nL 205.920432 143.594182 \nL 204.23512 139.640727 \nL 203.119608 135.687273 \nL 204.296331 131.733818 \nL 204.331495 127.780364 \nL 206.101872 123.826909 \nL 204.280677 119.873455 \nL 203.527723 115.92 \nL 203.953414 111.966545 \nL 203.712821 108.013091 \nL 205.248292 104.059636 \nL 208.20313 100.106182 \nL 207.591474 96.152727 \nL 209.404315 92.199273 \nL 209.512026 88.245818 \nL 209.981552 84.292364 \nL 209.21932 80.338909 \nL 208.464584 76.385455 \nL 208.753995 72.432 \nL 208.874448 68.478545 \nL 208.999343 64.525091 \nL 209.955811 60.571636 \nL 211.326707 56.618182 \nL 210.252597 52.664727 \nL 212.760729 48.711273 \nL 215.594485 44.757818 \nL 215.470502 40.804364 \nL 217.17858 36.850909 \nL 216.269374 32.897455 \nL 215.357612 28.944 \nL 216.919424 24.990545 \nL 217.812815 21.037091 \nL 216.131614 17.083636 \n\" clip-path=\"url(#pb624a29358)\" style=\"fill: none; stroke: #e377c2; stroke-width: 1.5; stroke-linecap: square\"/>\n   </g>\n   <g id=\"line2d_70\">\n    <path d=\"M 218.80858 214.756364 \nL 203.798609 210.802909 \nL 203.808157 206.849455 \nL 203.827365 202.896 \nL 203.846645 198.942545 \nL 203.875691 194.989091 \nL 204.470183 191.035636 \nL 203.963497 187.082182 \nL 204.002679 183.128727 \nL 203.834779 179.175273 \nL 204.351372 175.221818 \nL 205.035674 171.268364 \nL 204.756027 167.314909 \nL 204.400636 163.361455 \nL 205.337636 159.408 \nL 205.361175 155.454545 \nL 206.238224 151.501091 \nL 206.298771 147.547636 \nL 208.914074 143.594182 \nL 207.263864 139.640727 \nL 206.171585 135.687273 \nL 207.3238 131.733818 \nL 207.357711 127.780364 \nL 209.091633 123.826909 \nL 207.308369 119.873455 \nL 206.570842 115.92 \nL 206.987751 111.966545 \nL 206.752169 108.013091 \nL 208.25566 104.059636 \nL 211.148955 100.106182 \nL 210.550039 96.152727 \nL 212.325123 92.199273 \nL 212.430486 88.245818 \nL 212.890211 84.292364 \nL 212.143959 80.338909 \nL 211.404969 76.385455 \nL 211.688353 72.432 \nL 211.806297 68.478545 \nL 211.928591 64.525091 \nL 212.865134 60.571636 \nL 214.207477 56.618182 \nL 213.155738 52.664727 \nL 215.611631 48.711273 \nL 218.386367 44.757818 \nL 218.264966 40.804364 \nL 219.937469 36.850909 \nL 219.0472 32.897455 \nL 218.154427 28.944 \nL 219.683711 24.990545 \nL 220.558494 21.037091 \nL 218.912265 17.083636 \n\" clip-path=\"url(#pb624a29358)\" style=\"fill: none; stroke: #7f7f7f; stroke-width: 1.5; stroke-linecap: square\"/>\n   </g>\n   <g id=\"line2d_71\">\n    <path d=\"M 221.852216 214.756364 \nL 206.914128 210.802909 \nL 206.923472 206.849455 \nL 206.94227 202.896 \nL 206.961139 198.942545 \nL 206.989564 194.989091 \nL 207.571361 191.035636 \nL 207.075495 187.082182 \nL 207.11384 183.128727 \nL 206.949526 179.175273 \nL 207.455087 175.221818 \nL 208.124775 171.268364 \nL 207.8511 167.314909 \nL 207.503298 163.361455 \nL 208.420289 159.408 \nL 208.442379 155.454545 \nL 209.30101 151.501091 \nL 209.360264 147.547636 \nL 211.919715 143.594182 \nL 210.304747 139.640727 \nL 209.235794 135.687273 \nL 210.363402 131.733818 \nL 210.396055 127.780364 \nL 212.093377 123.826909 \nL 210.348196 119.873455 \nL 209.626158 115.92 \nL 210.034249 111.966545 \nL 209.803698 108.013091 \nL 211.275081 104.059636 \nL 214.106587 100.106182 \nL 213.520461 96.152727 \nL 215.257637 92.199273 \nL 215.360644 88.245818 \nL 215.810528 84.292364 \nL 215.080321 80.338909 \nL 214.35714 76.385455 \nL 214.634472 72.432 \nL 214.749897 68.478545 \nL 214.86958 64.525091 \nL 215.786117 60.571636 \nL 217.099792 56.618182 \nL 216.070514 52.664727 \nL 218.47396 48.711273 \nL 221.189439 44.757818 \nL 221.070631 40.804364 \nL 222.707416 36.850909 \nL 221.836159 32.897455 \nL 220.962452 28.944 \nL 222.459077 24.990545 \nL 223.315179 21.037091 \nL 221.704081 17.083636 \n\" clip-path=\"url(#pb624a29358)\" style=\"fill: none; stroke: #bcbd22; stroke-width: 1.5; stroke-linecap: square\"/>\n   </g>\n   <g id=\"line2d_72\">\n    <path d=\"M 224.895852 214.756364 \nL 210.042134 210.802909 \nL 210.051274 206.849455 \nL 210.06966 202.896 \nL 210.088115 198.942545 \nL 210.115918 194.989091 \nL 210.684968 191.035636 \nL 210.199966 187.082182 \nL 210.237471 183.128727 \nL 210.076757 179.175273 \nL 210.571241 175.221818 \nL 211.226257 171.268364 \nL 210.958578 167.314909 \nL 210.618397 163.361455 \nL 211.515296 159.408 \nL 211.535933 155.454545 \nL 212.376071 151.501091 \nL 212.434028 147.547636 \nL 214.937403 143.594182 \nL 213.357817 139.640727 \nL 212.312284 135.687273 \nL 213.415188 131.733818 \nL 213.446577 127.780364 \nL 215.107153 123.826909 \nL 213.400207 119.873455 \nL 212.69372 115.92 \nL 213.092958 111.966545 \nL 212.867458 108.013091 \nL 214.306603 104.059636 \nL 217.076074 100.106182 \nL 216.50279 96.152727 \nL 218.201905 92.199273 \nL 218.302546 88.245818 \nL 218.74255 84.292364 \nL 218.028451 80.338909 \nL 217.321143 76.385455 \nL 217.592399 72.432 \nL 217.705295 68.478545 \nL 217.822356 64.525091 \nL 218.718808 60.571636 \nL 220.0037 56.618182 \nL 218.996973 52.664727 \nL 221.347761 48.711273 \nL 224.003746 44.757818 \nL 223.887541 40.804364 \nL 225.488465 36.850909 \nL 224.636297 32.897455 \nL 223.781732 28.944 \nL 225.245566 24.990545 \nL 226.082912 21.037091 \nL 224.507087 17.083636 \n\" clip-path=\"url(#pb624a29358)\" style=\"fill: none; stroke: #17becf; stroke-width: 1.5; stroke-linecap: square\"/>\n   </g>\n   <g id=\"line2d_73\">\n    <path d=\"M 227.939489 214.756364 \nL 213.182678 210.802909 \nL 213.191612 206.849455 \nL 213.209585 202.896 \nL 213.227624 198.942545 \nL 213.254802 194.989091 \nL 213.811054 191.035636 \nL 213.33696 187.082182 \nL 213.373621 183.128727 \nL 213.216522 179.175273 \nL 213.699885 175.221818 \nL 214.34017 171.268364 \nL 214.078511 167.314909 \nL 213.74598 163.361455 \nL 214.622708 159.408 \nL 214.641886 155.454545 \nL 215.463458 151.501091 \nL 215.520111 147.547636 \nL 217.967186 143.594182 \nL 216.423125 139.640727 \nL 215.401106 135.687273 \nL 216.479205 131.733818 \nL 216.509326 127.780364 \nL 218.133007 123.826909 \nL 216.464451 119.873455 \nL 215.773576 115.92 \nL 216.163926 111.966545 \nL 215.943497 108.013091 \nL 217.350277 104.059636 \nL 220.057462 100.106182 \nL 219.497071 96.152727 \nL 221.157974 92.199273 \nL 221.256239 88.245818 \nL 221.686323 84.292364 \nL 220.988397 80.338909 \nL 220.297026 76.385455 \nL 220.562181 72.432 \nL 220.672538 68.478545 \nL 220.786967 64.525091 \nL 221.663253 60.571636 \nL 222.919247 56.618182 \nL 221.93516 52.664727 \nL 224.23308 48.711273 \nL 226.829332 44.757818 \nL 226.71574 40.804364 \nL 228.28066 36.850909 \nL 227.447657 32.897455 \nL 226.612311 28.944 \nL 228.043224 24.990545 \nL 228.861738 21.037091 \nL 227.321327 17.083636 \n\" clip-path=\"url(#pb624a29358)\" style=\"fill: none; stroke: #1f77b4; stroke-width: 1.5; stroke-linecap: square\"/>\n   </g>\n   <g id=\"line2d_74\">\n    <path d=\"M 230.983125 214.756364 \nL 216.335809 210.802909 \nL 216.344536 206.849455 \nL 216.362094 202.896 \nL 216.379717 198.942545 \nL 216.406267 194.989091 \nL 216.94967 191.035636 \nL 216.486527 187.082182 \nL 216.522341 183.128727 \nL 216.368871 179.175273 \nL 216.841069 175.221818 \nL 217.466563 171.268364 \nL 217.210948 167.314909 \nL 216.886099 163.361455 \nL 217.742575 159.408 \nL 217.760287 155.454545 \nL 218.563219 151.501091 \nL 218.618564 147.547636 \nL 221.009112 143.594182 \nL 219.500718 139.640727 \nL 218.502307 135.687273 \nL 219.555503 131.733818 \nL 219.584351 127.780364 \nL 221.170989 123.826909 \nL 219.540975 119.873455 \nL 218.865777 115.92 \nL 219.247202 111.966545 \nL 219.031865 108.013091 \nL 220.406149 104.059636 \nL 223.0508 100.106182 \nL 222.503354 96.152727 \nL 224.12589 92.199273 \nL 224.221771 88.245818 \nL 224.641895 84.292364 \nL 223.960207 80.338909 \nL 223.284837 76.385455 \nL 223.543867 72.432 \nL 223.651674 68.478545 \nL 223.763459 64.525091 \nL 224.619499 60.571636 \nL 225.846479 56.618182 \nL 224.885125 52.664727 \nL 227.129963 48.711273 \nL 229.666243 44.757818 \nL 229.555276 40.804364 \nL 231.084046 36.850909 \nL 230.270285 32.897455 \nL 229.454236 28.944 \nL 230.852096 24.990545 \nL 231.651702 21.037091 \nL 230.146846 17.083636 \n\" clip-path=\"url(#pb624a29358)\" style=\"fill: none; stroke: #ff7f0e; stroke-width: 1.5; stroke-linecap: square\"/>\n   </g>\n   <g id=\"line2d_75\">\n    <path d=\"M 234.026761 214.756364 \nL 219.501577 210.802909 \nL 219.510098 206.849455 \nL 219.527239 202.896 \nL 219.544443 198.942545 \nL 219.570362 194.989091 \nL 220.100865 191.035636 \nL 219.648717 187.082182 \nL 219.683682 183.128727 \nL 219.533855 179.175273 \nL 219.994842 175.221818 \nL 220.605487 171.268364 \nL 220.355941 167.314909 \nL 220.038803 163.361455 \nL 220.874947 159.408 \nL 220.891187 155.454545 \nL 221.675404 151.501091 \nL 221.729435 147.547636 \nL 224.063231 143.594182 \nL 222.590646 139.640727 \nL 221.615938 135.687273 \nL 222.644131 131.733818 \nL 222.6717 127.780364 \nL 224.221147 123.826909 \nL 222.629831 119.873455 \nL 221.970371 115.92 \nL 222.342836 111.966545 \nL 222.132612 108.013091 \nL 223.474269 104.059636 \nL 226.056135 100.106182 \nL 225.521685 96.152727 \nL 227.105702 92.199273 \nL 227.199188 88.245818 \nL 227.609313 84.292364 \nL 226.943929 80.338909 \nL 226.284622 76.385455 \nL 226.537503 72.432 \nL 226.642751 68.478545 \nL 226.751882 64.525091 \nL 227.587594 60.571636 \nL 228.785444 56.618182 \nL 227.846912 52.664727 \nL 230.038457 48.711273 \nL 232.514525 44.757818 \nL 232.406192 40.804364 \nL 233.898669 36.850909 \nL 233.104227 32.897455 \nL 232.307551 28.944 \nL 233.672225 24.990545 \nL 234.452848 21.037091 \nL 232.98369 17.083636 \n\" clip-path=\"url(#pb624a29358)\" style=\"fill: none; stroke: #2ca02c; stroke-width: 1.5; stroke-linecap: square\"/>\n   </g>\n   <g id=\"line2d_76\">\n    <path d=\"M 237.070398 214.756364 \nL 222.680034 210.802909 \nL 222.688347 206.849455 \nL 222.705069 202.896 \nL 222.721854 198.942545 \nL 222.74714 194.989091 \nL 223.26469 191.035636 \nL 222.823582 187.082182 \nL 222.857693 183.128727 \nL 222.711524 179.175273 \nL 223.161256 175.221818 \nL 223.756992 171.268364 \nL 223.513538 167.314909 \nL 223.204144 163.361455 \nL 224.019873 159.408 \nL 224.034636 155.454545 \nL 224.800063 151.501091 \nL 224.852774 147.547636 \nL 227.12959 143.594182 \nL 225.692959 139.640727 \nL 224.742048 135.687273 \nL 225.745137 131.733818 \nL 225.771423 127.780364 \nL 227.283531 123.826909 \nL 225.731067 119.873455 \nL 225.087408 115.92 \nL 225.450878 111.966545 \nL 225.245786 108.013091 \nL 226.554687 104.059636 \nL 229.073516 100.106182 \nL 228.552115 96.152727 \nL 230.097457 92.199273 \nL 230.188539 88.245818 \nL 230.588624 84.292364 \nL 229.939608 80.338909 \nL 229.296431 76.385455 \nL 229.543137 72.432 \nL 229.645815 68.478545 \nL 229.752283 64.525091 \nL 230.567586 60.571636 \nL 231.736188 56.618182 \nL 230.820571 52.664727 \nL 232.958609 48.711273 \nL 235.374223 44.757818 \nL 235.268535 40.804364 \nL 236.724573 36.850909 \nL 235.949527 32.897455 \nL 235.172302 28.944 \nL 236.503657 24.990545 \nL 237.265222 21.037091 \nL 235.831903 17.083636 \n\" clip-path=\"url(#pb624a29358)\" style=\"fill: none; stroke: #d62728; stroke-width: 1.5; stroke-linecap: square\"/>\n   </g>\n   <g id=\"line2d_77\">\n    <path d=\"M 240.114034 214.756364 \nL 225.871231 210.802909 \nL 225.879335 206.849455 \nL 225.895636 202.896 \nL 225.911999 198.942545 \nL 225.93665 194.989091 \nL 226.441196 191.035636 \nL 226.011172 187.082182 \nL 226.044425 183.128727 \nL 225.901929 179.175273 \nL 226.340361 175.221818 \nL 226.921128 171.268364 \nL 226.683791 167.314909 \nL 226.382171 163.361455 \nL 227.177404 159.408 \nL 227.190684 155.454545 \nL 227.937245 151.501091 \nL 227.988632 147.547636 \nL 230.208239 143.594182 \nL 228.807706 139.640727 \nL 227.880688 135.687273 \nL 228.858573 131.733818 \nL 228.88357 127.780364 \nL 230.358188 123.826909 \nL 228.844733 119.873455 \nL 228.216939 115.92 \nL 228.571377 111.966545 \nL 228.371438 108.013091 \nL 229.647451 104.059636 \nL 232.10299 100.106182 \nL 231.59469 96.152727 \nL 233.101204 92.199273 \nL 233.189871 88.245818 \nL 233.579877 84.292364 \nL 232.947295 80.338909 \nL 232.320311 76.385455 \nL 232.560818 72.432 \nL 232.660916 68.478545 \nL 232.764709 64.525091 \nL 233.559521 60.571636 \nL 234.698759 56.618182 \nL 233.806148 52.664727 \nL 235.890464 48.711273 \nL 238.245383 44.757818 \nL 238.14235 40.804364 \nL 239.561802 36.850909 \nL 238.806231 32.897455 \nL 238.048535 28.944 \nL 239.346438 24.990545 \nL 240.088867 21.037091 \nL 238.691533 17.083636 \n\" clip-path=\"url(#pb624a29358)\" style=\"fill: none; stroke: #9467bd; stroke-width: 1.5; stroke-linecap: square\"/>\n   </g>\n   <g id=\"line2d_78\">\n    <path d=\"M 243.15767 214.756364 \nL 229.075218 210.802909 \nL 229.083112 206.849455 \nL 229.098992 202.896 \nL 229.114931 198.942545 \nL 229.138944 194.989091 \nL 229.630434 191.035636 \nL 229.211537 187.082182 \nL 229.24393 183.128727 \nL 229.105121 179.175273 \nL 229.532208 175.221818 \nL 230.097946 171.268364 \nL 229.866751 167.314909 \nL 229.572936 163.361455 \nL 230.34759 159.408 \nL 230.359381 155.454545 \nL 231.087001 151.501091 \nL 231.137058 147.547636 \nL 233.299228 143.594182 \nL 231.934937 139.640727 \nL 231.031908 135.687273 \nL 231.984488 131.733818 \nL 232.00819 127.780364 \nL 233.445169 123.826909 \nL 231.970878 119.873455 \nL 231.359013 115.92 \nL 231.704382 111.966545 \nL 231.509618 108.013091 \nL 232.75261 104.059636 \nL 235.144607 100.106182 \nL 234.64946 96.152727 \nL 236.116989 92.199273 \nL 236.203233 88.245818 \nL 236.583118 84.292364 \nL 235.967037 80.338909 \nL 235.356311 76.385455 \nL 235.590594 72.432 \nL 235.688102 68.478545 \nL 235.789209 64.525091 \nL 236.563447 60.571636 \nL 237.673204 56.618182 \nL 236.803692 52.664727 \nL 238.834071 48.711273 \nL 241.12805 44.757818 \nL 241.027683 40.804364 \nL 242.410404 36.850909 \nL 241.674385 32.897455 \nL 240.936296 28.944 \nL 242.200612 24.990545 \nL 242.923829 21.037091 \nL 241.562624 17.083636 \n\" clip-path=\"url(#pb624a29358)\" style=\"fill: none; stroke: #8c564b; stroke-width: 1.5; stroke-linecap: square\"/>\n   </g>\n   <g id=\"line2d_79\">\n    <path d=\"M 246.201307 214.756364 \nL 232.292046 210.802909 \nL 232.299729 206.849455 \nL 232.315186 202.896 \nL 232.3307 198.942545 \nL 232.354073 194.989091 \nL 232.832454 191.035636 \nL 232.42473 187.082182 \nL 232.456259 183.128727 \nL 232.321152 179.175273 \nL 232.736848 175.221818 \nL 233.287497 171.268364 \nL 233.062468 167.314909 \nL 232.77649 163.361455 \nL 233.530482 159.408 \nL 233.540779 155.454545 \nL 234.249381 151.501091 \nL 234.298103 147.547636 \nL 236.402605 143.594182 \nL 235.074701 139.640727 \nL 234.195758 135.687273 \nL 235.122931 131.733818 \nL 235.145334 127.780364 \nL 236.544523 123.826909 \nL 235.109553 119.873455 \nL 234.51368 115.92 \nL 234.849945 111.966545 \nL 234.660375 108.013091 \nL 235.870216 104.059636 \nL 238.198414 100.106182 \nL 237.716474 96.152727 \nL 239.144861 92.199273 \nL 239.228672 88.245818 \nL 239.598396 84.292364 \nL 238.998881 80.338909 \nL 238.404479 76.385455 \nL 238.632514 72.432 \nL 238.727421 68.478545 \nL 238.825831 64.525091 \nL 239.579414 60.571636 \nL 240.65957 56.618182 \nL 239.813249 52.664727 \nL 241.789475 48.711273 \nL 244.022271 44.757818 \nL 243.924581 40.804364 \nL 245.270423 36.850909 \nL 244.554034 32.897455 \nL 243.835631 28.944 \nL 245.066227 24.990545 \nL 245.770154 21.037091 \nL 244.445222 17.083636 \n\" clip-path=\"url(#pb624a29358)\" style=\"fill: none; stroke: #e377c2; stroke-width: 1.5; stroke-linecap: square\"/>\n   </g>\n   <g id=\"line2d_80\">\n    <path d=\"M 249.244943 214.756364 \nL 235.521767 210.802909 \nL 235.52924 206.849455 \nL 235.544271 202.896 \nL 235.559358 198.942545 \nL 235.582088 194.989091 \nL 236.047307 191.035636 \nL 235.650801 187.082182 \nL 235.681462 183.128727 \nL 235.550073 179.175273 \nL 235.954332 175.221818 \nL 236.489831 171.268364 \nL 236.270994 167.314909 \nL 235.992883 163.361455 \nL 236.726132 159.408 \nL 236.734928 155.454545 \nL 237.424437 151.501091 \nL 237.471818 147.547636 \nL 239.51842 143.594182 \nL 238.22705 139.640727 \nL 237.372288 135.687273 \nL 238.273953 131.733818 \nL 238.295052 127.780364 \nL 239.656299 123.826909 \nL 238.260808 119.873455 \nL 237.680991 115.92 \nL 238.008116 111.966545 \nL 237.823761 108.013091 \nL 239.000316 104.059636 \nL 241.264461 100.106182 \nL 240.79578 96.152727 \nL 242.18487 92.199273 \nL 242.266238 88.245818 \nL 242.62576 84.292364 \nL 242.042877 80.338909 \nL 241.464864 76.385455 \nL 241.686626 72.432 \nL 241.778921 68.478545 \nL 241.874624 64.525091 \nL 242.607468 60.571636 \nL 243.657906 56.618182 \nL 242.834869 52.664727 \nL 244.756725 48.711273 \nL 246.928092 44.757818 \nL 246.83309 40.804364 \nL 248.141904 36.850909 \nL 247.445225 32.897455 \nL 246.746587 28.944 \nL 247.943326 24.990545 \nL 248.627887 21.037091 \nL 247.339374 17.083636 \n\" clip-path=\"url(#pb624a29358)\" style=\"fill: none; stroke: #7f7f7f; stroke-width: 1.5; stroke-linecap: square\"/>\n   </g>\n   <g id=\"line2d_81\">\n    <path d=\"M 252.28858 214.756364 \nL 238.764434 210.802909 \nL 238.771694 206.849455 \nL 238.786298 202.896 \nL 238.800957 198.942545 \nL 238.823041 194.989091 \nL 239.275046 191.035636 \nL 238.889802 187.082182 \nL 238.919593 183.128727 \nL 238.791935 179.175273 \nL 239.184712 175.221818 \nL 239.705001 171.268364 \nL 239.492379 167.314909 \nL 239.222168 163.361455 \nL 239.93459 159.408 \nL 239.941878 155.454545 \nL 240.612218 151.501091 \nL 240.658253 147.547636 \nL 242.646724 143.594182 \nL 241.392034 139.640727 \nL 240.561551 135.687273 \nL 241.437604 131.733818 \nL 241.457394 127.780364 \nL 242.780546 123.826909 \nL 241.424693 119.873455 \nL 240.860997 115.92 \nL 241.178944 111.966545 \nL 240.999826 108.013091 \nL 242.142962 104.059636 \nL 244.342797 100.106182 \nL 243.887428 96.152727 \nL 245.237062 92.199273 \nL 245.315978 88.245818 \nL 245.665258 84.292364 \nL 245.099074 80.338909 \nL 244.537515 76.385455 \nL 244.752978 72.432 \nL 244.842652 68.478545 \nL 244.935636 64.525091 \nL 245.64766 60.571636 \nL 246.668259 56.618182 \nL 245.8686 52.664727 \nL 247.735868 48.711273 \nL 249.845559 44.757818 \nL 249.753256 40.804364 \nL 251.024895 36.850909 \nL 250.348004 32.897455 \nL 249.66921 28.944 \nL 250.831957 24.990545 \nL 251.497074 21.037091 \nL 250.245126 17.083636 \n\" clip-path=\"url(#pb624a29358)\" style=\"fill: none; stroke: #bcbd22; stroke-width: 1.5; stroke-linecap: square\"/>\n   </g>\n   <g id=\"line2d_82\">\n    <path d=\"M 255.332216 214.756364 \nL 242.020097 210.802909 \nL 242.027143 206.849455 \nL 242.041319 202.896 \nL 242.055548 198.942545 \nL 242.076984 194.989091 \nL 242.515722 191.035636 \nL 242.141785 187.082182 \nL 242.170701 183.128727 \nL 242.046791 179.175273 \nL 242.428039 175.221818 \nL 242.933057 171.268364 \nL 242.726676 167.314909 \nL 242.464396 163.361455 \nL 243.155907 159.408 \nL 243.161683 155.454545 \nL 243.812775 151.501091 \nL 243.85746 147.547636 \nL 245.787567 143.594182 \nL 244.569703 139.640727 \nL 243.763595 135.687273 \nL 244.613936 131.733818 \nL 244.63241 127.780364 \nL 245.917316 123.826909 \nL 244.601259 119.873455 \nL 244.053748 115.92 \nL 244.362481 111.966545 \nL 244.18862 108.013091 \nL 245.298204 104.059636 \nL 247.433471 100.106182 \nL 246.991467 96.152727 \nL 248.301488 92.199273 \nL 248.377941 88.245818 \nL 248.716938 84.292364 \nL 248.16752 80.338909 \nL 247.622482 76.385455 \nL 247.83162 72.432 \nL 247.918662 68.478545 \nL 248.008918 64.525091 \nL 248.700036 60.571636 \nL 249.690678 56.618182 \nL 248.914489 52.664727 \nL 250.726951 48.711273 \nL 252.77472 44.757818 \nL 252.685126 40.804364 \nL 253.919441 36.850909 \nL 253.262418 32.897455 \nL 252.603547 28.944 \nL 253.732166 24.990545 \nL 254.377761 21.037091 \nL 253.162524 17.083636 \n\" clip-path=\"url(#pb624a29358)\" style=\"fill: none; stroke: #17becf; stroke-width: 1.5; stroke-linecap: square\"/>\n   </g>\n   <g id=\"line2d_83\">\n    <path d=\"M 258.375852 214.756364 \nL 245.288808 210.802909 \nL 245.295641 206.849455 \nL 245.309386 202.896 \nL 245.323183 198.942545 \nL 245.343968 194.989091 \nL 245.769387 191.035636 \nL 245.406802 187.082182 \nL 245.434841 183.128727 \nL 245.314692 179.175273 \nL 245.684366 175.221818 \nL 246.174051 171.268364 \nL 245.973936 167.314909 \nL 245.719619 163.361455 \nL 246.390135 159.408 \nL 246.394392 155.454545 \nL 247.026161 151.501091 \nL 247.069489 147.547636 \nL 248.940997 143.594182 \nL 247.760108 139.640727 \nL 246.978474 135.687273 \nL 247.802998 131.733818 \nL 247.820152 127.780364 \nL 249.066658 123.826909 \nL 247.790556 119.873455 \nL 247.259296 115.92 \nL 247.558778 111.966545 \nL 247.390195 108.013091 \nL 248.466092 104.059636 \nL 250.536532 100.106182 \nL 250.107948 96.152727 \nL 251.378197 92.199273 \nL 251.452177 88.245818 \nL 251.780849 84.292364 \nL 251.248265 80.338909 \nL 250.719813 76.385455 \nL 250.922602 72.432 \nL 251.007001 68.478545 \nL 251.094516 64.525091 \nL 251.764646 60.571636 \nL 252.725211 56.618182 \nL 251.972587 52.664727 \nL 253.730022 48.711273 \nL 255.715621 44.757818 \nL 255.628747 40.804364 \nL 256.825588 36.850909 \nL 256.188512 32.897455 \nL 255.549645 28.944 \nL 256.643999 24.990545 \nL 257.269993 21.037091 \nL 256.091615 17.083636 \n\" clip-path=\"url(#pb624a29358)\" style=\"fill: none; stroke: #1f77b4; stroke-width: 1.5; stroke-linecap: square\"/>\n   </g>\n   <g id=\"line2d_84\">\n    <path d=\"M 261.419489 214.756364 \nL 248.570621 210.802909 \nL 248.577239 206.849455 \nL 248.590552 202.896 \nL 248.603915 198.942545 \nL 248.624047 194.989091 \nL 249.036092 191.035636 \nL 248.684906 187.082182 \nL 248.712063 183.128727 \nL 248.595691 179.175273 \nL 248.953743 175.221818 \nL 249.428035 171.268364 \nL 249.234211 167.314909 \nL 248.987888 163.361455 \nL 249.637327 159.408 \nL 249.640058 155.454545 \nL 250.252426 151.501091 \nL 250.294391 147.547636 \nL 252.107067 143.594182 \nL 250.963301 139.640727 \nL 250.206238 135.687273 \nL 251.004842 131.733818 \nL 251.020671 127.780364 \nL 252.228623 123.826909 \nL 250.992637 119.873455 \nL 250.477692 115.92 \nL 250.767885 111.966545 \nL 250.604602 108.013091 \nL 251.646677 104.059636 \nL 253.65203 100.106182 \nL 253.236919 96.152727 \nL 254.467236 92.199273 \nL 254.538734 88.245818 \nL 254.85704 84.292364 \nL 254.341357 80.338909 \nL 253.829558 76.385455 \nL 254.025973 72.432 \nL 254.107718 68.478545 \nL 254.192483 64.525091 \nL 254.841539 60.571636 \nL 255.771906 56.618182 \nL 255.042942 52.664727 \nL 256.74513 48.711273 \nL 258.668309 44.757818 \nL 258.584166 40.804364 \nL 259.743383 36.850909 \nL 259.126335 32.897455 \nL 258.507551 28.944 \nL 259.567502 24.990545 \nL 260.173818 21.037091 \nL 259.032446 17.083636 \n\" clip-path=\"url(#pb624a29358)\" style=\"fill: none; stroke: #ff7f0e; stroke-width: 1.5; stroke-linecap: square\"/>\n   </g>\n   <g id=\"line2d_85\">\n    <path d=\"M 264.463125 214.756364 \nL 251.865587 210.802909 \nL 251.87199 206.849455 \nL 251.884869 202.896 \nL 251.897797 198.942545 \nL 251.917272 194.989091 \nL 252.31589 191.035636 \nL 251.976148 187.082182 \nL 252.00242 183.128727 \nL 251.889841 179.175273 \nL 252.236225 175.221818 \nL 252.695061 171.268364 \nL 252.507553 167.314909 \nL 252.269257 163.361455 \nL 252.897533 159.408 \nL 252.898733 155.454545 \nL 253.491621 151.501091 \nL 253.53222 147.547636 \nL 255.285826 143.594182 \nL 254.179331 139.640727 \nL 253.446939 135.687273 \nL 254.219519 131.733818 \nL 254.234017 127.780364 \nL 255.403261 123.826909 \nL 254.207551 119.873455 \nL 253.708987 115.92 \nL 253.989855 111.966545 \nL 253.831893 108.013091 \nL 254.84001 104.059636 \nL 256.780016 100.106182 \nL 256.378432 96.152727 \nL 257.568657 92.199273 \nL 257.637662 88.245818 \nL 257.94556 84.292364 \nL 257.446846 80.338909 \nL 256.951768 76.385455 \nL 257.141781 72.432 \nL 257.220863 68.478545 \nL 257.302865 64.525091 \nL 257.930765 60.571636 \nL 258.830812 56.618182 \nL 258.125603 52.664727 \nL 259.772322 48.711273 \nL 261.632832 44.757818 \nL 261.55143 40.804364 \nL 262.672873 36.850909 \nL 262.075932 32.897455 \nL 261.477312 28.944 \nL 262.502723 24.990545 \nL 263.089281 21.037091 \nL 261.985063 17.083636 \n\" clip-path=\"url(#pb624a29358)\" style=\"fill: none; stroke: #2ca02c; stroke-width: 1.5; stroke-linecap: square\"/>\n   </g>\n   <g id=\"line2d_86\">\n    <path d=\"M 267.506761 214.756364 \nL 255.17376 210.802909 \nL 255.179946 206.849455 \nL 255.19239 202.896 \nL 255.20488 198.942545 \nL 255.223697 194.989091 \nL 255.608834 191.035636 \nL 255.280581 187.082182 \nL 255.305965 183.128727 \nL 255.197193 179.175273 \nL 255.531863 175.221818 \nL 255.975182 171.268364 \nL 255.794015 167.314909 \nL 255.563778 163.361455 \nL 256.170806 159.408 \nL 256.170468 155.454545 \nL 256.7438 151.501091 \nL 256.783025 147.547636 \nL 258.477326 143.594182 \nL 257.408252 139.640727 \nL 256.700628 135.687273 \nL 257.447081 131.733818 \nL 257.460243 127.780364 \nL 258.590623 123.826909 \nL 257.435351 119.873455 \nL 256.953234 115.92 \nL 257.224738 111.966545 \nL 257.072118 108.013091 \nL 258.046142 104.059636 \nL 259.920538 100.106182 \nL 259.532535 96.152727 \nL 260.682508 92.199273 \nL 260.749011 88.245818 \nL 261.04646 84.292364 \nL 260.564782 80.338909 \nL 260.086491 76.385455 \nL 260.270078 72.432 \nL 260.346485 68.478545 \nL 260.425715 64.525091 \nL 261.032372 60.571636 \nL 261.901978 56.618182 \nL 261.220619 52.664727 \nL 262.811648 48.711273 \nL 264.609236 44.757818 \nL 264.530588 40.804364 \nL 265.614104 36.850909 \nL 265.037351 32.897455 \nL 264.458976 28.944 \nL 265.449709 24.990545 \nL 266.01643 21.037091 \nL 264.949515 17.083636 \n\" clip-path=\"url(#pb624a29358)\" style=\"fill: none; stroke: #d62728; stroke-width: 1.5; stroke-linecap: square\"/>\n   </g>\n   <g id=\"line2d_87\">\n    <path d=\"M 270.550398 214.756364 \nL 258.495192 210.802909 \nL 258.50116 206.849455 \nL 258.513167 202.896 \nL 258.525218 198.942545 \nL 258.543374 194.989091 \nL 258.914976 191.035636 \nL 258.598259 187.082182 \nL 258.622751 183.128727 \nL 258.517801 179.175273 \nL 258.84071 175.221818 \nL 259.268449 171.268364 \nL 259.093649 167.314909 \nL 258.871503 163.361455 \nL 259.457198 159.408 \nL 259.455317 155.454545 \nL 260.009013 151.501091 \nL 260.04686 147.547636 \nL 261.681618 143.594182 \nL 260.650114 139.640727 \nL 259.967359 135.687273 \nL 260.687578 131.733818 \nL 260.699399 127.780364 \nL 261.79076 123.826909 \nL 260.676088 119.873455 \nL 260.210483 115.92 \nL 260.472587 111.966545 \nL 260.325331 108.013091 \nL 261.265124 104.059636 \nL 263.073648 100.106182 \nL 262.699281 96.152727 \nL 263.80884 92.199273 \nL 263.87283 88.245818 \nL 264.159788 84.292364 \nL 263.695215 80.338909 \nL 263.233778 76.385455 \nL 263.410914 72.432 \nL 263.484635 68.478545 \nL 263.56108 64.525091 \nL 264.14641 60.571636 \nL 264.985454 56.618182 \nL 264.32804 52.664727 \nL 265.863155 48.711273 \nL 267.59757 44.757818 \nL 267.521686 40.804364 \nL 268.567123 36.850909 \nL 268.010639 32.897455 \nL 267.45259 28.944 \nL 268.408506 24.990545 \nL 268.95531 21.037091 \nL 267.925848 17.083636 \n\" clip-path=\"url(#pb624a29358)\" style=\"fill: none; stroke: #9467bd; stroke-width: 1.5; stroke-linecap: square\"/>\n   </g>\n   <g id=\"line2d_88\">\n    <path d=\"M 273.594034 214.756364 \nL 261.829936 210.802909 \nL 261.835686 206.849455 \nL 261.847253 202.896 \nL 261.858864 198.942545 \nL 261.876356 194.989091 \nL 262.234368 191.035636 \nL 261.929234 187.082182 \nL 261.95283 183.128727 \nL 261.851718 179.175273 \nL 262.162819 175.221818 \nL 262.574916 171.268364 \nL 262.406508 167.314909 \nL 262.192486 163.361455 \nL 262.756762 159.408 \nL 262.753332 155.454545 \nL 263.287313 151.501091 \nL 263.323776 147.547636 \nL 264.898752 143.594182 \nL 263.90497 139.640727 \nL 263.247182 135.687273 \nL 263.941064 131.733818 \nL 263.951538 127.780364 \nL 265.003723 123.826909 \nL 263.929814 119.873455 \nL 263.480787 115.92 \nL 263.733453 111.966545 \nL 263.591582 108.013091 \nL 264.497008 104.059636 \nL 266.239395 100.106182 \nL 265.878718 96.152727 \nL 266.947701 92.199273 \nL 267.00917 88.245818 \nL 267.285594 84.292364 \nL 266.838194 80.338909 \nL 266.393679 76.385455 \nL 266.564337 72.432 \nL 266.635362 68.478545 \nL 266.709013 64.525091 \nL 267.272929 60.571636 \nL 268.081289 56.618182 \nL 267.447915 52.664727 \nL 268.926892 48.711273 \nL 270.597881 44.757818 \nL 270.524772 40.804364 \nL 271.531979 36.850909 \nL 270.995845 32.897455 \nL 270.458203 28.944 \nL 271.379161 24.990545 \nL 271.90597 21.037091 \nL 270.914111 17.083636 \n\" clip-path=\"url(#pb624a29358)\" style=\"fill: none; stroke: #8c564b; stroke-width: 1.5; stroke-linecap: square\"/>\n   </g>\n   <g id=\"line2d_89\">\n    <path d=\"M 276.63767 214.756364 \nL 265.178046 210.802909 \nL 265.183577 206.849455 \nL 265.194703 202.896 \nL 265.205872 198.942545 \nL 265.222697 194.989091 \nL 265.567066 191.035636 \nL 265.27356 187.082182 \nL 265.296256 183.128727 \nL 265.198998 179.175273 \nL 265.498242 175.221818 \nL 265.894635 171.268364 \nL 265.732645 167.314909 \nL 265.526779 163.361455 \nL 266.069551 159.408 \nL 266.064565 155.454545 \nL 266.578753 151.501091 \nL 266.613826 147.547636 \nL 268.128781 143.594182 \nL 267.172871 139.640727 \nL 266.540152 135.687273 \nL 267.20759 131.733818 \nL 267.216711 127.780364 \nL 268.229564 123.826909 \nL 267.196581 119.873455 \nL 266.764199 115.92 \nL 267.007389 111.966545 \nL 266.870925 108.013091 \nL 267.741845 104.059636 \nL 269.417831 100.106182 \nL 269.070899 96.152727 \nL 270.099144 92.199273 \nL 270.15808 88.245818 \nL 270.423929 84.292364 \nL 269.993771 80.338909 \nL 269.566246 76.385455 \nL 269.7304 72.432 \nL 269.798718 68.478545 \nL 269.869562 64.525091 \nL 270.41198 60.571636 \nL 271.189531 56.618182 \nL 270.580295 52.664727 \nL 272.002909 48.711273 \nL 273.610218 44.757818 \nL 273.539894 40.804364 \nL 274.508717 36.850909 \nL 273.993015 32.897455 \nL 273.475863 28.944 \nL 274.361724 24.990545 \nL 274.868456 21.037091 \nL 273.914351 17.083636 \n\" clip-path=\"url(#pb624a29358)\" style=\"fill: none; stroke: #e377c2; stroke-width: 1.5; stroke-linecap: square\"/>\n   </g>\n   <g id=\"line2d_90\">\n    <path d=\"M 279.681307 214.756364 \nL 268.539575 210.802909 \nL 268.544886 206.849455 \nL 268.55557 202.896 \nL 268.566294 198.942545 \nL 268.58245 194.989091 \nL 268.91312 191.035636 \nL 268.631289 187.082182 \nL 268.653083 183.128727 \nL 268.559694 179.175273 \nL 268.847035 175.221818 \nL 269.227659 171.268364 \nL 269.072113 167.314909 \nL 268.874436 163.361455 \nL 269.395618 159.408 \nL 269.389069 155.454545 \nL 269.883385 151.501091 \nL 269.917063 147.547636 \nL 271.371755 143.594182 \nL 270.45387 139.640727 \nL 269.846319 135.687273 \nL 270.487208 131.733818 \nL 270.494972 127.780364 \nL 271.468333 123.826909 \nL 270.476441 119.873455 \nL 270.060771 115.92 \nL 270.294447 111.966545 \nL 270.163411 108.013091 \nL 270.999688 104.059636 \nL 272.609006 100.106182 \nL 272.275875 96.152727 \nL 273.263218 92.199273 \nL 273.319611 88.245818 \nL 273.574842 84.292364 \nL 273.161995 80.338909 \nL 272.751528 76.385455 \nL 272.909152 72.432 \nL 272.974753 68.478545 \nL 273.042779 64.525091 \nL 273.563612 60.571636 \nL 274.310232 56.618182 \nL 273.72523 52.664727 \nL 275.091255 48.711273 \nL 276.634628 44.757818 \nL 276.567102 40.804364 \nL 277.497386 36.850909 \nL 277.002198 32.897455 \nL 276.505617 28.944 \nL 277.35624 24.990545 \nL 277.842815 21.037091 \nL 276.926615 17.083636 \n\" clip-path=\"url(#pb624a29358)\" style=\"fill: none; stroke: #7f7f7f; stroke-width: 1.5; stroke-linecap: square\"/>\n   </g>\n   <g id=\"line2d_91\">\n    <path d=\"M 282.724943 214.756364 \nL 271.914577 210.802909 \nL 271.919667 206.849455 \nL 271.929907 202.896 \nL 271.940185 198.942545 \nL 271.955669 194.989091 \nL 272.272586 191.035636 \nL 272.002477 187.082182 \nL 272.023364 183.128727 \nL 271.933859 179.175273 \nL 272.209249 175.221818 \nL 272.574043 171.268364 \nL 272.424966 167.314909 \nL 272.235511 163.361455 \nL 272.735015 159.408 \nL 272.726898 155.454545 \nL 273.201262 151.501091 \nL 273.233539 147.547636 \nL 274.627728 143.594182 \nL 273.748019 139.640727 \nL 273.165738 135.687273 \nL 273.77997 131.733818 \nL 273.786371 127.780364 \nL 274.720084 123.826909 \nL 273.769446 119.873455 \nL 273.370556 115.92 \nL 273.59468 111.966545 \nL 273.469093 108.013091 \nL 274.270588 104.059636 \nL 275.812971 100.106182 \nL 275.493695 96.152727 \nL 276.439973 92.199273 \nL 276.493813 88.245818 \nL 276.738383 84.292364 \nL 276.342918 80.338909 \nL 275.949577 76.385455 \nL 276.100645 72.432 \nL 276.163517 68.478545 \nL 276.228714 64.525091 \nL 276.727876 60.571636 \nL 277.44344 56.618182 \nL 276.88277 52.664727 \nL 278.191979 48.711273 \nL 279.671159 44.757818 \nL 279.606442 40.804364 \nL 280.498034 36.850909 \nL 280.023442 32.897455 \nL 279.547515 28.944 \nL 280.362759 24.990545 \nL 280.829096 21.037091 \nL 279.950953 17.083636 \n\" clip-path=\"url(#pb624a29358)\" style=\"fill: none; stroke: #bcbd22; stroke-width: 1.5; stroke-linecap: square\"/>\n   </g>\n   <g id=\"line2d_92\">\n    <path d=\"M 285.76858 214.756364 \nL 275.303106 210.802909 \nL 275.307975 206.849455 \nL 275.317768 202.896 \nL 275.327598 198.942545 \nL 275.342407 194.989091 \nL 275.645516 191.035636 \nL 275.387176 187.082182 \nL 275.407154 183.128727 \nL 275.321548 179.175273 \nL 275.584939 175.221818 \nL 275.933838 171.268364 \nL 275.791257 167.314909 \nL 275.610057 163.361455 \nL 276.087797 159.408 \nL 276.078105 155.454545 \nL 276.532437 151.501091 \nL 276.563308 147.547636 \nL 277.896751 143.594182 \nL 277.055372 139.640727 \nL 276.49846 135.687273 \nL 277.085931 131.733818 \nL 277.090963 127.780364 \nL 277.984868 123.826909 \nL 277.075651 119.873455 \nL 276.693606 115.92 \nL 276.90814 111.966545 \nL 276.788025 108.013091 \nL 277.554598 104.059636 \nL 279.029778 100.106182 \nL 278.724413 96.152727 \nL 279.629461 92.199273 \nL 279.680738 88.245818 \nL 279.914605 84.292364 \nL 279.53659 80.338909 \nL 279.160443 76.385455 \nL 279.30493 72.432 \nL 279.365061 68.478545 \nL 279.427418 64.525091 \nL 279.904822 60.571636 \nL 280.589206 56.618182 \nL 280.052965 52.664727 \nL 281.30513 48.711273 \nL 282.719862 44.757818 \nL 282.657964 40.804364 \nL 283.510709 36.850909 \nL 283.056795 32.897455 \nL 282.601604 28.944 \nL 283.381327 24.990545 \nL 283.827346 21.037091 \nL 282.987412 17.083636 \n\" clip-path=\"url(#pb624a29358)\" style=\"fill: none; stroke: #17becf; stroke-width: 1.5; stroke-linecap: square\"/>\n   </g>\n   <g id=\"line2d_93\">\n    <path d=\"M 288.812216 214.756364 \nL 278.705217 210.802909 \nL 278.709862 206.849455 \nL 278.719208 202.896 \nL 278.728588 198.942545 \nL 278.74272 194.989091 \nL 279.031965 191.035636 \nL 278.785442 187.082182 \nL 278.804505 183.128727 \nL 278.722815 179.175273 \nL 278.974159 175.221818 \nL 279.3071 171.268364 \nL 279.17104 167.314909 \nL 278.998128 163.361455 \nL 279.454017 159.408 \nL 279.442744 155.454545 \nL 279.876964 151.501091 \nL 279.906423 147.547636 \nL 281.178875 143.594182 \nL 280.37598 139.640727 \nL 279.844541 135.687273 \nL 280.405141 131.733818 \nL 280.4088 127.780364 \nL 281.262738 123.826909 \nL 280.395106 119.873455 \nL 280.029975 115.92 \nL 280.23488 111.966545 \nL 280.120259 108.013091 \nL 280.85177 104.059636 \nL 282.259478 100.106182 \nL 281.96808 96.152727 \nL 282.831732 92.199273 \nL 282.880435 88.245818 \nL 283.103557 84.292364 \nL 282.743062 80.338909 \nL 282.384179 76.385455 \nL 282.522057 72.432 \nL 282.579438 68.478545 \nL 282.638943 64.525091 \nL 283.094502 60.571636 \nL 283.747581 56.618182 \nL 283.235866 52.664727 \nL 284.43076 48.711273 \nL 285.780783 44.757818 \nL 285.721717 40.804364 \nL 286.535458 36.850909 \nL 286.102306 32.897455 \nL 285.667935 28.944 \nL 286.411995 24.990545 \nL 286.837613 21.037091 \nL 286.036042 17.083636 \n\" clip-path=\"url(#pb624a29358)\" style=\"fill: none; stroke: #1f77b4; stroke-width: 1.5; stroke-linecap: square\"/>\n   </g>\n   <g id=\"line2d_94\">\n    <path d=\"M 291.855852 214.756364 \nL 282.120963 210.802909 \nL 282.125385 206.849455 \nL 282.134281 202.896 \nL 282.14321 198.942545 \nL 282.156662 194.989091 \nL 282.431988 191.035636 \nL 282.197327 187.082182 \nL 282.215473 183.128727 \nL 282.137715 179.175273 \nL 282.376963 175.221818 \nL 282.693882 171.268364 \nL 282.56437 167.314909 \nL 282.399778 163.361455 \nL 282.833729 159.408 \nL 282.820869 155.454545 \nL 283.234895 151.501091 \nL 283.262936 147.547636 \nL 284.474155 143.594182 \nL 283.709897 139.640727 \nL 283.204033 135.687273 \nL 283.737655 131.733818 \nL 283.739934 127.780364 \nL 284.553745 123.826909 \nL 283.727866 119.873455 \nL 283.379716 115.92 \nL 283.574954 111.966545 \nL 283.465849 108.013091 \nL 284.162157 104.059636 \nL 285.502122 100.106182 \nL 285.224747 96.152727 \nL 286.046838 92.199273 \nL 286.092958 88.245818 \nL 286.30529 84.292364 \nL 285.962386 80.338909 \nL 285.620836 76.385455 \nL 285.752078 72.432 \nL 285.806698 68.478545 \nL 285.863339 64.525091 \nL 286.296965 60.571636 \nL 286.918614 56.618182 \nL 286.431525 52.664727 \nL 287.568916 48.711273 \nL 288.853973 44.757818 \nL 288.797749 40.804364 \nL 289.572331 36.850909 \nL 289.160023 32.897455 \nL 288.746555 28.944 \nL 289.454809 24.990545 \nL 289.859945 21.037091 \nL 289.096891 17.083636 \n\" clip-path=\"url(#pb624a29358)\" style=\"fill: none; stroke: #ff7f0e; stroke-width: 1.5; stroke-linecap: square\"/>\n   </g>\n   <g id=\"line2d_95\">\n    <path d=\"M 294.899489 214.756364 \nL 285.550399 210.802909 \nL 285.554597 206.849455 \nL 285.563041 202.896 \nL 285.571517 198.942545 \nL 285.584286 194.989091 \nL 285.845637 191.035636 \nL 285.622888 187.082182 \nL 285.640113 183.128727 \nL 285.566301 179.175273 \nL 285.793405 175.221818 \nL 286.094238 171.268364 \nL 285.9713 167.314909 \nL 285.815063 163.361455 \nL 286.226987 159.408 \nL 286.212533 155.454545 \nL 286.606285 151.501091 \nL 286.632903 147.547636 \nL 287.782642 143.594182 \nL 287.057177 139.640727 \nL 286.576989 135.687273 \nL 287.083526 131.733818 \nL 287.08442 127.780364 \nL 287.857942 123.826909 \nL 287.073984 119.873455 \nL 286.742883 115.92 \nL 286.928415 111.966545 \nL 286.824848 108.013091 \nL 287.485813 104.059636 \nL 288.757763 100.106182 \nL 288.494467 96.152727 \nL 289.27483 92.199273 \nL 289.318356 88.245818 \nL 289.519856 84.292364 \nL 289.194612 80.338909 \nL 288.870465 76.385455 \nL 288.995046 72.432 \nL 289.046893 68.478545 \nL 289.100659 64.525091 \nL 289.512265 60.571636 \nL 290.102357 56.618182 \nL 289.639991 52.664727 \nL 290.719651 48.711273 \nL 291.93948 44.757818 \nL 291.88611 40.804364 \nL 292.621376 36.850909 \nL 292.229996 32.897455 \nL 291.837515 28.944 \nL 292.509818 24.990545 \nL 292.894391 21.037091 \nL 292.170007 17.083636 \n\" clip-path=\"url(#pb624a29358)\" style=\"fill: none; stroke: #2ca02c; stroke-width: 1.5; stroke-linecap: square\"/>\n   </g>\n   <g id=\"line2d_96\">\n    <path d=\"M 297.943125 214.756364 \nL 288.993581 210.802909 \nL 288.997554 206.849455 \nL 289.005545 202.896 \nL 289.013565 198.942545 \nL 289.025649 194.989091 \nL 289.272969 191.035636 \nL 289.062178 187.082182 \nL 289.078478 183.128727 \nL 289.008629 179.175273 \nL 289.223541 175.221818 \nL 289.508223 171.268364 \nL 289.391885 167.314909 \nL 289.244036 163.361455 \nL 289.633845 159.408 \nL 289.617791 155.454545 \nL 289.991187 151.501091 \nL 290.016376 147.547636 \nL 291.10439 143.594182 \nL 290.417872 139.640727 \nL 289.963464 135.687273 \nL 290.442807 131.733818 \nL 290.44231 127.780364 \nL 291.175383 123.826909 \nL 290.433513 119.873455 \nL 290.11953 115.92 \nL 290.295316 111.966545 \nL 290.19731 108.013091 \nL 290.822789 104.059636 \nL 292.026453 100.106182 \nL 291.777293 96.152727 \nL 292.51576 92.199273 \nL 292.556681 88.245818 \nL 292.747305 84.292364 \nL 292.439794 80.338909 \nL 292.133119 76.385455 \nL 292.251011 72.432 \nL 292.300074 68.478545 \nL 292.350955 64.525091 \nL 292.740451 60.571636 \nL 293.29886 56.618182 \nL 292.861318 52.664727 \nL 293.883014 48.711273 \nL 295.037354 44.757818 \nL 294.986849 40.804364 \nL 295.682641 36.850909 \nL 295.312273 32.897455 \nL 294.940863 28.944 \nL 295.577073 24.990545 \nL 295.940999 21.037091 \nL 295.255441 17.083636 \n\" clip-path=\"url(#pb624a29358)\" style=\"fill: none; stroke: #d62728; stroke-width: 1.5; stroke-linecap: square\"/>\n   </g>\n   <g id=\"line2d_97\">\n    <path d=\"M 300.986761 214.756364 \nL 292.450563 210.802909 \nL 292.45431 206.849455 \nL 292.461845 202.896 \nL 292.469409 198.942545 \nL 292.480804 194.989091 \nL 292.714037 191.035636 \nL 292.515253 187.082182 \nL 292.530625 183.128727 \nL 292.464754 179.175273 \nL 292.667425 175.221818 \nL 292.935891 171.268364 \nL 292.826179 167.314909 \nL 292.686752 163.361455 \nL 293.054358 159.408 \nL 293.036697 155.454545 \nL 293.389657 151.501091 \nL 293.413411 147.547636 \nL 294.439451 143.594182 \nL 293.792038 139.640727 \nL 293.363513 135.687273 \nL 293.815552 131.733818 \nL 293.813659 127.780364 \nL 294.50612 123.826909 \nL 293.806507 119.873455 \nL 293.50971 115.92 \nL 293.675713 111.966545 \nL 293.583288 108.013091 \nL 294.173141 104.059636 \nL 295.308243 100.106182 \nL 295.073276 96.152727 \nL 295.76968 92.199273 \nL 295.807986 88.245818 \nL 295.987691 84.292364 \nL 295.697982 80.338909 \nL 295.408849 76.385455 \nL 295.520027 72.432 \nL 295.566294 68.478545 \nL 295.614277 64.525091 \nL 295.981576 60.571636 \nL 296.508175 56.618182 \nL 296.095555 52.664727 \nL 297.059055 48.711273 \nL 298.147645 44.757818 \nL 298.100016 40.804364 \nL 298.756175 36.850909 \nL 298.406904 32.897455 \nL 298.056649 28.944 \nL 298.656621 24.990545 \nL 298.999817 21.037091 \nL 298.353241 17.083636 \n\" clip-path=\"url(#pb624a29358)\" style=\"fill: none; stroke: #9467bd; stroke-width: 1.5; stroke-linecap: square\"/>\n   </g>\n   <g id=\"line2d_98\">\n    <path d=\"M 304.030398 214.756364 \nL 295.921401 210.802909 \nL 295.92492 206.849455 \nL 295.931999 202.896 \nL 295.939104 198.942545 \nL 295.949808 194.989091 \nL 296.168897 191.035636 \nL 295.982168 187.082182 \nL 295.996607 183.128727 \nL 295.934731 179.175273 \nL 296.125111 175.221818 \nL 296.377297 171.268364 \nL 296.274239 167.314909 \nL 296.143267 163.361455 \nL 296.48858 159.408 \nL 296.469306 155.454545 \nL 296.801747 151.501091 \nL 296.824061 147.547636 \nL 297.787879 143.594182 \nL 297.179727 139.640727 \nL 296.777189 135.687273 \nL 297.201815 131.733818 \nL 297.19852 127.780364 \nL 297.850207 123.826909 \nL 297.19302 119.873455 \nL 296.913479 115.92 \nL 297.069658 111.966545 \nL 296.982838 108.013091 \nL 297.53692 104.059636 \nL 298.603188 100.106182 \nL 298.382469 96.152727 \nL 299.036641 92.199273 \nL 299.072322 88.245818 \nL 299.241064 84.292364 \nL 298.96923 80.338909 \nL 298.697709 76.385455 \nL 298.802144 72.432 \nL 298.845606 68.478545 \nL 298.890679 64.525091 \nL 299.235691 60.571636 \nL 299.730353 56.618182 \nL 299.342755 52.664727 \nL 300.247826 48.711273 \nL 301.270401 44.757818 \nL 301.225661 40.804364 \nL 301.842029 36.850909 \nL 301.513938 32.897455 \nL 301.184924 28.944 \nL 301.748511 24.990545 \nL 302.070896 21.037091 \nL 301.463457 17.083636 \n\" clip-path=\"url(#pb624a29358)\" style=\"fill: none; stroke: #8c564b; stroke-width: 1.5; stroke-linecap: square\"/>\n   </g>\n   <g id=\"line2d_99\">\n    <path d=\"M 307.074034 214.756364 \nL 299.40615 210.802909 \nL 299.409441 206.849455 \nL 299.416061 202.896 \nL 299.422706 198.942545 \nL 299.432716 194.989091 \nL 299.637604 191.035636 \nL 299.462978 187.082182 \nL 299.476482 183.128727 \nL 299.418616 179.175273 \nL 299.596657 175.221818 \nL 299.832497 171.268364 \nL 299.736118 167.314909 \nL 299.613635 163.361455 \nL 299.936566 159.408 \nL 299.915673 155.454545 \nL 300.227513 151.501091 \nL 300.248381 147.547636 \nL 301.149728 143.594182 \nL 300.580994 139.640727 \nL 300.204547 135.687273 \nL 300.60165 131.733818 \nL 300.596948 127.780364 \nL 301.207697 123.826909 \nL 300.593107 119.873455 \nL 300.330888 115.92 \nL 300.477205 111.966545 \nL 300.396013 108.013091 \nL 300.914182 104.059636 \nL 301.911338 100.106182 \nL 301.704925 96.152727 \nL 302.316697 92.199273 \nL 302.349742 88.245818 \nL 302.507476 84.292364 \nL 302.253588 80.338909 \nL 301.99975 76.385455 \nL 302.097417 72.432 \nL 302.138061 68.478545 \nL 302.180213 64.525091 \nL 302.502849 60.571636 \nL 302.965445 56.618182 \nL 302.60297 52.664727 \nL 303.449378 48.711273 \nL 304.405673 44.757818 \nL 304.363833 40.804364 \nL 304.940251 36.850909 \nL 304.633425 32.897455 \nL 304.325737 28.944 \nL 304.852794 24.990545 \nL 305.154283 21.037091 \nL 304.586139 17.083636 \n\" clip-path=\"url(#pb624a29358)\" style=\"fill: none; stroke: #e377c2; stroke-width: 1.5; stroke-linecap: square\"/>\n   </g>\n   <g id=\"line2d_100\">\n    <path d=\"M 310.11767 214.756364 \nL 302.904866 210.802909 \nL 302.907928 206.849455 \nL 302.914087 202.896 \nL 302.92027 198.942545 \nL 302.929583 194.989091 \nL 303.120214 191.035636 \nL 302.957739 187.082182 \nL 302.970304 183.128727 \nL 302.916465 179.175273 \nL 303.082116 175.221818 \nL 303.301545 171.268364 \nL 303.211873 167.314909 \nL 303.097913 163.361455 \nL 303.398373 159.408 \nL 303.375853 155.454545 \nL 303.66701 151.501091 \nL 303.686425 147.547636 \nL 304.525051 143.594182 \nL 303.995893 139.640727 \nL 303.645642 135.687273 \nL 304.015112 131.733818 \nL 304.008997 127.780364 \nL 304.578644 123.826909 \nL 304.00682 119.873455 \nL 303.761998 115.92 \nL 303.898411 111.966545 \nL 303.822869 108.013091 \nL 304.30498 104.059636 \nL 305.232747 100.106182 \nL 305.040698 96.152727 \nL 305.609899 92.199273 \nL 305.640297 88.245818 \nL 305.786981 84.292364 \nL 305.55111 80.338909 \nL 305.315026 76.385455 \nL 305.405897 72.432 \nL 305.443712 68.478545 \nL 305.482932 64.525091 \nL 305.783102 60.571636 \nL 306.213504 56.618182 \nL 305.876252 52.664727 \nL 306.663762 48.711273 \nL 307.553512 44.757818 \nL 307.514584 40.804364 \nL 308.05089 36.850909 \nL 307.765415 32.897455 \nL 307.479138 28.944 \nL 307.96952 24.990545 \nL 308.250029 21.037091 \nL 307.721336 17.083636 \n\" clip-path=\"url(#pb624a29358)\" style=\"fill: none; stroke: #7f7f7f; stroke-width: 1.5; stroke-linecap: square\"/>\n   </g>\n   <g id=\"line2d_101\">\n    <path d=\"M 313.161307 214.756364 \nL 306.417605 210.802909 \nL 306.420437 206.849455 \nL 306.426134 202.896 \nL 306.431852 198.942545 \nL 306.440466 194.989091 \nL 306.616782 191.035636 \nL 306.466508 187.082182 \nL 306.478129 183.128727 \nL 306.428333 179.175273 \nL 306.581545 175.221818 \nL 306.784497 171.268364 \nL 306.701558 167.314909 \nL 306.596156 163.361455 \nL 306.874054 159.408 \nL 306.849902 155.454545 \nL 307.120292 151.501091 \nL 307.13825 147.547636 \nL 307.913903 143.594182 \nL 307.424479 139.640727 \nL 307.100528 135.687273 \nL 307.442255 131.733818 \nL 307.434721 127.780364 \nL 307.963102 123.826909 \nL 307.434217 119.873455 \nL 307.206855 115.92 \nL 307.333329 111.966545 \nL 307.263459 108.013091 \nL 307.709368 104.059636 \nL 308.567469 100.106182 \nL 308.389841 96.152727 \nL 308.9163 92.199273 \nL 308.944042 88.245818 \nL 309.079629 84.292364 \nL 308.861849 80.338909 \nL 308.64359 76.385455 \nL 308.727637 72.432 \nL 308.762612 68.478545 \nL 308.798887 64.525091 \nL 309.076502 60.571636 \nL 309.474581 56.618182 \nL 309.162654 52.664727 \nL 309.891029 48.711273 \nL 310.713967 44.757818 \nL 310.677962 40.804364 \nL 311.173997 36.850909 \nL 310.909959 32.897455 \nL 310.645178 28.944 \nL 311.098737 24.990545 \nL 311.358182 21.037091 \nL 310.8691 17.083636 \n\" clip-path=\"url(#pb624a29358)\" style=\"fill: none; stroke: #bcbd22; stroke-width: 1.5; stroke-linecap: square\"/>\n   </g>\n   <g id=\"line2d_102\">\n    <path d=\"M 316.204943 214.756364 \nL 309.944423 210.802909 \nL 309.947024 206.849455 \nL 309.952256 202.896 \nL 309.957508 198.942545 \nL 309.965421 194.989091 \nL 310.127365 191.035636 \nL 309.98934 187.082182 \nL 310.000013 183.128727 \nL 309.954276 179.175273 \nL 310.095 175.221818 \nL 310.281409 171.268364 \nL 310.205231 167.314909 \nL 310.10842 163.361455 \nL 310.363665 159.408 \nL 310.337875 155.454545 \nL 310.587415 151.501091 \nL 310.603909 147.547636 \nL 311.316337 143.594182 \nL 310.866807 139.640727 \nL 310.569262 135.687273 \nL 310.883134 131.733818 \nL 310.874176 127.780364 \nL 311.361124 123.826909 \nL 310.87535 119.873455 \nL 310.665524 115.92 \nL 310.782013 111.966545 \nL 310.717839 108.013091 \nL 311.127401 104.059636 \nL 311.915556 100.106182 \nL 311.752407 96.152727 \nL 312.235953 92.199273 \nL 312.261027 88.245818 \nL 312.385475 84.292364 \nL 312.185857 80.338909 \nL 311.985495 76.385455 \nL 312.062691 72.432 \nL 312.094815 68.478545 \nL 312.128133 64.525091 \nL 312.383102 60.571636 \nL 312.748729 56.618182 \nL 312.462227 52.664727 \nL 313.131231 48.711273 \nL 313.88709 44.757818 \nL 313.854019 40.804364 \nL 314.309621 36.850909 \nL 314.067105 32.897455 \nL 313.823907 28.944 \nL 314.240496 24.990545 \nL 314.478793 21.037091 \nL 314.02948 17.083636 \n\" clip-path=\"url(#pb624a29358)\" style=\"fill: none; stroke: #17becf; stroke-width: 1.5; stroke-linecap: square\"/>\n   </g>\n   <g id=\"line2d_103\">\n    <path d=\"M 319.24858 214.756364 \nL 313.485376 210.802909 \nL 313.487746 206.849455 \nL 313.492512 202.896 \nL 313.497296 198.942545 \nL 313.504503 194.989091 \nL 313.652018 191.035636 \nL 313.526291 187.082182 \nL 313.536013 183.128727 \nL 313.494352 179.175273 \nL 313.622537 175.221818 \nL 313.792336 171.268364 \nL 313.722946 167.314909 \nL 313.634761 163.361455 \nL 313.867264 159.408 \nL 313.839827 155.454545 \nL 314.068435 151.501091 \nL 314.083459 147.547636 \nL 314.732408 143.594182 \nL 314.322932 139.640727 \nL 314.051899 135.687273 \nL 314.337805 131.733818 \nL 314.327416 127.780364 \nL 314.772766 123.826909 \nL 314.330275 119.873455 \nL 314.138047 115.92 \nL 314.244521 111.966545 \nL 314.186064 108.013091 \nL 314.559134 104.059636 \nL 315.277063 100.106182 \nL 315.128451 96.152727 \nL 315.568912 92.199273 \nL 315.591307 88.245818 \nL 315.70457 84.292364 \nL 315.523188 80.338909 \nL 315.340794 76.385455 \nL 315.411112 72.432 \nL 315.440372 68.478545 \nL 315.470723 64.525091 \nL 315.702955 60.571636 \nL 316.035999 56.618182 \nL 315.775026 52.664727 \nL 316.38442 48.711273 \nL 317.07293 44.757818 \nL 317.042806 40.804364 \nL 317.457813 36.850909 \nL 317.236906 32.897455 \nL 317.015377 28.944 \nL 317.394847 24.990545 \nL 317.611912 21.037091 \nL 317.202526 17.083636 \n\" clip-path=\"url(#pb624a29358)\" style=\"fill: none; stroke: #1f77b4; stroke-width: 1.5; stroke-linecap: square\"/>\n   </g>\n   <g id=\"line2d_104\">\n    <path d=\"M 322.292216 214.756364 \nL 317.040522 210.802909 \nL 317.042659 206.849455 \nL 317.046957 202.896 \nL 317.051271 198.942545 \nL 317.05777 194.989091 \nL 317.190798 191.035636 \nL 317.077418 187.082182 \nL 317.086186 183.128727 \nL 317.048616 179.175273 \nL 317.164212 175.221818 \nL 317.317335 171.268364 \nL 317.25476 167.314909 \nL 317.175235 163.361455 \nL 317.384904 159.408 \nL 317.355816 155.454545 \nL 317.563406 151.501091 \nL 317.576955 147.547636 \nL 318.162171 143.594182 \nL 317.79291 139.640727 \nL 317.548495 135.687273 \nL 317.806321 131.733818 \nL 317.794497 127.780364 \nL 318.198082 123.826909 \nL 317.799048 119.873455 \nL 317.624504 115.92 \nL 317.720906 111.966545 \nL 317.66819 108.013091 \nL 318.004621 104.059636 \nL 318.652042 100.106182 \nL 318.518025 96.152727 \nL 318.915229 92.199273 \nL 318.934935 88.245818 \nL 319.036968 84.292364 \nL 318.873895 80.338909 \nL 318.709541 76.385455 \nL 318.772953 72.432 \nL 318.799339 68.478545 \nL 318.82671 64.525091 \nL 319.036114 60.571636 \nL 319.336445 56.618182 \nL 319.101101 52.664727 \nL 319.650647 48.711273 \nL 320.271539 44.757818 \nL 320.244374 40.804364 \nL 320.618623 36.850909 \nL 320.419411 32.897455 \nL 320.219639 28.944 \nL 320.561841 24.990545 \nL 320.757588 21.037091 \nL 320.38829 17.083636 \n\" clip-path=\"url(#pb624a29358)\" style=\"fill: none; stroke: #ff7f0e; stroke-width: 1.5; stroke-linecap: square\"/>\n   </g>\n   <g id=\"line2d_105\">\n    <path d=\"M 325.335852 214.756364 \nL 320.609917 210.802909 \nL 320.61182 206.849455 \nL 320.615648 202.896 \nL 320.61949 198.942545 \nL 320.625279 194.989091 \nL 320.743761 191.035636 \nL 320.642779 187.082182 \nL 320.650588 183.128727 \nL 320.617126 179.175273 \nL 320.720082 175.221818 \nL 320.856463 171.268364 \nL 320.800729 167.314909 \nL 320.7299 163.361455 \nL 320.916644 159.408 \nL 320.885896 155.454545 \nL 321.072385 151.501091 \nL 321.084452 147.547636 \nL 321.60568 143.594182 \nL 321.276795 139.640727 \nL 321.059104 135.687273 \nL 321.28874 131.733818 \nL 321.275474 127.780364 \nL 321.637126 123.826909 \nL 321.281723 119.873455 \nL 321.124931 115.92 \nL 321.211224 111.966545 \nL 321.164273 108.013091 \nL 321.463917 104.059636 \nL 322.040549 100.106182 \nL 321.921185 96.152727 \nL 322.274958 92.199273 \nL 322.291965 88.245818 \nL 322.382725 84.292364 \nL 322.238032 80.338909 \nL 322.091791 76.385455 \nL 322.148269 72.432 \nL 322.171769 68.478545 \nL 322.196148 64.525091 \nL 322.382632 60.571636 \nL 322.650119 56.618182 \nL 322.440508 52.664727 \nL 322.929966 48.711273 \nL 323.482968 44.757818 \nL 323.458773 40.804364 \nL 323.792102 36.850909 \nL 323.614672 32.897455 \nL 323.436743 28.944 \nL 323.741528 24.990545 \nL 323.915872 21.037091 \nL 323.586823 17.083636 \n\" clip-path=\"url(#pb624a29358)\" style=\"fill: none; stroke: #2ca02c; stroke-width: 1.5; stroke-linecap: square\"/>\n   </g>\n   <g id=\"line2d_106\">\n    <path d=\"M 328.379489 214.756364 \nL 324.193618 210.802909 \nL 324.195286 206.849455 \nL 324.198642 202.896 \nL 324.202011 198.942545 \nL 324.207087 194.989091 \nL 324.310965 191.035636 \nL 324.222429 187.082182 \nL 324.229276 183.128727 \nL 324.199938 179.175273 \nL 324.290204 175.221818 \nL 324.409775 171.268364 \nL 324.360911 167.314909 \nL 324.298812 163.361455 \nL 324.462538 159.408 \nL 324.430126 155.454545 \nL 324.595429 151.501091 \nL 324.606008 147.547636 \nL 325.062991 143.594182 \nL 324.774643 139.640727 \nL 324.583784 135.687273 \nL 324.785116 131.733818 \nL 324.770403 127.780364 \nL 325.089955 123.826909 \nL 324.778358 119.873455 \nL 324.639401 115.92 \nL 324.715532 111.966545 \nL 324.674368 108.013091 \nL 324.937079 104.059636 \nL 325.442636 100.106182 \nL 325.337985 96.152727 \nL 325.648153 92.199273 \nL 325.662449 88.245818 \nL 325.741901 84.292364 \nL 325.615654 80.338909 \nL 325.487596 76.385455 \nL 325.537113 72.432 \nL 325.557716 68.478545 \nL 325.57909 64.525091 \nL 325.742563 60.571636 \nL 325.977074 56.618182 \nL 325.7933 52.664727 \nL 326.222428 48.711273 \nL 326.707269 44.757818 \nL 326.686056 40.804364 \nL 326.9783 36.850909 \nL 326.822739 32.897455 \nL 326.666741 28.944 \nL 326.933959 24.990545 \nL 327.086814 21.037091 \nL 326.798178 17.083636 \n\" clip-path=\"url(#pb624a29358)\" style=\"fill: none; stroke: #d62728; stroke-width: 1.5; stroke-linecap: square\"/>\n   </g>\n   <g id=\"line2d_107\">\n    <path d=\"M 331.423125 214.756364 \nL 327.791682 210.802909 \nL 327.793115 206.849455 \nL 327.795998 202.896 \nL 327.798891 198.942545 \nL 327.80325 194.989091 \nL 327.892466 191.035636 \nL 327.816427 187.082182 \nL 327.822307 183.128727 \nL 327.79711 179.175273 \nL 327.874636 175.221818 \nL 327.977329 171.268364 \nL 327.935363 167.314909 \nL 327.882029 163.361455 \nL 328.022645 159.408 \nL 327.98856 155.454545 \nL 328.132592 151.501091 \nL 328.141679 147.547636 \nL 328.534159 143.594182 \nL 328.286511 139.640727 \nL 328.122592 135.687273 \nL 328.295505 131.733818 \nL 328.279339 127.780364 \nL 328.556622 123.826909 \nL 328.289006 119.873455 \nL 328.167885 115.92 \nL 328.233885 111.966545 \nL 328.198531 108.013091 \nL 328.424161 104.059636 \nL 328.85836 100.106182 \nL 328.76848 96.152727 \nL 329.034868 92.199273 \nL 329.046442 88.245818 \nL 329.114531 84.292364 \nL 329.006813 80.338909 \nL 328.897012 76.385455 \nL 328.939539 72.432 \nL 328.957233 68.478545 \nL 328.975592 64.525091 \nL 329.115961 60.571636 \nL 329.317364 56.618182 \nL 329.159529 52.664727 \nL 329.528086 48.711273 \nL 329.944493 44.757818 \nL 329.926274 40.804364 \nL 330.177268 36.850909 \nL 330.043665 32.897455 \nL 329.909686 28.944 \nL 330.139186 24.990545 \nL 330.270466 21.037091 \nL 330.022406 17.083636 \n\" clip-path=\"url(#pb624a29358)\" style=\"fill: none; stroke: #9467bd; stroke-width: 1.5; stroke-linecap: square\"/>\n   </g>\n   <g id=\"line2d_108\">\n    <path d=\"M 334.466761 214.756364 \nL 331.404168 210.802909 \nL 331.405364 206.849455 \nL 331.407771 202.896 \nL 331.410187 198.942545 \nL 331.413827 194.989091 \nL 331.488322 191.035636 \nL 331.42483 187.082182 \nL 331.429739 183.128727 \nL 331.4087 179.175273 \nL 331.473434 175.221818 \nL 331.559182 171.268364 \nL 331.52414 167.314909 \nL 331.479607 163.361455 \nL 331.597021 159.408 \nL 331.561258 155.454545 \nL 331.683933 151.501091 \nL 331.69152 147.547636 \nL 332.019239 143.594182 \nL 331.812454 139.640727 \nL 331.675583 135.687273 \nL 331.819965 131.733818 \nL 331.80234 127.780364 \nL 332.037184 123.826909 \nL 331.813726 119.873455 \nL 331.710439 115.92 \nL 331.76634 111.966545 \nL 331.736819 108.013091 \nL 331.925219 104.059636 \nL 332.287773 100.106182 \nL 332.212724 96.152727 \nL 332.435157 92.199273 \nL 332.443999 88.245818 \nL 332.500624 84.292364 \nL 332.41155 80.338909 \nL 332.320093 76.385455 \nL 332.355603 72.432 \nL 332.370376 68.478545 \nL 332.385707 64.525091 \nL 332.502881 60.571636 \nL 332.671042 56.618182 \nL 332.53925 52.664727 \nL 332.846994 48.711273 \nL 333.194692 44.757818 \nL 333.179479 40.804364 \nL 333.389058 36.850909 \nL 333.277499 32.897455 \nL 333.165628 28.944 \nL 333.35726 24.990545 \nL 333.466877 21.037091 \nL 333.259543 17.083636 \n\" clip-path=\"url(#pb624a29358)\" style=\"fill: none; stroke: #8c564b; stroke-width: 1.5; stroke-linecap: square\"/>\n   </g>\n   <g id=\"line2d_109\">\n    <path d=\"M 337.510398 214.756364 \nL 335.031132 210.802909 \nL 335.032091 206.849455 \nL 335.034021 202.896 \nL 335.035957 198.942545 \nL 335.038875 194.989091 \nL 335.09859 191.035636 \nL 335.047695 187.082182 \nL 335.05163 183.128727 \nL 335.034765 179.175273 \nL 335.086656 175.221818 \nL 335.155391 171.268364 \nL 335.127302 167.314909 \nL 335.091604 163.361455 \nL 335.185723 159.408 \nL 335.148283 155.454545 \nL 335.249508 151.501091 \nL 335.255589 147.547636 \nL 335.518288 143.594182 \nL 335.35253 139.640727 \nL 335.242814 135.687273 \nL 335.35855 131.733818 \nL 335.339467 127.780364 \nL 335.531696 123.826909 \nL 335.352573 119.873455 \nL 335.267143 115.92 \nL 335.312952 111.966545 \nL 335.289289 108.013091 \nL 335.44031 104.059636 \nL 335.730932 100.106182 \nL 335.670773 96.152727 \nL 335.849074 92.199273 \nL 335.855174 88.245818 \nL 335.90022 84.292364 \nL 335.829902 80.338909 \nL 335.756893 76.385455 \nL 335.785358 72.432 \nL 335.797198 68.478545 \nL 335.809489 64.525091 \nL 335.903376 60.571636 \nL 336.038161 56.618182 \nL 335.932517 52.664727 \nL 336.179204 48.711273 \nL 336.457917 44.757818 \nL 336.445723 40.804364 \nL 336.61372 36.850909 \nL 336.524296 32.897455 \nL 336.43462 28.944 \nL 336.588231 24.990545 \nL 336.6761 21.037091 \nL 336.509621 17.083636 \n\" clip-path=\"url(#pb624a29358)\" style=\"fill: none; stroke: #e377c2; stroke-width: 1.5; stroke-linecap: square\"/>\n   </g>\n   <g id=\"line2d_110\">\n    <path d=\"M 340.554034 214.756364 \nL 338.672634 210.802909 \nL 338.673354 206.849455 \nL 338.674804 202.896 \nL 338.67626 198.942545 \nL 338.678452 194.989091 \nL 338.723328 191.035636 \nL 338.68508 187.082182 \nL 338.688038 183.128727 \nL 338.675364 179.175273 \nL 338.714359 175.221818 \nL 338.766014 171.268364 \nL 338.744905 167.314909 \nL 338.718078 163.361455 \nL 338.788808 159.408 \nL 338.749597 155.454545 \nL 338.829373 151.501091 \nL 338.833943 147.547636 \nL 339.031361 143.594182 \nL 338.906794 139.640727 \nL 338.824343 135.687273 \nL 338.911318 131.733818 \nL 338.8907 127.780364 \nL 339.040214 123.826909 \nL 338.905603 119.873455 \nL 338.838364 115.92 \nL 338.87378 111.966545 \nL 338.855997 108.013091 \nL 338.969489 104.059636 \nL 339.187891 100.106182 \nL 339.142681 96.152727 \nL 339.276675 92.199273 \nL 339.280004 88.245818 \nL 339.313521 84.292364 \nL 339.261963 80.338909 \nL 339.207468 76.385455 \nL 339.22886 72.432 \nL 339.237756 68.478545 \nL 339.246994 64.525091 \nL 339.317499 60.571636 \nL 339.418776 56.618182 \nL 339.339385 52.664727 \nL 339.524769 48.711273 \nL 339.734222 44.757818 \nL 339.725058 40.804364 \nL 339.851307 36.850909 \nL 339.784105 32.897455 \nL 339.716714 28.944 \nL 339.832152 24.990545 \nL 339.898186 21.037091 \nL 339.772732 17.083636 \n\" clip-path=\"url(#pb624a29358)\" style=\"fill: none; stroke: #7f7f7f; stroke-width: 1.5; stroke-linecap: square\"/>\n   </g>\n   <g id=\"line2d_111\">\n    <path d=\"M 343.59767 214.756364 \nL 342.32873 210.802909 \nL 342.329212 206.849455 \nL 342.33018 202.896 \nL 342.331152 198.942545 \nL 342.332617 194.989091 \nL 342.362594 191.035636 \nL 342.337045 187.082182 \nL 342.33902 183.128727 \nL 342.330554 179.175273 \nL 342.356603 175.221818 \nL 342.391108 171.268364 \nL 342.377007 167.314909 \nL 342.359087 163.361455 \nL 342.406335 159.408 \nL 342.364696 155.454545 \nL 342.423586 151.501091 \nL 342.42664 147.547636 \nL 342.558514 143.594182 \nL 342.475304 139.640727 \nL 342.420226 135.687273 \nL 342.478326 131.733818 \nL 342.455696 127.780364 \nL 342.562794 123.826909 \nL 342.472874 119.873455 \nL 342.424486 115.92 \nL 342.44888 111.966545 \nL 342.437001 108.013091 \nL 342.512813 104.059636 \nL 342.658705 100.106182 \nL 342.628505 96.152727 \nL 342.718013 92.199273 \nL 342.718384 88.245818 \nL 342.740898 84.292364 \nL 342.707937 80.338909 \nL 342.671874 76.385455 \nL 342.686163 72.432 \nL 342.692105 68.478545 \nL 342.698277 64.525091 \nL 342.745298 60.571636 \nL 342.81294 56.618182 \nL 342.759907 52.664727 \nL 342.883744 48.711273 \nL 343.023658 44.757818 \nL 343.017536 40.804364 \nL 343.101871 36.850909 \nL 343.05698 32.897455 \nL 343.011962 28.944 \nL 343.089075 24.990545 \nL 343.133186 21.037091 \nL 343.049067 17.083636 \n\" clip-path=\"url(#pb624a29358)\" style=\"fill: none; stroke: #bcbd22; stroke-width: 1.5; stroke-linecap: square\"/>\n   </g>\n   <g id=\"line2d_112\">\n    <path d=\"M 346.641307 214.756364 \nL 345.99948 210.802909 \nL 345.999722 206.849455 \nL 346.000207 202.896 \nL 346.000694 198.942545 \nL 346.001428 194.989091 \nL 346.016446 191.035636 \nL 346.003646 187.082182 \nL 346.004636 183.128727 \nL 346.000394 179.175273 \nL 346.013445 175.221818 \nL 346.030732 171.268364 \nL 346.023667 167.314909 \nL 346.014689 163.361455 \nL 346.03836 159.408 \nL 345.997926 155.454545 \nL 346.032206 151.501091 \nL 346.033735 147.547636 \nL 346.099805 143.594182 \nL 346.058116 139.640727 \nL 346.030522 135.687273 \nL 346.05963 131.733818 \nL 346.037696 127.780364 \nL 346.099492 123.826909 \nL 346.054443 119.873455 \nL 346.025808 115.92 \nL 346.038308 111.966545 \nL 346.032357 108.013091 \nL 346.070339 104.059636 \nL 346.143431 100.106182 \nL 346.128301 96.152727 \nL 346.173144 92.199273 \nL 346.171484 88.245818 \nL 346.18267 84.292364 \nL 346.168061 80.338909 \nL 346.150164 76.385455 \nL 346.157323 72.432 \nL 346.1603 68.478545 \nL 346.163392 64.525091 \nL 346.186824 60.571636 \nL 346.220708 56.618182 \nL 346.194139 52.664727 \nL 346.256181 48.711273 \nL 346.326278 44.757818 \nL 346.323211 40.804364 \nL 346.365463 36.850909 \nL 346.342972 32.897455 \nL 346.320418 28.944 \nL 346.359052 24.990545 \nL 346.381151 21.037091 \nL 346.338831 17.083636 \n\" clip-path=\"url(#pb624a29358)\" style=\"fill: none; stroke: #17becf; stroke-width: 1.5; stroke-linecap: square\"/>\n   </g>\n   <g id=\"line2d_113\">\n    <path d=\"M 349.684943 214.756364 \nL 349.684943 210.802909 \nL 349.684943 206.849455 \nL 349.684943 202.896 \nL 349.684943 198.942545 \nL 349.684943 194.989091 \nL 349.684943 191.035636 \nL 349.684943 187.082182 \nL 349.684943 183.128727 \nL 349.684943 179.175273 \nL 349.684943 175.221818 \nL 349.684943 171.268364 \nL 349.684943 167.314909 \nL 349.684943 163.361455 \nL 349.684943 159.408 \nL 349.655288 155.454545 \nL 349.655288 151.501091 \nL 349.655288 147.547636 \nL 349.655288 143.594182 \nL 349.655288 139.640727 \nL 349.655288 135.687273 \nL 349.655289 131.733818 \nL 349.650366 127.780364 \nL 349.650366 123.826909 \nL 349.650366 119.873455 \nL 349.642123 115.92 \nL 349.642123 111.966545 \nL 349.642123 108.013091 \nL 349.642123 104.059636 \nL 349.642123 100.106182 \nL 349.642123 96.152727 \nL 349.642123 92.199273 \nL 349.646719 88.245818 \nL 349.638757 84.292364 \nL 349.642396 80.338909 \nL 349.642396 76.385455 \nL 349.642396 72.432 \nL 349.642396 68.478545 \nL 349.642396 64.525091 \nL 349.642135 60.571636 \nL 349.642135 56.618182 \nL 349.642135 52.664727 \nL 349.642135 48.711273 \nL 349.642135 44.757818 \nL 349.642135 40.804364 \nL 349.642135 36.850909 \nL 349.642135 32.897455 \nL 349.642135 28.944 \nL 349.642135 24.990545 \nL 349.642135 21.037091 \nL 349.642045 17.083636 \n\" clip-path=\"url(#pb624a29358)\" style=\"fill: none; stroke: #1f77b4; stroke-width: 1.5; stroke-linecap: square\"/>\n   </g>\n   <g id=\"patch_3\">\n    <path d=\"M 30.103125 224.64 \nL 30.103125 7.2 \n\" style=\"fill: none; stroke: #000000; stroke-width: 0.8; stroke-linejoin: miter; stroke-linecap: square\"/>\n   </g>\n   <g id=\"patch_4\">\n    <path d=\"M 364.903125 224.64 \nL 364.903125 7.2 \n\" style=\"fill: none; stroke: #000000; stroke-width: 0.8; stroke-linejoin: miter; stroke-linecap: square\"/>\n   </g>\n   <g id=\"patch_5\">\n    <path d=\"M 30.103125 224.64 \nL 364.903125 224.64 \n\" style=\"fill: none; stroke: #000000; stroke-width: 0.8; stroke-linejoin: miter; stroke-linecap: square\"/>\n   </g>\n   <g id=\"patch_6\">\n    <path d=\"M 30.103125 7.2 \nL 364.903125 7.2 \n\" style=\"fill: none; stroke: #000000; stroke-width: 0.8; stroke-linejoin: miter; stroke-linecap: square\"/>\n   </g>\n  </g>\n </g>\n <defs>\n  <clipPath id=\"pb624a29358\">\n   <rect x=\"30.103125\" y=\"7.2\" width=\"334.8\" height=\"217.44\"/>\n  </clipPath>\n </defs>\n</svg>\n",
      "text/plain": [
       "<Figure size 600x400 with 1 Axes>"
      ]
     },
     "metadata": {
      "needs_background": "light"
     },
     "output_type": "display_data"
    }
   ],
   "source": [
    "t = 0\n",
    "graph = []\n",
    "for i, Psi in enumerate(Psis):\n",
    "    if i % 1 == 0:\n",
    "        X = list()\n",
    "        xi = 0\n",
    "        X.append(xi)\n",
    "        for psi in Psi:\n",
    "            xi += psi * h\n",
    "            X.append(xi)\n",
    "        graph.append([X, list(np.full((len(X)), t))])\n",
    "        # plt.scatter(X, np.full((len(X)), t), s=1, color='black')\n",
    "        t += tau\n",
    "graph = np.array(graph)\n",
    "graph = graph.transpose()\n",
    "# graph.shape, graph[0]\n",
    "for l in graph:\n",
    "    # l = line.transpose()\n",
    "    plt.plot(l[0], l[1])\n",
    "plt.show()"
   ]
  },
  {
   "cell_type": "code",
   "execution_count": null,
   "metadata": {},
   "outputs": [
    {
     "data": {
      "application/vnd.plotly.v1+json": {
       "config": {
        "plotlyServerURL": "https://plot.ly"
       },
       "data": [
        {
         "type": "surface",
         "x": [
          0,
          0.01,
          0.02,
          0.03,
          0.04,
          0.05,
          0.06,
          0.07,
          0.08,
          0.09,
          0.1,
          0.11,
          0.12,
          0.13,
          0.14,
          0.15,
          0.16,
          0.17,
          0.18,
          0.19,
          0.2,
          0.21,
          0.22,
          0.23,
          0.24,
          0.25,
          0.26,
          0.27,
          0.28,
          0.29,
          0.3,
          0.31,
          0.32,
          0.33,
          0.34,
          0.35000000000000003,
          0.36,
          0.37,
          0.38,
          0.39,
          0.4,
          0.41000000000000003,
          0.42,
          0.43,
          0.44,
          0.45,
          0.46,
          0.47000000000000003,
          0.48,
          0.49,
          0.5,
          0.51,
          0.52,
          0.53,
          0.54,
          0.55,
          0.56,
          0.5700000000000001,
          0.58,
          0.59,
          0.6,
          0.61,
          0.62,
          0.63,
          0.64,
          0.65,
          0.66,
          0.67,
          0.68,
          0.6900000000000001,
          0.7000000000000001,
          0.71,
          0.72,
          0.73,
          0.74,
          0.75,
          0.76,
          0.77,
          0.78,
          0.79,
          0.8,
          0.81,
          0.8200000000000001,
          0.8300000000000001,
          0.84,
          0.85,
          0.86,
          0.87,
          0.88,
          0.89,
          0.9,
          0.91,
          0.92,
          0.93,
          0.9400000000000001,
          0.9500000000000001,
          0.96,
          0.97,
          0.98,
          0.99,
          1
         ],
         "y": [
          0,
          0.001,
          0.002,
          0.003,
          0.004,
          0.005,
          0.006,
          0.007,
          0.008,
          0.009000000000000001,
          0.01,
          0.011,
          0.012,
          0.013000000000000001,
          0.014,
          0.015,
          0.016,
          0.017,
          0.018000000000000002,
          0.019,
          0.02,
          0.021,
          0.022,
          0.023,
          0.024,
          0.025,
          0.026000000000000002,
          0.027,
          0.028,
          0.029,
          0.03,
          0.031,
          0.032,
          0.033,
          0.034,
          0.035,
          0.036000000000000004,
          0.037,
          0.038,
          0.039,
          0.04,
          0.041,
          0.042,
          0.043000000000000003,
          0.044,
          0.045,
          0.046,
          0.047,
          0.048,
          0.049,
          0.05,
          0.051000000000000004,
          0.052000000000000005,
          0.053,
          0.054,
          0.055,
          0.056,
          0.057,
          0.058,
          0.059000000000000004,
          0.06,
          0.061,
          0.062,
          0.063,
          0.064,
          0.065,
          0.066,
          0.067,
          0.068,
          0.069,
          0.07,
          0.07100000000000001,
          0.07200000000000001,
          0.073,
          0.074,
          0.075,
          0.076,
          0.077,
          0.078,
          0.079,
          0.08,
          0.081,
          0.082,
          0.083,
          0.084,
          0.085,
          0.08600000000000001,
          0.08700000000000001,
          0.088,
          0.089,
          0.09,
          0.091,
          0.092,
          0.093,
          0.094,
          0.095,
          0.096,
          0.097,
          0.098,
          0.099,
          0.1
         ],
         "z": [
          [
           0,
           0,
           0,
           0,
           0,
           0,
           0,
           0,
           0,
           0,
           0,
           0,
           0,
           0,
           0,
           0,
           0,
           0,
           0,
           0,
           0,
           0,
           0,
           0,
           0,
           0,
           0,
           0,
           0,
           0,
           0,
           0,
           0,
           0,
           0,
           0,
           0,
           0,
           0,
           0,
           0,
           0,
           0,
           0,
           0,
           0,
           0,
           0,
           0,
           0,
           0,
           0,
           0,
           0,
           0,
           0,
           0,
           0,
           0,
           0,
           0,
           0,
           0,
           0,
           0,
           0,
           0,
           0,
           0,
           0,
           0,
           0,
           0,
           0,
           0,
           0,
           0,
           0,
           0,
           0,
           0,
           0,
           0,
           0,
           0,
           0,
           0,
           0,
           0,
           0,
           0,
           0,
           0,
           0,
           0,
           0,
           0,
           0,
           0,
           0,
           0
          ],
          [
           1,
           0,
           0,
           0,
           0,
           0,
           0,
           0,
           0,
           0,
           0,
           0,
           0,
           0,
           0,
           0,
           0,
           0,
           0,
           0,
           0,
           0,
           0,
           0,
           0,
           0,
           0,
           0,
           0,
           0,
           0,
           0,
           0,
           0,
           0,
           0,
           0,
           0,
           0,
           0,
           0,
           0,
           0,
           0,
           0,
           0,
           0,
           0,
           0,
           0,
           0,
           0,
           0,
           0,
           0,
           0,
           0,
           0,
           0,
           0,
           0,
           0,
           0,
           0,
           0,
           0,
           0,
           0,
           0,
           0,
           0,
           0,
           0,
           0,
           0,
           0,
           0,
           0,
           0,
           0,
           0,
           0,
           0,
           0,
           0,
           0,
           0,
           0,
           0,
           0,
           0,
           0,
           0,
           0,
           0,
           0,
           0,
           0,
           0,
           0,
           0
          ],
          [
           null,
           null,
           null,
           null,
           null,
           null,
           null,
           null,
           null,
           null,
           null,
           null,
           null,
           null,
           null,
           null,
           null,
           null,
           null,
           null,
           null,
           null,
           null,
           null,
           null,
           null,
           null,
           null,
           null,
           null,
           null,
           null,
           null,
           null,
           null,
           null,
           null,
           null,
           null,
           null,
           null,
           null,
           null,
           null,
           null,
           null,
           null,
           null,
           null,
           null,
           null,
           null,
           null,
           null,
           null,
           null,
           null,
           null,
           null,
           null,
           null,
           null,
           null,
           null,
           null,
           null,
           null,
           null,
           null,
           null,
           null,
           null,
           null,
           null,
           null,
           null,
           null,
           null,
           null,
           null,
           null,
           null,
           null,
           null,
           null,
           null,
           null,
           null,
           null,
           null,
           null,
           null,
           null,
           null,
           null,
           null,
           null,
           null,
           null,
           null,
           null
          ],
          [
           null,
           null,
           null,
           null,
           null,
           null,
           null,
           null,
           null,
           null,
           null,
           null,
           null,
           null,
           null,
           null,
           null,
           null,
           null,
           null,
           null,
           null,
           null,
           null,
           null,
           null,
           null,
           null,
           null,
           null,
           null,
           null,
           null,
           null,
           null,
           null,
           null,
           null,
           null,
           null,
           null,
           null,
           null,
           null,
           null,
           null,
           null,
           null,
           null,
           null,
           null,
           null,
           null,
           null,
           null,
           null,
           null,
           null,
           null,
           null,
           null,
           null,
           null,
           null,
           null,
           null,
           null,
           null,
           null,
           null,
           null,
           null,
           null,
           null,
           null,
           null,
           null,
           null,
           null,
           null,
           null,
           null,
           null,
           null,
           null,
           null,
           null,
           null,
           null,
           null,
           null,
           null,
           null,
           null,
           null,
           null,
           null,
           null,
           null,
           null,
           null
          ],
          [
           null,
           null,
           null,
           null,
           null,
           null,
           null,
           null,
           null,
           null,
           null,
           null,
           null,
           null,
           null,
           null,
           null,
           null,
           null,
           null,
           null,
           null,
           null,
           null,
           null,
           null,
           null,
           null,
           null,
           null,
           null,
           null,
           null,
           null,
           null,
           null,
           null,
           null,
           null,
           null,
           null,
           null,
           null,
           null,
           null,
           null,
           null,
           null,
           null,
           null,
           null,
           null,
           null,
           null,
           null,
           null,
           null,
           null,
           null,
           null,
           null,
           null,
           null,
           null,
           null,
           null,
           null,
           null,
           null,
           null,
           null,
           null,
           null,
           null,
           null,
           null,
           null,
           null,
           null,
           null,
           null,
           null,
           null,
           null,
           null,
           null,
           null,
           null,
           null,
           null,
           null,
           null,
           null,
           null,
           null,
           null,
           null,
           null,
           null,
           null,
           null
          ],
          [
           null,
           null,
           null,
           null,
           null,
           null,
           null,
           null,
           null,
           null,
           null,
           null,
           null,
           null,
           null,
           null,
           null,
           null,
           null,
           null,
           null,
           null,
           null,
           null,
           null,
           null,
           null,
           null,
           null,
           null,
           null,
           null,
           null,
           null,
           null,
           null,
           null,
           null,
           null,
           null,
           null,
           null,
           null,
           null,
           null,
           null,
           null,
           null,
           null,
           null,
           null,
           null,
           null,
           null,
           null,
           null,
           null,
           null,
           null,
           null,
           null,
           null,
           null,
           null,
           null,
           null,
           null,
           null,
           null,
           null,
           null,
           null,
           null,
           null,
           null,
           null,
           null,
           null,
           null,
           null,
           null,
           null,
           null,
           null,
           null,
           null,
           null,
           null,
           null,
           null,
           null,
           null,
           null,
           null,
           null,
           null,
           null,
           null,
           null,
           null,
           null
          ],
          [
           null,
           null,
           null,
           null,
           null,
           null,
           null,
           null,
           null,
           null,
           null,
           null,
           null,
           null,
           null,
           null,
           null,
           null,
           null,
           null,
           null,
           null,
           null,
           null,
           null,
           null,
           null,
           null,
           null,
           null,
           null,
           null,
           null,
           null,
           null,
           null,
           null,
           null,
           null,
           null,
           null,
           null,
           null,
           null,
           null,
           null,
           null,
           null,
           null,
           null,
           null,
           null,
           null,
           null,
           null,
           null,
           null,
           null,
           null,
           null,
           null,
           null,
           null,
           null,
           null,
           null,
           null,
           null,
           null,
           null,
           null,
           null,
           null,
           null,
           null,
           null,
           null,
           null,
           null,
           null,
           null,
           null,
           null,
           null,
           null,
           null,
           null,
           null,
           null,
           null,
           null,
           null,
           null,
           null,
           null,
           null,
           null,
           null,
           null,
           null,
           null
          ],
          [
           null,
           null,
           null,
           null,
           null,
           null,
           null,
           null,
           null,
           null,
           null,
           null,
           null,
           null,
           null,
           null,
           null,
           null,
           null,
           null,
           null,
           null,
           null,
           null,
           null,
           null,
           null,
           null,
           null,
           null,
           null,
           null,
           null,
           null,
           null,
           null,
           null,
           null,
           null,
           null,
           null,
           null,
           null,
           null,
           null,
           null,
           null,
           null,
           null,
           null,
           null,
           null,
           null,
           null,
           null,
           null,
           null,
           null,
           null,
           null,
           null,
           null,
           null,
           null,
           null,
           null,
           null,
           null,
           null,
           null,
           null,
           null,
           null,
           null,
           null,
           null,
           null,
           null,
           null,
           null,
           null,
           null,
           null,
           null,
           null,
           null,
           null,
           null,
           null,
           null,
           null,
           null,
           null,
           null,
           null,
           null,
           null,
           null,
           null,
           null,
           null
          ],
          [
           null,
           null,
           null,
           null,
           null,
           null,
           null,
           null,
           null,
           null,
           null,
           null,
           null,
           null,
           null,
           null,
           null,
           null,
           null,
           null,
           null,
           null,
           null,
           null,
           null,
           null,
           null,
           null,
           null,
           null,
           null,
           null,
           null,
           null,
           null,
           null,
           null,
           null,
           null,
           null,
           null,
           null,
           null,
           null,
           null,
           null,
           null,
           null,
           null,
           null,
           null,
           null,
           null,
           null,
           null,
           null,
           null,
           null,
           null,
           null,
           null,
           null,
           null,
           null,
           null,
           null,
           null,
           null,
           null,
           null,
           null,
           null,
           null,
           null,
           null,
           null,
           null,
           null,
           null,
           null,
           null,
           null,
           null,
           null,
           null,
           null,
           null,
           null,
           null,
           null,
           null,
           null,
           null,
           null,
           null,
           null,
           null,
           null,
           null,
           null,
           null
          ],
          [
           null,
           null,
           null,
           null,
           null,
           null,
           null,
           null,
           null,
           null,
           null,
           null,
           null,
           null,
           null,
           null,
           null,
           null,
           null,
           null,
           null,
           null,
           null,
           null,
           null,
           null,
           null,
           null,
           null,
           null,
           null,
           null,
           null,
           null,
           null,
           null,
           null,
           null,
           null,
           null,
           null,
           null,
           null,
           null,
           null,
           null,
           null,
           null,
           null,
           null,
           null,
           null,
           null,
           null,
           null,
           null,
           null,
           null,
           null,
           null,
           null,
           null,
           null,
           null,
           null,
           null,
           null,
           null,
           null,
           null,
           null,
           null,
           null,
           null,
           null,
           null,
           null,
           null,
           null,
           null,
           null,
           null,
           null,
           null,
           null,
           null,
           null,
           null,
           null,
           null,
           null,
           null,
           null,
           null,
           null,
           null,
           null,
           null,
           null,
           null,
           null
          ],
          [
           null,
           null,
           null,
           null,
           null,
           null,
           null,
           null,
           null,
           null,
           null,
           null,
           null,
           null,
           null,
           null,
           null,
           null,
           null,
           null,
           null,
           null,
           null,
           null,
           null,
           null,
           null,
           null,
           null,
           null,
           null,
           null,
           null,
           null,
           null,
           null,
           null,
           null,
           null,
           null,
           null,
           null,
           null,
           null,
           null,
           null,
           null,
           null,
           null,
           null,
           null,
           null,
           null,
           null,
           null,
           null,
           null,
           null,
           null,
           null,
           null,
           null,
           null,
           null,
           null,
           null,
           null,
           null,
           null,
           null,
           null,
           null,
           null,
           null,
           null,
           null,
           null,
           null,
           null,
           null,
           null,
           null,
           null,
           null,
           null,
           null,
           null,
           null,
           null,
           null,
           null,
           null,
           null,
           null,
           null,
           null,
           null,
           null,
           null,
           null,
           null
          ]
         ]
        }
       ],
       "layout": {
        "autosize": false,
        "height": 500,
        "margin": {
         "b": 5,
         "l": 5,
         "r": 50,
         "t": 55
        },
        "template": {
         "data": {
          "bar": [
           {
            "error_x": {
             "color": "#2a3f5f"
            },
            "error_y": {
             "color": "#2a3f5f"
            },
            "marker": {
             "line": {
              "color": "#E5ECF6",
              "width": 0.5
             },
             "pattern": {
              "fillmode": "overlay",
              "size": 10,
              "solidity": 0.2
             }
            },
            "type": "bar"
           }
          ],
          "barpolar": [
           {
            "marker": {
             "line": {
              "color": "#E5ECF6",
              "width": 0.5
             },
             "pattern": {
              "fillmode": "overlay",
              "size": 10,
              "solidity": 0.2
             }
            },
            "type": "barpolar"
           }
          ],
          "carpet": [
           {
            "aaxis": {
             "endlinecolor": "#2a3f5f",
             "gridcolor": "white",
             "linecolor": "white",
             "minorgridcolor": "white",
             "startlinecolor": "#2a3f5f"
            },
            "baxis": {
             "endlinecolor": "#2a3f5f",
             "gridcolor": "white",
             "linecolor": "white",
             "minorgridcolor": "white",
             "startlinecolor": "#2a3f5f"
            },
            "type": "carpet"
           }
          ],
          "choropleth": [
           {
            "colorbar": {
             "outlinewidth": 0,
             "ticks": ""
            },
            "type": "choropleth"
           }
          ],
          "contour": [
           {
            "colorbar": {
             "outlinewidth": 0,
             "ticks": ""
            },
            "colorscale": [
             [
              0,
              "#0d0887"
             ],
             [
              0.1111111111111111,
              "#46039f"
             ],
             [
              0.2222222222222222,
              "#7201a8"
             ],
             [
              0.3333333333333333,
              "#9c179e"
             ],
             [
              0.4444444444444444,
              "#bd3786"
             ],
             [
              0.5555555555555556,
              "#d8576b"
             ],
             [
              0.6666666666666666,
              "#ed7953"
             ],
             [
              0.7777777777777778,
              "#fb9f3a"
             ],
             [
              0.8888888888888888,
              "#fdca26"
             ],
             [
              1,
              "#f0f921"
             ]
            ],
            "type": "contour"
           }
          ],
          "contourcarpet": [
           {
            "colorbar": {
             "outlinewidth": 0,
             "ticks": ""
            },
            "type": "contourcarpet"
           }
          ],
          "heatmap": [
           {
            "colorbar": {
             "outlinewidth": 0,
             "ticks": ""
            },
            "colorscale": [
             [
              0,
              "#0d0887"
             ],
             [
              0.1111111111111111,
              "#46039f"
             ],
             [
              0.2222222222222222,
              "#7201a8"
             ],
             [
              0.3333333333333333,
              "#9c179e"
             ],
             [
              0.4444444444444444,
              "#bd3786"
             ],
             [
              0.5555555555555556,
              "#d8576b"
             ],
             [
              0.6666666666666666,
              "#ed7953"
             ],
             [
              0.7777777777777778,
              "#fb9f3a"
             ],
             [
              0.8888888888888888,
              "#fdca26"
             ],
             [
              1,
              "#f0f921"
             ]
            ],
            "type": "heatmap"
           }
          ],
          "heatmapgl": [
           {
            "colorbar": {
             "outlinewidth": 0,
             "ticks": ""
            },
            "colorscale": [
             [
              0,
              "#0d0887"
             ],
             [
              0.1111111111111111,
              "#46039f"
             ],
             [
              0.2222222222222222,
              "#7201a8"
             ],
             [
              0.3333333333333333,
              "#9c179e"
             ],
             [
              0.4444444444444444,
              "#bd3786"
             ],
             [
              0.5555555555555556,
              "#d8576b"
             ],
             [
              0.6666666666666666,
              "#ed7953"
             ],
             [
              0.7777777777777778,
              "#fb9f3a"
             ],
             [
              0.8888888888888888,
              "#fdca26"
             ],
             [
              1,
              "#f0f921"
             ]
            ],
            "type": "heatmapgl"
           }
          ],
          "histogram": [
           {
            "marker": {
             "pattern": {
              "fillmode": "overlay",
              "size": 10,
              "solidity": 0.2
             }
            },
            "type": "histogram"
           }
          ],
          "histogram2d": [
           {
            "colorbar": {
             "outlinewidth": 0,
             "ticks": ""
            },
            "colorscale": [
             [
              0,
              "#0d0887"
             ],
             [
              0.1111111111111111,
              "#46039f"
             ],
             [
              0.2222222222222222,
              "#7201a8"
             ],
             [
              0.3333333333333333,
              "#9c179e"
             ],
             [
              0.4444444444444444,
              "#bd3786"
             ],
             [
              0.5555555555555556,
              "#d8576b"
             ],
             [
              0.6666666666666666,
              "#ed7953"
             ],
             [
              0.7777777777777778,
              "#fb9f3a"
             ],
             [
              0.8888888888888888,
              "#fdca26"
             ],
             [
              1,
              "#f0f921"
             ]
            ],
            "type": "histogram2d"
           }
          ],
          "histogram2dcontour": [
           {
            "colorbar": {
             "outlinewidth": 0,
             "ticks": ""
            },
            "colorscale": [
             [
              0,
              "#0d0887"
             ],
             [
              0.1111111111111111,
              "#46039f"
             ],
             [
              0.2222222222222222,
              "#7201a8"
             ],
             [
              0.3333333333333333,
              "#9c179e"
             ],
             [
              0.4444444444444444,
              "#bd3786"
             ],
             [
              0.5555555555555556,
              "#d8576b"
             ],
             [
              0.6666666666666666,
              "#ed7953"
             ],
             [
              0.7777777777777778,
              "#fb9f3a"
             ],
             [
              0.8888888888888888,
              "#fdca26"
             ],
             [
              1,
              "#f0f921"
             ]
            ],
            "type": "histogram2dcontour"
           }
          ],
          "mesh3d": [
           {
            "colorbar": {
             "outlinewidth": 0,
             "ticks": ""
            },
            "type": "mesh3d"
           }
          ],
          "parcoords": [
           {
            "line": {
             "colorbar": {
              "outlinewidth": 0,
              "ticks": ""
             }
            },
            "type": "parcoords"
           }
          ],
          "pie": [
           {
            "automargin": true,
            "type": "pie"
           }
          ],
          "scatter": [
           {
            "marker": {
             "colorbar": {
              "outlinewidth": 0,
              "ticks": ""
             }
            },
            "type": "scatter"
           }
          ],
          "scatter3d": [
           {
            "line": {
             "colorbar": {
              "outlinewidth": 0,
              "ticks": ""
             }
            },
            "marker": {
             "colorbar": {
              "outlinewidth": 0,
              "ticks": ""
             }
            },
            "type": "scatter3d"
           }
          ],
          "scattercarpet": [
           {
            "marker": {
             "colorbar": {
              "outlinewidth": 0,
              "ticks": ""
             }
            },
            "type": "scattercarpet"
           }
          ],
          "scattergeo": [
           {
            "marker": {
             "colorbar": {
              "outlinewidth": 0,
              "ticks": ""
             }
            },
            "type": "scattergeo"
           }
          ],
          "scattergl": [
           {
            "marker": {
             "colorbar": {
              "outlinewidth": 0,
              "ticks": ""
             }
            },
            "type": "scattergl"
           }
          ],
          "scattermapbox": [
           {
            "marker": {
             "colorbar": {
              "outlinewidth": 0,
              "ticks": ""
             }
            },
            "type": "scattermapbox"
           }
          ],
          "scatterpolar": [
           {
            "marker": {
             "colorbar": {
              "outlinewidth": 0,
              "ticks": ""
             }
            },
            "type": "scatterpolar"
           }
          ],
          "scatterpolargl": [
           {
            "marker": {
             "colorbar": {
              "outlinewidth": 0,
              "ticks": ""
             }
            },
            "type": "scatterpolargl"
           }
          ],
          "scatterternary": [
           {
            "marker": {
             "colorbar": {
              "outlinewidth": 0,
              "ticks": ""
             }
            },
            "type": "scatterternary"
           }
          ],
          "surface": [
           {
            "colorbar": {
             "outlinewidth": 0,
             "ticks": ""
            },
            "colorscale": [
             [
              0,
              "#0d0887"
             ],
             [
              0.1111111111111111,
              "#46039f"
             ],
             [
              0.2222222222222222,
              "#7201a8"
             ],
             [
              0.3333333333333333,
              "#9c179e"
             ],
             [
              0.4444444444444444,
              "#bd3786"
             ],
             [
              0.5555555555555556,
              "#d8576b"
             ],
             [
              0.6666666666666666,
              "#ed7953"
             ],
             [
              0.7777777777777778,
              "#fb9f3a"
             ],
             [
              0.8888888888888888,
              "#fdca26"
             ],
             [
              1,
              "#f0f921"
             ]
            ],
            "type": "surface"
           }
          ],
          "table": [
           {
            "cells": {
             "fill": {
              "color": "#EBF0F8"
             },
             "line": {
              "color": "white"
             }
            },
            "header": {
             "fill": {
              "color": "#C8D4E3"
             },
             "line": {
              "color": "white"
             }
            },
            "type": "table"
           }
          ]
         },
         "layout": {
          "annotationdefaults": {
           "arrowcolor": "#2a3f5f",
           "arrowhead": 0,
           "arrowwidth": 1
          },
          "autotypenumbers": "strict",
          "coloraxis": {
           "colorbar": {
            "outlinewidth": 0,
            "ticks": ""
           }
          },
          "colorscale": {
           "diverging": [
            [
             0,
             "#8e0152"
            ],
            [
             0.1,
             "#c51b7d"
            ],
            [
             0.2,
             "#de77ae"
            ],
            [
             0.3,
             "#f1b6da"
            ],
            [
             0.4,
             "#fde0ef"
            ],
            [
             0.5,
             "#f7f7f7"
            ],
            [
             0.6,
             "#e6f5d0"
            ],
            [
             0.7,
             "#b8e186"
            ],
            [
             0.8,
             "#7fbc41"
            ],
            [
             0.9,
             "#4d9221"
            ],
            [
             1,
             "#276419"
            ]
           ],
           "sequential": [
            [
             0,
             "#0d0887"
            ],
            [
             0.1111111111111111,
             "#46039f"
            ],
            [
             0.2222222222222222,
             "#7201a8"
            ],
            [
             0.3333333333333333,
             "#9c179e"
            ],
            [
             0.4444444444444444,
             "#bd3786"
            ],
            [
             0.5555555555555556,
             "#d8576b"
            ],
            [
             0.6666666666666666,
             "#ed7953"
            ],
            [
             0.7777777777777778,
             "#fb9f3a"
            ],
            [
             0.8888888888888888,
             "#fdca26"
            ],
            [
             1,
             "#f0f921"
            ]
           ],
           "sequentialminus": [
            [
             0,
             "#0d0887"
            ],
            [
             0.1111111111111111,
             "#46039f"
            ],
            [
             0.2222222222222222,
             "#7201a8"
            ],
            [
             0.3333333333333333,
             "#9c179e"
            ],
            [
             0.4444444444444444,
             "#bd3786"
            ],
            [
             0.5555555555555556,
             "#d8576b"
            ],
            [
             0.6666666666666666,
             "#ed7953"
            ],
            [
             0.7777777777777778,
             "#fb9f3a"
            ],
            [
             0.8888888888888888,
             "#fdca26"
            ],
            [
             1,
             "#f0f921"
            ]
           ]
          },
          "colorway": [
           "#636efa",
           "#EF553B",
           "#00cc96",
           "#ab63fa",
           "#FFA15A",
           "#19d3f3",
           "#FF6692",
           "#B6E880",
           "#FF97FF",
           "#FECB52"
          ],
          "font": {
           "color": "#2a3f5f"
          },
          "geo": {
           "bgcolor": "white",
           "lakecolor": "white",
           "landcolor": "#E5ECF6",
           "showlakes": true,
           "showland": true,
           "subunitcolor": "white"
          },
          "hoverlabel": {
           "align": "left"
          },
          "hovermode": "closest",
          "mapbox": {
           "style": "light"
          },
          "paper_bgcolor": "white",
          "plot_bgcolor": "#E5ECF6",
          "polar": {
           "angularaxis": {
            "gridcolor": "white",
            "linecolor": "white",
            "ticks": ""
           },
           "bgcolor": "#E5ECF6",
           "radialaxis": {
            "gridcolor": "white",
            "linecolor": "white",
            "ticks": ""
           }
          },
          "scene": {
           "xaxis": {
            "backgroundcolor": "#E5ECF6",
            "gridcolor": "white",
            "gridwidth": 2,
            "linecolor": "white",
            "showbackground": true,
            "ticks": "",
            "zerolinecolor": "white"
           },
           "yaxis": {
            "backgroundcolor": "#E5ECF6",
            "gridcolor": "white",
            "gridwidth": 2,
            "linecolor": "white",
            "showbackground": true,
            "ticks": "",
            "zerolinecolor": "white"
           },
           "zaxis": {
            "backgroundcolor": "#E5ECF6",
            "gridcolor": "white",
            "gridwidth": 2,
            "linecolor": "white",
            "showbackground": true,
            "ticks": "",
            "zerolinecolor": "white"
           }
          },
          "shapedefaults": {
           "line": {
            "color": "#2a3f5f"
           }
          },
          "ternary": {
           "aaxis": {
            "gridcolor": "white",
            "linecolor": "white",
            "ticks": ""
           },
           "baxis": {
            "gridcolor": "white",
            "linecolor": "white",
            "ticks": ""
           },
           "bgcolor": "#E5ECF6",
           "caxis": {
            "gridcolor": "white",
            "linecolor": "white",
            "ticks": ""
           }
          },
          "title": {
           "x": 0.05
          },
          "xaxis": {
           "automargin": true,
           "gridcolor": "white",
           "linecolor": "white",
           "ticks": "",
           "title": {
            "standoff": 15
           },
           "zerolinecolor": "white",
           "zerolinewidth": 2
          },
          "yaxis": {
           "automargin": true,
           "gridcolor": "white",
           "linecolor": "white",
           "ticks": "",
           "title": {
            "standoff": 15
           },
           "zerolinecolor": "white",
           "zerolinewidth": 2
          }
         }
        },
        "title": {
         "text": "surface"
        },
        "width": 500
       }
      }
     },
     "metadata": {},
     "output_type": "display_data"
    }
   ],
   "source": [
    "sh_0, sh_1 = A.shape\n",
    "fig = go.Figure()\n",
    "fig.add_surface(\n",
    "    # contours = {\n",
    "    #     \"x\": {\"show\": True, \"start\": 1.5, \"end\": 2, \"size\": 0.04, \"color\":\"white\"},\n",
    "    #     \"z\": {\"show\": True, \"start\": 0.5, \"end\": 0.8, \"size\": 0.05}\n",
    "    # },\n",
    "    x = np.linspace(a, b, sh_1),\n",
    "    y = np.linspace(0, T, sh_0),\n",
    "    z = U\n",
    "    )\n",
    "# fig.add_scatter3d(name='scat_p', x=np.linspace(a, b, sh_1), y=np.linspace(0, T, sh_0), z=U, mode='markers',\n",
    "#     marker=dict(size=10, color='black',colorscale='Reds'))\n",
    "# fig.update_layout(\n",
    "#         scene = {\n",
    "#             \"xaxis\": {\"nticks\": 20},\n",
    "#             \"zaxis\": {\"nticks\": 4},\n",
    "#             'camera_eye': {\"x\": 0, \"y\": -1, \"z\": 0.5},\n",
    "#             \"aspectratio\": {\"x\": 1, \"y\": 1, \"z\": 0.2}\n",
    "#         })\n",
    "fig.update_layout(title='surface', autosize=False,\n",
    "                  width=500, height=500,\n",
    "                  margin=dict(l=5, r=50, b=5, t=55))\n",
    "fig.show()"
   ]
  }
 ],
 "metadata": {
  "interpreter": {
   "hash": "670f886bb491df400b8a46c547cdac4d4234710212a6195cc7ddd83502d821f4"
  },
  "kernelspec": {
   "display_name": "Python 3.9.10 64-bit",
   "language": "python",
   "name": "python3"
  },
  "language_info": {
   "codemirror_mode": {
    "name": "ipython",
    "version": 3
   },
   "file_extension": ".py",
   "mimetype": "text/x-python",
   "name": "python",
   "nbconvert_exporter": "python",
   "pygments_lexer": "ipython3",
   "version": "3.9.10"
  },
  "orig_nbformat": 4
 },
 "nbformat": 4,
 "nbformat_minor": 2
}
