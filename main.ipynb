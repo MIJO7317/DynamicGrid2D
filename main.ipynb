{
 "cells": [
  {
   "cell_type": "code",
   "execution_count": 2,
   "metadata": {},
   "outputs": [
    {
     "ename": "ModuleNotFoundError",
     "evalue": "No module named 'pyvista'",
     "output_type": "error",
     "traceback": [
      "\u001b[1;31m---------------------------------------------------------------------------\u001b[0m",
      "\u001b[1;31mModuleNotFoundError\u001b[0m                       Traceback (most recent call last)",
      "\u001b[1;32mc:\\Users\\stas2\\Desktop\\ВУЗ\\Численные методы\\DynamicGrid2D\\main.ipynb Cell 1'\u001b[0m in \u001b[0;36m<cell line: 9>\u001b[1;34m()\u001b[0m\n\u001b[0;32m      <a href='vscode-notebook-cell:/c%3A/Users/stas2/Desktop/%D0%92%D0%A3%D0%97/%D0%A7%D0%B8%D1%81%D0%BB%D0%B5%D0%BD%D0%BD%D1%8B%D0%B5%20%D0%BC%D0%B5%D1%82%D0%BE%D0%B4%D1%8B/DynamicGrid2D/main.ipynb#ch0000000?line=5'>6</a>\u001b[0m \u001b[39mfrom\u001b[39;00m \u001b[39mscipy\u001b[39;00m\u001b[39m.\u001b[39;00m\u001b[39moptimize\u001b[39;00m \u001b[39mimport\u001b[39;00m fsolve\n\u001b[0;32m      <a href='vscode-notebook-cell:/c%3A/Users/stas2/Desktop/%D0%92%D0%A3%D0%97/%D0%A7%D0%B8%D1%81%D0%BB%D0%B5%D0%BD%D0%BD%D1%8B%D0%B5%20%D0%BC%D0%B5%D1%82%D0%BE%D0%B4%D1%8B/DynamicGrid2D/main.ipynb#ch0000000?line=6'>7</a>\u001b[0m \u001b[39m# import warnings\u001b[39;00m\n\u001b[0;32m      <a href='vscode-notebook-cell:/c%3A/Users/stas2/Desktop/%D0%92%D0%A3%D0%97/%D0%A7%D0%B8%D1%81%D0%BB%D0%B5%D0%BD%D0%BD%D1%8B%D0%B5%20%D0%BC%D0%B5%D1%82%D0%BE%D0%B4%D1%8B/DynamicGrid2D/main.ipynb#ch0000000?line=7'>8</a>\u001b[0m \u001b[39m# warnings.filterwarnings(\"error\")\u001b[39;00m\n\u001b[1;32m----> <a href='vscode-notebook-cell:/c%3A/Users/stas2/Desktop/%D0%92%D0%A3%D0%97/%D0%A7%D0%B8%D1%81%D0%BB%D0%B5%D0%BD%D0%BD%D1%8B%D0%B5%20%D0%BC%D0%B5%D1%82%D0%BE%D0%B4%D1%8B/DynamicGrid2D/main.ipynb#ch0000000?line=8'>9</a>\u001b[0m \u001b[39mimport\u001b[39;00m \u001b[39mpyvista\u001b[39;00m \u001b[39mas\u001b[39;00m \u001b[39mpv\u001b[39;00m\n",
      "\u001b[1;31mModuleNotFoundError\u001b[0m: No module named 'pyvista'"
     ]
    }
   ],
   "source": [
    "import numpy as np\n",
    "import matplotlib\n",
    "import matplotlib.pyplot as plt\n",
    "matplotlib.rcParams[\"figure.dpi\"] = 100\n",
    "import plotly.graph_objects as go\n",
    "from scipy.optimize import fsolve\n",
    "# import warnings\n",
    "# warnings.filterwarnings(\"error\")\n",
    "import pyvista as pv"
   ]
  },
  {
   "cell_type": "code",
   "execution_count": 23,
   "metadata": {},
   "outputs": [
    {
     "name": "stderr",
     "output_type": "stream",
     "text": [
      "c:\\Users\\rouol\\AppData\\Local\\Programs\\Python\\Python310\\lib\\site-packages\\scipy\\optimize\\_minpack_py.py:175: RuntimeWarning: The iteration is not making good progress, as measured by the \n",
      "  improvement from the last five Jacobian evaluations.\n",
      "  warnings.warn(msg, RuntimeWarning)\n"
     ]
    }
   ],
   "source": [
    "N = 100\n",
    "f = lambda x : x\n",
    "v = lambda x : 1#np.sin(10*x)\n",
    "k = lambda x : 1\n",
    "a = 0\n",
    "b = 1\n",
    "\n",
    "def Func(UX):\n",
    "    F_retuned = np.zeros(2*N)\n",
    "    F_retuned[0] = UX[0]\n",
    "    F_retuned[N-1] = UX[N-1]\n",
    "    F_retuned[N] = UX[N] - a\n",
    "    F_retuned[N + N - 1] = UX[N + N - 1] - b\n",
    "    d = 0\n",
    "    for i in range(0, N-1):\n",
    "        d += (UX[N + i + 1] - UX[N + i])*np.sqrt(1 + ((UX[i+1] - UX[i])/(UX[N + i + 1] - UX[N + i]))**2)\n",
    "    d /= (N - 1)\n",
    "    for i in range(1, N-1):\n",
    "            h_i = UX[N + i] - UX[N + i - 1]\n",
    "            h_i_next = UX[N + i + 1] - UX[N + i]\n",
    "            F_retuned[i] = 1/h_i*((UX[i+1] - UX[i])/h_i_next - (UX[i]-UX[i-1])/h_i) + v(UX[N + i])*(UX[i+1] - U[i])/h_i_next - f(UX[N+i])\n",
    "            F_retuned[N + i] = (UX[N+i+1] - UX[N+i])**2 + (UX[i+1] - UX[i])**2 - d**2\n",
    "    return F_retuned\n",
    "\n",
    "U = np.zeros(N)\n",
    "X = np.linspace(a, b, N)\n",
    "UX_0 = np.concatenate((U, X))\n",
    "UX = fsolve(Func, UX_0)"
   ]
  },
  {
   "cell_type": "code",
   "execution_count": 25,
   "metadata": {},
   "outputs": [
    {
     "data": {
      "text/plain": [
       "<matplotlib.collections.PathCollection at 0x140d8a35ab0>"
      ]
     },
     "execution_count": 25,
     "metadata": {},
     "output_type": "execute_result"
    },
    {
     "data": {
      "image/png": "[encoded data removed]",
      "text/plain": [
       "<Figure size 432x288 with 1 Axes>"
      ]
     },
     "metadata": {
      "needs_background": "light"
     },
     "output_type": "display_data"
    }
   ],
   "source": [
    "plt.scatter(x=UX[N:], y=UX[:N], s=1)"
   ]
  },
  {
   "cell_type": "code",
   "execution_count": 8,
   "metadata": {},
   "outputs": [],
   "source": [
    "T = 0.5\n",
    "\n",
    "a = 0\n",
    "b = 1\n",
    "\n",
    "h = 0.05\n",
    "tau = 0.1\n",
    "\n",
    "M = int(T/tau) + 1\n",
    "N = int((b-a)/h) + 1\n",
    "\n",
    "U = np.zeros((M, N))\n",
    "Q = np.zeros(N)\n",
    "Psi = np.ones(N-1)\n",
    "Psis = [Psi.copy()]\n",
    "\n",
    "Kuxt = lambda u, x, t: u**2\n",
    "K = lambda m, n: Kuxt(U[m][n], n*h, m*tau)\n",
    "\n",
    "for n in range(N):\n",
    "    U[0][n] = 2\n",
    "    # U[0][n] = -40*((n*h)-0.5)**2+10\n",
    "    # U[0][n] = 10*np.sin(10*n*h)\n",
    "\n",
    "for m in range(1, M):\n",
    "    def F(Q_m):\n",
    "        F_retuned = np.zeros(N)\n",
    "        # F_retuned[0] = Q_m[0]\n",
    "        # for i in range(1, N-1):\n",
    "        #     alpha = 0.1\n",
    "        #     A = (0.5-alpha)*Q_m[i-1]+(0.5+alpha)*Q_m[i+1]+h/tau*((0.5-alpha)*Psi[i-1] - (0.5+alpha)*Psi[i])\n",
    "        #     B = (0.5+alpha)*Q_m[i-1]+(0.5-alpha)*Q_m[i+1]+h/tau*((0.5+alpha)*Psi[i-1] - (0.5-alpha)*Psi[i])\n",
    "        #     if np.abs(U[m-1][i+1] - U[m-1][i-1]) < 0.0000001:\n",
    "        #         if (K(m-1, i+1)*(U[m-1][i+1] - U[m-1][i]) - \\\n",
    "        #             K(m-1, i-1)*(U[m-1][i] - U[m-1][i-1])) * \\\n",
    "        #             2/h/(Psi[i]+Psi[i-1]) * (U[m-1][i+1] - U[m-1][i-1]) < 0:\n",
    "        #             F_retuned[i] = A - Q_m[i]\n",
    "        #         else:\n",
    "        #             F_retuned[i] = B - Q_m[i]\n",
    "        #     else:\n",
    "        #         Q_counted = (K(m-1, i+1)*(U[m-1][i+1] - U[m-1][i]) - \\\n",
    "        #                 K(m-1, i-1)*(U[m-1][i] - U[m-1][i-1])) * \\\n",
    "        #                 2/h/(Psi[i]+Psi[i-1])/(U[m-1][i+1] - U[m-1][i-1])\n",
    "        #         if Q_counted < Q_m[i+1] - h/tau*Psi[i]:\n",
    "        #             F_retuned[i] = A - Q_m[i]\n",
    "        #         elif Q_counted > Q_m[i-1] + h/tau*Psi[i-1]:\n",
    "        #             F_retuned[i] = B - Q_m[i]\n",
    "        #         else:\n",
    "        #             F_retuned[i] = Q_counted - Q_m[i]\n",
    "        # F_retuned[N-1] = Q_m[N-1]\n",
    "        return F_retuned\n",
    "    # Q = fsolve(F, h*np.ones(N))\n",
    "    # Q = np.random.rand(N)/8\n",
    "    # Q = np.zeros(N)\n",
    "    Q = np.ones(N)*(-1)/15\n",
    "    Q[0] = 0\n",
    "    Q[-1] = 0\n",
    "\n",
    "    # Q[0] = 0\n",
    "    # for i in range(1, N - 1):\n",
    "    #     # if np.abs(A[m-1][i+1] - A[m-1][i-1]) < 0.01 or np.abs(Psi[i]+Psi[i-1]) < 0.01:\n",
    "    #     #     Q[i] = (K(A[m-1][i+1], h*(i+1), tau*(m-1))*(A[m-1][i+1] - A[m-1][i]) - \\\n",
    "    #     #             K(A[m-1][i-1], h*(i-1), tau*(m-1))*(A[m-1][i] - A[m-1][i-1])) * \\\n",
    "    #     #             2/h/0.01/ 0.01\n",
    "    #     # else:\n",
    "    #     #     try:\n",
    "    #     #         Q[i] = (K(A[m-1][i+1], h*(i+1), tau*(m-1))*(A[m-1][i+1] - A[m-1][i]) - \\\n",
    "    #     #                 K(A[m-1][i-1], h*(i-1), tau*(m-1))*(A[m-1][i] - A[m-1][i-1])) * \\\n",
    "    #     #                 2/h/(Psi[i]+Psi[i-1])/(A[m-1][i+1] - A[m-1][i-1])\n",
    "    #     #     except:\n",
    "    #     #         pass\n",
    "    #     # if Psi[i-1] + tau/h*(Q[i-1]-Q[i]) < 0:\n",
    "    #     #     Q[i] = h/tau*Psi[i-1]/2 + Q[i-1]\n",
    "    #     # else:\n",
    "    #     #     Q[i] += h/tau*Psi[i-1]/2 + Q[i-1]\n",
    "    #     counted = (K(m-1, i+1)*(U[m-1][i+1] - U[m-1][i]) - \\\n",
    "    #                 K(m-1, i-1)*(U[m-1][i] - U[m-1][i-1])) * \\\n",
    "    #                 2/h/(Psi[i]+Psi[i-1])/(U[m-1][i+1] - U[m-1][i-1])\n",
    "    #     right =  h/tau*np.min(Psi[:i])\n",
    "    #     left = -h/tau*np.min(Psi[i:])\n",
    "    #     if left < counted < right:\n",
    "    #         Q[i] = counted\n",
    "    #     elif counted > right:\n",
    "    #         Q[i] = right/2\n",
    "    #     elif counted < left:\n",
    "    #         Q[i] = left/2\n",
    "    #     # Q[i] = (left+right)/2\n",
    "    #     # Q[i] = 0\n",
    "    # Q[N-1] = 0\n",
    "\n",
    "    Psi_next = np.ones(N-1)\n",
    "    for i in range(0, N-1):\n",
    "        Psi_next[i] = Psi[i] + tau/h*(Q[i]-Q[i+1])\n",
    "            \n",
    "    A = np.zeros((N, N))\n",
    "    B = np.zeros(N)\n",
    "    for n in range(0, N):\n",
    "        if n == 0:\n",
    "            A[n][0] = 1\n",
    "            B[n] = 1\n",
    "        elif n == N-1:\n",
    "            A[n][N-1] = 1\n",
    "            B[n] = 0\n",
    "        else:\n",
    "            # Psi_nM1 = (Psi[n-2] + Psi[n-1])/2\n",
    "            Psi_n = (Psi[n-1] + Psi[n])/2\n",
    "            # Psi_nP1 = Psi[n] if n == N-2 else (Psi[n] + Psi[n+1])/2\n",
    "            Psi_n_next = (Psi_next[n-1] + Psi_next[n])/2\n",
    "            # A[n][n-1] = tau/2/h**2*(K(m-1, n)/Psi_n+K(m-1, n-1)/Psi_nM1)\n",
    "            # A[n][n] = -(Psi_n_next+tau/2/h**2*(K(m-1, n+1)/Psi_nP1+2*K(m-1, n)/Psi_n+K(m-1, n-1)/Psi_nM1))\n",
    "            # A[n][n+1] = tau/2/h**2*(K(m-1, n+1)/Psi_nP1+K(m-1, n)/Psi_n)\n",
    "            # B[n] = tau/h*(Q[n+1]*U[m-1][n+1]-Q[n]*U[m-1][n])-Psi_n*U[m-1][n]\n",
    "            A[n][n-1] = tau/2/h**2*((K(m-1, n+1)+K(m-1, n))/Psi[n])\n",
    "            A[n][n] = -(Psi_n_next+tau/2/h**2*((K(m-1, n+1)+K(m-1, n))/Psi[n]+(K(m-1, n)+K(m-1, n-1))/Psi[n-1]))\n",
    "            A[n][n+1] = tau/2/h**2*((K(m-1, n)+K(m-1, n-1))/Psi[n-1])\n",
    "            B[n] = tau/2/h*(Q[n+1]*U[m-1][n+1]-Q[n-1]*U[m-1][n-1])-Psi_n*U[m-1][n]\n",
    "\n",
    "    # X = np.linalg.inv(A).dot(B)\n",
    "    X = np.linalg.solve(A, B)\n",
    "    U[m] = X\n",
    "\n",
    "    Psi = Psi_next.copy()\n",
    "    \n",
    "    Psis.append(Psi.copy())"
   ]
  },
  {
   "cell_type": "code",
   "execution_count": 9,
   "metadata": {},
   "outputs": [
    {
     "data": {
      "image/png": "[encoded data removed]",
      "text/plain": [
       "<Figure size 432x288 with 1 Axes>"
      ]
     },
     "metadata": {
      "needs_background": "light"
     },
     "output_type": "display_data"
    }
   ],
   "source": [
    "t = 0\n",
    "graph = []\n",
    "for i, Psi in enumerate(Psis):\n",
    "    if i % 1 == 0:\n",
    "        X = list()\n",
    "        xi = 0\n",
    "        X.append(xi)\n",
    "        for psi in Psi:\n",
    "            xi += psi * h\n",
    "            X.append(xi)\n",
    "        graph.append([X, list(np.full((len(X)), t))])\n",
    "        # plt.scatter(X, np.full((len(X)), t), s=1, color='black')\n",
    "        t += tau\n",
    "graph = np.array(graph)\n",
    "graph = graph.transpose()\n",
    "# graph.shape, graph[0]\n",
    "for l in graph:\n",
    "    # l = line.transpose()\n",
    "    plt.plot(l[0], l[1])\n",
    "plt.show()"
   ]
  },
  {
   "cell_type": "code",
   "execution_count": null,
   "metadata": {},
   "outputs": [],
   "source": []
  },
  {
   "cell_type": "code",
   "execution_count": null,
   "metadata": {},
   "outputs": [],
   "source": [
    "def make_point_set():\n",
    "    t = 0\n",
    "    points = np.zeros((M*N, 3))\n",
    "    for i, Psi in enumerate(Psis):\n",
    "        points[i*N:(i+1)*N, 2] = U[i, :]\n",
    "        if i % 1 == 0:\n",
    "            X = np.zeros((N))\n",
    "            for j, psi in enumerate(Psi, 1):\n",
    "                X[j] = X[j-1] + psi * h\n",
    "            points[i*N:(i+1)*N, 0] = X\n",
    "            points[i*N:(i+1)*N, 1] = np.full((N), t)\n",
    "            # points[i*N:(i+1)*N, :2] = np.array([X, np.full((N), t)]).transpose()\n",
    "            # plt.scatter(X, np.full((len(X)), t), s=1, color='black')\n",
    "            t += tau\n",
    "    foo = pv.PolyData(points)\n",
    "    foo.rotate_z(0, inplace=True)\n",
    "    return foo.points\n",
    "# def make_point_set_example():\n",
    "#     \"\"\"Ignore the contents of this function. Just know that it returns an\n",
    "#     n by 3 numpy array of structured coordinates.\"\"\"\n",
    "#     n, m = 29, 32\n",
    "#     x = np.linspace(-200, 200, num=n) + np.random.uniform(-5, 5, size=n)\n",
    "#     y = np.linspace(-200, 200, num=m) + np.random.uniform(-5, 5, size=m)\n",
    "#     xx, yy = np.meshgrid(x, y)\n",
    "#     A, b = 100, 100\n",
    "#     zz = A * np.exp(-0.5 * ((xx / b) ** 2.0 + (yy / b) ** 2.0))\n",
    "#     points = np.c_[xx.reshape(-1), yy.reshape(-1), zz.reshape(-1)]\n",
    "#     foo = pv.PolyData(points)\n",
    "#     foo.rotate_z(36.6, inplace=True)\n",
    "#     return foo.points\n",
    "\n",
    "\n",
    "# poly_data = pv.PolyData(points)\n",
    "mesh = pv.StructuredGrid()\n",
    "# Set the coordinates from the numpy array\n",
    "mesh.points = make_point_set()\n",
    "# set the dimensions\n",
    "mesh.dimensions = [N, M, 1]\n",
    "# mesh.plot()\n",
    "mesh.plot(show_edges=True, show_grid=True)\n",
    "# mesh.plot(show_edges=True, show_grid=True, cpos=\"xy\")\n",
    "\n",
    "# plt.figure(figsize=(10, 10))\n",
    "# plt.scatter(points[:, 0], points[:, 1], c=points[:, 2], s=1)\n",
    "# plt.axis(\"image\")\n",
    "# plt.xlabel(\"X Coordinate\")\n",
    "# plt.ylabel(\"Y Coordinate\")\n",
    "# plt.show()"
   ]
  },
  {
   "cell_type": "code",
   "execution_count": null,
   "metadata": {},
   "outputs": [],
   "source": [
    "sh_0, sh_1 = A.shape\n",
    "fig = go.Figure()\n",
    "fig.add_surface(\n",
    "    # contours = {\n",
    "    #     \"x\": {\"show\": True, \"start\": 1.5, \"end\": 2, \"size\": 0.04, \"color\":\"white\"},\n",
    "    #     \"z\": {\"show\": True, \"start\": 0.5, \"end\": 0.8, \"size\": 0.05}\n",
    "    # },\n",
    "    x = np.linspace(a, b, sh_1),\n",
    "    y = np.linspace(0, T, sh_0),\n",
    "    z = U\n",
    "    )\n",
    "# fig.add_scatter3d(name='scat_p', x=np.linspace(a, b, sh_1), y=np.linspace(0, T, sh_0), z=U, mode='markers',\n",
    "#     marker=dict(size=10, color='black',colorscale='Reds'))\n",
    "# fig.update_layout(\n",
    "#         scene = {\n",
    "#             \"xaxis\": {\"nticks\": 20},\n",
    "#             \"zaxis\": {\"nticks\": 4},\n",
    "#             'camera_eye': {\"x\": 0, \"y\": -1, \"z\": 0.5},\n",
    "#             \"aspectratio\": {\"x\": 1, \"y\": 1, \"z\": 0.2}\n",
    "#         })\n",
    "fig.update_layout(title='surface', autosize=False,\n",
    "                  width=500, height=500,\n",
    "                  margin=dict(l=5, r=50, b=5, t=55))\n",
    "fig.show()"
   ]
  },
  {
   "cell_type": "code",
   "execution_count": 1,
   "metadata": {},
   "outputs": [
    {
     "ename": "NameError",
     "evalue": "name 'np' is not defined",
     "output_type": "error",
     "traceback": [
      "\u001b[1;31m---------------------------------------------------------------------------\u001b[0m",
      "\u001b[1;31mNameError\u001b[0m                                 Traceback (most recent call last)",
      "\u001b[1;32mc:\\Users\\stas2\\Desktop\\ВУЗ\\Численные методы\\DynamicGrid2D\\main.ipynb Cell 6'\u001b[0m in \u001b[0;36m<cell line: 21>\u001b[1;34m()\u001b[0m\n\u001b[0;32m     <a href='vscode-notebook-cell:/c%3A/Users/stas2/Desktop/%D0%92%D0%A3%D0%97/%D0%A7%D0%B8%D1%81%D0%BB%D0%B5%D0%BD%D0%BD%D1%8B%D0%B5%20%D0%BC%D0%B5%D1%82%D0%BE%D0%B4%D1%8B/DynamicGrid2D/main.ipynb#ch0000005?line=18'>19</a>\u001b[0m                 F_retuned[N \u001b[39m+\u001b[39m i] \u001b[39m=\u001b[39m (UX[N\u001b[39m+\u001b[39mi\u001b[39m+\u001b[39m\u001b[39m1\u001b[39m] \u001b[39m-\u001b[39m UX[N\u001b[39m+\u001b[39mi])\u001b[39m*\u001b[39m\u001b[39m*\u001b[39m\u001b[39m2\u001b[39m \u001b[39m+\u001b[39m (UX[i\u001b[39m+\u001b[39m\u001b[39m1\u001b[39m] \u001b[39m-\u001b[39m UX[i])\u001b[39m*\u001b[39m\u001b[39m*\u001b[39m\u001b[39m2\u001b[39m \u001b[39m-\u001b[39m h\u001b[39m*\u001b[39m\u001b[39m*\u001b[39m\u001b[39m2\u001b[39m\n\u001b[0;32m     <a href='vscode-notebook-cell:/c%3A/Users/stas2/Desktop/%D0%92%D0%A3%D0%97/%D0%A7%D0%B8%D1%81%D0%BB%D0%B5%D0%BD%D0%BD%D1%8B%D0%B5%20%D0%BC%D0%B5%D1%82%D0%BE%D0%B4%D1%8B/DynamicGrid2D/main.ipynb#ch0000005?line=19'>20</a>\u001b[0m         \u001b[39mreturn\u001b[39;00m F_retuned\n\u001b[1;32m---> <a href='vscode-notebook-cell:/c%3A/Users/stas2/Desktop/%D0%92%D0%A3%D0%97/%D0%A7%D0%B8%D1%81%D0%BB%D0%B5%D0%BD%D0%BD%D1%8B%D0%B5%20%D0%BC%D0%B5%D1%82%D0%BE%D0%B4%D1%8B/DynamicGrid2D/main.ipynb#ch0000005?line=20'>21</a>\u001b[0m U \u001b[39m=\u001b[39m np\u001b[39m.\u001b[39mzeros(N)\n\u001b[0;32m     <a href='vscode-notebook-cell:/c%3A/Users/stas2/Desktop/%D0%92%D0%A3%D0%97/%D0%A7%D0%B8%D1%81%D0%BB%D0%B5%D0%BD%D0%BD%D1%8B%D0%B5%20%D0%BC%D0%B5%D1%82%D0%BE%D0%B4%D1%8B/DynamicGrid2D/main.ipynb#ch0000005?line=21'>22</a>\u001b[0m X \u001b[39m=\u001b[39m np\u001b[39m.\u001b[39mlinspace(a, b, N)\n\u001b[0;32m     <a href='vscode-notebook-cell:/c%3A/Users/stas2/Desktop/%D0%92%D0%A3%D0%97/%D0%A7%D0%B8%D1%81%D0%BB%D0%B5%D0%BD%D0%BD%D1%8B%D0%B5%20%D0%BC%D0%B5%D1%82%D0%BE%D0%B4%D1%8B/DynamicGrid2D/main.ipynb#ch0000005?line=22'>23</a>\u001b[0m UX_0 \u001b[39m=\u001b[39m np\u001b[39m.\u001b[39mconcatenate((U, X))\n",
      "\u001b[1;31mNameError\u001b[0m: name 'np' is not defined"
     ]
    }
   ],
   "source": [
    "N = 10\n",
    "f = lambda x : 0\n",
    "v = lambda x : sin(10*x)\n",
    "k = lambda x : 1\n",
    "a = 0\n",
    "b = 1 \n",
    "\n",
    "def Func(UX):\n",
    "        F_retuned = np.zeros(2*N)\n",
    "        F_retuned[0] = UX[0]\n",
    "        F_retuned[N-1] = UX[N-1]\n",
    "        F_retuned[N] = UX[N] - a\n",
    "        F_retuned[N + N - 1] = UX[N + N - 1] - b\n",
    "        d = 0\n",
    "        for i in range(0, N):\n",
    "                d += (UX[N + i + 1] - UX[N + i])*np.sqrt(1 + ((UX[i+1] - UX[i])/(UX[N + i + 1] - UX[N + i]))**2)\n",
    "        d /= (N - 1)\n",
    "        for i in range(1, N-1):\n",
    "                h_i = UX[N + i] - UX[N + i - 1]\n",
    "                h_i_next = UX[N + i + 1] - UX[N + i]\n",
    "                F_retuned[i] = 1/h_i*((UX[i+1] - UX[i])/h_i_next - (UX[i]-UX[i-1])/h_i) + v(UX[N + i])*(UX[i+1] - U[i])/h_i_next - f(UX[N+i])\n",
    "                F_retuned[N + i] = (UX[N+i+1] - UX[N+i])**2 + (UX[i+1] - UX[i])**2 - h**2\n",
    "        return F_retuned\n",
    "U = np.zeros(N)\n",
    "X = np.linspace(a, b, N)\n",
    "UX_0 = np.concatenate((U, X))\n",
    "UX = fsolve(Func, UX_0)\n",
    "        "
   ]
  }
 ],
 "metadata": {
  "interpreter": {
   "hash": "670f886bb491df400b8a46c547cdac4d4234710212a6195cc7ddd83502d821f4"
  },
  "kernelspec": {
   "display_name": "Python 3.9.10 64-bit",
   "language": "python",
   "name": "python3"
  },
  "language_info": {
   "codemirror_mode": {
    "name": "ipython",
    "version": 3
   },
   "file_extension": ".py",
   "mimetype": "text/x-python",
   "name": "python",
   "nbconvert_exporter": "python",
   "pygments_lexer": "ipython3",
   "version": "3.9.10"
  },
  "orig_nbformat": 4
 },
 "nbformat": 4,
 "nbformat_minor": 2
}
