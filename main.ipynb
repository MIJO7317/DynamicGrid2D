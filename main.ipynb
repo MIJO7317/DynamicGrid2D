{
 "cells": [
  {
   "cell_type": "code",
   "execution_count": 1,
   "metadata": {},
   "outputs": [],
   "source": [
    "import numpy as np\n",
    "import matplotlib\n",
    "import matplotlib.pyplot as plt\n",
    "matplotlib.rcParams[\"figure.dpi\"] = 100\n",
    "import plotly.graph_objects as go\n",
    "from scipy.optimize import fsolve\n",
    "# import warnings\n",
    "# warnings.filterwarnings(\"error\")\n",
    "import pyvista as pv"
   ]
  },
  {
   "cell_type": "code",
   "execution_count": 9,
   "metadata": {},
   "outputs": [],
   "source": [
    "T = 1\n",
    "\n",
    "a = 0\n",
    "b = 1\n",
    "\n",
    "h = 0.05\n",
    "tau = 0.1\n",
    "\n",
    "M = int(T/tau) + 1\n",
    "N = int((b-a)/h) + 1\n",
    "\n",
    "U = np.zeros((M, N))\n",
    "Q = np.zeros(N)\n",
    "Psi = np.ones(N-1)\n",
    "Psis = [Psi.copy()]\n",
    "\n",
    "Kuxt = lambda u, x, t: u\n",
    "K = lambda m, n: Kuxt(U[m][n], n*h, m*tau)\n",
    "\n",
    "for n in range(N):\n",
    "    U[0][n] = 0\n",
    "    # U[0][n] = -40*((n*h)-0.5)**2+10\n",
    "    # U[0][n] = 10*np.sin(10*n*h)\n",
    "\n",
    "for m in range(1, M):\n",
    "    # def F(Q_m):\n",
    "    #     F_retuned = np.zeros(N)\n",
    "    #     F_retuned[0] = Q_m[0]\n",
    "    #     for i in range(1, N-1):\n",
    "    #         alpha = 0.01\n",
    "    #         A = 0#(0.5-alpha)*Q_m[i-1]+(0.5+alpha)*Q_m[i+1]+h/tau*((0.5-alpha)*Psi[i-1] - (0.5+alpha)*Psi[i])\n",
    "    #         B = 0#(0.5+alpha)*Q_m[i-1]+(0.5-alpha)*Q_m[i+1]+h/tau*((0.5+alpha)*Psi[i-1] - (0.5-alpha)*Psi[i])\n",
    "    #         if np.abs(U[m-1][i+1] - U[m-1][i-1]) < 0.0001:\n",
    "    #             if (K(m-1, i+1)*(U[m-1][i+1] - U[m-1][i]) - \\\n",
    "    #                 K(m-1, i-1)*(U[m-1][i] - U[m-1][i-1])) * \\\n",
    "    #                 2/h/(Psi[i]+Psi[i-1]) * (U[m-1][i+1] - U[m-1][i-1]) < 0:\n",
    "    #                 F_retuned[i] = Q_m[i] - 0#A\n",
    "    #             else:\n",
    "    #                 F_retuned[i] = Q_m[i] - 0#B\n",
    "    #         else:\n",
    "    #             Q_counted = (K(m-1, i+1)*(U[m-1][i+1] - U[m-1][i]) - \\\n",
    "    #                     K(m-1, i-1)*(U[m-1][i] - U[m-1][i-1])) * \\\n",
    "    #                     2/h/(Psi[i]+Psi[i-1])/(U[m-1][i+1] - U[m-1][i-1])\n",
    "    #             if Q_counted < Q_m[i+1] - h/tau*Psi[i]:\n",
    "    #                 F_retuned[i] = A - Q_m[i]\n",
    "    #             elif Q_counted > Q_m[i-1] + h/tau*Psi[i-1]:\n",
    "    #                 F_retuned[i] = B - Q_m[i]\n",
    "    #             else:\n",
    "    #                 F_retuned[i] = Q_counted - Q_m[i]\n",
    "    #     F_retuned[N-1] = Q_m[N-1]\n",
    "    #     return F_retuned\n",
    "    # Q = fsolve(F, h*np.ones(N))\n",
    "    # Q = (np.random.rand(N)-0.5)/20\n",
    "    Q = np.zeros(N)\n",
    "    # Q = np.ones(N)*(-1)/15\n",
    "    # Q[0] = 0\n",
    "    # Q[-1] = 0\n",
    "\n",
    "    # Q[0] = 0\n",
    "    # for i in range(1, N - 1):\n",
    "    #     # if np.abs(A[m-1][i+1] - A[m-1][i-1]) < 0.01 or np.abs(Psi[i]+Psi[i-1]) < 0.01:\n",
    "    #     #     Q[i] = (K(A[m-1][i+1], h*(i+1), tau*(m-1))*(A[m-1][i+1] - A[m-1][i]) - \\\n",
    "    #     #             K(A[m-1][i-1], h*(i-1), tau*(m-1))*(A[m-1][i] - A[m-1][i-1])) * \\\n",
    "    #     #             2/h/0.01/ 0.01\n",
    "    #     # else:\n",
    "    #     #     try:\n",
    "    #     #         Q[i] = (K(A[m-1][i+1], h*(i+1), tau*(m-1))*(A[m-1][i+1] - A[m-1][i]) - \\\n",
    "    #     #                 K(A[m-1][i-1], h*(i-1), tau*(m-1))*(A[m-1][i] - A[m-1][i-1])) * \\\n",
    "    #     #                 2/h/(Psi[i]+Psi[i-1])/(A[m-1][i+1] - A[m-1][i-1])\n",
    "    #     #     except:\n",
    "    #     #         pass\n",
    "    #     # if Psi[i-1] + tau/h*(Q[i-1]-Q[i]) < 0:\n",
    "    #     #     Q[i] = h/tau*Psi[i-1]/2 + Q[i-1]\n",
    "    #     # else:\n",
    "    #     #     Q[i] += h/tau*Psi[i-1]/2 + Q[i-1]\n",
    "    #     counted = (K(m-1, i+1)*(U[m-1][i+1] - U[m-1][i]) - \\\n",
    "    #                 K(m-1, i-1)*(U[m-1][i] - U[m-1][i-1])) * \\\n",
    "    #                 2/h/(Psi[i]+Psi[i-1])/(U[m-1][i+1] - U[m-1][i-1])\n",
    "    #     right =  h/tau*np.min(Psi[:i])\n",
    "    #     left = -h/tau*np.min(Psi[i:])\n",
    "    #     if left < counted < right:\n",
    "    #         Q[i] = counted\n",
    "    #     elif counted > right:\n",
    "    #         Q[i] = right/2\n",
    "    #     elif counted < left:\n",
    "    #         Q[i] = left/2\n",
    "    #     # Q[i] = (left+right)/2\n",
    "    #     # Q[i] = 0\n",
    "    # Q[N-1] = 0\n",
    "\n",
    "    Psi_next = np.ones(N-1)\n",
    "    for i in range(0, N-1):\n",
    "        Psi_next[i] = Psi[i] + tau/h*(Q[i]-Q[i+1])\n",
    "            \n",
    "    A = np.zeros((N, N))\n",
    "    B = np.zeros(N)\n",
    "    for n in range(0, N):\n",
    "        if n == 0:\n",
    "            A[n][0] = 1\n",
    "            B[n] = 1\n",
    "        elif n == N-1:\n",
    "            A[n][N-1] = 1\n",
    "            B[n] = 0\n",
    "        else:\n",
    "            # Psi_nM1 = (Psi[n-2] + Psi[n-1])/2\n",
    "            Psi_n = (Psi[n-1] + Psi[n])/2\n",
    "            # Psi_nP1 = Psi[n] if n == N-2 else (Psi[n] + Psi[n+1])/2\n",
    "            Psi_n_next = (Psi_next[n-1] + Psi_next[n])/2\n",
    "            # A[n][n-1] = tau/2/h**2*(K(m-1, n)/Psi_n+K(m-1, n-1)/Psi_nM1)\n",
    "            # A[n][n] = -(Psi_n_next+tau/2/h**2*(K(m-1, n+1)/Psi_nP1+2*K(m-1, n)/Psi_n+K(m-1, n-1)/Psi_nM1))\n",
    "            # A[n][n+1] = tau/2/h**2*(K(m-1, n+1)/Psi_nP1+K(m-1, n)/Psi_n)\n",
    "            # B[n] = tau/h*(Q[n+1]*U[m-1][n+1]-Q[n]*U[m-1][n])-Psi_n*U[m-1][n]\n",
    "            A[n][n-1] = tau/2/h**2*((K(m-1, n-1)+K(m-1, n))/Psi[n-1])\n",
    "            A[n][n] = -(Psi_n_next+tau/2/h**2*((K(m-1, n+1)+K(m-1, n))/Psi[n]+(K(m-1, n)+K(m-1, n-1))/Psi[n-1]))\n",
    "            A[n][n+1] = tau/2/h**2*((K(m-1, n)+K(m-1, n+1))/Psi[n])\n",
    "            B[n] = tau/h*(Q[n+1]*U[m-1][n+1]-Q[n]*U[m-1][n])-Psi_n*U[m-1][n]\n",
    "\n",
    "    # X = np.linalg.inv(A).dot(B)\n",
    "    X = np.linalg.solve(A, B)\n",
    "    U[m] = X\n",
    "\n",
    "    Psi = Psi_next.copy()\n",
    "    \n",
    "    Psis.append(Psi.copy())"
   ]
  },
  {
   "cell_type": "code",
   "execution_count": 10,
   "metadata": {},
   "outputs": [
    {
     "data": {
      "image/png": "[encoded data removed]",
      "image/svg+xml": "<?xml version=\"1.0\" encoding=\"utf-8\" standalone=\"no\"?>\n<!DOCTYPE svg PUBLIC \"-//W3C//DTD SVG 1.1//EN\"\n  \"http://www.w3.org/Graphics/SVG/1.1/DTD/svg11.dtd\">\n<svg xmlns:xlink=\"http://www.w3.org/1999/xlink\" width=\"372.103125pt\" height=\"248.518125pt\" viewBox=\"0 0 372.103125 248.518125\" xmlns=\"http://www.w3.org/2000/svg\" version=\"1.1\">\n <metadata>\n  <rdf:RDF xmlns:dc=\"http://purl.org/dc/elements/1.1/\" xmlns:cc=\"http://creativecommons.org/ns#\" xmlns:rdf=\"http://www.w3.org/1999/02/22-rdf-syntax-ns#\">\n   <cc:Work>\n    <dc:type rdf:resource=\"http://purl.org/dc/dcmitype/StillImage\"/>\n    <dc:date>2022-05-20T15:04:25.393868</dc:date>\n    <dc:format>image/svg+xml</dc:format>\n    <dc:creator>\n     <cc:Agent>\n      <dc:title>Matplotlib v3.5.1, https://matplotlib.org/</dc:title>\n     </cc:Agent>\n    </dc:creator>\n   </cc:Work>\n  </rdf:RDF>\n </metadata>\n <defs>\n  <style type=\"text/css\">*{stroke-linejoin: round; stroke-linecap: butt}</style>\n </defs>\n <g id=\"figure_1\">\n  <g id=\"patch_1\">\n   <path d=\"M 0 248.518125 \nL 372.103125 248.518125 \nL 372.103125 0 \nL 0 0 \nL 0 248.518125 \nz\n\" style=\"fill: none\"/>\n  </g>\n  <g id=\"axes_1\">\n   <g id=\"patch_2\">\n    <path d=\"M 30.103125 224.64 \nL 364.903125 224.64 \nL 364.903125 7.2 \nL 30.103125 7.2 \nz\n\" style=\"fill: #ffffff\"/>\n   </g>\n   <g id=\"matplotlib.axis_1\">\n    <g id=\"xtick_1\">\n     <g id=\"line2d_1\">\n      <defs>\n       <path id=\"m539f378fe2\" d=\"M 0 0 \nL 0 3.5 \n\" style=\"stroke: #000000; stroke-width: 0.8\"/>\n      </defs>\n      <g>\n       <use xlink:href=\"#m539f378fe2\" x=\"45.321307\" y=\"224.64\" style=\"stroke: #000000; stroke-width: 0.8\"/>\n      </g>\n     </g>\n     <g id=\"text_1\">\n      <!-- 0.0 -->\n      <g transform=\"translate(37.369744 239.238437)scale(0.1 -0.1)\">\n       <defs>\n        <path id=\"DejaVuSans-30\" d=\"M 2034 4250 \nQ 1547 4250 1301 3770 \nQ 1056 3291 1056 2328 \nQ 1056 1369 1301 889 \nQ 1547 409 2034 409 \nQ 2525 409 2770 889 \nQ 3016 1369 3016 2328 \nQ 3016 3291 2770 3770 \nQ 2525 4250 2034 4250 \nz\nM 2034 4750 \nQ 2819 4750 3233 4129 \nQ 3647 3509 3647 2328 \nQ 3647 1150 3233 529 \nQ 2819 -91 2034 -91 \nQ 1250 -91 836 529 \nQ 422 1150 422 2328 \nQ 422 3509 836 4129 \nQ 1250 4750 2034 4750 \nz\n\" transform=\"scale(0.015625)\"/>\n        <path id=\"DejaVuSans-2e\" d=\"M 684 794 \nL 1344 794 \nL 1344 0 \nL 684 0 \nL 684 794 \nz\n\" transform=\"scale(0.015625)\"/>\n       </defs>\n       <use xlink:href=\"#DejaVuSans-30\"/>\n       <use xlink:href=\"#DejaVuSans-2e\" x=\"63.623047\"/>\n       <use xlink:href=\"#DejaVuSans-30\" x=\"95.410156\"/>\n      </g>\n     </g>\n    </g>\n    <g id=\"xtick_2\">\n     <g id=\"line2d_2\">\n      <g>\n       <use xlink:href=\"#m539f378fe2\" x=\"106.194034\" y=\"224.64\" style=\"stroke: #000000; stroke-width: 0.8\"/>\n      </g>\n     </g>\n     <g id=\"text_2\">\n      <!-- 0.2 -->\n      <g transform=\"translate(98.242472 239.238437)scale(0.1 -0.1)\">\n       <defs>\n        <path id=\"DejaVuSans-32\" d=\"M 1228 531 \nL 3431 531 \nL 3431 0 \nL 469 0 \nL 469 531 \nQ 828 903 1448 1529 \nQ 2069 2156 2228 2338 \nQ 2531 2678 2651 2914 \nQ 2772 3150 2772 3378 \nQ 2772 3750 2511 3984 \nQ 2250 4219 1831 4219 \nQ 1534 4219 1204 4116 \nQ 875 4013 500 3803 \nL 500 4441 \nQ 881 4594 1212 4672 \nQ 1544 4750 1819 4750 \nQ 2544 4750 2975 4387 \nQ 3406 4025 3406 3419 \nQ 3406 3131 3298 2873 \nQ 3191 2616 2906 2266 \nQ 2828 2175 2409 1742 \nQ 1991 1309 1228 531 \nz\n\" transform=\"scale(0.015625)\"/>\n       </defs>\n       <use xlink:href=\"#DejaVuSans-30\"/>\n       <use xlink:href=\"#DejaVuSans-2e\" x=\"63.623047\"/>\n       <use xlink:href=\"#DejaVuSans-32\" x=\"95.410156\"/>\n      </g>\n     </g>\n    </g>\n    <g id=\"xtick_3\">\n     <g id=\"line2d_3\">\n      <g>\n       <use xlink:href=\"#m539f378fe2\" x=\"167.066761\" y=\"224.64\" style=\"stroke: #000000; stroke-width: 0.8\"/>\n      </g>\n     </g>\n     <g id=\"text_3\">\n      <!-- 0.4 -->\n      <g transform=\"translate(159.115199 239.238437)scale(0.1 -0.1)\">\n       <defs>\n        <path id=\"DejaVuSans-34\" d=\"M 2419 4116 \nL 825 1625 \nL 2419 1625 \nL 2419 4116 \nz\nM 2253 4666 \nL 3047 4666 \nL 3047 1625 \nL 3713 1625 \nL 3713 1100 \nL 3047 1100 \nL 3047 0 \nL 2419 0 \nL 2419 1100 \nL 313 1100 \nL 313 1709 \nL 2253 4666 \nz\n\" transform=\"scale(0.015625)\"/>\n       </defs>\n       <use xlink:href=\"#DejaVuSans-30\"/>\n       <use xlink:href=\"#DejaVuSans-2e\" x=\"63.623047\"/>\n       <use xlink:href=\"#DejaVuSans-34\" x=\"95.410156\"/>\n      </g>\n     </g>\n    </g>\n    <g id=\"xtick_4\">\n     <g id=\"line2d_4\">\n      <g>\n       <use xlink:href=\"#m539f378fe2\" x=\"227.939489\" y=\"224.64\" style=\"stroke: #000000; stroke-width: 0.8\"/>\n      </g>\n     </g>\n     <g id=\"text_4\">\n      <!-- 0.6 -->\n      <g transform=\"translate(219.987926 239.238437)scale(0.1 -0.1)\">\n       <defs>\n        <path id=\"DejaVuSans-36\" d=\"M 2113 2584 \nQ 1688 2584 1439 2293 \nQ 1191 2003 1191 1497 \nQ 1191 994 1439 701 \nQ 1688 409 2113 409 \nQ 2538 409 2786 701 \nQ 3034 994 3034 1497 \nQ 3034 2003 2786 2293 \nQ 2538 2584 2113 2584 \nz\nM 3366 4563 \nL 3366 3988 \nQ 3128 4100 2886 4159 \nQ 2644 4219 2406 4219 \nQ 1781 4219 1451 3797 \nQ 1122 3375 1075 2522 \nQ 1259 2794 1537 2939 \nQ 1816 3084 2150 3084 \nQ 2853 3084 3261 2657 \nQ 3669 2231 3669 1497 \nQ 3669 778 3244 343 \nQ 2819 -91 2113 -91 \nQ 1303 -91 875 529 \nQ 447 1150 447 2328 \nQ 447 3434 972 4092 \nQ 1497 4750 2381 4750 \nQ 2619 4750 2861 4703 \nQ 3103 4656 3366 4563 \nz\n\" transform=\"scale(0.015625)\"/>\n       </defs>\n       <use xlink:href=\"#DejaVuSans-30\"/>\n       <use xlink:href=\"#DejaVuSans-2e\" x=\"63.623047\"/>\n       <use xlink:href=\"#DejaVuSans-36\" x=\"95.410156\"/>\n      </g>\n     </g>\n    </g>\n    <g id=\"xtick_5\">\n     <g id=\"line2d_5\">\n      <g>\n       <use xlink:href=\"#m539f378fe2\" x=\"288.812216\" y=\"224.64\" style=\"stroke: #000000; stroke-width: 0.8\"/>\n      </g>\n     </g>\n     <g id=\"text_5\">\n      <!-- 0.8 -->\n      <g transform=\"translate(280.860653 239.238437)scale(0.1 -0.1)\">\n       <defs>\n        <path id=\"DejaVuSans-38\" d=\"M 2034 2216 \nQ 1584 2216 1326 1975 \nQ 1069 1734 1069 1313 \nQ 1069 891 1326 650 \nQ 1584 409 2034 409 \nQ 2484 409 2743 651 \nQ 3003 894 3003 1313 \nQ 3003 1734 2745 1975 \nQ 2488 2216 2034 2216 \nz\nM 1403 2484 \nQ 997 2584 770 2862 \nQ 544 3141 544 3541 \nQ 544 4100 942 4425 \nQ 1341 4750 2034 4750 \nQ 2731 4750 3128 4425 \nQ 3525 4100 3525 3541 \nQ 3525 3141 3298 2862 \nQ 3072 2584 2669 2484 \nQ 3125 2378 3379 2068 \nQ 3634 1759 3634 1313 \nQ 3634 634 3220 271 \nQ 2806 -91 2034 -91 \nQ 1263 -91 848 271 \nQ 434 634 434 1313 \nQ 434 1759 690 2068 \nQ 947 2378 1403 2484 \nz\nM 1172 3481 \nQ 1172 3119 1398 2916 \nQ 1625 2713 2034 2713 \nQ 2441 2713 2670 2916 \nQ 2900 3119 2900 3481 \nQ 2900 3844 2670 4047 \nQ 2441 4250 2034 4250 \nQ 1625 4250 1398 4047 \nQ 1172 3844 1172 3481 \nz\n\" transform=\"scale(0.015625)\"/>\n       </defs>\n       <use xlink:href=\"#DejaVuSans-30\"/>\n       <use xlink:href=\"#DejaVuSans-2e\" x=\"63.623047\"/>\n       <use xlink:href=\"#DejaVuSans-38\" x=\"95.410156\"/>\n      </g>\n     </g>\n    </g>\n    <g id=\"xtick_6\">\n     <g id=\"line2d_6\">\n      <g>\n       <use xlink:href=\"#m539f378fe2\" x=\"349.684943\" y=\"224.64\" style=\"stroke: #000000; stroke-width: 0.8\"/>\n      </g>\n     </g>\n     <g id=\"text_6\">\n      <!-- 1.0 -->\n      <g transform=\"translate(341.733381 239.238437)scale(0.1 -0.1)\">\n       <defs>\n        <path id=\"DejaVuSans-31\" d=\"M 794 531 \nL 1825 531 \nL 1825 4091 \nL 703 3866 \nL 703 4441 \nL 1819 4666 \nL 2450 4666 \nL 2450 531 \nL 3481 531 \nL 3481 0 \nL 794 0 \nL 794 531 \nz\n\" transform=\"scale(0.015625)\"/>\n       </defs>\n       <use xlink:href=\"#DejaVuSans-31\"/>\n       <use xlink:href=\"#DejaVuSans-2e\" x=\"63.623047\"/>\n       <use xlink:href=\"#DejaVuSans-30\" x=\"95.410156\"/>\n      </g>\n     </g>\n    </g>\n   </g>\n   <g id=\"matplotlib.axis_2\">\n    <g id=\"ytick_1\">\n     <g id=\"line2d_7\">\n      <defs>\n       <path id=\"m7f90bb767b\" d=\"M 0 0 \nL -3.5 0 \n\" style=\"stroke: #000000; stroke-width: 0.8\"/>\n      </defs>\n      <g>\n       <use xlink:href=\"#m7f90bb767b\" x=\"30.103125\" y=\"214.756364\" style=\"stroke: #000000; stroke-width: 0.8\"/>\n      </g>\n     </g>\n     <g id=\"text_7\">\n      <!-- 0.0 -->\n      <g transform=\"translate(7.2 218.555582)scale(0.1 -0.1)\">\n       <use xlink:href=\"#DejaVuSans-30\"/>\n       <use xlink:href=\"#DejaVuSans-2e\" x=\"63.623047\"/>\n       <use xlink:href=\"#DejaVuSans-30\" x=\"95.410156\"/>\n      </g>\n     </g>\n    </g>\n    <g id=\"ytick_2\">\n     <g id=\"line2d_8\">\n      <g>\n       <use xlink:href=\"#m7f90bb767b\" x=\"30.103125\" y=\"175.221818\" style=\"stroke: #000000; stroke-width: 0.8\"/>\n      </g>\n     </g>\n     <g id=\"text_8\">\n      <!-- 0.2 -->\n      <g transform=\"translate(7.2 179.021037)scale(0.1 -0.1)\">\n       <use xlink:href=\"#DejaVuSans-30\"/>\n       <use xlink:href=\"#DejaVuSans-2e\" x=\"63.623047\"/>\n       <use xlink:href=\"#DejaVuSans-32\" x=\"95.410156\"/>\n      </g>\n     </g>\n    </g>\n    <g id=\"ytick_3\">\n     <g id=\"line2d_9\">\n      <g>\n       <use xlink:href=\"#m7f90bb767b\" x=\"30.103125\" y=\"135.687273\" style=\"stroke: #000000; stroke-width: 0.8\"/>\n      </g>\n     </g>\n     <g id=\"text_9\">\n      <!-- 0.4 -->\n      <g transform=\"translate(7.2 139.486491)scale(0.1 -0.1)\">\n       <use xlink:href=\"#DejaVuSans-30\"/>\n       <use xlink:href=\"#DejaVuSans-2e\" x=\"63.623047\"/>\n       <use xlink:href=\"#DejaVuSans-34\" x=\"95.410156\"/>\n      </g>\n     </g>\n    </g>\n    <g id=\"ytick_4\">\n     <g id=\"line2d_10\">\n      <g>\n       <use xlink:href=\"#m7f90bb767b\" x=\"30.103125\" y=\"96.152727\" style=\"stroke: #000000; stroke-width: 0.8\"/>\n      </g>\n     </g>\n     <g id=\"text_10\">\n      <!-- 0.6 -->\n      <g transform=\"translate(7.2 99.951946)scale(0.1 -0.1)\">\n       <use xlink:href=\"#DejaVuSans-30\"/>\n       <use xlink:href=\"#DejaVuSans-2e\" x=\"63.623047\"/>\n       <use xlink:href=\"#DejaVuSans-36\" x=\"95.410156\"/>\n      </g>\n     </g>\n    </g>\n    <g id=\"ytick_5\">\n     <g id=\"line2d_11\">\n      <g>\n       <use xlink:href=\"#m7f90bb767b\" x=\"30.103125\" y=\"56.618182\" style=\"stroke: #000000; stroke-width: 0.8\"/>\n      </g>\n     </g>\n     <g id=\"text_11\">\n      <!-- 0.8 -->\n      <g transform=\"translate(7.2 60.417401)scale(0.1 -0.1)\">\n       <use xlink:href=\"#DejaVuSans-30\"/>\n       <use xlink:href=\"#DejaVuSans-2e\" x=\"63.623047\"/>\n       <use xlink:href=\"#DejaVuSans-38\" x=\"95.410156\"/>\n      </g>\n     </g>\n    </g>\n    <g id=\"ytick_6\">\n     <g id=\"line2d_12\">\n      <g>\n       <use xlink:href=\"#m7f90bb767b\" x=\"30.103125\" y=\"17.083636\" style=\"stroke: #000000; stroke-width: 0.8\"/>\n      </g>\n     </g>\n     <g id=\"text_12\">\n      <!-- 1.0 -->\n      <g transform=\"translate(7.2 20.882855)scale(0.1 -0.1)\">\n       <use xlink:href=\"#DejaVuSans-31\"/>\n       <use xlink:href=\"#DejaVuSans-2e\" x=\"63.623047\"/>\n       <use xlink:href=\"#DejaVuSans-30\" x=\"95.410156\"/>\n      </g>\n     </g>\n    </g>\n   </g>\n   <g id=\"line2d_13\">\n    <path d=\"M 45.321307 214.756364 \nL 45.321307 194.989091 \nL 45.321307 175.221818 \nL 45.321307 155.454545 \nL 45.321307 135.687273 \nL 45.321307 115.92 \nL 45.321307 96.152727 \nL 45.321307 76.385455 \nL 45.321307 56.618182 \nL 45.321307 36.850909 \nL 45.321307 17.083636 \n\" clip-path=\"url(#pb61903c085)\" style=\"fill: none; stroke: #1f77b4; stroke-width: 1.5; stroke-linecap: square\"/>\n   </g>\n   <g id=\"line2d_14\">\n    <path d=\"M 60.539489 214.756364 \nL 60.539489 194.989091 \nL 60.539489 175.221818 \nL 60.539489 155.454545 \nL 60.539489 135.687273 \nL 60.539489 115.92 \nL 60.539489 96.152727 \nL 60.539489 76.385455 \nL 60.539489 56.618182 \nL 60.539489 36.850909 \nL 60.539489 17.083636 \n\" clip-path=\"url(#pb61903c085)\" style=\"fill: none; stroke: #ff7f0e; stroke-width: 1.5; stroke-linecap: square\"/>\n   </g>\n   <g id=\"line2d_15\">\n    <path d=\"M 75.75767 214.756364 \nL 75.75767 194.989091 \nL 75.75767 175.221818 \nL 75.75767 155.454545 \nL 75.75767 135.687273 \nL 75.75767 115.92 \nL 75.75767 96.152727 \nL 75.75767 76.385455 \nL 75.75767 56.618182 \nL 75.75767 36.850909 \nL 75.75767 17.083636 \n\" clip-path=\"url(#pb61903c085)\" style=\"fill: none; stroke: #2ca02c; stroke-width: 1.5; stroke-linecap: square\"/>\n   </g>\n   <g id=\"line2d_16\">\n    <path d=\"M 90.975852 214.756364 \nL 90.975852 194.989091 \nL 90.975852 175.221818 \nL 90.975852 155.454545 \nL 90.975852 135.687273 \nL 90.975852 115.92 \nL 90.975852 96.152727 \nL 90.975852 76.385455 \nL 90.975852 56.618182 \nL 90.975852 36.850909 \nL 90.975852 17.083636 \n\" clip-path=\"url(#pb61903c085)\" style=\"fill: none; stroke: #d62728; stroke-width: 1.5; stroke-linecap: square\"/>\n   </g>\n   <g id=\"line2d_17\">\n    <path d=\"M 106.194034 214.756364 \nL 106.194034 194.989091 \nL 106.194034 175.221818 \nL 106.194034 155.454545 \nL 106.194034 135.687273 \nL 106.194034 115.92 \nL 106.194034 96.152727 \nL 106.194034 76.385455 \nL 106.194034 56.618182 \nL 106.194034 36.850909 \nL 106.194034 17.083636 \n\" clip-path=\"url(#pb61903c085)\" style=\"fill: none; stroke: #9467bd; stroke-width: 1.5; stroke-linecap: square\"/>\n   </g>\n   <g id=\"line2d_18\">\n    <path d=\"M 121.412216 214.756364 \nL 121.412216 194.989091 \nL 121.412216 175.221818 \nL 121.412216 155.454545 \nL 121.412216 135.687273 \nL 121.412216 115.92 \nL 121.412216 96.152727 \nL 121.412216 76.385455 \nL 121.412216 56.618182 \nL 121.412216 36.850909 \nL 121.412216 17.083636 \n\" clip-path=\"url(#pb61903c085)\" style=\"fill: none; stroke: #8c564b; stroke-width: 1.5; stroke-linecap: square\"/>\n   </g>\n   <g id=\"line2d_19\">\n    <path d=\"M 136.630398 214.756364 \nL 136.630398 194.989091 \nL 136.630398 175.221818 \nL 136.630398 155.454545 \nL 136.630398 135.687273 \nL 136.630398 115.92 \nL 136.630398 96.152727 \nL 136.630398 76.385455 \nL 136.630398 56.618182 \nL 136.630398 36.850909 \nL 136.630398 17.083636 \n\" clip-path=\"url(#pb61903c085)\" style=\"fill: none; stroke: #e377c2; stroke-width: 1.5; stroke-linecap: square\"/>\n   </g>\n   <g id=\"line2d_20\">\n    <path d=\"M 151.84858 214.756364 \nL 151.84858 194.989091 \nL 151.84858 175.221818 \nL 151.84858 155.454545 \nL 151.84858 135.687273 \nL 151.84858 115.92 \nL 151.84858 96.152727 \nL 151.84858 76.385455 \nL 151.84858 56.618182 \nL 151.84858 36.850909 \nL 151.84858 17.083636 \n\" clip-path=\"url(#pb61903c085)\" style=\"fill: none; stroke: #7f7f7f; stroke-width: 1.5; stroke-linecap: square\"/>\n   </g>\n   <g id=\"line2d_21\">\n    <path d=\"M 167.066761 214.756364 \nL 167.066761 194.989091 \nL 167.066761 175.221818 \nL 167.066761 155.454545 \nL 167.066761 135.687273 \nL 167.066761 115.92 \nL 167.066761 96.152727 \nL 167.066761 76.385455 \nL 167.066761 56.618182 \nL 167.066761 36.850909 \nL 167.066761 17.083636 \n\" clip-path=\"url(#pb61903c085)\" style=\"fill: none; stroke: #bcbd22; stroke-width: 1.5; stroke-linecap: square\"/>\n   </g>\n   <g id=\"line2d_22\">\n    <path d=\"M 182.284943 214.756364 \nL 182.284943 194.989091 \nL 182.284943 175.221818 \nL 182.284943 155.454545 \nL 182.284943 135.687273 \nL 182.284943 115.92 \nL 182.284943 96.152727 \nL 182.284943 76.385455 \nL 182.284943 56.618182 \nL 182.284943 36.850909 \nL 182.284943 17.083636 \n\" clip-path=\"url(#pb61903c085)\" style=\"fill: none; stroke: #17becf; stroke-width: 1.5; stroke-linecap: square\"/>\n   </g>\n   <g id=\"line2d_23\">\n    <path d=\"M 197.503125 214.756364 \nL 197.503125 194.989091 \nL 197.503125 175.221818 \nL 197.503125 155.454545 \nL 197.503125 135.687273 \nL 197.503125 115.92 \nL 197.503125 96.152727 \nL 197.503125 76.385455 \nL 197.503125 56.618182 \nL 197.503125 36.850909 \nL 197.503125 17.083636 \n\" clip-path=\"url(#pb61903c085)\" style=\"fill: none; stroke: #1f77b4; stroke-width: 1.5; stroke-linecap: square\"/>\n   </g>\n   <g id=\"line2d_24\">\n    <path d=\"M 212.721307 214.756364 \nL 212.721307 194.989091 \nL 212.721307 175.221818 \nL 212.721307 155.454545 \nL 212.721307 135.687273 \nL 212.721307 115.92 \nL 212.721307 96.152727 \nL 212.721307 76.385455 \nL 212.721307 56.618182 \nL 212.721307 36.850909 \nL 212.721307 17.083636 \n\" clip-path=\"url(#pb61903c085)\" style=\"fill: none; stroke: #ff7f0e; stroke-width: 1.5; stroke-linecap: square\"/>\n   </g>\n   <g id=\"line2d_25\">\n    <path d=\"M 227.939489 214.756364 \nL 227.939489 194.989091 \nL 227.939489 175.221818 \nL 227.939489 155.454545 \nL 227.939489 135.687273 \nL 227.939489 115.92 \nL 227.939489 96.152727 \nL 227.939489 76.385455 \nL 227.939489 56.618182 \nL 227.939489 36.850909 \nL 227.939489 17.083636 \n\" clip-path=\"url(#pb61903c085)\" style=\"fill: none; stroke: #2ca02c; stroke-width: 1.5; stroke-linecap: square\"/>\n   </g>\n   <g id=\"line2d_26\">\n    <path d=\"M 243.15767 214.756364 \nL 243.15767 194.989091 \nL 243.15767 175.221818 \nL 243.15767 155.454545 \nL 243.15767 135.687273 \nL 243.15767 115.92 \nL 243.15767 96.152727 \nL 243.15767 76.385455 \nL 243.15767 56.618182 \nL 243.15767 36.850909 \nL 243.15767 17.083636 \n\" clip-path=\"url(#pb61903c085)\" style=\"fill: none; stroke: #d62728; stroke-width: 1.5; stroke-linecap: square\"/>\n   </g>\n   <g id=\"line2d_27\">\n    <path d=\"M 258.375852 214.756364 \nL 258.375852 194.989091 \nL 258.375852 175.221818 \nL 258.375852 155.454545 \nL 258.375852 135.687273 \nL 258.375852 115.92 \nL 258.375852 96.152727 \nL 258.375852 76.385455 \nL 258.375852 56.618182 \nL 258.375852 36.850909 \nL 258.375852 17.083636 \n\" clip-path=\"url(#pb61903c085)\" style=\"fill: none; stroke: #9467bd; stroke-width: 1.5; stroke-linecap: square\"/>\n   </g>\n   <g id=\"line2d_28\">\n    <path d=\"M 273.594034 214.756364 \nL 273.594034 194.989091 \nL 273.594034 175.221818 \nL 273.594034 155.454545 \nL 273.594034 135.687273 \nL 273.594034 115.92 \nL 273.594034 96.152727 \nL 273.594034 76.385455 \nL 273.594034 56.618182 \nL 273.594034 36.850909 \nL 273.594034 17.083636 \n\" clip-path=\"url(#pb61903c085)\" style=\"fill: none; stroke: #8c564b; stroke-width: 1.5; stroke-linecap: square\"/>\n   </g>\n   <g id=\"line2d_29\">\n    <path d=\"M 288.812216 214.756364 \nL 288.812216 194.989091 \nL 288.812216 175.221818 \nL 288.812216 155.454545 \nL 288.812216 135.687273 \nL 288.812216 115.92 \nL 288.812216 96.152727 \nL 288.812216 76.385455 \nL 288.812216 56.618182 \nL 288.812216 36.850909 \nL 288.812216 17.083636 \n\" clip-path=\"url(#pb61903c085)\" style=\"fill: none; stroke: #e377c2; stroke-width: 1.5; stroke-linecap: square\"/>\n   </g>\n   <g id=\"line2d_30\">\n    <path d=\"M 304.030398 214.756364 \nL 304.030398 194.989091 \nL 304.030398 175.221818 \nL 304.030398 155.454545 \nL 304.030398 135.687273 \nL 304.030398 115.92 \nL 304.030398 96.152727 \nL 304.030398 76.385455 \nL 304.030398 56.618182 \nL 304.030398 36.850909 \nL 304.030398 17.083636 \n\" clip-path=\"url(#pb61903c085)\" style=\"fill: none; stroke: #7f7f7f; stroke-width: 1.5; stroke-linecap: square\"/>\n   </g>\n   <g id=\"line2d_31\">\n    <path d=\"M 319.24858 214.756364 \nL 319.24858 194.989091 \nL 319.24858 175.221818 \nL 319.24858 155.454545 \nL 319.24858 135.687273 \nL 319.24858 115.92 \nL 319.24858 96.152727 \nL 319.24858 76.385455 \nL 319.24858 56.618182 \nL 319.24858 36.850909 \nL 319.24858 17.083636 \n\" clip-path=\"url(#pb61903c085)\" style=\"fill: none; stroke: #bcbd22; stroke-width: 1.5; stroke-linecap: square\"/>\n   </g>\n   <g id=\"line2d_32\">\n    <path d=\"M 334.466761 214.756364 \nL 334.466761 194.989091 \nL 334.466761 175.221818 \nL 334.466761 155.454545 \nL 334.466761 135.687273 \nL 334.466761 115.92 \nL 334.466761 96.152727 \nL 334.466761 76.385455 \nL 334.466761 56.618182 \nL 334.466761 36.850909 \nL 334.466761 17.083636 \n\" clip-path=\"url(#pb61903c085)\" style=\"fill: none; stroke: #17becf; stroke-width: 1.5; stroke-linecap: square\"/>\n   </g>\n   <g id=\"line2d_33\">\n    <path d=\"M 349.684943 214.756364 \nL 349.684943 194.989091 \nL 349.684943 175.221818 \nL 349.684943 155.454545 \nL 349.684943 135.687273 \nL 349.684943 115.92 \nL 349.684943 96.152727 \nL 349.684943 76.385455 \nL 349.684943 56.618182 \nL 349.684943 36.850909 \nL 349.684943 17.083636 \n\" clip-path=\"url(#pb61903c085)\" style=\"fill: none; stroke: #1f77b4; stroke-width: 1.5; stroke-linecap: square\"/>\n   </g>\n   <g id=\"patch_3\">\n    <path d=\"M 30.103125 224.64 \nL 30.103125 7.2 \n\" style=\"fill: none; stroke: #000000; stroke-width: 0.8; stroke-linejoin: miter; stroke-linecap: square\"/>\n   </g>\n   <g id=\"patch_4\">\n    <path d=\"M 364.903125 224.64 \nL 364.903125 7.2 \n\" style=\"fill: none; stroke: #000000; stroke-width: 0.8; stroke-linejoin: miter; stroke-linecap: square\"/>\n   </g>\n   <g id=\"patch_5\">\n    <path d=\"M 30.103125 224.64 \nL 364.903125 224.64 \n\" style=\"fill: none; stroke: #000000; stroke-width: 0.8; stroke-linejoin: miter; stroke-linecap: square\"/>\n   </g>\n   <g id=\"patch_6\">\n    <path d=\"M 30.103125 7.2 \nL 364.903125 7.2 \n\" style=\"fill: none; stroke: #000000; stroke-width: 0.8; stroke-linejoin: miter; stroke-linecap: square\"/>\n   </g>\n  </g>\n </g>\n <defs>\n  <clipPath id=\"pb61903c085\">\n   <rect x=\"30.103125\" y=\"7.2\" width=\"334.8\" height=\"217.44\"/>\n  </clipPath>\n </defs>\n</svg>\n",
      "text/plain": [
       "<Figure size 600x400 with 1 Axes>"
      ]
     },
     "metadata": {
      "needs_background": "light"
     },
     "output_type": "display_data"
    }
   ],
   "source": [
    "t = 0\n",
    "graph = []\n",
    "for i, Psi in enumerate(Psis):\n",
    "    if i % 1 == 0:\n",
    "        X = list()\n",
    "        xi = 0\n",
    "        X.append(xi)\n",
    "        for psi in Psi:\n",
    "            xi += psi * h\n",
    "            X.append(xi)\n",
    "        graph.append([X, list(np.full((len(X)), t))])\n",
    "        # plt.scatter(X, np.full((len(X)), t), s=1, color='black')\n",
    "        t += tau\n",
    "graph = np.array(graph)\n",
    "graph = graph.transpose()\n",
    "# graph.shape, graph[0]\n",
    "for l in graph:\n",
    "    # l = line.transpose()\n",
    "    plt.plot(l[0], l[1])\n",
    "plt.show()"
   ]
  },
  {
   "cell_type": "code",
   "execution_count": null,
   "metadata": {},
   "outputs": [],
   "source": []
  },
  {
   "cell_type": "code",
   "execution_count": 11,
   "metadata": {},
   "outputs": [
    {
     "data": {
      "application/vnd.jupyter.widget-view+json": {
       "model_id": "06047ff21b164ea48dcdf8e90961bbe6",
       "version_major": 2,
       "version_minor": 0
      },
      "text/plain": [
       "ViewInteractiveWidget(height=768, layout=Layout(height='auto', width='100%'), width=1024)"
      ]
     },
     "metadata": {},
     "output_type": "display_data"
    }
   ],
   "source": [
    "def make_point_set():\n",
    "    t = 0\n",
    "    points = np.zeros((M*N, 3))\n",
    "    for i, Psi in enumerate(Psis):\n",
    "        points[i*N:(i+1)*N, 2] = U[i, :]\n",
    "        if i % 1 == 0:\n",
    "            X = np.zeros((N))\n",
    "            for j, psi in enumerate(Psi, 1):\n",
    "                X[j] = X[j-1] + psi * h\n",
    "            points[i*N:(i+1)*N, 0] = X\n",
    "            points[i*N:(i+1)*N, 1] = np.full((N), t)\n",
    "            # points[i*N:(i+1)*N, :2] = np.array([X, np.full((N), t)]).transpose()\n",
    "            # plt.scatter(X, np.full((len(X)), t), s=1, color='black')\n",
    "            t += tau\n",
    "    foo = pv.PolyData(points)\n",
    "    foo.rotate_z(0, inplace=True)\n",
    "    return foo.points\n",
    "# def make_point_set_example():\n",
    "#     \"\"\"Ignore the contents of this function. Just know that it returns an\n",
    "#     n by 3 numpy array of structured coordinates.\"\"\"\n",
    "#     n, m = 29, 32\n",
    "#     x = np.linspace(-200, 200, num=n) + np.random.uniform(-5, 5, size=n)\n",
    "#     y = np.linspace(-200, 200, num=m) + np.random.uniform(-5, 5, size=m)\n",
    "#     xx, yy = np.meshgrid(x, y)\n",
    "#     A, b = 100, 100\n",
    "#     zz = A * np.exp(-0.5 * ((xx / b) ** 2.0 + (yy / b) ** 2.0))\n",
    "#     points = np.c_[xx.reshape(-1), yy.reshape(-1), zz.reshape(-1)]\n",
    "#     foo = pv.PolyData(points)\n",
    "#     foo.rotate_z(36.6, inplace=True)\n",
    "#     return foo.points\n",
    "\n",
    "\n",
    "# poly_data = pv.PolyData(points)\n",
    "mesh = pv.StructuredGrid()\n",
    "# Set the coordinates from the numpy array\n",
    "mesh.points = make_point_set()\n",
    "# set the dimensions\n",
    "mesh.dimensions = [N, M, 1]\n",
    "# mesh.plot()\n",
    "mesh.plot(show_edges=True, show_grid=True)\n",
    "# mesh.plot(show_edges=True, show_grid=True, cpos=\"xy\")\n",
    "\n",
    "# plt.figure(figsize=(10, 10))\n",
    "# plt.scatter(points[:, 0], points[:, 1], c=points[:, 2], s=1)\n",
    "# plt.axis(\"image\")\n",
    "# plt.xlabel(\"X Coordinate\")\n",
    "# plt.ylabel(\"Y Coordinate\")\n",
    "# plt.show()"
   ]
  },
  {
   "cell_type": "code",
   "execution_count": null,
   "metadata": {},
   "outputs": [],
   "source": [
    "N = 100\n",
    "f = lambda x : 1\n",
    "v = lambda x : np.sin(10*x)\n",
    "k = lambda x : 1\n",
    "a = 0\n",
    "b = 1\n",
    "\n",
    "def Func(UX):\n",
    "    F_retuned = np.zeros(2*N + 1)\n",
    "    F_retuned[0] = UX[0]\n",
    "    F_retuned[N-1] = UX[N-1]\n",
    "    F_retuned[N + N] = UX[N] - a\n",
    "    F_retuned[N + N - 1] = UX[N + N - 1] - b\n",
    "    d = 0\n",
    "    for i in range(1, N):\n",
    "        d += np.sqrt((UX[N+i] - UX[N+i-1])**2 + (UX[i] - UX[i-1])**2)\n",
    "    d *= (N - 1)\n",
    "    for i in range(1, N-1):\n",
    "            h_i = UX[N + i] - UX[N + i - 1]\n",
    "            h_i_next = UX[N + i + 1] - UX[N + i]\n",
    "            F_retuned[i] = 2/(UX[N + i + 1] - UX[N + i - 1])*((UX[i+1] - UX[i])/h_i_next - (UX[i]-UX[i-1])/h_i) + v(UX[N + i])*(UX[i+1] - U[i])/h_i_next - f(UX[N+i])\n",
    "    return F_retuned\n",
    "    for i in range(0, N-1):\n",
    "        F_retuned[N + i] = (UX[N+i+1] - UX[N+i])**2 + (UX[i+1] - UX[i])**2 - d**2\n",
    "\n",
    "U = np.zeros(N)\n",
    "X = np.linspace(a, b, N)\n",
    "UX_0 = np.concatenate((U, X))\n",
    "UXd_0 = np.concatenate((UX_0, [1]))\n",
    "UX = fsolve(Func, UXd_0)"
   ]
  },
  {
   "cell_type": "code",
   "execution_count": null,
   "metadata": {},
   "outputs": [],
   "source": [
    "# UX[N:2*N]\n",
    "# plt.scatter(x=UX[N:2*N], y=UX[:N], s=2)\n",
    "fig = plt.figure()\n",
    "ax = fig.add_subplot(111)\n",
    "plt.plot(UX[N:2*N], UX[:N], '.r-')\n",
    "plt.xlim(0, 1)\n",
    "plt.ylim(-0.5, 0.5)\n",
    "ax.set_aspect('equal', adjustable='box')\n",
    "\n",
    "plt.xlabel(\"x\")\n",
    "plt.ylabel(\"u\")\n",
    "\n",
    "plt.show()\n"
   ]
  },
  {
   "cell_type": "code",
   "execution_count": 7,
   "metadata": {},
   "outputs": [
    {
     "data": {
      "application/vnd.plotly.v1+json": {
       "config": {
        "plotlyServerURL": "https://plot.ly"
       },
       "data": [
        {
         "type": "surface",
         "x": [
          0,
          0.05,
          0.1,
          0.15000000000000002,
          0.2,
          0.25,
          0.30000000000000004,
          0.35000000000000003,
          0.4,
          0.45,
          0.5,
          0.55,
          0.6000000000000001,
          0.65,
          0.7000000000000001,
          0.75,
          0.8,
          0.8500000000000001,
          0.9,
          0.9500000000000001,
          1
         ],
         "y": [
          0,
          0.05,
          0.1,
          0.15000000000000002,
          0.2,
          0.25,
          0.30000000000000004,
          0.35000000000000003,
          0.4,
          0.45,
          0.5,
          0.55,
          0.6000000000000001,
          0.65,
          0.7000000000000001,
          0.75,
          0.8,
          0.8500000000000001,
          0.9,
          0.9500000000000001,
          1
         ],
         "z": [
          [
           0,
           0,
           0,
           0,
           0,
           0,
           0,
           0,
           0,
           0,
           0,
           0,
           0,
           0,
           0,
           0,
           0,
           0,
           0,
           0,
           0
          ],
          [
           1,
           0,
           0,
           0,
           0,
           0,
           0,
           0,
           0,
           0,
           0,
           0,
           0,
           0,
           0,
           0,
           0,
           0,
           0,
           0,
           0
          ],
          [
           1,
           0.9090909090909091,
           0,
           0,
           0,
           0,
           0,
           0,
           0,
           0,
           0,
           0,
           0,
           0,
           0,
           0,
           0,
           0,
           0,
           0,
           0
          ],
          [
           1,
           0.952752526237759,
           0.8583356092232063,
           0,
           0,
           0,
           0,
           0,
           0,
           0,
           0,
           0,
           0,
           0,
           0,
           0,
           0,
           0,
           0,
           0,
           0
          ],
          [
           1.0000000000000004,
           0.9556601225399242,
           0.9080124976654694,
           0.8132635924879321,
           0,
           0,
           0,
           0,
           0,
           0,
           0,
           0,
           0,
           0,
           0,
           0,
           0,
           0,
           0,
           0,
           0
          ],
          [
           1.0000000000000007,
           0.957572004399132,
           0.9131524266296875,
           0.8653567484905438,
           0.7706024239331484,
           0,
           0,
           0,
           0,
           0,
           0,
           0,
           0,
           0,
           0,
           0,
           0,
           0,
           0,
           0,
           0
          ],
          [
           0.9999999999999989,
           0.9593274856634727,
           0.9168606070737804,
           0.8724003308216108,
           0.8244965369306835,
           0.7297923971000327,
           0,
           0,
           0,
           0,
           0,
           0,
           0,
           0,
           0,
           0,
           0,
           0,
           0,
           0,
           0
          ],
          [
           0.9999999999999997,
           0.9609441033237519,
           0.9202436904149534,
           0.8777550180672062,
           0.8332691954784173,
           0.7852661597995615,
           0.6906321088557449,
           0,
           0,
           0,
           0,
           0,
           0,
           0,
           0,
           0,
           0,
           0,
           0,
           0,
           0
          ],
          [
           0.9999999999999983,
           0.962434428913679,
           0.9233554210679978,
           0.8826413876595935,
           0.8401433669124236,
           0.7956415738883219,
           0.7475419280783334,
           0.6529920205163668,
           0,
           0,
           0,
           0,
           0,
           0,
           0,
           0,
           0,
           0,
           0,
           0,
           0
          ],
          [
           1,
           0.96381152504603,
           0.9262252587041017,
           0.8871372517588167,
           0.8464222238328761,
           0.8039255960874769,
           0.7594156973014364,
           0.7112201040234282,
           0.616767562078069,
           0,
           0,
           0,
           0,
           0,
           0,
           0,
           0,
           0,
           0,
           0,
           0
          ],
          [
           0.9999999999999997,
           0.9650871973504337,
           0.9288791205697005,
           0.891286410670524,
           0.8522024935273997,
           0.8114981843348723,
           0.7690128937630786,
           0.7245020166258725,
           0.6762100784978857,
           0.5818684656412154,
           0,
           0,
           0,
           0,
           0,
           0,
           0,
           0,
           0,
           0,
           0
          ],
          [
           1.0000000000000033,
           0.9662718030110332,
           0.9313396149881054,
           0.89512623936181,
           0.8575404795339573,
           0.8184730213788225,
           0.7777905650508109,
           0.7353261039726362,
           0.6908209574373656,
           0.6424314435736513,
           0.5482151136001686,
           0,
           0,
           0,
           0,
           0,
           0,
           0,
           0,
           0,
           0
          ],
          [
           1.0000000000000009,
           0.9673743874919095,
           0.9336264015369865,
           0.8986890471508238,
           0.8624838728500723,
           0.824917788398577,
           0.7858786293618514,
           0.7452287688168923,
           0.7027943546269572,
           0.6583013724011697,
           0.6098122702826047,
           0.515736668296757,
           0,
           0,
           0,
           0,
           0,
           0,
           0,
           0,
           0
          ],
          [
           0.999999999999994,
           0.9684028640814453,
           0.9357566134204959,
           0.9020028582353606,
           0.867073780420296,
           0.830889653893899,
           0.7933554453525106,
           0.7543560341198934,
           0.7137492512718878,
           0.6713539445185004,
           0.6268793708225737,
           0.57828787761626,
           0.4843698267040229,
           0,
           0,
           0,
           0,
           0,
           0,
           0,
           0
          ],
          [
           1.0000000000000009,
           0.9693641787458148,
           0.9377452373991714,
           0.905092082641192,
           0.8713458216308692,
           0.8364378155593359,
           0.8002870512843009,
           0.7627965100018013,
           0.7238480135313257,
           0.6832946327643629,
           0.6409474307428255,
           0.5964973823755078,
           0.5477998650117307,
           0.4540578817711783,
           0,
           0,
           0,
           0,
           0,
           0,
           0
          ],
          [
           0.999999999999996,
           0.9702644509667689,
           0.9396054350842549,
           0.9079780757525607,
           0.875331013527551,
           0.841604867922402,
           0.8067301889033566,
           0.7706246715723952,
           0.7331892769143414,
           0.6943026734413794,
           0.6538129506586063,
           0.6115228691112599,
           0.567103385013402,
           0.518295316661989,
           0.4247499789429164,
           0,
           0,
           0,
           0,
           0,
           0
          ],
          [
           0.9999999999999946,
           0.9711090918877869,
           0.9413488105551929,
           0.9106796000767071,
           0.8790564925195171,
           0.8464278848678951,
           0.8127339308903428,
           0.7779043863647666,
           0.7418556584480663,
           0.7044866619366171,
           0.6656728228800645,
           0.625257025870069,
           0.5830331743384618,
           0.5386502568367645,
           0.4897261306781834,
           0.39640051841904367,
           0,
           0,
           0,
           0,
           0
          ],
          [
           1.0000000000000002,
           0.971902903139505,
           0.9429856329179969,
           0.913213206426381,
           0.8825461045514135,
           0.8509392939697141,
           0.81834095639113,
           0.7846908086253761,
           0.7499178374765311,
           0.7139371753918067,
           0.6766456750159109,
           0.6379154389942544,
           0.5975839222703209,
           0.5554355760347384,
           0.511095225305488,
           0.4620484436906478,
           0.3689686771420152,
           0,
           0,
           0,
           0
          ],
          [
           1.0000000000000024,
           0.9726501596856554,
           0.9445250219308853,
           0.9155935498159009,
           0.8858208902536931,
           0.8551675878973473,
           0.8235885749383067,
           0.7910318521442576,
           0.7574367355112541,
           0.7227314769974411,
           0.6868299580961145,
           0.6496269649004898,
           0.6109912058821513,
           0.5707544819619182,
           0.5286911523526336,
           0.48439939430731155,
           0.4352221296705741,
           0.3424180361599156,
           0,
           0,
           0
          ],
          [
           0.9999999999999998,
           0.9733546795462201,
           0.9459751035088819,
           0.9178336525824436,
           0.8888994861473721,
           0.8591379074302199,
           0.8285095560215148,
           0.7969693656942094,
           0.7644651969801706,
           0.7309360091113553,
           0.6963093630865077,
           0.6604979249917364,
           0.6233944233612166,
           0.5848641142807082,
           0.5447329227072213,
           0.502764426919723,
           0.45852733370485227,
           0.4092103560584801,
           0.3167163068532691,
           0,
           0
          ],
          [
           0.9999999999999969,
           0.9740198827372154,
           0.9473431406220225,
           0.9199451247159558,
           0.8917984584254065,
           0.8628725225787961,
           0.8331328067458518,
           0.8025400809636425,
           0.7710493220389466,
           0.738608297726291,
           0.7051556630549506,
           0.6706183426577228,
           0.6349078359957974,
           0.5979148385510393,
           0.5595011112237556,
           0.5194864861444308,
           0.4776230171719193,
           0.43344671838952314,
           0.38397918254975977,
           0.29183515644977714,
           0
          ]
         ]
        }
       ],
       "layout": {
        "autosize": false,
        "height": 500,
        "margin": {
         "b": 5,
         "l": 5,
         "r": 50,
         "t": 55
        },
        "template": {
         "data": {
          "bar": [
           {
            "error_x": {
             "color": "#2a3f5f"
            },
            "error_y": {
             "color": "#2a3f5f"
            },
            "marker": {
             "line": {
              "color": "#E5ECF6",
              "width": 0.5
             },
             "pattern": {
              "fillmode": "overlay",
              "size": 10,
              "solidity": 0.2
             }
            },
            "type": "bar"
           }
          ],
          "barpolar": [
           {
            "marker": {
             "line": {
              "color": "#E5ECF6",
              "width": 0.5
             },
             "pattern": {
              "fillmode": "overlay",
              "size": 10,
              "solidity": 0.2
             }
            },
            "type": "barpolar"
           }
          ],
          "carpet": [
           {
            "aaxis": {
             "endlinecolor": "#2a3f5f",
             "gridcolor": "white",
             "linecolor": "white",
             "minorgridcolor": "white",
             "startlinecolor": "#2a3f5f"
            },
            "baxis": {
             "endlinecolor": "#2a3f5f",
             "gridcolor": "white",
             "linecolor": "white",
             "minorgridcolor": "white",
             "startlinecolor": "#2a3f5f"
            },
            "type": "carpet"
           }
          ],
          "choropleth": [
           {
            "colorbar": {
             "outlinewidth": 0,
             "ticks": ""
            },
            "type": "choropleth"
           }
          ],
          "contour": [
           {
            "colorbar": {
             "outlinewidth": 0,
             "ticks": ""
            },
            "colorscale": [
             [
              0,
              "#0d0887"
             ],
             [
              0.1111111111111111,
              "#46039f"
             ],
             [
              0.2222222222222222,
              "#7201a8"
             ],
             [
              0.3333333333333333,
              "#9c179e"
             ],
             [
              0.4444444444444444,
              "#bd3786"
             ],
             [
              0.5555555555555556,
              "#d8576b"
             ],
             [
              0.6666666666666666,
              "#ed7953"
             ],
             [
              0.7777777777777778,
              "#fb9f3a"
             ],
             [
              0.8888888888888888,
              "#fdca26"
             ],
             [
              1,
              "#f0f921"
             ]
            ],
            "type": "contour"
           }
          ],
          "contourcarpet": [
           {
            "colorbar": {
             "outlinewidth": 0,
             "ticks": ""
            },
            "type": "contourcarpet"
           }
          ],
          "heatmap": [
           {
            "colorbar": {
             "outlinewidth": 0,
             "ticks": ""
            },
            "colorscale": [
             [
              0,
              "#0d0887"
             ],
             [
              0.1111111111111111,
              "#46039f"
             ],
             [
              0.2222222222222222,
              "#7201a8"
             ],
             [
              0.3333333333333333,
              "#9c179e"
             ],
             [
              0.4444444444444444,
              "#bd3786"
             ],
             [
              0.5555555555555556,
              "#d8576b"
             ],
             [
              0.6666666666666666,
              "#ed7953"
             ],
             [
              0.7777777777777778,
              "#fb9f3a"
             ],
             [
              0.8888888888888888,
              "#fdca26"
             ],
             [
              1,
              "#f0f921"
             ]
            ],
            "type": "heatmap"
           }
          ],
          "heatmapgl": [
           {
            "colorbar": {
             "outlinewidth": 0,
             "ticks": ""
            },
            "colorscale": [
             [
              0,
              "#0d0887"
             ],
             [
              0.1111111111111111,
              "#46039f"
             ],
             [
              0.2222222222222222,
              "#7201a8"
             ],
             [
              0.3333333333333333,
              "#9c179e"
             ],
             [
              0.4444444444444444,
              "#bd3786"
             ],
             [
              0.5555555555555556,
              "#d8576b"
             ],
             [
              0.6666666666666666,
              "#ed7953"
             ],
             [
              0.7777777777777778,
              "#fb9f3a"
             ],
             [
              0.8888888888888888,
              "#fdca26"
             ],
             [
              1,
              "#f0f921"
             ]
            ],
            "type": "heatmapgl"
           }
          ],
          "histogram": [
           {
            "marker": {
             "pattern": {
              "fillmode": "overlay",
              "size": 10,
              "solidity": 0.2
             }
            },
            "type": "histogram"
           }
          ],
          "histogram2d": [
           {
            "colorbar": {
             "outlinewidth": 0,
             "ticks": ""
            },
            "colorscale": [
             [
              0,
              "#0d0887"
             ],
             [
              0.1111111111111111,
              "#46039f"
             ],
             [
              0.2222222222222222,
              "#7201a8"
             ],
             [
              0.3333333333333333,
              "#9c179e"
             ],
             [
              0.4444444444444444,
              "#bd3786"
             ],
             [
              0.5555555555555556,
              "#d8576b"
             ],
             [
              0.6666666666666666,
              "#ed7953"
             ],
             [
              0.7777777777777778,
              "#fb9f3a"
             ],
             [
              0.8888888888888888,
              "#fdca26"
             ],
             [
              1,
              "#f0f921"
             ]
            ],
            "type": "histogram2d"
           }
          ],
          "histogram2dcontour": [
           {
            "colorbar": {
             "outlinewidth": 0,
             "ticks": ""
            },
            "colorscale": [
             [
              0,
              "#0d0887"
             ],
             [
              0.1111111111111111,
              "#46039f"
             ],
             [
              0.2222222222222222,
              "#7201a8"
             ],
             [
              0.3333333333333333,
              "#9c179e"
             ],
             [
              0.4444444444444444,
              "#bd3786"
             ],
             [
              0.5555555555555556,
              "#d8576b"
             ],
             [
              0.6666666666666666,
              "#ed7953"
             ],
             [
              0.7777777777777778,
              "#fb9f3a"
             ],
             [
              0.8888888888888888,
              "#fdca26"
             ],
             [
              1,
              "#f0f921"
             ]
            ],
            "type": "histogram2dcontour"
           }
          ],
          "mesh3d": [
           {
            "colorbar": {
             "outlinewidth": 0,
             "ticks": ""
            },
            "type": "mesh3d"
           }
          ],
          "parcoords": [
           {
            "line": {
             "colorbar": {
              "outlinewidth": 0,
              "ticks": ""
             }
            },
            "type": "parcoords"
           }
          ],
          "pie": [
           {
            "automargin": true,
            "type": "pie"
           }
          ],
          "scatter": [
           {
            "marker": {
             "colorbar": {
              "outlinewidth": 0,
              "ticks": ""
             }
            },
            "type": "scatter"
           }
          ],
          "scatter3d": [
           {
            "line": {
             "colorbar": {
              "outlinewidth": 0,
              "ticks": ""
             }
            },
            "marker": {
             "colorbar": {
              "outlinewidth": 0,
              "ticks": ""
             }
            },
            "type": "scatter3d"
           }
          ],
          "scattercarpet": [
           {
            "marker": {
             "colorbar": {
              "outlinewidth": 0,
              "ticks": ""
             }
            },
            "type": "scattercarpet"
           }
          ],
          "scattergeo": [
           {
            "marker": {
             "colorbar": {
              "outlinewidth": 0,
              "ticks": ""
             }
            },
            "type": "scattergeo"
           }
          ],
          "scattergl": [
           {
            "marker": {
             "colorbar": {
              "outlinewidth": 0,
              "ticks": ""
             }
            },
            "type": "scattergl"
           }
          ],
          "scattermapbox": [
           {
            "marker": {
             "colorbar": {
              "outlinewidth": 0,
              "ticks": ""
             }
            },
            "type": "scattermapbox"
           }
          ],
          "scatterpolar": [
           {
            "marker": {
             "colorbar": {
              "outlinewidth": 0,
              "ticks": ""
             }
            },
            "type": "scatterpolar"
           }
          ],
          "scatterpolargl": [
           {
            "marker": {
             "colorbar": {
              "outlinewidth": 0,
              "ticks": ""
             }
            },
            "type": "scatterpolargl"
           }
          ],
          "scatterternary": [
           {
            "marker": {
             "colorbar": {
              "outlinewidth": 0,
              "ticks": ""
             }
            },
            "type": "scatterternary"
           }
          ],
          "surface": [
           {
            "colorbar": {
             "outlinewidth": 0,
             "ticks": ""
            },
            "colorscale": [
             [
              0,
              "#0d0887"
             ],
             [
              0.1111111111111111,
              "#46039f"
             ],
             [
              0.2222222222222222,
              "#7201a8"
             ],
             [
              0.3333333333333333,
              "#9c179e"
             ],
             [
              0.4444444444444444,
              "#bd3786"
             ],
             [
              0.5555555555555556,
              "#d8576b"
             ],
             [
              0.6666666666666666,
              "#ed7953"
             ],
             [
              0.7777777777777778,
              "#fb9f3a"
             ],
             [
              0.8888888888888888,
              "#fdca26"
             ],
             [
              1,
              "#f0f921"
             ]
            ],
            "type": "surface"
           }
          ],
          "table": [
           {
            "cells": {
             "fill": {
              "color": "#EBF0F8"
             },
             "line": {
              "color": "white"
             }
            },
            "header": {
             "fill": {
              "color": "#C8D4E3"
             },
             "line": {
              "color": "white"
             }
            },
            "type": "table"
           }
          ]
         },
         "layout": {
          "annotationdefaults": {
           "arrowcolor": "#2a3f5f",
           "arrowhead": 0,
           "arrowwidth": 1
          },
          "autotypenumbers": "strict",
          "coloraxis": {
           "colorbar": {
            "outlinewidth": 0,
            "ticks": ""
           }
          },
          "colorscale": {
           "diverging": [
            [
             0,
             "#8e0152"
            ],
            [
             0.1,
             "#c51b7d"
            ],
            [
             0.2,
             "#de77ae"
            ],
            [
             0.3,
             "#f1b6da"
            ],
            [
             0.4,
             "#fde0ef"
            ],
            [
             0.5,
             "#f7f7f7"
            ],
            [
             0.6,
             "#e6f5d0"
            ],
            [
             0.7,
             "#b8e186"
            ],
            [
             0.8,
             "#7fbc41"
            ],
            [
             0.9,
             "#4d9221"
            ],
            [
             1,
             "#276419"
            ]
           ],
           "sequential": [
            [
             0,
             "#0d0887"
            ],
            [
             0.1111111111111111,
             "#46039f"
            ],
            [
             0.2222222222222222,
             "#7201a8"
            ],
            [
             0.3333333333333333,
             "#9c179e"
            ],
            [
             0.4444444444444444,
             "#bd3786"
            ],
            [
             0.5555555555555556,
             "#d8576b"
            ],
            [
             0.6666666666666666,
             "#ed7953"
            ],
            [
             0.7777777777777778,
             "#fb9f3a"
            ],
            [
             0.8888888888888888,
             "#fdca26"
            ],
            [
             1,
             "#f0f921"
            ]
           ],
           "sequentialminus": [
            [
             0,
             "#0d0887"
            ],
            [
             0.1111111111111111,
             "#46039f"
            ],
            [
             0.2222222222222222,
             "#7201a8"
            ],
            [
             0.3333333333333333,
             "#9c179e"
            ],
            [
             0.4444444444444444,
             "#bd3786"
            ],
            [
             0.5555555555555556,
             "#d8576b"
            ],
            [
             0.6666666666666666,
             "#ed7953"
            ],
            [
             0.7777777777777778,
             "#fb9f3a"
            ],
            [
             0.8888888888888888,
             "#fdca26"
            ],
            [
             1,
             "#f0f921"
            ]
           ]
          },
          "colorway": [
           "#636efa",
           "#EF553B",
           "#00cc96",
           "#ab63fa",
           "#FFA15A",
           "#19d3f3",
           "#FF6692",
           "#B6E880",
           "#FF97FF",
           "#FECB52"
          ],
          "font": {
           "color": "#2a3f5f"
          },
          "geo": {
           "bgcolor": "white",
           "lakecolor": "white",
           "landcolor": "#E5ECF6",
           "showlakes": true,
           "showland": true,
           "subunitcolor": "white"
          },
          "hoverlabel": {
           "align": "left"
          },
          "hovermode": "closest",
          "mapbox": {
           "style": "light"
          },
          "paper_bgcolor": "white",
          "plot_bgcolor": "#E5ECF6",
          "polar": {
           "angularaxis": {
            "gridcolor": "white",
            "linecolor": "white",
            "ticks": ""
           },
           "bgcolor": "#E5ECF6",
           "radialaxis": {
            "gridcolor": "white",
            "linecolor": "white",
            "ticks": ""
           }
          },
          "scene": {
           "xaxis": {
            "backgroundcolor": "#E5ECF6",
            "gridcolor": "white",
            "gridwidth": 2,
            "linecolor": "white",
            "showbackground": true,
            "ticks": "",
            "zerolinecolor": "white"
           },
           "yaxis": {
            "backgroundcolor": "#E5ECF6",
            "gridcolor": "white",
            "gridwidth": 2,
            "linecolor": "white",
            "showbackground": true,
            "ticks": "",
            "zerolinecolor": "white"
           },
           "zaxis": {
            "backgroundcolor": "#E5ECF6",
            "gridcolor": "white",
            "gridwidth": 2,
            "linecolor": "white",
            "showbackground": true,
            "ticks": "",
            "zerolinecolor": "white"
           }
          },
          "shapedefaults": {
           "line": {
            "color": "#2a3f5f"
           }
          },
          "ternary": {
           "aaxis": {
            "gridcolor": "white",
            "linecolor": "white",
            "ticks": ""
           },
           "baxis": {
            "gridcolor": "white",
            "linecolor": "white",
            "ticks": ""
           },
           "bgcolor": "#E5ECF6",
           "caxis": {
            "gridcolor": "white",
            "linecolor": "white",
            "ticks": ""
           }
          },
          "title": {
           "x": 0.05
          },
          "xaxis": {
           "automargin": true,
           "gridcolor": "white",
           "linecolor": "white",
           "ticks": "",
           "title": {
            "standoff": 15
           },
           "zerolinecolor": "white",
           "zerolinewidth": 2
          },
          "yaxis": {
           "automargin": true,
           "gridcolor": "white",
           "linecolor": "white",
           "ticks": "",
           "title": {
            "standoff": 15
           },
           "zerolinecolor": "white",
           "zerolinewidth": 2
          }
         }
        },
        "title": {
         "text": "surface"
        },
        "width": 500
       }
      }
     },
     "metadata": {},
     "output_type": "display_data"
    }
   ],
   "source": [
    "sh_0, sh_1 = A.shape\n",
    "fig = go.Figure()\n",
    "fig.add_surface(\n",
    "    # contours = {\n",
    "    #     \"x\": {\"show\": True, \"start\": 1.5, \"end\": 2, \"size\": 0.04, \"color\":\"white\"},\n",
    "    #     \"z\": {\"show\": True, \"start\": 0.5, \"end\": 0.8, \"size\": 0.05}\n",
    "    # },\n",
    "    x = np.linspace(a, b, sh_1),\n",
    "    y = np.linspace(0, T, sh_0),\n",
    "    z = U\n",
    "    )\n",
    "# fig.add_scatter3d(name='scat_p', x=np.linspace(a, b, sh_1), y=np.linspace(0, T, sh_0), z=U, mode='markers',\n",
    "#     marker=dict(size=10, color='black',colorscale='Reds'))\n",
    "# fig.update_layout(\n",
    "#         scene = {\n",
    "#             \"xaxis\": {\"nticks\": 20},\n",
    "#             \"zaxis\": {\"nticks\": 4},\n",
    "#             'camera_eye': {\"x\": 0, \"y\": -1, \"z\": 0.5},\n",
    "#             \"aspectratio\": {\"x\": 1, \"y\": 1, \"z\": 0.2}\n",
    "#         })\n",
    "fig.update_layout(title='surface', autosize=False,\n",
    "                  width=500, height=500,\n",
    "                  margin=dict(l=5, r=50, b=5, t=55))\n",
    "fig.show()"
   ]
  },
  {
   "cell_type": "code",
   "execution_count": 8,
   "metadata": {},
   "outputs": [
    {
     "ename": "IndexError",
     "evalue": "index 20 is out of bounds for axis 0 with size 20",
     "output_type": "error",
     "traceback": [
      "\u001b[1;31m---------------------------------------------------------------------------\u001b[0m",
      "\u001b[1;31mIndexError\u001b[0m                                Traceback (most recent call last)",
      "\u001b[1;32mc:\\Users\\stas2\\Desktop\\ВУЗ\\Численные методы\\DynamicGrid2D\\main.ipynb Cell 9'\u001b[0m in \u001b[0;36m<cell line: 27>\u001b[1;34m()\u001b[0m\n\u001b[0;32m     <a href='vscode-notebook-cell:/c%3A/Users/stas2/Desktop/%D0%92%D0%A3%D0%97/%D0%A7%D0%B8%D1%81%D0%BB%D0%B5%D0%BD%D0%BD%D1%8B%D0%B5%20%D0%BC%D0%B5%D1%82%D0%BE%D0%B4%D1%8B/DynamicGrid2D/main.ipynb#ch0000008?line=24'>25</a>\u001b[0m X \u001b[39m=\u001b[39m np\u001b[39m.\u001b[39mlinspace(a, b, N)\n\u001b[0;32m     <a href='vscode-notebook-cell:/c%3A/Users/stas2/Desktop/%D0%92%D0%A3%D0%97/%D0%A7%D0%B8%D1%81%D0%BB%D0%B5%D0%BD%D0%BD%D1%8B%D0%B5%20%D0%BC%D0%B5%D1%82%D0%BE%D0%B4%D1%8B/DynamicGrid2D/main.ipynb#ch0000008?line=25'>26</a>\u001b[0m UX_0 \u001b[39m=\u001b[39m np\u001b[39m.\u001b[39mconcatenate((U, X))\n\u001b[1;32m---> <a href='vscode-notebook-cell:/c%3A/Users/stas2/Desktop/%D0%92%D0%A3%D0%97/%D0%A7%D0%B8%D1%81%D0%BB%D0%B5%D0%BD%D0%BD%D1%8B%D0%B5%20%D0%BC%D0%B5%D1%82%D0%BE%D0%B4%D1%8B/DynamicGrid2D/main.ipynb#ch0000008?line=26'>27</a>\u001b[0m UX \u001b[39m=\u001b[39m fsolve(Func, UX_0)\n",
      "File \u001b[1;32mc:\\Users\\stas2\\AppData\\Local\\Programs\\Python\\Python39\\lib\\site-packages\\scipy\\optimize\\_minpack_py.py:160\u001b[0m, in \u001b[0;36mfsolve\u001b[1;34m(func, x0, args, fprime, full_output, col_deriv, xtol, maxfev, band, epsfcn, factor, diag)\u001b[0m\n\u001b[0;32m     <a href='file:///c%3A/Users/stas2/AppData/Local/Programs/Python/Python39/lib/site-packages/scipy/optimize/_minpack_py.py?line=48'>49</a>\u001b[0m \u001b[39m\"\"\"\u001b[39;00m\n\u001b[0;32m     <a href='file:///c%3A/Users/stas2/AppData/Local/Programs/Python/Python39/lib/site-packages/scipy/optimize/_minpack_py.py?line=49'>50</a>\u001b[0m \u001b[39mFind the roots of a function.\u001b[39;00m\n\u001b[0;32m     <a href='file:///c%3A/Users/stas2/AppData/Local/Programs/Python/Python39/lib/site-packages/scipy/optimize/_minpack_py.py?line=50'>51</a>\u001b[0m \n\u001b[1;32m   (...)\u001b[0m\n\u001b[0;32m    <a href='file:///c%3A/Users/stas2/AppData/Local/Programs/Python/Python39/lib/site-packages/scipy/optimize/_minpack_py.py?line=149'>150</a>\u001b[0m \n\u001b[0;32m    <a href='file:///c%3A/Users/stas2/AppData/Local/Programs/Python/Python39/lib/site-packages/scipy/optimize/_minpack_py.py?line=150'>151</a>\u001b[0m \u001b[39m\"\"\"\u001b[39;00m\n\u001b[0;32m    <a href='file:///c%3A/Users/stas2/AppData/Local/Programs/Python/Python39/lib/site-packages/scipy/optimize/_minpack_py.py?line=151'>152</a>\u001b[0m options \u001b[39m=\u001b[39m {\u001b[39m'\u001b[39m\u001b[39mcol_deriv\u001b[39m\u001b[39m'\u001b[39m: col_deriv,\n\u001b[0;32m    <a href='file:///c%3A/Users/stas2/AppData/Local/Programs/Python/Python39/lib/site-packages/scipy/optimize/_minpack_py.py?line=152'>153</a>\u001b[0m            \u001b[39m'\u001b[39m\u001b[39mxtol\u001b[39m\u001b[39m'\u001b[39m: xtol,\n\u001b[0;32m    <a href='file:///c%3A/Users/stas2/AppData/Local/Programs/Python/Python39/lib/site-packages/scipy/optimize/_minpack_py.py?line=153'>154</a>\u001b[0m            \u001b[39m'\u001b[39m\u001b[39mmaxfev\u001b[39m\u001b[39m'\u001b[39m: maxfev,\n\u001b[1;32m   (...)\u001b[0m\n\u001b[0;32m    <a href='file:///c%3A/Users/stas2/AppData/Local/Programs/Python/Python39/lib/site-packages/scipy/optimize/_minpack_py.py?line=156'>157</a>\u001b[0m            \u001b[39m'\u001b[39m\u001b[39mfactor\u001b[39m\u001b[39m'\u001b[39m: factor,\n\u001b[0;32m    <a href='file:///c%3A/Users/stas2/AppData/Local/Programs/Python/Python39/lib/site-packages/scipy/optimize/_minpack_py.py?line=157'>158</a>\u001b[0m            \u001b[39m'\u001b[39m\u001b[39mdiag\u001b[39m\u001b[39m'\u001b[39m: diag}\n\u001b[1;32m--> <a href='file:///c%3A/Users/stas2/AppData/Local/Programs/Python/Python39/lib/site-packages/scipy/optimize/_minpack_py.py?line=159'>160</a>\u001b[0m res \u001b[39m=\u001b[39m _root_hybr(func, x0, args, jac\u001b[39m=\u001b[39mfprime, \u001b[39m*\u001b[39m\u001b[39m*\u001b[39moptions)\n\u001b[0;32m    <a href='file:///c%3A/Users/stas2/AppData/Local/Programs/Python/Python39/lib/site-packages/scipy/optimize/_minpack_py.py?line=160'>161</a>\u001b[0m \u001b[39mif\u001b[39;00m full_output:\n\u001b[0;32m    <a href='file:///c%3A/Users/stas2/AppData/Local/Programs/Python/Python39/lib/site-packages/scipy/optimize/_minpack_py.py?line=161'>162</a>\u001b[0m     x \u001b[39m=\u001b[39m res[\u001b[39m'\u001b[39m\u001b[39mx\u001b[39m\u001b[39m'\u001b[39m]\n",
      "File \u001b[1;32mc:\\Users\\stas2\\AppData\\Local\\Programs\\Python\\Python39\\lib\\site-packages\\scipy\\optimize\\_minpack_py.py:226\u001b[0m, in \u001b[0;36m_root_hybr\u001b[1;34m(func, x0, args, jac, col_deriv, xtol, maxfev, band, eps, factor, diag, **unknown_options)\u001b[0m\n\u001b[0;32m    <a href='file:///c%3A/Users/stas2/AppData/Local/Programs/Python/Python39/lib/site-packages/scipy/optimize/_minpack_py.py?line=223'>224</a>\u001b[0m \u001b[39mif\u001b[39;00m \u001b[39mnot\u001b[39;00m \u001b[39misinstance\u001b[39m(args, \u001b[39mtuple\u001b[39m):\n\u001b[0;32m    <a href='file:///c%3A/Users/stas2/AppData/Local/Programs/Python/Python39/lib/site-packages/scipy/optimize/_minpack_py.py?line=224'>225</a>\u001b[0m     args \u001b[39m=\u001b[39m (args,)\n\u001b[1;32m--> <a href='file:///c%3A/Users/stas2/AppData/Local/Programs/Python/Python39/lib/site-packages/scipy/optimize/_minpack_py.py?line=225'>226</a>\u001b[0m shape, dtype \u001b[39m=\u001b[39m _check_func(\u001b[39m'\u001b[39;49m\u001b[39mfsolve\u001b[39;49m\u001b[39m'\u001b[39;49m, \u001b[39m'\u001b[39;49m\u001b[39mfunc\u001b[39;49m\u001b[39m'\u001b[39;49m, func, x0, args, n, (n,))\n\u001b[0;32m    <a href='file:///c%3A/Users/stas2/AppData/Local/Programs/Python/Python39/lib/site-packages/scipy/optimize/_minpack_py.py?line=226'>227</a>\u001b[0m \u001b[39mif\u001b[39;00m epsfcn \u001b[39mis\u001b[39;00m \u001b[39mNone\u001b[39;00m:\n\u001b[0;32m    <a href='file:///c%3A/Users/stas2/AppData/Local/Programs/Python/Python39/lib/site-packages/scipy/optimize/_minpack_py.py?line=227'>228</a>\u001b[0m     epsfcn \u001b[39m=\u001b[39m finfo(dtype)\u001b[39m.\u001b[39meps\n",
      "File \u001b[1;32mc:\\Users\\stas2\\AppData\\Local\\Programs\\Python\\Python39\\lib\\site-packages\\scipy\\optimize\\_minpack_py.py:24\u001b[0m, in \u001b[0;36m_check_func\u001b[1;34m(checker, argname, thefunc, x0, args, numinputs, output_shape)\u001b[0m\n\u001b[0;32m     <a href='file:///c%3A/Users/stas2/AppData/Local/Programs/Python/Python39/lib/site-packages/scipy/optimize/_minpack_py.py?line=21'>22</a>\u001b[0m \u001b[39mdef\u001b[39;00m \u001b[39m_check_func\u001b[39m(checker, argname, thefunc, x0, args, numinputs,\n\u001b[0;32m     <a href='file:///c%3A/Users/stas2/AppData/Local/Programs/Python/Python39/lib/site-packages/scipy/optimize/_minpack_py.py?line=22'>23</a>\u001b[0m                 output_shape\u001b[39m=\u001b[39m\u001b[39mNone\u001b[39;00m):\n\u001b[1;32m---> <a href='file:///c%3A/Users/stas2/AppData/Local/Programs/Python/Python39/lib/site-packages/scipy/optimize/_minpack_py.py?line=23'>24</a>\u001b[0m     res \u001b[39m=\u001b[39m atleast_1d(thefunc(\u001b[39m*\u001b[39;49m((x0[:numinputs],) \u001b[39m+\u001b[39;49m args)))\n\u001b[0;32m     <a href='file:///c%3A/Users/stas2/AppData/Local/Programs/Python/Python39/lib/site-packages/scipy/optimize/_minpack_py.py?line=24'>25</a>\u001b[0m     \u001b[39mif\u001b[39;00m (output_shape \u001b[39mis\u001b[39;00m \u001b[39mnot\u001b[39;00m \u001b[39mNone\u001b[39;00m) \u001b[39mand\u001b[39;00m (shape(res) \u001b[39m!=\u001b[39m output_shape):\n\u001b[0;32m     <a href='file:///c%3A/Users/stas2/AppData/Local/Programs/Python/Python39/lib/site-packages/scipy/optimize/_minpack_py.py?line=25'>26</a>\u001b[0m         \u001b[39mif\u001b[39;00m (output_shape[\u001b[39m0\u001b[39m] \u001b[39m!=\u001b[39m \u001b[39m1\u001b[39m):\n",
      "\u001b[1;32mc:\\Users\\stas2\\Desktop\\ВУЗ\\Численные методы\\DynamicGrid2D\\main.ipynb Cell 9'\u001b[0m in \u001b[0;36mFunc\u001b[1;34m(UX)\u001b[0m\n\u001b[0;32m     <a href='vscode-notebook-cell:/c%3A/Users/stas2/Desktop/%D0%92%D0%A3%D0%97/%D0%A7%D0%B8%D1%81%D0%BB%D0%B5%D0%BD%D0%BD%D1%8B%D0%B5%20%D0%BC%D0%B5%D1%82%D0%BE%D0%B4%D1%8B/DynamicGrid2D/main.ipynb#ch0000008?line=13'>14</a>\u001b[0m d \u001b[39m=\u001b[39m \u001b[39m0\u001b[39m\n\u001b[0;32m     <a href='vscode-notebook-cell:/c%3A/Users/stas2/Desktop/%D0%92%D0%A3%D0%97/%D0%A7%D0%B8%D1%81%D0%BB%D0%B5%D0%BD%D0%BD%D1%8B%D0%B5%20%D0%BC%D0%B5%D1%82%D0%BE%D0%B4%D1%8B/DynamicGrid2D/main.ipynb#ch0000008?line=14'>15</a>\u001b[0m \u001b[39mfor\u001b[39;00m i \u001b[39min\u001b[39;00m \u001b[39mrange\u001b[39m(\u001b[39m0\u001b[39m, N):\n\u001b[1;32m---> <a href='vscode-notebook-cell:/c%3A/Users/stas2/Desktop/%D0%92%D0%A3%D0%97/%D0%A7%D0%B8%D1%81%D0%BB%D0%B5%D0%BD%D0%BD%D1%8B%D0%B5%20%D0%BC%D0%B5%D1%82%D0%BE%D0%B4%D1%8B/DynamicGrid2D/main.ipynb#ch0000008?line=15'>16</a>\u001b[0m         d \u001b[39m+\u001b[39m\u001b[39m=\u001b[39m (UX[N \u001b[39m+\u001b[39;49m i \u001b[39m+\u001b[39;49m \u001b[39m1\u001b[39;49m] \u001b[39m-\u001b[39m UX[N \u001b[39m+\u001b[39m i])\u001b[39m*\u001b[39mnp\u001b[39m.\u001b[39msqrt(\u001b[39m1\u001b[39m \u001b[39m+\u001b[39m ((UX[i\u001b[39m+\u001b[39m\u001b[39m1\u001b[39m] \u001b[39m-\u001b[39m UX[i])\u001b[39m/\u001b[39m(UX[N \u001b[39m+\u001b[39m i \u001b[39m+\u001b[39m \u001b[39m1\u001b[39m] \u001b[39m-\u001b[39m UX[N \u001b[39m+\u001b[39m i]))\u001b[39m*\u001b[39m\u001b[39m*\u001b[39m\u001b[39m2\u001b[39m)\n\u001b[0;32m     <a href='vscode-notebook-cell:/c%3A/Users/stas2/Desktop/%D0%92%D0%A3%D0%97/%D0%A7%D0%B8%D1%81%D0%BB%D0%B5%D0%BD%D0%BD%D1%8B%D0%B5%20%D0%BC%D0%B5%D1%82%D0%BE%D0%B4%D1%8B/DynamicGrid2D/main.ipynb#ch0000008?line=16'>17</a>\u001b[0m d \u001b[39m/\u001b[39m\u001b[39m=\u001b[39m (N \u001b[39m-\u001b[39m \u001b[39m1\u001b[39m)\n\u001b[0;32m     <a href='vscode-notebook-cell:/c%3A/Users/stas2/Desktop/%D0%92%D0%A3%D0%97/%D0%A7%D0%B8%D1%81%D0%BB%D0%B5%D0%BD%D0%BD%D1%8B%D0%B5%20%D0%BC%D0%B5%D1%82%D0%BE%D0%B4%D1%8B/DynamicGrid2D/main.ipynb#ch0000008?line=17'>18</a>\u001b[0m \u001b[39mfor\u001b[39;00m i \u001b[39min\u001b[39;00m \u001b[39mrange\u001b[39m(\u001b[39m1\u001b[39m, N\u001b[39m-\u001b[39m\u001b[39m1\u001b[39m):\n",
      "\u001b[1;31mIndexError\u001b[0m: index 20 is out of bounds for axis 0 with size 20"
     ]
    }
   ],
   "source": [
    "N = 10\n",
    "f = lambda x : 0\n",
    "v = lambda x : sin(10*x)\n",
    "k = lambda x : 1\n",
    "a = 0\n",
    "b = 1 \n",
    "\n",
    "def Func(UX):\n",
    "        F_retuned = np.zeros(2*N)\n",
    "        F_retuned[0] = UX[0]\n",
    "        F_retuned[N-1] = UX[N-1]\n",
    "        F_retuned[N] = UX[N] - a\n",
    "        F_retuned[N + N - 1] = UX[N + N - 1] - b\n",
    "        d = 0\n",
    "        for i in range(0, N):\n",
    "                d += (UX[N + i + 1] - UX[N + i])*np.sqrt(1 + ((UX[i+1] - UX[i])/(UX[N + i + 1] - UX[N + i]))**2)\n",
    "        d /= (N - 1)\n",
    "        for i in range(1, N-1):\n",
    "                h_i = UX[N + i] - UX[N + i - 1]\n",
    "                h_i_next = UX[N + i + 1] - UX[N + i]\n",
    "                F_retuned[i] = 1/h_i*((UX[i+1] - UX[i])/h_i_next - (UX[i]-UX[i-1])/h_i) + v(UX[N + i])*(UX[i+1] - U[i])/h_i_next - f(UX[N+i])\n",
    "                F_retuned[N + i] = (UX[N+i+1] - UX[N+i])**2 + (UX[i+1] - UX[i])**2 - h**2\n",
    "        return F_retuned\n",
    "U = np.zeros(N)\n",
    "X = np.linspace(a, b, N)\n",
    "UX_0 = np.concatenate((U, X))\n",
    "UX = fsolve(Func, UX_0)\n",
    "        "
   ]
  }
 ],
 "metadata": {
  "interpreter": {
   "hash": "670f886bb491df400b8a46c547cdac4d4234710212a6195cc7ddd83502d821f4"
  },
  "kernelspec": {
   "display_name": "Python 3.9.10 64-bit",
   "language": "python",
   "name": "python3"
  },
  "language_info": {
   "codemirror_mode": {
    "name": "ipython",
    "version": 3
   },
   "file_extension": ".py",
   "mimetype": "text/x-python",
   "name": "python",
   "nbconvert_exporter": "python",
   "pygments_lexer": "ipython3",
   "version": "3.9.10"
  },
  "orig_nbformat": 4
 },
 "nbformat": 4,
 "nbformat_minor": 2
}
