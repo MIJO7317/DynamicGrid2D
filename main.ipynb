{
 "cells": [
  {
   "cell_type": "code",
   "execution_count": 1,
   "metadata": {},
   "outputs": [],
   "source": [
    "import numpy as np\n",
    "import matplotlib\n",
    "import matplotlib.pyplot as plt\n",
    "matplotlib.rcParams[\"figure.dpi\"] = 100\n",
    "import plotly.graph_objects as go\n",
    "from scipy.optimize import fsolve\n",
    "# import warnings\n",
    "# warnings.filterwarnings(\"error\")\n",
    "import pyvista as pv"
   ]
  },
  {
   "cell_type": "code",
   "execution_count": 23,
   "metadata": {},
   "outputs": [],
   "source": [
    "T = 1\n",
    "\n",
    "a = 0\n",
    "b = 1\n",
    "\n",
    "h = 0.1\n",
    "tau = 0.1\n",
    "\n",
    "M = int(T/tau) + 1\n",
    "N = int((b-a)/h) + 1\n",
    "\n",
    "U = np.zeros((M, N))\n",
    "Q = np.zeros(N)\n",
    "Psi = np.ones(N-1)\n",
    "Psis = [Psi.copy()]\n",
    "\n",
    "Kuxt = lambda u, x, t: u**2\n",
    "K = lambda m, n: Kuxt(U[m][n], n*h, m*tau)\n",
    "\n",
    "for n in range(N):\n",
    "    U[0][n] = 2\n",
    "    # U[0][n] = -40*((n*h)-0.5)**2+10\n",
    "    # U[0][n] = 10*np.sin(10*n*h)\n",
    "\n",
    "for m in range(1, M):\n",
    "    def F(Q_m):\n",
    "        F_retuned = np.zeros(N)\n",
    "        F_retuned[0] = Q_m[0]\n",
    "        for i in range(1, N-1):\n",
    "            alpha = 0.001\n",
    "            A = (0.5-alpha)*Q_m[i-1]+(0.5+alpha)*Q_m[i+1]+h/tau*((0.5-alpha)*Psi[i-1] - (0.5+alpha)*Psi[i])\n",
    "            B = (0.5+alpha)*Q_m[i-1]+(0.5-alpha)*Q_m[i+1]+h/tau*((0.5+alpha)*Psi[i-1] - (0.5-alpha)*Psi[i])\n",
    "            if np.abs(U[m-1][i+1] - U[m-1][i-1]) < 0.0000001:\n",
    "                if (K(m-1, i+1)*(U[m-1][i+1] - U[m-1][i]) - \\\n",
    "                    K(m-1, i-1)*(U[m-1][i] - U[m-1][i-1])) * \\\n",
    "                    2/h/(Psi[i]+Psi[i-1]) * (U[m-1][i+1] - U[m-1][i-1]) < 0:\n",
    "                    F_retuned[i] = A - Q_m[i]\n",
    "                else:\n",
    "                    F_retuned[i] = B - Q_m[i]\n",
    "            else:\n",
    "                Q_counted = (K(m-1, i+1)*(U[m-1][i+1] - U[m-1][i]) - \\\n",
    "                        K(m-1, i-1)*(U[m-1][i] - U[m-1][i-1])) * \\\n",
    "                        2/h/(Psi[i]+Psi[i-1])/(U[m-1][i+1] - U[m-1][i-1])\n",
    "                if Q_counted < Q_m[i+1] - h/tau*Psi[i]:\n",
    "                    F_retuned[i] = A - Q_m[i]\n",
    "                elif Q_counted > Q_m[i-1] + h/tau*Psi[i-1]:\n",
    "                    F_retuned[i] = B - Q_m[i]\n",
    "                else:\n",
    "                    F_retuned[i] = Q_counted - Q_m[i]\n",
    "        F_retuned[N-1] = Q_m[N-1]\n",
    "        return F_retuned\n",
    "    Q = fsolve(F, h*np.ones(N))\n",
    "    # Q[0] = 0\n",
    "    # for i in range(1, N - 1):\n",
    "    #     # if np.abs(A[m-1][i+1] - A[m-1][i-1]) < 0.01 or np.abs(Psi[i]+Psi[i-1]) < 0.01:\n",
    "    #     #     Q[i] = (K(A[m-1][i+1], h*(i+1), tau*(m-1))*(A[m-1][i+1] - A[m-1][i]) - \\\n",
    "    #     #             K(A[m-1][i-1], h*(i-1), tau*(m-1))*(A[m-1][i] - A[m-1][i-1])) * \\\n",
    "    #     #             2/h/0.01/ 0.01\n",
    "    #     # else:\n",
    "    #     #     try:\n",
    "    #     #         Q[i] = (K(A[m-1][i+1], h*(i+1), tau*(m-1))*(A[m-1][i+1] - A[m-1][i]) - \\\n",
    "    #     #                 K(A[m-1][i-1], h*(i-1), tau*(m-1))*(A[m-1][i] - A[m-1][i-1])) * \\\n",
    "    #     #                 2/h/(Psi[i]+Psi[i-1])/(A[m-1][i+1] - A[m-1][i-1])\n",
    "    #     #     except:\n",
    "    #     #         pass\n",
    "    #     # if Psi[i-1] + tau/h*(Q[i-1]-Q[i]) < 0:\n",
    "    #     #     Q[i] = h/tau*Psi[i-1]/2 + Q[i-1]\n",
    "    #     # else:\n",
    "    #     #     Q[i] += h/tau*Psi[i-1]/2 + Q[i-1]\n",
    "    #     counted = (K(m-1, i+1)*(U[m-1][i+1] - U[m-1][i]) - \\\n",
    "    #                 K(m-1, i-1)*(U[m-1][i] - U[m-1][i-1])) * \\\n",
    "    #                 2/h/(Psi[i]+Psi[i-1])/(U[m-1][i+1] - U[m-1][i-1])\n",
    "    #     right =  h/tau*np.min(Psi[:i])\n",
    "    #     left = -h/tau*np.min(Psi[i:])\n",
    "    #     if left < counted < right:\n",
    "    #         Q[i] = counted\n",
    "    #     elif counted > right:\n",
    "    #         Q[i] = right/2\n",
    "    #     elif counted < left:\n",
    "    #         Q[i] = left/2\n",
    "    #     # Q[i] = (left+right)/2\n",
    "    #     # Q[i] = 0\n",
    "    # Q[N-1] = 0\n",
    "\n",
    "    Psi_next = np.ones(N-1)\n",
    "    for i in range(0, N-1):\n",
    "        Psi_next[i] = Psi[i] + tau/h*(Q[i]-Q[i+1])\n",
    "            \n",
    "    A = np.zeros((N, N))\n",
    "    B = np.zeros(N)\n",
    "    for n in range(0, N):\n",
    "        if n == 0:\n",
    "            A[n][0] = 1\n",
    "            B[n] = 1\n",
    "        elif n == N-1:\n",
    "            A[n][N-1] = 1\n",
    "            B[n] = 0\n",
    "        else:\n",
    "            # Psi_nM1 = (Psi[n-2] + Psi[n-1])/2\n",
    "            Psi_n = (Psi[n-1] + Psi[n])/2\n",
    "            # Psi_nP1 = Psi[n] if n == N-2 else (Psi[n] + Psi[n+1])/2\n",
    "            Psi_n_next = (Psi_next[n-1] + Psi_next[n])/2\n",
    "            # A[n][n-1] = tau/2/h**2*(K(m-1, n)/Psi_n+K(m-1, n-1)/Psi_nM1)\n",
    "            # A[n][n] = -(Psi_n_next+tau/2/h**2*(K(m-1, n+1)/Psi_nP1+2*K(m-1, n)/Psi_n+K(m-1, n-1)/Psi_nM1))\n",
    "            # A[n][n+1] = tau/2/h**2*(K(m-1, n+1)/Psi_nP1+K(m-1, n)/Psi_n)\n",
    "            # B[n] = tau/h*(Q[n+1]*U[m-1][n+1]-Q[n]*U[m-1][n])-Psi_n*U[m-1][n]\n",
    "            A[n][n-1] = tau/2/h**2*((K(m-1, n+1)+K(m-1, n))/Psi[n])\n",
    "            A[n][n] = -(Psi_n_next+tau/2/h**2*((K(m-1, n+1)+K(m-1, n))/Psi[n]+(K(m-1, n)+K(m-1, n-1))/Psi[n-1]))\n",
    "            A[n][n+1] = tau/2/h**2*((K(m-1, n)+K(m-1, n-1))/Psi[n-1])\n",
    "            B[n] = tau/2/h*(Q[n+1]*U[m-1][n+1]-Q[n]*U[m-1][n])-Psi_n*U[m-1][n]\n",
    "\n",
    "    X = np.linalg.inv(A).dot(B)\n",
    "    U[m] = X\n",
    "\n",
    "    Psi = Psi_next.copy()\n",
    "    \n",
    "    Psis.append(Psi.copy())"
   ]
  },
  {
   "cell_type": "code",
   "execution_count": 24,
   "metadata": {},
   "outputs": [
    {
     "data": {
      "image/png": "[encoded data removed]",
      "text/plain": [
       "<Figure size 432x288 with 1 Axes>"
      ]
     },
     "metadata": {
      "needs_background": "light"
     },
     "output_type": "display_data"
    }
   ],
   "source": [
    "t = 0\n",
    "graph = []\n",
    "for i, Psi in enumerate(Psis):\n",
    "    if i % 1 == 0:\n",
    "        X = list()\n",
    "        xi = 0\n",
    "        X.append(xi)\n",
    "        for psi in Psi:\n",
    "            xi += psi * h\n",
    "            X.append(xi)\n",
    "        graph.append([X, list(np.full((len(X)), t))])\n",
    "        # plt.scatter(X, np.full((len(X)), t), s=1, color='black')\n",
    "        t += tau\n",
    "graph = np.array(graph)\n",
    "graph = graph.transpose()\n",
    "# graph.shape, graph[0]\n",
    "for l in graph:\n",
    "    # l = line.transpose()\n",
    "    plt.plot(l[0], l[1])\n",
    "plt.show()"
   ]
  },
  {
   "cell_type": "code",
   "execution_count": 25,
   "metadata": {},
   "outputs": [
    {
     "data": {
      "application/vnd.jupyter.widget-view+json": {
       "model_id": "54e5535e790f42b0b21053c021e3a084",
       "version_major": 2,
       "version_minor": 0
      },
      "text/plain": [
       "ViewInteractiveWidget(height=768, layout=Layout(height='auto', width='100%'), width=1024)"
      ]
     },
     "metadata": {},
     "output_type": "display_data"
    }
   ],
   "source": [
    "def make_point_set():\n",
    "    t = 0\n",
    "    points = np.zeros((M*N, 3))\n",
    "    for i, Psi in enumerate(Psis):\n",
    "        points[i*N:(i+1)*N, 2] = U[i, :]\n",
    "        if i % 1 == 0:\n",
    "            X = np.zeros((N))\n",
    "            for j, psi in enumerate(Psi, 1):\n",
    "                X[j] = X[j-1] + psi * h\n",
    "            points[i*N:(i+1)*N, 0] = X\n",
    "            points[i*N:(i+1)*N, 1] = np.full((N), t)\n",
    "            # points[i*N:(i+1)*N, :2] = np.array([X, np.full((N), t)]).transpose()\n",
    "            # plt.scatter(X, np.full((len(X)), t), s=1, color='black')\n",
    "            t += tau\n",
    "    foo = pv.PolyData(points)\n",
    "    foo.rotate_z(0, inplace=True)\n",
    "    return foo.points\n",
    "# def make_point_set():\n",
    "#     \"\"\"Ignore the contents of this function. Just know that it returns an\n",
    "#     n by 3 numpy array of structured coordinates.\"\"\"\n",
    "#     n, m = 29, 32\n",
    "#     x = np.linspace(-200, 200, num=n) + np.random.uniform(-5, 5, size=n)\n",
    "#     y = np.linspace(-200, 200, num=m) + np.random.uniform(-5, 5, size=m)\n",
    "#     xx, yy = np.meshgrid(x, y)\n",
    "#     A, b = 100, 100\n",
    "#     zz = A * np.exp(-0.5 * ((xx / b) ** 2.0 + (yy / b) ** 2.0))\n",
    "#     points = np.c_[xx.reshape(-1), yy.reshape(-1), zz.reshape(-1)]\n",
    "#     foo = pv.PolyData(points)\n",
    "#     foo.rotate_z(36.6, inplace=True)\n",
    "#     return foo.points\n",
    "\n",
    "\n",
    "# Get the points as a 2D NumPy array (N by 3)\n",
    "points = make_point_set()\n",
    "\n",
    "# poly_data = pv.PolyData(points)\n",
    "mesh = pv.StructuredGrid()\n",
    "# Set the coordinates from the numpy array\n",
    "mesh.points = points\n",
    "# set the dimensions\n",
    "mesh.dimensions = [N, M, 1]\n",
    "# mesh.plot()\n",
    "mesh.plot(show_edges=True, show_grid=True)\n",
    "# mesh.plot(show_edges=True, show_grid=True, cpos=\"xy\")\n",
    "\n",
    "# plt.figure(figsize=(10, 10))\n",
    "# plt.scatter(points[:, 0], points[:, 1], c=points[:, 2], s=1)\n",
    "# plt.axis(\"image\")\n",
    "# plt.xlabel(\"X Coordinate\")\n",
    "# plt.ylabel(\"Y Coordinate\")\n",
    "# plt.show()"
   ]
  },
  {
   "cell_type": "code",
   "execution_count": 26,
   "metadata": {},
   "outputs": [
    {
     "data": {
      "application/vnd.plotly.v1+json": {
       "config": {
        "plotlyServerURL": "https://plot.ly"
       },
       "data": [
        {
         "type": "surface",
         "x": [
          0,
          0.1,
          0.2,
          0.30000000000000004,
          0.4,
          0.5,
          0.6000000000000001,
          0.7000000000000001,
          0.8,
          0.9,
          1
         ],
         "y": [
          0,
          0.1,
          0.2,
          0.30000000000000004,
          0.4,
          0.5,
          0.6000000000000001,
          0.7000000000000001,
          0.8,
          0.9,
          1
         ],
         "z": [
          [
           2,
           2,
           2,
           2,
           2,
           2,
           2,
           2,
           2,
           2,
           2
          ],
          [
           1.000000000000002,
           1.022109136789167,
           1.020916974959615,
           0.9960977023412052,
           0.946733642588766,
           0.8712923085183366,
           0.7675880851533752,
           0.6327275845570227,
           0.46303730632114287,
           0.25397179522429375,
           0
          ],
          [
           0.9999999999999999,
           0.942226337059136,
           0.8793627122962215,
           0.8082643363281873,
           0.7404619135023585,
           0.6303422287829008,
           0.5106681888401946,
           0.3906423383079023,
           0.2600412908754698,
           0.12550596660258534,
           0
          ],
          [
           0.9999999999999987,
           0.8960348780633831,
           0.7742362019600206,
           0.7041731729983153,
           0.676953963444629,
           0.5615590995494483,
           0.2957574876376978,
           0.17466299951729755,
           0.10554730888739344,
           0.049038918387887605,
           0
          ],
          [
           1.0000000000000002,
           0.9487185295163421,
           0.8431252102039873,
           0.6191440403658798,
           0.33750540469058793,
           0.29130063574008486,
           0.18911896915792384,
           0.07659222133592505,
           0.04974192204750039,
           0.03467162115331894,
           0
          ],
          [
           0.9999999999999994,
           0.9068288423350835,
           0.7172721541267388,
           0.47418546092815417,
           0.3286000320869999,
           0.2765454435498043,
           0.1245677664841622,
           0.06896739214846997,
           0.04749099252661786,
           0.030973186807512095,
           0
          ],
          [
           1,
           0.7440691398959176,
           0.6990185840456362,
           0.27020823370710423,
           0.10311969337841013,
           0.1740703013189698,
           0.0885194681958591,
           0.02257047092332474,
           0.03379731753107842,
           0.028007939854893537,
           0
          ],
          [
           1.0000000000000004,
           0.07619910013908723,
           0.05994426977800925,
           0.1506941993048257,
           0.15464429061939772,
           0.1513598243996446,
           0.15650103921832717,
           0.07595267660788035,
           0.06029469816975148,
           0.0262792793849976,
           0
          ],
          [
           1,
           0.2714071523620467,
           0.28166505133416636,
           0.25778740724971777,
           0.19004552017519769,
           0.13132056908967946,
           0.14894218855432115,
           0.07314646917980135,
           0.05329294275627284,
           0.02320443721285266,
           0
          ],
          [
           1,
           0.37615705664711874,
           0.40927968352513505,
           0.39309978024602826,
           0.1949378904998232,
           0.11026696498714918,
           0.14367863030948083,
           0.07390795835778174,
           0.04707820869623125,
           0.020795633316503814,
           0
          ],
          [
           0.9999999999999999,
           0.3826830011189011,
           0.08372882164166885,
           0.08399768051643187,
           0.16209766623615326,
           0.16850300828172649,
           0.17041275119381202,
           0.08047919568306823,
           0.04153880830186525,
           0.018631636603339604,
           0
          ]
         ]
        }
       ],
       "layout": {
        "autosize": false,
        "height": 500,
        "margin": {
         "b": 5,
         "l": 5,
         "r": 50,
         "t": 55
        },
        "template": {
         "data": {
          "bar": [
           {
            "error_x": {
             "color": "#2a3f5f"
            },
            "error_y": {
             "color": "#2a3f5f"
            },
            "marker": {
             "line": {
              "color": "#E5ECF6",
              "width": 0.5
             },
             "pattern": {
              "fillmode": "overlay",
              "size": 10,
              "solidity": 0.2
             }
            },
            "type": "bar"
           }
          ],
          "barpolar": [
           {
            "marker": {
             "line": {
              "color": "#E5ECF6",
              "width": 0.5
             },
             "pattern": {
              "fillmode": "overlay",
              "size": 10,
              "solidity": 0.2
             }
            },
            "type": "barpolar"
           }
          ],
          "carpet": [
           {
            "aaxis": {
             "endlinecolor": "#2a3f5f",
             "gridcolor": "white",
             "linecolor": "white",
             "minorgridcolor": "white",
             "startlinecolor": "#2a3f5f"
            },
            "baxis": {
             "endlinecolor": "#2a3f5f",
             "gridcolor": "white",
             "linecolor": "white",
             "minorgridcolor": "white",
             "startlinecolor": "#2a3f5f"
            },
            "type": "carpet"
           }
          ],
          "choropleth": [
           {
            "colorbar": {
             "outlinewidth": 0,
             "ticks": ""
            },
            "type": "choropleth"
           }
          ],
          "contour": [
           {
            "colorbar": {
             "outlinewidth": 0,
             "ticks": ""
            },
            "colorscale": [
             [
              0,
              "#0d0887"
             ],
             [
              0.1111111111111111,
              "#46039f"
             ],
             [
              0.2222222222222222,
              "#7201a8"
             ],
             [
              0.3333333333333333,
              "#9c179e"
             ],
             [
              0.4444444444444444,
              "#bd3786"
             ],
             [
              0.5555555555555556,
              "#d8576b"
             ],
             [
              0.6666666666666666,
              "#ed7953"
             ],
             [
              0.7777777777777778,
              "#fb9f3a"
             ],
             [
              0.8888888888888888,
              "#fdca26"
             ],
             [
              1,
              "#f0f921"
             ]
            ],
            "type": "contour"
           }
          ],
          "contourcarpet": [
           {
            "colorbar": {
             "outlinewidth": 0,
             "ticks": ""
            },
            "type": "contourcarpet"
           }
          ],
          "heatmap": [
           {
            "colorbar": {
             "outlinewidth": 0,
             "ticks": ""
            },
            "colorscale": [
             [
              0,
              "#0d0887"
             ],
             [
              0.1111111111111111,
              "#46039f"
             ],
             [
              0.2222222222222222,
              "#7201a8"
             ],
             [
              0.3333333333333333,
              "#9c179e"
             ],
             [
              0.4444444444444444,
              "#bd3786"
             ],
             [
              0.5555555555555556,
              "#d8576b"
             ],
             [
              0.6666666666666666,
              "#ed7953"
             ],
             [
              0.7777777777777778,
              "#fb9f3a"
             ],
             [
              0.8888888888888888,
              "#fdca26"
             ],
             [
              1,
              "#f0f921"
             ]
            ],
            "type": "heatmap"
           }
          ],
          "heatmapgl": [
           {
            "colorbar": {
             "outlinewidth": 0,
             "ticks": ""
            },
            "colorscale": [
             [
              0,
              "#0d0887"
             ],
             [
              0.1111111111111111,
              "#46039f"
             ],
             [
              0.2222222222222222,
              "#7201a8"
             ],
             [
              0.3333333333333333,
              "#9c179e"
             ],
             [
              0.4444444444444444,
              "#bd3786"
             ],
             [
              0.5555555555555556,
              "#d8576b"
             ],
             [
              0.6666666666666666,
              "#ed7953"
             ],
             [
              0.7777777777777778,
              "#fb9f3a"
             ],
             [
              0.8888888888888888,
              "#fdca26"
             ],
             [
              1,
              "#f0f921"
             ]
            ],
            "type": "heatmapgl"
           }
          ],
          "histogram": [
           {
            "marker": {
             "pattern": {
              "fillmode": "overlay",
              "size": 10,
              "solidity": 0.2
             }
            },
            "type": "histogram"
           }
          ],
          "histogram2d": [
           {
            "colorbar": {
             "outlinewidth": 0,
             "ticks": ""
            },
            "colorscale": [
             [
              0,
              "#0d0887"
             ],
             [
              0.1111111111111111,
              "#46039f"
             ],
             [
              0.2222222222222222,
              "#7201a8"
             ],
             [
              0.3333333333333333,
              "#9c179e"
             ],
             [
              0.4444444444444444,
              "#bd3786"
             ],
             [
              0.5555555555555556,
              "#d8576b"
             ],
             [
              0.6666666666666666,
              "#ed7953"
             ],
             [
              0.7777777777777778,
              "#fb9f3a"
             ],
             [
              0.8888888888888888,
              "#fdca26"
             ],
             [
              1,
              "#f0f921"
             ]
            ],
            "type": "histogram2d"
           }
          ],
          "histogram2dcontour": [
           {
            "colorbar": {
             "outlinewidth": 0,
             "ticks": ""
            },
            "colorscale": [
             [
              0,
              "#0d0887"
             ],
             [
              0.1111111111111111,
              "#46039f"
             ],
             [
              0.2222222222222222,
              "#7201a8"
             ],
             [
              0.3333333333333333,
              "#9c179e"
             ],
             [
              0.4444444444444444,
              "#bd3786"
             ],
             [
              0.5555555555555556,
              "#d8576b"
             ],
             [
              0.6666666666666666,
              "#ed7953"
             ],
             [
              0.7777777777777778,
              "#fb9f3a"
             ],
             [
              0.8888888888888888,
              "#fdca26"
             ],
             [
              1,
              "#f0f921"
             ]
            ],
            "type": "histogram2dcontour"
           }
          ],
          "mesh3d": [
           {
            "colorbar": {
             "outlinewidth": 0,
             "ticks": ""
            },
            "type": "mesh3d"
           }
          ],
          "parcoords": [
           {
            "line": {
             "colorbar": {
              "outlinewidth": 0,
              "ticks": ""
             }
            },
            "type": "parcoords"
           }
          ],
          "pie": [
           {
            "automargin": true,
            "type": "pie"
           }
          ],
          "scatter": [
           {
            "fillpattern": {
             "fillmode": "overlay",
             "size": 10,
             "solidity": 0.2
            },
            "type": "scatter"
           }
          ],
          "scatter3d": [
           {
            "line": {
             "colorbar": {
              "outlinewidth": 0,
              "ticks": ""
             }
            },
            "marker": {
             "colorbar": {
              "outlinewidth": 0,
              "ticks": ""
             }
            },
            "type": "scatter3d"
           }
          ],
          "scattercarpet": [
           {
            "marker": {
             "colorbar": {
              "outlinewidth": 0,
              "ticks": ""
             }
            },
            "type": "scattercarpet"
           }
          ],
          "scattergeo": [
           {
            "marker": {
             "colorbar": {
              "outlinewidth": 0,
              "ticks": ""
             }
            },
            "type": "scattergeo"
           }
          ],
          "scattergl": [
           {
            "marker": {
             "colorbar": {
              "outlinewidth": 0,
              "ticks": ""
             }
            },
            "type": "scattergl"
           }
          ],
          "scattermapbox": [
           {
            "marker": {
             "colorbar": {
              "outlinewidth": 0,
              "ticks": ""
             }
            },
            "type": "scattermapbox"
           }
          ],
          "scatterpolar": [
           {
            "marker": {
             "colorbar": {
              "outlinewidth": 0,
              "ticks": ""
             }
            },
            "type": "scatterpolar"
           }
          ],
          "scatterpolargl": [
           {
            "marker": {
             "colorbar": {
              "outlinewidth": 0,
              "ticks": ""
             }
            },
            "type": "scatterpolargl"
           }
          ],
          "scatterternary": [
           {
            "marker": {
             "colorbar": {
              "outlinewidth": 0,
              "ticks": ""
             }
            },
            "type": "scatterternary"
           }
          ],
          "surface": [
           {
            "colorbar": {
             "outlinewidth": 0,
             "ticks": ""
            },
            "colorscale": [
             [
              0,
              "#0d0887"
             ],
             [
              0.1111111111111111,
              "#46039f"
             ],
             [
              0.2222222222222222,
              "#7201a8"
             ],
             [
              0.3333333333333333,
              "#9c179e"
             ],
             [
              0.4444444444444444,
              "#bd3786"
             ],
             [
              0.5555555555555556,
              "#d8576b"
             ],
             [
              0.6666666666666666,
              "#ed7953"
             ],
             [
              0.7777777777777778,
              "#fb9f3a"
             ],
             [
              0.8888888888888888,
              "#fdca26"
             ],
             [
              1,
              "#f0f921"
             ]
            ],
            "type": "surface"
           }
          ],
          "table": [
           {
            "cells": {
             "fill": {
              "color": "#EBF0F8"
             },
             "line": {
              "color": "white"
             }
            },
            "header": {
             "fill": {
              "color": "#C8D4E3"
             },
             "line": {
              "color": "white"
             }
            },
            "type": "table"
           }
          ]
         },
         "layout": {
          "annotationdefaults": {
           "arrowcolor": "#2a3f5f",
           "arrowhead": 0,
           "arrowwidth": 1
          },
          "autotypenumbers": "strict",
          "coloraxis": {
           "colorbar": {
            "outlinewidth": 0,
            "ticks": ""
           }
          },
          "colorscale": {
           "diverging": [
            [
             0,
             "#8e0152"
            ],
            [
             0.1,
             "#c51b7d"
            ],
            [
             0.2,
             "#de77ae"
            ],
            [
             0.3,
             "#f1b6da"
            ],
            [
             0.4,
             "#fde0ef"
            ],
            [
             0.5,
             "#f7f7f7"
            ],
            [
             0.6,
             "#e6f5d0"
            ],
            [
             0.7,
             "#b8e186"
            ],
            [
             0.8,
             "#7fbc41"
            ],
            [
             0.9,
             "#4d9221"
            ],
            [
             1,
             "#276419"
            ]
           ],
           "sequential": [
            [
             0,
             "#0d0887"
            ],
            [
             0.1111111111111111,
             "#46039f"
            ],
            [
             0.2222222222222222,
             "#7201a8"
            ],
            [
             0.3333333333333333,
             "#9c179e"
            ],
            [
             0.4444444444444444,
             "#bd3786"
            ],
            [
             0.5555555555555556,
             "#d8576b"
            ],
            [
             0.6666666666666666,
             "#ed7953"
            ],
            [
             0.7777777777777778,
             "#fb9f3a"
            ],
            [
             0.8888888888888888,
             "#fdca26"
            ],
            [
             1,
             "#f0f921"
            ]
           ],
           "sequentialminus": [
            [
             0,
             "#0d0887"
            ],
            [
             0.1111111111111111,
             "#46039f"
            ],
            [
             0.2222222222222222,
             "#7201a8"
            ],
            [
             0.3333333333333333,
             "#9c179e"
            ],
            [
             0.4444444444444444,
             "#bd3786"
            ],
            [
             0.5555555555555556,
             "#d8576b"
            ],
            [
             0.6666666666666666,
             "#ed7953"
            ],
            [
             0.7777777777777778,
             "#fb9f3a"
            ],
            [
             0.8888888888888888,
             "#fdca26"
            ],
            [
             1,
             "#f0f921"
            ]
           ]
          },
          "colorway": [
           "#636efa",
           "#EF553B",
           "#00cc96",
           "#ab63fa",
           "#FFA15A",
           "#19d3f3",
           "#FF6692",
           "#B6E880",
           "#FF97FF",
           "#FECB52"
          ],
          "font": {
           "color": "#2a3f5f"
          },
          "geo": {
           "bgcolor": "white",
           "lakecolor": "white",
           "landcolor": "#E5ECF6",
           "showlakes": true,
           "showland": true,
           "subunitcolor": "white"
          },
          "hoverlabel": {
           "align": "left"
          },
          "hovermode": "closest",
          "mapbox": {
           "style": "light"
          },
          "paper_bgcolor": "white",
          "plot_bgcolor": "#E5ECF6",
          "polar": {
           "angularaxis": {
            "gridcolor": "white",
            "linecolor": "white",
            "ticks": ""
           },
           "bgcolor": "#E5ECF6",
           "radialaxis": {
            "gridcolor": "white",
            "linecolor": "white",
            "ticks": ""
           }
          },
          "scene": {
           "xaxis": {
            "backgroundcolor": "#E5ECF6",
            "gridcolor": "white",
            "gridwidth": 2,
            "linecolor": "white",
            "showbackground": true,
            "ticks": "",
            "zerolinecolor": "white"
           },
           "yaxis": {
            "backgroundcolor": "#E5ECF6",
            "gridcolor": "white",
            "gridwidth": 2,
            "linecolor": "white",
            "showbackground": true,
            "ticks": "",
            "zerolinecolor": "white"
           },
           "zaxis": {
            "backgroundcolor": "#E5ECF6",
            "gridcolor": "white",
            "gridwidth": 2,
            "linecolor": "white",
            "showbackground": true,
            "ticks": "",
            "zerolinecolor": "white"
           }
          },
          "shapedefaults": {
           "line": {
            "color": "#2a3f5f"
           }
          },
          "ternary": {
           "aaxis": {
            "gridcolor": "white",
            "linecolor": "white",
            "ticks": ""
           },
           "baxis": {
            "gridcolor": "white",
            "linecolor": "white",
            "ticks": ""
           },
           "bgcolor": "#E5ECF6",
           "caxis": {
            "gridcolor": "white",
            "linecolor": "white",
            "ticks": ""
           }
          },
          "title": {
           "x": 0.05
          },
          "xaxis": {
           "automargin": true,
           "gridcolor": "white",
           "linecolor": "white",
           "ticks": "",
           "title": {
            "standoff": 15
           },
           "zerolinecolor": "white",
           "zerolinewidth": 2
          },
          "yaxis": {
           "automargin": true,
           "gridcolor": "white",
           "linecolor": "white",
           "ticks": "",
           "title": {
            "standoff": 15
           },
           "zerolinecolor": "white",
           "zerolinewidth": 2
          }
         }
        },
        "title": {
         "text": "surface"
        },
        "width": 500
       }
      }
     },
     "metadata": {},
     "output_type": "display_data"
    }
   ],
   "source": [
    "sh_0, sh_1 = A.shape\n",
    "fig = go.Figure()\n",
    "fig.add_surface(\n",
    "    # contours = {\n",
    "    #     \"x\": {\"show\": True, \"start\": 1.5, \"end\": 2, \"size\": 0.04, \"color\":\"white\"},\n",
    "    #     \"z\": {\"show\": True, \"start\": 0.5, \"end\": 0.8, \"size\": 0.05}\n",
    "    # },\n",
    "    x = np.linspace(a, b, sh_1),\n",
    "    y = np.linspace(0, T, sh_0),\n",
    "    z = U\n",
    "    )\n",
    "# fig.add_scatter3d(name='scat_p', x=np.linspace(a, b, sh_1), y=np.linspace(0, T, sh_0), z=U, mode='markers',\n",
    "#     marker=dict(size=10, color='black',colorscale='Reds'))\n",
    "# fig.update_layout(\n",
    "#         scene = {\n",
    "#             \"xaxis\": {\"nticks\": 20},\n",
    "#             \"zaxis\": {\"nticks\": 4},\n",
    "#             'camera_eye': {\"x\": 0, \"y\": -1, \"z\": 0.5},\n",
    "#             \"aspectratio\": {\"x\": 1, \"y\": 1, \"z\": 0.2}\n",
    "#         })\n",
    "fig.update_layout(title='surface', autosize=False,\n",
    "                  width=500, height=500,\n",
    "                  margin=dict(l=5, r=50, b=5, t=55))\n",
    "fig.show()"
   ]
  }
 ],
 "metadata": {
  "interpreter": {
   "hash": "8cdd4720bede866ee1b3071e84d868d1c4a135aa16519d603c9b26c0f1a0af05"
  },
  "kernelspec": {
   "display_name": "Python 3.10.2 64-bit",
   "language": "python",
   "name": "python3"
  },
  "language_info": {
   "codemirror_mode": {
    "name": "ipython",
    "version": 3
   },
   "file_extension": ".py",
   "mimetype": "text/x-python",
   "name": "python",
   "nbconvert_exporter": "python",
   "pygments_lexer": "ipython3",
   "version": "3.10.2"
  },
  "orig_nbformat": 4
 },
 "nbformat": 4,
 "nbformat_minor": 2
}
