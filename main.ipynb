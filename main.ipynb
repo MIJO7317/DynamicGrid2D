{
 "cells": [
  {
   "cell_type": "code",
   "execution_count": 1,
   "metadata": {},
   "outputs": [],
   "source": [
    "import numpy as np\n",
    "import matplotlib\n",
    "import matplotlib.pyplot as plt\n",
    "matplotlib.rcParams[\"figure.dpi\"] = 100\n",
    "import plotly.graph_objects as go\n",
    "# import warnings\n",
    "# warnings.filterwarnings(\"error\")"
   ]
  },
  {
   "cell_type": "code",
   "execution_count": 24,
   "metadata": {},
   "outputs": [
    {
     "name": "stdout",
     "output_type": "stream",
     "text": [
      "[1. 1. 1. 1. 1.]\n"
     ]
    },
    {
     "data": {
      "text/plain": [
       "1.0"
      ]
     },
     "execution_count": 24,
     "metadata": {},
     "output_type": "execute_result"
    }
   ],
   "source": [
    "arr = np.ones(5)\n",
    "print(arr)\n",
    "i = 5\n",
    "np.sum(arr[4:])"
   ]
  },
  {
   "cell_type": "code",
   "execution_count": null,
   "metadata": {},
   "outputs": [
    {
     "name": "stderr",
     "output_type": "stream",
     "text": [
      "C:\\Users\\stas2\\AppData\\Local\\Temp\\ipykernel_5164\\1265759984.py:12: RuntimeWarning:\n",
      "\n",
      "overflow encountered in double_scalars\n",
      "\n",
      "C:\\Users\\stas2\\AppData\\Local\\Temp\\ipykernel_5164\\1265759984.py:44: RuntimeWarning:\n",
      "\n",
      "overflow encountered in double_scalars\n",
      "\n",
      "C:\\Users\\stas2\\AppData\\Local\\Temp\\ipykernel_5164\\1265759984.py:43: RuntimeWarning:\n",
      "\n",
      "invalid value encountered in double_scalars\n",
      "\n",
      "C:\\Users\\stas2\\AppData\\Local\\Temp\\ipykernel_5164\\1265759984.py:45: RuntimeWarning:\n",
      "\n",
      "invalid value encountered in double_scalars\n",
      "\n",
      "C:\\Users\\stas2\\AppData\\Local\\Temp\\ipykernel_5164\\1265759984.py:71: RuntimeWarning:\n",
      "\n",
      "invalid value encountered in double_scalars\n",
      "\n",
      "C:\\Users\\stas2\\AppData\\Local\\Temp\\ipykernel_5164\\1265759984.py:75: RuntimeWarning:\n",
      "\n",
      "invalid value encountered in double_scalars\n",
      "\n",
      "C:\\Users\\stas2\\AppData\\Local\\Temp\\ipykernel_5164\\1265759984.py:73: RuntimeWarning:\n",
      "\n",
      "invalid value encountered in double_scalars\n",
      "\n",
      "C:\\Users\\stas2\\AppData\\Local\\Temp\\ipykernel_5164\\1265759984.py:43: RuntimeWarning:\n",
      "\n",
      "overflow encountered in double_scalars\n",
      "\n",
      "C:\\Users\\stas2\\AppData\\Local\\Temp\\ipykernel_5164\\1265759984.py:71: RuntimeWarning:\n",
      "\n",
      "overflow encountered in double_scalars\n",
      "\n",
      "C:\\Users\\stas2\\AppData\\Local\\Temp\\ipykernel_5164\\1265759984.py:73: RuntimeWarning:\n",
      "\n",
      "overflow encountered in double_scalars\n",
      "\n"
     ]
    },
    {
     "ename": "",
     "evalue": "",
     "output_type": "error",
     "traceback": [
      "\u001b[1;31mCanceled future for execute_request message before replies were done"
     ]
    },
    {
     "ename": "",
     "evalue": "",
     "output_type": "error",
     "traceback": [
      "\u001b[1;31mThe Kernel crashed while executing code in the the current cell or a previous cell. Please review the code in the cell(s) to identify a possible cause of the failure. Click <a href='https://aka.ms/vscodeJupyterKernelCrash'>here</a> for more info. View Jupyter <a href='command:jupyter.viewOutput'>log</a> for further details."
     ]
    }
   ],
   "source": [
    "T = 0.1\n",
    "\n",
    "a = 0\n",
    "b = 1\n",
    "\n",
    "h = 0.01\n",
    "tau = 0.001\n",
    "\n",
    "M = int(T/tau) + 1\n",
    "N = int((b-a)/h) + 1\n",
    "\n",
    "K = lambda u, x, t: u**2\n",
    "\n",
    "A = np.zeros((M, N))\n",
    "Psi = np.ones(N-1)\n",
    "Q = np.zeros(N)\n",
    "\n",
    "Psis = [Psi.copy()]\n",
    "\n",
    "for n in range(N):\n",
    "    A[0][n] = np.sin(n*h)\n",
    "\n",
    "for m in range(1, M):\n",
    "    # tau = 0.001\n",
    "    for n in range(1, N - 1):\n",
    "        Q[0] = 0\n",
    "        for i in range(1, N - 1):\n",
    "            # if np.abs(A[m-1][i+1] - A[m-1][i-1]) < 0.01 or np.abs(Psi[i]+Psi[i-1]) < 0.01:\n",
    "            #     Q[i] = (K(A[m-1][i+1], h*(i+1), tau*(m-1))*(A[m-1][i+1] - A[m-1][i]) - \\\n",
    "            #             K(A[m-1][i-1], h*(i-1), tau*(m-1))*(A[m-1][i] - A[m-1][i-1])) * \\\n",
    "            #             2/h/0.01/ 0.01\n",
    "            # else:\n",
    "            #     try:\n",
    "            #         Q[i] = (K(A[m-1][i+1], h*(i+1), tau*(m-1))*(A[m-1][i+1] - A[m-1][i]) - \\\n",
    "            #                 K(A[m-1][i-1], h*(i-1), tau*(m-1))*(A[m-1][i] - A[m-1][i-1])) * \\\n",
    "            #                 2/h/(Psi[i]+Psi[i-1])/(A[m-1][i+1] - A[m-1][i-1])\n",
    "            #     except:\n",
    "            #         pass\n",
    "            # if Psi[i-1] + tau/h*(Q[i-1]-Q[i]) < 0:\n",
    "            #     Q[i] = h/tau*Psi[i-1]/2 + Q[i-1]\n",
    "            # else:\n",
    "            #     Q[i] += h/tau*Psi[i-1]/2 + Q[i-1]\n",
    "            # counted = (K(A[m-1][i+1], h*(i+1), tau*(m-1))*(A[m-1][i+1] - A[m-1][i]) - \\\n",
    "            #                 K(A[m-1][i-1], h*(i-1), tau*(m-1))*(A[m-1][i] - A[m-1][i-1])) * \\\n",
    "            #                 2/h/(Psi[i]+Psi[i-1])/(A[m-1][i+1] - A[m-1][i-1])\n",
    "            # right =  h/tau*np.sum(Psi[:i])\n",
    "            # left = -h/tau*np.sum(Psi[i:])\n",
    "            # if  left < counted < right:\n",
    "            #     Q[i] = counted\n",
    "            # elif counted > right:\n",
    "            #     Q[i] = right/2\n",
    "            # elif counted < left:\n",
    "            #     Q[i] = left/2\n",
    "            # Q[i] = (left+right)/2\n",
    "            Q[i] = 0\n",
    "        Q[N-1] = 0\n",
    "        \n",
    "        Psi_next = np.zeros(N-1)\n",
    "        \n",
    "        # taus = list()\n",
    "        # for i in range(0, N-1):\n",
    "        #     if Q[i] != Q[i+1]:\n",
    "        #         taus.append(abs(h*Psi[i]/2/(Q[i+1] - Q[i])))\n",
    "        # if len(taus) != 0:\n",
    "        #     tau = min(taus)\n",
    "        \n",
    "        for i in range(0, N - 1):\n",
    "            Psi_next[i] = Psi[i] + tau/h*(Q[i]-Q[i+1])\n",
    "                \n",
    "        A[m][n] = (A[m-1][n] * (Psi[n] + Psi[n-1]) / 2 + tau / h**2 * \\\n",
    "            (K((A[m-1][n+1] + A[m-1][n])/2, (n+1/2)*h, (m-1)*tau) / Psi[n] * (A[m-1][n+1]-A[m-1][n]) \\\n",
    "            - \\\n",
    "            K((A[m-1][n] + A[m-1][n-1])/2, (n-1/2)*h, (m-1)*tau) / Psi[n-1] * (A[m-1][n]-A[m-1][n-1])) \\\n",
    "            - \\\n",
    "            tau / (2*h) * (Q[n+1] * A[m-1][n+1] - Q[n-1]*A[m-1][n-1])) * 2 / (Psi_next[n]+Psi_next[n-1])\n",
    "\n",
    "        Psi = np.copy(Psi_next)\n",
    "        \n",
    "        Psis.append(Psi.copy())\n",
    "        "
   ]
  },
  {
   "cell_type": "code",
   "execution_count": 30,
   "metadata": {},
   "outputs": [
    {
     "data": {
      "text/plain": [
       "array([5., 0., 0., 0., 0., 0., 0., 0., 0., 5.])"
      ]
     },
     "execution_count": 30,
     "metadata": {},
     "output_type": "execute_result"
    }
   ],
   "source": [
    "Psi"
   ]
  },
  {
   "cell_type": "code",
   "execution_count": 4,
   "metadata": {},
   "outputs": [
    {
     "data": {
      "image/png": "[encoded data removed]",
      "image/svg+xml": "<?xml version=\"1.0\" encoding=\"utf-8\" standalone=\"no\"?>\n<!DOCTYPE svg PUBLIC \"-//W3C//DTD SVG 1.1//EN\"\n  \"http://www.w3.org/Graphics/SVG/1.1/DTD/svg11.dtd\">\n<svg xmlns:xlink=\"http://www.w3.org/1999/xlink\" width=\"384.828125pt\" height=\"248.518125pt\" viewBox=\"0 0 384.828125 248.518125\" xmlns=\"http://www.w3.org/2000/svg\" version=\"1.1\">\n <metadata>\n  <rdf:RDF xmlns:dc=\"http://purl.org/dc/elements/1.1/\" xmlns:cc=\"http://creativecommons.org/ns#\" xmlns:rdf=\"http://www.w3.org/1999/02/22-rdf-syntax-ns#\">\n   <cc:Work>\n    <dc:type rdf:resource=\"http://purl.org/dc/dcmitype/StillImage\"/>\n    <dc:date>2022-05-13T21:56:25.141193</dc:date>\n    <dc:format>image/svg+xml</dc:format>\n    <dc:creator>\n     <cc:Agent>\n      <dc:title>Matplotlib v3.5.1, https://matplotlib.org/</dc:title>\n     </cc:Agent>\n    </dc:creator>\n   </cc:Work>\n  </rdf:RDF>\n </metadata>\n <defs>\n  <style type=\"text/css\">*{stroke-linejoin: round; stroke-linecap: butt}</style>\n </defs>\n <g id=\"figure_1\">\n  <g id=\"patch_1\">\n   <path d=\"M 0 248.518125 \nL 384.828125 248.518125 \nL 384.828125 0 \nL 0 0 \nL 0 248.518125 \nz\n\" style=\"fill: none\"/>\n  </g>\n  <g id=\"axes_1\">\n   <g id=\"patch_2\">\n    <path d=\"M 42.828125 224.64 \nL 377.628125 224.64 \nL 377.628125 7.2 \nL 42.828125 7.2 \nz\n\" style=\"fill: #ffffff\"/>\n   </g>\n   <g id=\"PathCollection_1\">\n    <defs>\n     <path id=\"m556fa9e475\" d=\"M 0 0.5 \nC 0.132602 0.5 0.25979 0.447317 0.353553 0.353553 \nC 0.447317 0.25979 0.5 0.132602 0.5 0 \nC 0.5 -0.132602 0.447317 -0.25979 0.353553 -0.353553 \nC 0.25979 -0.447317 0.132602 -0.5 0 -0.5 \nC -0.132602 -0.5 -0.25979 -0.447317 -0.353553 -0.353553 \nC -0.447317 -0.25979 -0.5 -0.132602 -0.5 0 \nC -0.5 0.132602 -0.447317 0.25979 -0.353553 0.353553 \nC -0.25979 0.447317 -0.132602 0.5 0 0.5 \nz\n\" style=\"stroke: #000000\"/>\n    </defs>\n    <g clip-path=\"url(#pf7da4f5868)\">\n     <use xlink:href=\"#m556fa9e475\" x=\"58.046307\" y=\"214.756364\" style=\"stroke: #000000\"/>\n     <use xlink:href=\"#m556fa9e475\" x=\"88.48267\" y=\"214.756364\" style=\"stroke: #000000\"/>\n     <use xlink:href=\"#m556fa9e475\" x=\"118.919034\" y=\"214.756364\" style=\"stroke: #000000\"/>\n     <use xlink:href=\"#m556fa9e475\" x=\"149.355398\" y=\"214.756364\" style=\"stroke: #000000\"/>\n     <use xlink:href=\"#m556fa9e475\" x=\"179.791761\" y=\"214.756364\" style=\"stroke: #000000\"/>\n     <use xlink:href=\"#m556fa9e475\" x=\"210.228125\" y=\"214.756364\" style=\"stroke: #000000\"/>\n     <use xlink:href=\"#m556fa9e475\" x=\"240.664489\" y=\"214.756364\" style=\"stroke: #000000\"/>\n     <use xlink:href=\"#m556fa9e475\" x=\"271.100852\" y=\"214.756364\" style=\"stroke: #000000\"/>\n     <use xlink:href=\"#m556fa9e475\" x=\"301.537216\" y=\"214.756364\" style=\"stroke: #000000\"/>\n     <use xlink:href=\"#m556fa9e475\" x=\"331.97358\" y=\"214.756364\" style=\"stroke: #000000\"/>\n     <use xlink:href=\"#m556fa9e475\" x=\"362.409943\" y=\"214.756364\" style=\"stroke: #000000\"/>\n    </g>\n   </g>\n   <g id=\"PathCollection_2\">\n    <g clip-path=\"url(#pf7da4f5868)\">\n     <use xlink:href=\"#m556fa9e475\" x=\"58.046307\" y=\"207.435152\" style=\"stroke: #000000\"/>\n     <use xlink:href=\"#m556fa9e475\" x=\"88.48267\" y=\"207.435152\" style=\"stroke: #000000\"/>\n     <use xlink:href=\"#m556fa9e475\" x=\"118.919034\" y=\"207.435152\" style=\"stroke: #000000\"/>\n     <use xlink:href=\"#m556fa9e475\" x=\"149.355398\" y=\"207.435152\" style=\"stroke: #000000\"/>\n     <use xlink:href=\"#m556fa9e475\" x=\"179.791761\" y=\"207.435152\" style=\"stroke: #000000\"/>\n     <use xlink:href=\"#m556fa9e475\" x=\"210.228125\" y=\"207.435152\" style=\"stroke: #000000\"/>\n     <use xlink:href=\"#m556fa9e475\" x=\"240.664489\" y=\"207.435152\" style=\"stroke: #000000\"/>\n     <use xlink:href=\"#m556fa9e475\" x=\"271.100852\" y=\"207.435152\" style=\"stroke: #000000\"/>\n     <use xlink:href=\"#m556fa9e475\" x=\"301.537216\" y=\"207.435152\" style=\"stroke: #000000\"/>\n     <use xlink:href=\"#m556fa9e475\" x=\"331.97358\" y=\"207.435152\" style=\"stroke: #000000\"/>\n     <use xlink:href=\"#m556fa9e475\" x=\"362.409943\" y=\"207.435152\" style=\"stroke: #000000\"/>\n    </g>\n   </g>\n   <g id=\"PathCollection_3\">\n    <g clip-path=\"url(#pf7da4f5868)\">\n     <use xlink:href=\"#m556fa9e475\" x=\"58.046307\" y=\"200.113939\" style=\"stroke: #000000\"/>\n     <use xlink:href=\"#m556fa9e475\" x=\"88.48267\" y=\"200.113939\" style=\"stroke: #000000\"/>\n     <use xlink:href=\"#m556fa9e475\" x=\"118.919034\" y=\"200.113939\" style=\"stroke: #000000\"/>\n     <use xlink:href=\"#m556fa9e475\" x=\"149.355398\" y=\"200.113939\" style=\"stroke: #000000\"/>\n     <use xlink:href=\"#m556fa9e475\" x=\"179.791761\" y=\"200.113939\" style=\"stroke: #000000\"/>\n     <use xlink:href=\"#m556fa9e475\" x=\"210.228125\" y=\"200.113939\" style=\"stroke: #000000\"/>\n     <use xlink:href=\"#m556fa9e475\" x=\"240.664489\" y=\"200.113939\" style=\"stroke: #000000\"/>\n     <use xlink:href=\"#m556fa9e475\" x=\"271.100852\" y=\"200.113939\" style=\"stroke: #000000\"/>\n     <use xlink:href=\"#m556fa9e475\" x=\"301.537216\" y=\"200.113939\" style=\"stroke: #000000\"/>\n     <use xlink:href=\"#m556fa9e475\" x=\"331.97358\" y=\"200.113939\" style=\"stroke: #000000\"/>\n     <use xlink:href=\"#m556fa9e475\" x=\"362.409943\" y=\"200.113939\" style=\"stroke: #000000\"/>\n    </g>\n   </g>\n   <g id=\"PathCollection_4\">\n    <g clip-path=\"url(#pf7da4f5868)\">\n     <use xlink:href=\"#m556fa9e475\" x=\"58.046307\" y=\"192.792727\" style=\"stroke: #000000\"/>\n     <use xlink:href=\"#m556fa9e475\" x=\"88.48267\" y=\"192.792727\" style=\"stroke: #000000\"/>\n     <use xlink:href=\"#m556fa9e475\" x=\"118.919034\" y=\"192.792727\" style=\"stroke: #000000\"/>\n     <use xlink:href=\"#m556fa9e475\" x=\"149.355398\" y=\"192.792727\" style=\"stroke: #000000\"/>\n     <use xlink:href=\"#m556fa9e475\" x=\"179.791761\" y=\"192.792727\" style=\"stroke: #000000\"/>\n     <use xlink:href=\"#m556fa9e475\" x=\"210.228125\" y=\"192.792727\" style=\"stroke: #000000\"/>\n     <use xlink:href=\"#m556fa9e475\" x=\"240.664489\" y=\"192.792727\" style=\"stroke: #000000\"/>\n     <use xlink:href=\"#m556fa9e475\" x=\"271.100852\" y=\"192.792727\" style=\"stroke: #000000\"/>\n     <use xlink:href=\"#m556fa9e475\" x=\"301.537216\" y=\"192.792727\" style=\"stroke: #000000\"/>\n     <use xlink:href=\"#m556fa9e475\" x=\"331.97358\" y=\"192.792727\" style=\"stroke: #000000\"/>\n     <use xlink:href=\"#m556fa9e475\" x=\"362.409943\" y=\"192.792727\" style=\"stroke: #000000\"/>\n    </g>\n   </g>\n   <g id=\"PathCollection_5\">\n    <g clip-path=\"url(#pf7da4f5868)\">\n     <use xlink:href=\"#m556fa9e475\" x=\"58.046307\" y=\"185.471515\" style=\"stroke: #000000\"/>\n     <use xlink:href=\"#m556fa9e475\" x=\"88.48267\" y=\"185.471515\" style=\"stroke: #000000\"/>\n     <use xlink:href=\"#m556fa9e475\" x=\"118.919034\" y=\"185.471515\" style=\"stroke: #000000\"/>\n     <use xlink:href=\"#m556fa9e475\" x=\"149.355398\" y=\"185.471515\" style=\"stroke: #000000\"/>\n     <use xlink:href=\"#m556fa9e475\" x=\"179.791761\" y=\"185.471515\" style=\"stroke: #000000\"/>\n     <use xlink:href=\"#m556fa9e475\" x=\"210.228125\" y=\"185.471515\" style=\"stroke: #000000\"/>\n     <use xlink:href=\"#m556fa9e475\" x=\"240.664489\" y=\"185.471515\" style=\"stroke: #000000\"/>\n     <use xlink:href=\"#m556fa9e475\" x=\"271.100852\" y=\"185.471515\" style=\"stroke: #000000\"/>\n     <use xlink:href=\"#m556fa9e475\" x=\"301.537216\" y=\"185.471515\" style=\"stroke: #000000\"/>\n     <use xlink:href=\"#m556fa9e475\" x=\"331.97358\" y=\"185.471515\" style=\"stroke: #000000\"/>\n     <use xlink:href=\"#m556fa9e475\" x=\"362.409943\" y=\"185.471515\" style=\"stroke: #000000\"/>\n    </g>\n   </g>\n   <g id=\"PathCollection_6\">\n    <g clip-path=\"url(#pf7da4f5868)\">\n     <use xlink:href=\"#m556fa9e475\" x=\"58.046307\" y=\"178.150303\" style=\"stroke: #000000\"/>\n     <use xlink:href=\"#m556fa9e475\" x=\"88.48267\" y=\"178.150303\" style=\"stroke: #000000\"/>\n     <use xlink:href=\"#m556fa9e475\" x=\"118.919034\" y=\"178.150303\" style=\"stroke: #000000\"/>\n     <use xlink:href=\"#m556fa9e475\" x=\"149.355398\" y=\"178.150303\" style=\"stroke: #000000\"/>\n     <use xlink:href=\"#m556fa9e475\" x=\"179.791761\" y=\"178.150303\" style=\"stroke: #000000\"/>\n     <use xlink:href=\"#m556fa9e475\" x=\"210.228125\" y=\"178.150303\" style=\"stroke: #000000\"/>\n     <use xlink:href=\"#m556fa9e475\" x=\"240.664489\" y=\"178.150303\" style=\"stroke: #000000\"/>\n     <use xlink:href=\"#m556fa9e475\" x=\"271.100852\" y=\"178.150303\" style=\"stroke: #000000\"/>\n     <use xlink:href=\"#m556fa9e475\" x=\"301.537216\" y=\"178.150303\" style=\"stroke: #000000\"/>\n     <use xlink:href=\"#m556fa9e475\" x=\"331.97358\" y=\"178.150303\" style=\"stroke: #000000\"/>\n     <use xlink:href=\"#m556fa9e475\" x=\"362.409943\" y=\"178.150303\" style=\"stroke: #000000\"/>\n    </g>\n   </g>\n   <g id=\"PathCollection_7\">\n    <g clip-path=\"url(#pf7da4f5868)\">\n     <use xlink:href=\"#m556fa9e475\" x=\"58.046307\" y=\"170.829091\" style=\"stroke: #000000\"/>\n     <use xlink:href=\"#m556fa9e475\" x=\"88.48267\" y=\"170.829091\" style=\"stroke: #000000\"/>\n     <use xlink:href=\"#m556fa9e475\" x=\"118.919034\" y=\"170.829091\" style=\"stroke: #000000\"/>\n     <use xlink:href=\"#m556fa9e475\" x=\"149.355398\" y=\"170.829091\" style=\"stroke: #000000\"/>\n     <use xlink:href=\"#m556fa9e475\" x=\"179.791761\" y=\"170.829091\" style=\"stroke: #000000\"/>\n     <use xlink:href=\"#m556fa9e475\" x=\"210.228125\" y=\"170.829091\" style=\"stroke: #000000\"/>\n     <use xlink:href=\"#m556fa9e475\" x=\"240.664489\" y=\"170.829091\" style=\"stroke: #000000\"/>\n     <use xlink:href=\"#m556fa9e475\" x=\"271.100852\" y=\"170.829091\" style=\"stroke: #000000\"/>\n     <use xlink:href=\"#m556fa9e475\" x=\"301.537216\" y=\"170.829091\" style=\"stroke: #000000\"/>\n     <use xlink:href=\"#m556fa9e475\" x=\"331.97358\" y=\"170.829091\" style=\"stroke: #000000\"/>\n     <use xlink:href=\"#m556fa9e475\" x=\"362.409943\" y=\"170.829091\" style=\"stroke: #000000\"/>\n    </g>\n   </g>\n   <g id=\"PathCollection_8\">\n    <g clip-path=\"url(#pf7da4f5868)\">\n     <use xlink:href=\"#m556fa9e475\" x=\"58.046307\" y=\"163.507879\" style=\"stroke: #000000\"/>\n     <use xlink:href=\"#m556fa9e475\" x=\"88.48267\" y=\"163.507879\" style=\"stroke: #000000\"/>\n     <use xlink:href=\"#m556fa9e475\" x=\"118.919034\" y=\"163.507879\" style=\"stroke: #000000\"/>\n     <use xlink:href=\"#m556fa9e475\" x=\"149.355398\" y=\"163.507879\" style=\"stroke: #000000\"/>\n     <use xlink:href=\"#m556fa9e475\" x=\"179.791761\" y=\"163.507879\" style=\"stroke: #000000\"/>\n     <use xlink:href=\"#m556fa9e475\" x=\"210.228125\" y=\"163.507879\" style=\"stroke: #000000\"/>\n     <use xlink:href=\"#m556fa9e475\" x=\"240.664489\" y=\"163.507879\" style=\"stroke: #000000\"/>\n     <use xlink:href=\"#m556fa9e475\" x=\"271.100852\" y=\"163.507879\" style=\"stroke: #000000\"/>\n     <use xlink:href=\"#m556fa9e475\" x=\"301.537216\" y=\"163.507879\" style=\"stroke: #000000\"/>\n     <use xlink:href=\"#m556fa9e475\" x=\"331.97358\" y=\"163.507879\" style=\"stroke: #000000\"/>\n     <use xlink:href=\"#m556fa9e475\" x=\"362.409943\" y=\"163.507879\" style=\"stroke: #000000\"/>\n    </g>\n   </g>\n   <g id=\"PathCollection_9\">\n    <g clip-path=\"url(#pf7da4f5868)\">\n     <use xlink:href=\"#m556fa9e475\" x=\"58.046307\" y=\"156.186667\" style=\"stroke: #000000\"/>\n     <use xlink:href=\"#m556fa9e475\" x=\"88.48267\" y=\"156.186667\" style=\"stroke: #000000\"/>\n     <use xlink:href=\"#m556fa9e475\" x=\"118.919034\" y=\"156.186667\" style=\"stroke: #000000\"/>\n     <use xlink:href=\"#m556fa9e475\" x=\"149.355398\" y=\"156.186667\" style=\"stroke: #000000\"/>\n     <use xlink:href=\"#m556fa9e475\" x=\"179.791761\" y=\"156.186667\" style=\"stroke: #000000\"/>\n     <use xlink:href=\"#m556fa9e475\" x=\"210.228125\" y=\"156.186667\" style=\"stroke: #000000\"/>\n     <use xlink:href=\"#m556fa9e475\" x=\"240.664489\" y=\"156.186667\" style=\"stroke: #000000\"/>\n     <use xlink:href=\"#m556fa9e475\" x=\"271.100852\" y=\"156.186667\" style=\"stroke: #000000\"/>\n     <use xlink:href=\"#m556fa9e475\" x=\"301.537216\" y=\"156.186667\" style=\"stroke: #000000\"/>\n     <use xlink:href=\"#m556fa9e475\" x=\"331.97358\" y=\"156.186667\" style=\"stroke: #000000\"/>\n     <use xlink:href=\"#m556fa9e475\" x=\"362.409943\" y=\"156.186667\" style=\"stroke: #000000\"/>\n    </g>\n   </g>\n   <g id=\"PathCollection_10\">\n    <g clip-path=\"url(#pf7da4f5868)\">\n     <use xlink:href=\"#m556fa9e475\" x=\"58.046307\" y=\"148.865455\" style=\"stroke: #000000\"/>\n     <use xlink:href=\"#m556fa9e475\" x=\"88.48267\" y=\"148.865455\" style=\"stroke: #000000\"/>\n     <use xlink:href=\"#m556fa9e475\" x=\"118.919034\" y=\"148.865455\" style=\"stroke: #000000\"/>\n     <use xlink:href=\"#m556fa9e475\" x=\"149.355398\" y=\"148.865455\" style=\"stroke: #000000\"/>\n     <use xlink:href=\"#m556fa9e475\" x=\"179.791761\" y=\"148.865455\" style=\"stroke: #000000\"/>\n     <use xlink:href=\"#m556fa9e475\" x=\"210.228125\" y=\"148.865455\" style=\"stroke: #000000\"/>\n     <use xlink:href=\"#m556fa9e475\" x=\"240.664489\" y=\"148.865455\" style=\"stroke: #000000\"/>\n     <use xlink:href=\"#m556fa9e475\" x=\"271.100852\" y=\"148.865455\" style=\"stroke: #000000\"/>\n     <use xlink:href=\"#m556fa9e475\" x=\"301.537216\" y=\"148.865455\" style=\"stroke: #000000\"/>\n     <use xlink:href=\"#m556fa9e475\" x=\"331.97358\" y=\"148.865455\" style=\"stroke: #000000\"/>\n     <use xlink:href=\"#m556fa9e475\" x=\"362.409943\" y=\"148.865455\" style=\"stroke: #000000\"/>\n    </g>\n   </g>\n   <g id=\"PathCollection_11\">\n    <g clip-path=\"url(#pf7da4f5868)\">\n     <use xlink:href=\"#m556fa9e475\" x=\"58.046307\" y=\"141.544242\" style=\"stroke: #000000\"/>\n     <use xlink:href=\"#m556fa9e475\" x=\"88.48267\" y=\"141.544242\" style=\"stroke: #000000\"/>\n     <use xlink:href=\"#m556fa9e475\" x=\"118.919034\" y=\"141.544242\" style=\"stroke: #000000\"/>\n     <use xlink:href=\"#m556fa9e475\" x=\"149.355398\" y=\"141.544242\" style=\"stroke: #000000\"/>\n     <use xlink:href=\"#m556fa9e475\" x=\"179.791761\" y=\"141.544242\" style=\"stroke: #000000\"/>\n     <use xlink:href=\"#m556fa9e475\" x=\"210.228125\" y=\"141.544242\" style=\"stroke: #000000\"/>\n     <use xlink:href=\"#m556fa9e475\" x=\"240.664489\" y=\"141.544242\" style=\"stroke: #000000\"/>\n     <use xlink:href=\"#m556fa9e475\" x=\"271.100852\" y=\"141.544242\" style=\"stroke: #000000\"/>\n     <use xlink:href=\"#m556fa9e475\" x=\"301.537216\" y=\"141.544242\" style=\"stroke: #000000\"/>\n     <use xlink:href=\"#m556fa9e475\" x=\"331.97358\" y=\"141.544242\" style=\"stroke: #000000\"/>\n     <use xlink:href=\"#m556fa9e475\" x=\"362.409943\" y=\"141.544242\" style=\"stroke: #000000\"/>\n    </g>\n   </g>\n   <g id=\"PathCollection_12\">\n    <g clip-path=\"url(#pf7da4f5868)\">\n     <use xlink:href=\"#m556fa9e475\" x=\"58.046307\" y=\"134.22303\" style=\"stroke: #000000\"/>\n     <use xlink:href=\"#m556fa9e475\" x=\"88.48267\" y=\"134.22303\" style=\"stroke: #000000\"/>\n     <use xlink:href=\"#m556fa9e475\" x=\"118.919034\" y=\"134.22303\" style=\"stroke: #000000\"/>\n     <use xlink:href=\"#m556fa9e475\" x=\"149.355398\" y=\"134.22303\" style=\"stroke: #000000\"/>\n     <use xlink:href=\"#m556fa9e475\" x=\"179.791761\" y=\"134.22303\" style=\"stroke: #000000\"/>\n     <use xlink:href=\"#m556fa9e475\" x=\"210.228125\" y=\"134.22303\" style=\"stroke: #000000\"/>\n     <use xlink:href=\"#m556fa9e475\" x=\"240.664489\" y=\"134.22303\" style=\"stroke: #000000\"/>\n     <use xlink:href=\"#m556fa9e475\" x=\"271.100852\" y=\"134.22303\" style=\"stroke: #000000\"/>\n     <use xlink:href=\"#m556fa9e475\" x=\"301.537216\" y=\"134.22303\" style=\"stroke: #000000\"/>\n     <use xlink:href=\"#m556fa9e475\" x=\"331.97358\" y=\"134.22303\" style=\"stroke: #000000\"/>\n     <use xlink:href=\"#m556fa9e475\" x=\"362.409943\" y=\"134.22303\" style=\"stroke: #000000\"/>\n    </g>\n   </g>\n   <g id=\"PathCollection_13\">\n    <g clip-path=\"url(#pf7da4f5868)\">\n     <use xlink:href=\"#m556fa9e475\" x=\"58.046307\" y=\"126.901818\" style=\"stroke: #000000\"/>\n     <use xlink:href=\"#m556fa9e475\" x=\"88.48267\" y=\"126.901818\" style=\"stroke: #000000\"/>\n     <use xlink:href=\"#m556fa9e475\" x=\"118.919034\" y=\"126.901818\" style=\"stroke: #000000\"/>\n     <use xlink:href=\"#m556fa9e475\" x=\"149.355398\" y=\"126.901818\" style=\"stroke: #000000\"/>\n     <use xlink:href=\"#m556fa9e475\" x=\"179.791761\" y=\"126.901818\" style=\"stroke: #000000\"/>\n     <use xlink:href=\"#m556fa9e475\" x=\"210.228125\" y=\"126.901818\" style=\"stroke: #000000\"/>\n     <use xlink:href=\"#m556fa9e475\" x=\"240.664489\" y=\"126.901818\" style=\"stroke: #000000\"/>\n     <use xlink:href=\"#m556fa9e475\" x=\"271.100852\" y=\"126.901818\" style=\"stroke: #000000\"/>\n     <use xlink:href=\"#m556fa9e475\" x=\"301.537216\" y=\"126.901818\" style=\"stroke: #000000\"/>\n     <use xlink:href=\"#m556fa9e475\" x=\"331.97358\" y=\"126.901818\" style=\"stroke: #000000\"/>\n     <use xlink:href=\"#m556fa9e475\" x=\"362.409943\" y=\"126.901818\" style=\"stroke: #000000\"/>\n    </g>\n   </g>\n   <g id=\"PathCollection_14\">\n    <g clip-path=\"url(#pf7da4f5868)\">\n     <use xlink:href=\"#m556fa9e475\" x=\"58.046307\" y=\"119.580606\" style=\"stroke: #000000\"/>\n     <use xlink:href=\"#m556fa9e475\" x=\"88.48267\" y=\"119.580606\" style=\"stroke: #000000\"/>\n     <use xlink:href=\"#m556fa9e475\" x=\"118.919034\" y=\"119.580606\" style=\"stroke: #000000\"/>\n     <use xlink:href=\"#m556fa9e475\" x=\"149.355398\" y=\"119.580606\" style=\"stroke: #000000\"/>\n     <use xlink:href=\"#m556fa9e475\" x=\"179.791761\" y=\"119.580606\" style=\"stroke: #000000\"/>\n     <use xlink:href=\"#m556fa9e475\" x=\"210.228125\" y=\"119.580606\" style=\"stroke: #000000\"/>\n     <use xlink:href=\"#m556fa9e475\" x=\"240.664489\" y=\"119.580606\" style=\"stroke: #000000\"/>\n     <use xlink:href=\"#m556fa9e475\" x=\"271.100852\" y=\"119.580606\" style=\"stroke: #000000\"/>\n     <use xlink:href=\"#m556fa9e475\" x=\"301.537216\" y=\"119.580606\" style=\"stroke: #000000\"/>\n     <use xlink:href=\"#m556fa9e475\" x=\"331.97358\" y=\"119.580606\" style=\"stroke: #000000\"/>\n     <use xlink:href=\"#m556fa9e475\" x=\"362.409943\" y=\"119.580606\" style=\"stroke: #000000\"/>\n    </g>\n   </g>\n   <g id=\"PathCollection_15\">\n    <g clip-path=\"url(#pf7da4f5868)\">\n     <use xlink:href=\"#m556fa9e475\" x=\"58.046307\" y=\"112.259394\" style=\"stroke: #000000\"/>\n     <use xlink:href=\"#m556fa9e475\" x=\"88.48267\" y=\"112.259394\" style=\"stroke: #000000\"/>\n     <use xlink:href=\"#m556fa9e475\" x=\"118.919034\" y=\"112.259394\" style=\"stroke: #000000\"/>\n     <use xlink:href=\"#m556fa9e475\" x=\"149.355398\" y=\"112.259394\" style=\"stroke: #000000\"/>\n     <use xlink:href=\"#m556fa9e475\" x=\"179.791761\" y=\"112.259394\" style=\"stroke: #000000\"/>\n     <use xlink:href=\"#m556fa9e475\" x=\"210.228125\" y=\"112.259394\" style=\"stroke: #000000\"/>\n     <use xlink:href=\"#m556fa9e475\" x=\"240.664489\" y=\"112.259394\" style=\"stroke: #000000\"/>\n     <use xlink:href=\"#m556fa9e475\" x=\"271.100852\" y=\"112.259394\" style=\"stroke: #000000\"/>\n     <use xlink:href=\"#m556fa9e475\" x=\"301.537216\" y=\"112.259394\" style=\"stroke: #000000\"/>\n     <use xlink:href=\"#m556fa9e475\" x=\"331.97358\" y=\"112.259394\" style=\"stroke: #000000\"/>\n     <use xlink:href=\"#m556fa9e475\" x=\"362.409943\" y=\"112.259394\" style=\"stroke: #000000\"/>\n    </g>\n   </g>\n   <g id=\"PathCollection_16\">\n    <g clip-path=\"url(#pf7da4f5868)\">\n     <use xlink:href=\"#m556fa9e475\" x=\"58.046307\" y=\"104.938182\" style=\"stroke: #000000\"/>\n     <use xlink:href=\"#m556fa9e475\" x=\"88.48267\" y=\"104.938182\" style=\"stroke: #000000\"/>\n     <use xlink:href=\"#m556fa9e475\" x=\"118.919034\" y=\"104.938182\" style=\"stroke: #000000\"/>\n     <use xlink:href=\"#m556fa9e475\" x=\"149.355398\" y=\"104.938182\" style=\"stroke: #000000\"/>\n     <use xlink:href=\"#m556fa9e475\" x=\"179.791761\" y=\"104.938182\" style=\"stroke: #000000\"/>\n     <use xlink:href=\"#m556fa9e475\" x=\"210.228125\" y=\"104.938182\" style=\"stroke: #000000\"/>\n     <use xlink:href=\"#m556fa9e475\" x=\"240.664489\" y=\"104.938182\" style=\"stroke: #000000\"/>\n     <use xlink:href=\"#m556fa9e475\" x=\"271.100852\" y=\"104.938182\" style=\"stroke: #000000\"/>\n     <use xlink:href=\"#m556fa9e475\" x=\"301.537216\" y=\"104.938182\" style=\"stroke: #000000\"/>\n     <use xlink:href=\"#m556fa9e475\" x=\"331.97358\" y=\"104.938182\" style=\"stroke: #000000\"/>\n     <use xlink:href=\"#m556fa9e475\" x=\"362.409943\" y=\"104.938182\" style=\"stroke: #000000\"/>\n    </g>\n   </g>\n   <g id=\"PathCollection_17\">\n    <g clip-path=\"url(#pf7da4f5868)\">\n     <use xlink:href=\"#m556fa9e475\" x=\"58.046307\" y=\"97.61697\" style=\"stroke: #000000\"/>\n     <use xlink:href=\"#m556fa9e475\" x=\"88.48267\" y=\"97.61697\" style=\"stroke: #000000\"/>\n     <use xlink:href=\"#m556fa9e475\" x=\"118.919034\" y=\"97.61697\" style=\"stroke: #000000\"/>\n     <use xlink:href=\"#m556fa9e475\" x=\"149.355398\" y=\"97.61697\" style=\"stroke: #000000\"/>\n     <use xlink:href=\"#m556fa9e475\" x=\"179.791761\" y=\"97.61697\" style=\"stroke: #000000\"/>\n     <use xlink:href=\"#m556fa9e475\" x=\"210.228125\" y=\"97.61697\" style=\"stroke: #000000\"/>\n     <use xlink:href=\"#m556fa9e475\" x=\"240.664489\" y=\"97.61697\" style=\"stroke: #000000\"/>\n     <use xlink:href=\"#m556fa9e475\" x=\"271.100852\" y=\"97.61697\" style=\"stroke: #000000\"/>\n     <use xlink:href=\"#m556fa9e475\" x=\"301.537216\" y=\"97.61697\" style=\"stroke: #000000\"/>\n     <use xlink:href=\"#m556fa9e475\" x=\"331.97358\" y=\"97.61697\" style=\"stroke: #000000\"/>\n     <use xlink:href=\"#m556fa9e475\" x=\"362.409943\" y=\"97.61697\" style=\"stroke: #000000\"/>\n    </g>\n   </g>\n   <g id=\"PathCollection_18\">\n    <g clip-path=\"url(#pf7da4f5868)\">\n     <use xlink:href=\"#m556fa9e475\" x=\"58.046307\" y=\"90.295758\" style=\"stroke: #000000\"/>\n     <use xlink:href=\"#m556fa9e475\" x=\"88.48267\" y=\"90.295758\" style=\"stroke: #000000\"/>\n     <use xlink:href=\"#m556fa9e475\" x=\"118.919034\" y=\"90.295758\" style=\"stroke: #000000\"/>\n     <use xlink:href=\"#m556fa9e475\" x=\"149.355398\" y=\"90.295758\" style=\"stroke: #000000\"/>\n     <use xlink:href=\"#m556fa9e475\" x=\"179.791761\" y=\"90.295758\" style=\"stroke: #000000\"/>\n     <use xlink:href=\"#m556fa9e475\" x=\"210.228125\" y=\"90.295758\" style=\"stroke: #000000\"/>\n     <use xlink:href=\"#m556fa9e475\" x=\"240.664489\" y=\"90.295758\" style=\"stroke: #000000\"/>\n     <use xlink:href=\"#m556fa9e475\" x=\"271.100852\" y=\"90.295758\" style=\"stroke: #000000\"/>\n     <use xlink:href=\"#m556fa9e475\" x=\"301.537216\" y=\"90.295758\" style=\"stroke: #000000\"/>\n     <use xlink:href=\"#m556fa9e475\" x=\"331.97358\" y=\"90.295758\" style=\"stroke: #000000\"/>\n     <use xlink:href=\"#m556fa9e475\" x=\"362.409943\" y=\"90.295758\" style=\"stroke: #000000\"/>\n    </g>\n   </g>\n   <g id=\"PathCollection_19\">\n    <g clip-path=\"url(#pf7da4f5868)\">\n     <use xlink:href=\"#m556fa9e475\" x=\"58.046307\" y=\"82.974545\" style=\"stroke: #000000\"/>\n     <use xlink:href=\"#m556fa9e475\" x=\"88.48267\" y=\"82.974545\" style=\"stroke: #000000\"/>\n     <use xlink:href=\"#m556fa9e475\" x=\"118.919034\" y=\"82.974545\" style=\"stroke: #000000\"/>\n     <use xlink:href=\"#m556fa9e475\" x=\"149.355398\" y=\"82.974545\" style=\"stroke: #000000\"/>\n     <use xlink:href=\"#m556fa9e475\" x=\"179.791761\" y=\"82.974545\" style=\"stroke: #000000\"/>\n     <use xlink:href=\"#m556fa9e475\" x=\"210.228125\" y=\"82.974545\" style=\"stroke: #000000\"/>\n     <use xlink:href=\"#m556fa9e475\" x=\"240.664489\" y=\"82.974545\" style=\"stroke: #000000\"/>\n     <use xlink:href=\"#m556fa9e475\" x=\"271.100852\" y=\"82.974545\" style=\"stroke: #000000\"/>\n     <use xlink:href=\"#m556fa9e475\" x=\"301.537216\" y=\"82.974545\" style=\"stroke: #000000\"/>\n     <use xlink:href=\"#m556fa9e475\" x=\"331.97358\" y=\"82.974545\" style=\"stroke: #000000\"/>\n     <use xlink:href=\"#m556fa9e475\" x=\"362.409943\" y=\"82.974545\" style=\"stroke: #000000\"/>\n    </g>\n   </g>\n   <g id=\"PathCollection_20\">\n    <g clip-path=\"url(#pf7da4f5868)\">\n     <use xlink:href=\"#m556fa9e475\" x=\"58.046307\" y=\"75.653333\" style=\"stroke: #000000\"/>\n     <use xlink:href=\"#m556fa9e475\" x=\"88.48267\" y=\"75.653333\" style=\"stroke: #000000\"/>\n     <use xlink:href=\"#m556fa9e475\" x=\"118.919034\" y=\"75.653333\" style=\"stroke: #000000\"/>\n     <use xlink:href=\"#m556fa9e475\" x=\"149.355398\" y=\"75.653333\" style=\"stroke: #000000\"/>\n     <use xlink:href=\"#m556fa9e475\" x=\"179.791761\" y=\"75.653333\" style=\"stroke: #000000\"/>\n     <use xlink:href=\"#m556fa9e475\" x=\"210.228125\" y=\"75.653333\" style=\"stroke: #000000\"/>\n     <use xlink:href=\"#m556fa9e475\" x=\"240.664489\" y=\"75.653333\" style=\"stroke: #000000\"/>\n     <use xlink:href=\"#m556fa9e475\" x=\"271.100852\" y=\"75.653333\" style=\"stroke: #000000\"/>\n     <use xlink:href=\"#m556fa9e475\" x=\"301.537216\" y=\"75.653333\" style=\"stroke: #000000\"/>\n     <use xlink:href=\"#m556fa9e475\" x=\"331.97358\" y=\"75.653333\" style=\"stroke: #000000\"/>\n     <use xlink:href=\"#m556fa9e475\" x=\"362.409943\" y=\"75.653333\" style=\"stroke: #000000\"/>\n    </g>\n   </g>\n   <g id=\"PathCollection_21\">\n    <g clip-path=\"url(#pf7da4f5868)\">\n     <use xlink:href=\"#m556fa9e475\" x=\"58.046307\" y=\"68.332121\" style=\"stroke: #000000\"/>\n     <use xlink:href=\"#m556fa9e475\" x=\"88.48267\" y=\"68.332121\" style=\"stroke: #000000\"/>\n     <use xlink:href=\"#m556fa9e475\" x=\"118.919034\" y=\"68.332121\" style=\"stroke: #000000\"/>\n     <use xlink:href=\"#m556fa9e475\" x=\"149.355398\" y=\"68.332121\" style=\"stroke: #000000\"/>\n     <use xlink:href=\"#m556fa9e475\" x=\"179.791761\" y=\"68.332121\" style=\"stroke: #000000\"/>\n     <use xlink:href=\"#m556fa9e475\" x=\"210.228125\" y=\"68.332121\" style=\"stroke: #000000\"/>\n     <use xlink:href=\"#m556fa9e475\" x=\"240.664489\" y=\"68.332121\" style=\"stroke: #000000\"/>\n     <use xlink:href=\"#m556fa9e475\" x=\"271.100852\" y=\"68.332121\" style=\"stroke: #000000\"/>\n     <use xlink:href=\"#m556fa9e475\" x=\"301.537216\" y=\"68.332121\" style=\"stroke: #000000\"/>\n     <use xlink:href=\"#m556fa9e475\" x=\"331.97358\" y=\"68.332121\" style=\"stroke: #000000\"/>\n     <use xlink:href=\"#m556fa9e475\" x=\"362.409943\" y=\"68.332121\" style=\"stroke: #000000\"/>\n    </g>\n   </g>\n   <g id=\"PathCollection_22\">\n    <g clip-path=\"url(#pf7da4f5868)\">\n     <use xlink:href=\"#m556fa9e475\" x=\"58.046307\" y=\"61.010909\" style=\"stroke: #000000\"/>\n     <use xlink:href=\"#m556fa9e475\" x=\"88.48267\" y=\"61.010909\" style=\"stroke: #000000\"/>\n     <use xlink:href=\"#m556fa9e475\" x=\"118.919034\" y=\"61.010909\" style=\"stroke: #000000\"/>\n     <use xlink:href=\"#m556fa9e475\" x=\"149.355398\" y=\"61.010909\" style=\"stroke: #000000\"/>\n     <use xlink:href=\"#m556fa9e475\" x=\"179.791761\" y=\"61.010909\" style=\"stroke: #000000\"/>\n     <use xlink:href=\"#m556fa9e475\" x=\"210.228125\" y=\"61.010909\" style=\"stroke: #000000\"/>\n     <use xlink:href=\"#m556fa9e475\" x=\"240.664489\" y=\"61.010909\" style=\"stroke: #000000\"/>\n     <use xlink:href=\"#m556fa9e475\" x=\"271.100852\" y=\"61.010909\" style=\"stroke: #000000\"/>\n     <use xlink:href=\"#m556fa9e475\" x=\"301.537216\" y=\"61.010909\" style=\"stroke: #000000\"/>\n     <use xlink:href=\"#m556fa9e475\" x=\"331.97358\" y=\"61.010909\" style=\"stroke: #000000\"/>\n     <use xlink:href=\"#m556fa9e475\" x=\"362.409943\" y=\"61.010909\" style=\"stroke: #000000\"/>\n    </g>\n   </g>\n   <g id=\"PathCollection_23\">\n    <g clip-path=\"url(#pf7da4f5868)\">\n     <use xlink:href=\"#m556fa9e475\" x=\"58.046307\" y=\"53.689697\" style=\"stroke: #000000\"/>\n     <use xlink:href=\"#m556fa9e475\" x=\"88.48267\" y=\"53.689697\" style=\"stroke: #000000\"/>\n     <use xlink:href=\"#m556fa9e475\" x=\"118.919034\" y=\"53.689697\" style=\"stroke: #000000\"/>\n     <use xlink:href=\"#m556fa9e475\" x=\"149.355398\" y=\"53.689697\" style=\"stroke: #000000\"/>\n     <use xlink:href=\"#m556fa9e475\" x=\"179.791761\" y=\"53.689697\" style=\"stroke: #000000\"/>\n     <use xlink:href=\"#m556fa9e475\" x=\"210.228125\" y=\"53.689697\" style=\"stroke: #000000\"/>\n     <use xlink:href=\"#m556fa9e475\" x=\"240.664489\" y=\"53.689697\" style=\"stroke: #000000\"/>\n     <use xlink:href=\"#m556fa9e475\" x=\"271.100852\" y=\"53.689697\" style=\"stroke: #000000\"/>\n     <use xlink:href=\"#m556fa9e475\" x=\"301.537216\" y=\"53.689697\" style=\"stroke: #000000\"/>\n     <use xlink:href=\"#m556fa9e475\" x=\"331.97358\" y=\"53.689697\" style=\"stroke: #000000\"/>\n     <use xlink:href=\"#m556fa9e475\" x=\"362.409943\" y=\"53.689697\" style=\"stroke: #000000\"/>\n    </g>\n   </g>\n   <g id=\"PathCollection_24\">\n    <g clip-path=\"url(#pf7da4f5868)\">\n     <use xlink:href=\"#m556fa9e475\" x=\"58.046307\" y=\"46.368485\" style=\"stroke: #000000\"/>\n     <use xlink:href=\"#m556fa9e475\" x=\"88.48267\" y=\"46.368485\" style=\"stroke: #000000\"/>\n     <use xlink:href=\"#m556fa9e475\" x=\"118.919034\" y=\"46.368485\" style=\"stroke: #000000\"/>\n     <use xlink:href=\"#m556fa9e475\" x=\"149.355398\" y=\"46.368485\" style=\"stroke: #000000\"/>\n     <use xlink:href=\"#m556fa9e475\" x=\"179.791761\" y=\"46.368485\" style=\"stroke: #000000\"/>\n     <use xlink:href=\"#m556fa9e475\" x=\"210.228125\" y=\"46.368485\" style=\"stroke: #000000\"/>\n     <use xlink:href=\"#m556fa9e475\" x=\"240.664489\" y=\"46.368485\" style=\"stroke: #000000\"/>\n     <use xlink:href=\"#m556fa9e475\" x=\"271.100852\" y=\"46.368485\" style=\"stroke: #000000\"/>\n     <use xlink:href=\"#m556fa9e475\" x=\"301.537216\" y=\"46.368485\" style=\"stroke: #000000\"/>\n     <use xlink:href=\"#m556fa9e475\" x=\"331.97358\" y=\"46.368485\" style=\"stroke: #000000\"/>\n     <use xlink:href=\"#m556fa9e475\" x=\"362.409943\" y=\"46.368485\" style=\"stroke: #000000\"/>\n    </g>\n   </g>\n   <g id=\"PathCollection_25\">\n    <g clip-path=\"url(#pf7da4f5868)\">\n     <use xlink:href=\"#m556fa9e475\" x=\"58.046307\" y=\"39.047273\" style=\"stroke: #000000\"/>\n     <use xlink:href=\"#m556fa9e475\" x=\"88.48267\" y=\"39.047273\" style=\"stroke: #000000\"/>\n     <use xlink:href=\"#m556fa9e475\" x=\"118.919034\" y=\"39.047273\" style=\"stroke: #000000\"/>\n     <use xlink:href=\"#m556fa9e475\" x=\"149.355398\" y=\"39.047273\" style=\"stroke: #000000\"/>\n     <use xlink:href=\"#m556fa9e475\" x=\"179.791761\" y=\"39.047273\" style=\"stroke: #000000\"/>\n     <use xlink:href=\"#m556fa9e475\" x=\"210.228125\" y=\"39.047273\" style=\"stroke: #000000\"/>\n     <use xlink:href=\"#m556fa9e475\" x=\"240.664489\" y=\"39.047273\" style=\"stroke: #000000\"/>\n     <use xlink:href=\"#m556fa9e475\" x=\"271.100852\" y=\"39.047273\" style=\"stroke: #000000\"/>\n     <use xlink:href=\"#m556fa9e475\" x=\"301.537216\" y=\"39.047273\" style=\"stroke: #000000\"/>\n     <use xlink:href=\"#m556fa9e475\" x=\"331.97358\" y=\"39.047273\" style=\"stroke: #000000\"/>\n     <use xlink:href=\"#m556fa9e475\" x=\"362.409943\" y=\"39.047273\" style=\"stroke: #000000\"/>\n    </g>\n   </g>\n   <g id=\"PathCollection_26\">\n    <g clip-path=\"url(#pf7da4f5868)\">\n     <use xlink:href=\"#m556fa9e475\" x=\"58.046307\" y=\"31.726061\" style=\"stroke: #000000\"/>\n     <use xlink:href=\"#m556fa9e475\" x=\"88.48267\" y=\"31.726061\" style=\"stroke: #000000\"/>\n     <use xlink:href=\"#m556fa9e475\" x=\"118.919034\" y=\"31.726061\" style=\"stroke: #000000\"/>\n     <use xlink:href=\"#m556fa9e475\" x=\"149.355398\" y=\"31.726061\" style=\"stroke: #000000\"/>\n     <use xlink:href=\"#m556fa9e475\" x=\"179.791761\" y=\"31.726061\" style=\"stroke: #000000\"/>\n     <use xlink:href=\"#m556fa9e475\" x=\"210.228125\" y=\"31.726061\" style=\"stroke: #000000\"/>\n     <use xlink:href=\"#m556fa9e475\" x=\"240.664489\" y=\"31.726061\" style=\"stroke: #000000\"/>\n     <use xlink:href=\"#m556fa9e475\" x=\"271.100852\" y=\"31.726061\" style=\"stroke: #000000\"/>\n     <use xlink:href=\"#m556fa9e475\" x=\"301.537216\" y=\"31.726061\" style=\"stroke: #000000\"/>\n     <use xlink:href=\"#m556fa9e475\" x=\"331.97358\" y=\"31.726061\" style=\"stroke: #000000\"/>\n     <use xlink:href=\"#m556fa9e475\" x=\"362.409943\" y=\"31.726061\" style=\"stroke: #000000\"/>\n    </g>\n   </g>\n   <g id=\"PathCollection_27\">\n    <g clip-path=\"url(#pf7da4f5868)\">\n     <use xlink:href=\"#m556fa9e475\" x=\"58.046307\" y=\"24.404848\" style=\"stroke: #000000\"/>\n     <use xlink:href=\"#m556fa9e475\" x=\"88.48267\" y=\"24.404848\" style=\"stroke: #000000\"/>\n     <use xlink:href=\"#m556fa9e475\" x=\"118.919034\" y=\"24.404848\" style=\"stroke: #000000\"/>\n     <use xlink:href=\"#m556fa9e475\" x=\"149.355398\" y=\"24.404848\" style=\"stroke: #000000\"/>\n     <use xlink:href=\"#m556fa9e475\" x=\"179.791761\" y=\"24.404848\" style=\"stroke: #000000\"/>\n     <use xlink:href=\"#m556fa9e475\" x=\"210.228125\" y=\"24.404848\" style=\"stroke: #000000\"/>\n     <use xlink:href=\"#m556fa9e475\" x=\"240.664489\" y=\"24.404848\" style=\"stroke: #000000\"/>\n     <use xlink:href=\"#m556fa9e475\" x=\"271.100852\" y=\"24.404848\" style=\"stroke: #000000\"/>\n     <use xlink:href=\"#m556fa9e475\" x=\"301.537216\" y=\"24.404848\" style=\"stroke: #000000\"/>\n     <use xlink:href=\"#m556fa9e475\" x=\"331.97358\" y=\"24.404848\" style=\"stroke: #000000\"/>\n     <use xlink:href=\"#m556fa9e475\" x=\"362.409943\" y=\"24.404848\" style=\"stroke: #000000\"/>\n    </g>\n   </g>\n   <g id=\"PathCollection_28\">\n    <g clip-path=\"url(#pf7da4f5868)\">\n     <use xlink:href=\"#m556fa9e475\" x=\"58.046307\" y=\"17.083636\" style=\"stroke: #000000\"/>\n     <use xlink:href=\"#m556fa9e475\" x=\"88.48267\" y=\"17.083636\" style=\"stroke: #000000\"/>\n     <use xlink:href=\"#m556fa9e475\" x=\"118.919034\" y=\"17.083636\" style=\"stroke: #000000\"/>\n     <use xlink:href=\"#m556fa9e475\" x=\"149.355398\" y=\"17.083636\" style=\"stroke: #000000\"/>\n     <use xlink:href=\"#m556fa9e475\" x=\"179.791761\" y=\"17.083636\" style=\"stroke: #000000\"/>\n     <use xlink:href=\"#m556fa9e475\" x=\"210.228125\" y=\"17.083636\" style=\"stroke: #000000\"/>\n     <use xlink:href=\"#m556fa9e475\" x=\"240.664489\" y=\"17.083636\" style=\"stroke: #000000\"/>\n     <use xlink:href=\"#m556fa9e475\" x=\"271.100852\" y=\"17.083636\" style=\"stroke: #000000\"/>\n     <use xlink:href=\"#m556fa9e475\" x=\"301.537216\" y=\"17.083636\" style=\"stroke: #000000\"/>\n     <use xlink:href=\"#m556fa9e475\" x=\"331.97358\" y=\"17.083636\" style=\"stroke: #000000\"/>\n     <use xlink:href=\"#m556fa9e475\" x=\"362.409943\" y=\"17.083636\" style=\"stroke: #000000\"/>\n    </g>\n   </g>\n   <g id=\"matplotlib.axis_1\">\n    <g id=\"xtick_1\">\n     <g id=\"line2d_1\">\n      <defs>\n       <path id=\"m379b29c66a\" d=\"M 0 0 \nL 0 3.5 \n\" style=\"stroke: #000000; stroke-width: 0.8\"/>\n      </defs>\n      <g>\n       <use xlink:href=\"#m379b29c66a\" x=\"58.046307\" y=\"224.64\" style=\"stroke: #000000; stroke-width: 0.8\"/>\n      </g>\n     </g>\n     <g id=\"text_1\">\n      <!-- 0.0 -->\n      <g transform=\"translate(50.094744 239.238437)scale(0.1 -0.1)\">\n       <defs>\n        <path id=\"DejaVuSans-30\" d=\"M 2034 4250 \nQ 1547 4250 1301 3770 \nQ 1056 3291 1056 2328 \nQ 1056 1369 1301 889 \nQ 1547 409 2034 409 \nQ 2525 409 2770 889 \nQ 3016 1369 3016 2328 \nQ 3016 3291 2770 3770 \nQ 2525 4250 2034 4250 \nz\nM 2034 4750 \nQ 2819 4750 3233 4129 \nQ 3647 3509 3647 2328 \nQ 3647 1150 3233 529 \nQ 2819 -91 2034 -91 \nQ 1250 -91 836 529 \nQ 422 1150 422 2328 \nQ 422 3509 836 4129 \nQ 1250 4750 2034 4750 \nz\n\" transform=\"scale(0.015625)\"/>\n        <path id=\"DejaVuSans-2e\" d=\"M 684 794 \nL 1344 794 \nL 1344 0 \nL 684 0 \nL 684 794 \nz\n\" transform=\"scale(0.015625)\"/>\n       </defs>\n       <use xlink:href=\"#DejaVuSans-30\"/>\n       <use xlink:href=\"#DejaVuSans-2e\" x=\"63.623047\"/>\n       <use xlink:href=\"#DejaVuSans-30\" x=\"95.410156\"/>\n      </g>\n     </g>\n    </g>\n    <g id=\"xtick_2\">\n     <g id=\"line2d_2\">\n      <g>\n       <use xlink:href=\"#m379b29c66a\" x=\"118.919034\" y=\"224.64\" style=\"stroke: #000000; stroke-width: 0.8\"/>\n      </g>\n     </g>\n     <g id=\"text_2\">\n      <!-- 0.2 -->\n      <g transform=\"translate(110.967472 239.238437)scale(0.1 -0.1)\">\n       <defs>\n        <path id=\"DejaVuSans-32\" d=\"M 1228 531 \nL 3431 531 \nL 3431 0 \nL 469 0 \nL 469 531 \nQ 828 903 1448 1529 \nQ 2069 2156 2228 2338 \nQ 2531 2678 2651 2914 \nQ 2772 3150 2772 3378 \nQ 2772 3750 2511 3984 \nQ 2250 4219 1831 4219 \nQ 1534 4219 1204 4116 \nQ 875 4013 500 3803 \nL 500 4441 \nQ 881 4594 1212 4672 \nQ 1544 4750 1819 4750 \nQ 2544 4750 2975 4387 \nQ 3406 4025 3406 3419 \nQ 3406 3131 3298 2873 \nQ 3191 2616 2906 2266 \nQ 2828 2175 2409 1742 \nQ 1991 1309 1228 531 \nz\n\" transform=\"scale(0.015625)\"/>\n       </defs>\n       <use xlink:href=\"#DejaVuSans-30\"/>\n       <use xlink:href=\"#DejaVuSans-2e\" x=\"63.623047\"/>\n       <use xlink:href=\"#DejaVuSans-32\" x=\"95.410156\"/>\n      </g>\n     </g>\n    </g>\n    <g id=\"xtick_3\">\n     <g id=\"line2d_3\">\n      <g>\n       <use xlink:href=\"#m379b29c66a\" x=\"179.791761\" y=\"224.64\" style=\"stroke: #000000; stroke-width: 0.8\"/>\n      </g>\n     </g>\n     <g id=\"text_3\">\n      <!-- 0.4 -->\n      <g transform=\"translate(171.840199 239.238437)scale(0.1 -0.1)\">\n       <defs>\n        <path id=\"DejaVuSans-34\" d=\"M 2419 4116 \nL 825 1625 \nL 2419 1625 \nL 2419 4116 \nz\nM 2253 4666 \nL 3047 4666 \nL 3047 1625 \nL 3713 1625 \nL 3713 1100 \nL 3047 1100 \nL 3047 0 \nL 2419 0 \nL 2419 1100 \nL 313 1100 \nL 313 1709 \nL 2253 4666 \nz\n\" transform=\"scale(0.015625)\"/>\n       </defs>\n       <use xlink:href=\"#DejaVuSans-30\"/>\n       <use xlink:href=\"#DejaVuSans-2e\" x=\"63.623047\"/>\n       <use xlink:href=\"#DejaVuSans-34\" x=\"95.410156\"/>\n      </g>\n     </g>\n    </g>\n    <g id=\"xtick_4\">\n     <g id=\"line2d_4\">\n      <g>\n       <use xlink:href=\"#m379b29c66a\" x=\"240.664489\" y=\"224.64\" style=\"stroke: #000000; stroke-width: 0.8\"/>\n      </g>\n     </g>\n     <g id=\"text_4\">\n      <!-- 0.6 -->\n      <g transform=\"translate(232.712926 239.238437)scale(0.1 -0.1)\">\n       <defs>\n        <path id=\"DejaVuSans-36\" d=\"M 2113 2584 \nQ 1688 2584 1439 2293 \nQ 1191 2003 1191 1497 \nQ 1191 994 1439 701 \nQ 1688 409 2113 409 \nQ 2538 409 2786 701 \nQ 3034 994 3034 1497 \nQ 3034 2003 2786 2293 \nQ 2538 2584 2113 2584 \nz\nM 3366 4563 \nL 3366 3988 \nQ 3128 4100 2886 4159 \nQ 2644 4219 2406 4219 \nQ 1781 4219 1451 3797 \nQ 1122 3375 1075 2522 \nQ 1259 2794 1537 2939 \nQ 1816 3084 2150 3084 \nQ 2853 3084 3261 2657 \nQ 3669 2231 3669 1497 \nQ 3669 778 3244 343 \nQ 2819 -91 2113 -91 \nQ 1303 -91 875 529 \nQ 447 1150 447 2328 \nQ 447 3434 972 4092 \nQ 1497 4750 2381 4750 \nQ 2619 4750 2861 4703 \nQ 3103 4656 3366 4563 \nz\n\" transform=\"scale(0.015625)\"/>\n       </defs>\n       <use xlink:href=\"#DejaVuSans-30\"/>\n       <use xlink:href=\"#DejaVuSans-2e\" x=\"63.623047\"/>\n       <use xlink:href=\"#DejaVuSans-36\" x=\"95.410156\"/>\n      </g>\n     </g>\n    </g>\n    <g id=\"xtick_5\">\n     <g id=\"line2d_5\">\n      <g>\n       <use xlink:href=\"#m379b29c66a\" x=\"301.537216\" y=\"224.64\" style=\"stroke: #000000; stroke-width: 0.8\"/>\n      </g>\n     </g>\n     <g id=\"text_5\">\n      <!-- 0.8 -->\n      <g transform=\"translate(293.585653 239.238437)scale(0.1 -0.1)\">\n       <defs>\n        <path id=\"DejaVuSans-38\" d=\"M 2034 2216 \nQ 1584 2216 1326 1975 \nQ 1069 1734 1069 1313 \nQ 1069 891 1326 650 \nQ 1584 409 2034 409 \nQ 2484 409 2743 651 \nQ 3003 894 3003 1313 \nQ 3003 1734 2745 1975 \nQ 2488 2216 2034 2216 \nz\nM 1403 2484 \nQ 997 2584 770 2862 \nQ 544 3141 544 3541 \nQ 544 4100 942 4425 \nQ 1341 4750 2034 4750 \nQ 2731 4750 3128 4425 \nQ 3525 4100 3525 3541 \nQ 3525 3141 3298 2862 \nQ 3072 2584 2669 2484 \nQ 3125 2378 3379 2068 \nQ 3634 1759 3634 1313 \nQ 3634 634 3220 271 \nQ 2806 -91 2034 -91 \nQ 1263 -91 848 271 \nQ 434 634 434 1313 \nQ 434 1759 690 2068 \nQ 947 2378 1403 2484 \nz\nM 1172 3481 \nQ 1172 3119 1398 2916 \nQ 1625 2713 2034 2713 \nQ 2441 2713 2670 2916 \nQ 2900 3119 2900 3481 \nQ 2900 3844 2670 4047 \nQ 2441 4250 2034 4250 \nQ 1625 4250 1398 4047 \nQ 1172 3844 1172 3481 \nz\n\" transform=\"scale(0.015625)\"/>\n       </defs>\n       <use xlink:href=\"#DejaVuSans-30\"/>\n       <use xlink:href=\"#DejaVuSans-2e\" x=\"63.623047\"/>\n       <use xlink:href=\"#DejaVuSans-38\" x=\"95.410156\"/>\n      </g>\n     </g>\n    </g>\n    <g id=\"xtick_6\">\n     <g id=\"line2d_6\">\n      <g>\n       <use xlink:href=\"#m379b29c66a\" x=\"362.409943\" y=\"224.64\" style=\"stroke: #000000; stroke-width: 0.8\"/>\n      </g>\n     </g>\n     <g id=\"text_6\">\n      <!-- 1.0 -->\n      <g transform=\"translate(354.458381 239.238437)scale(0.1 -0.1)\">\n       <defs>\n        <path id=\"DejaVuSans-31\" d=\"M 794 531 \nL 1825 531 \nL 1825 4091 \nL 703 3866 \nL 703 4441 \nL 1819 4666 \nL 2450 4666 \nL 2450 531 \nL 3481 531 \nL 3481 0 \nL 794 0 \nL 794 531 \nz\n\" transform=\"scale(0.015625)\"/>\n       </defs>\n       <use xlink:href=\"#DejaVuSans-31\"/>\n       <use xlink:href=\"#DejaVuSans-2e\" x=\"63.623047\"/>\n       <use xlink:href=\"#DejaVuSans-30\" x=\"95.410156\"/>\n      </g>\n     </g>\n    </g>\n   </g>\n   <g id=\"matplotlib.axis_2\">\n    <g id=\"ytick_1\">\n     <g id=\"line2d_7\">\n      <defs>\n       <path id=\"m16f5b1cc51\" d=\"M 0 0 \nL -3.5 0 \n\" style=\"stroke: #000000; stroke-width: 0.8\"/>\n      </defs>\n      <g>\n       <use xlink:href=\"#m16f5b1cc51\" x=\"42.828125\" y=\"214.756364\" style=\"stroke: #000000; stroke-width: 0.8\"/>\n      </g>\n     </g>\n     <g id=\"text_7\">\n      <!-- 0.000 -->\n      <g transform=\"translate(7.2 218.555582)scale(0.1 -0.1)\">\n       <use xlink:href=\"#DejaVuSans-30\"/>\n       <use xlink:href=\"#DejaVuSans-2e\" x=\"63.623047\"/>\n       <use xlink:href=\"#DejaVuSans-30\" x=\"95.410156\"/>\n       <use xlink:href=\"#DejaVuSans-30\" x=\"159.033203\"/>\n       <use xlink:href=\"#DejaVuSans-30\" x=\"222.65625\"/>\n      </g>\n     </g>\n    </g>\n    <g id=\"ytick_2\">\n     <g id=\"line2d_8\">\n      <g>\n       <use xlink:href=\"#m16f5b1cc51\" x=\"42.828125\" y=\"178.150303\" style=\"stroke: #000000; stroke-width: 0.8\"/>\n      </g>\n     </g>\n     <g id=\"text_8\">\n      <!-- 0.005 -->\n      <g transform=\"translate(7.2 181.949522)scale(0.1 -0.1)\">\n       <defs>\n        <path id=\"DejaVuSans-35\" d=\"M 691 4666 \nL 3169 4666 \nL 3169 4134 \nL 1269 4134 \nL 1269 2991 \nQ 1406 3038 1543 3061 \nQ 1681 3084 1819 3084 \nQ 2600 3084 3056 2656 \nQ 3513 2228 3513 1497 \nQ 3513 744 3044 326 \nQ 2575 -91 1722 -91 \nQ 1428 -91 1123 -41 \nQ 819 9 494 109 \nL 494 744 \nQ 775 591 1075 516 \nQ 1375 441 1709 441 \nQ 2250 441 2565 725 \nQ 2881 1009 2881 1497 \nQ 2881 1984 2565 2268 \nQ 2250 2553 1709 2553 \nQ 1456 2553 1204 2497 \nQ 953 2441 691 2322 \nL 691 4666 \nz\n\" transform=\"scale(0.015625)\"/>\n       </defs>\n       <use xlink:href=\"#DejaVuSans-30\"/>\n       <use xlink:href=\"#DejaVuSans-2e\" x=\"63.623047\"/>\n       <use xlink:href=\"#DejaVuSans-30\" x=\"95.410156\"/>\n       <use xlink:href=\"#DejaVuSans-30\" x=\"159.033203\"/>\n       <use xlink:href=\"#DejaVuSans-35\" x=\"222.65625\"/>\n      </g>\n     </g>\n    </g>\n    <g id=\"ytick_3\">\n     <g id=\"line2d_9\">\n      <g>\n       <use xlink:href=\"#m16f5b1cc51\" x=\"42.828125\" y=\"141.544242\" style=\"stroke: #000000; stroke-width: 0.8\"/>\n      </g>\n     </g>\n     <g id=\"text_9\">\n      <!-- 0.010 -->\n      <g transform=\"translate(7.2 145.343461)scale(0.1 -0.1)\">\n       <use xlink:href=\"#DejaVuSans-30\"/>\n       <use xlink:href=\"#DejaVuSans-2e\" x=\"63.623047\"/>\n       <use xlink:href=\"#DejaVuSans-30\" x=\"95.410156\"/>\n       <use xlink:href=\"#DejaVuSans-31\" x=\"159.033203\"/>\n       <use xlink:href=\"#DejaVuSans-30\" x=\"222.65625\"/>\n      </g>\n     </g>\n    </g>\n    <g id=\"ytick_4\">\n     <g id=\"line2d_10\">\n      <g>\n       <use xlink:href=\"#m16f5b1cc51\" x=\"42.828125\" y=\"104.938182\" style=\"stroke: #000000; stroke-width: 0.8\"/>\n      </g>\n     </g>\n     <g id=\"text_10\">\n      <!-- 0.015 -->\n      <g transform=\"translate(7.2 108.737401)scale(0.1 -0.1)\">\n       <use xlink:href=\"#DejaVuSans-30\"/>\n       <use xlink:href=\"#DejaVuSans-2e\" x=\"63.623047\"/>\n       <use xlink:href=\"#DejaVuSans-30\" x=\"95.410156\"/>\n       <use xlink:href=\"#DejaVuSans-31\" x=\"159.033203\"/>\n       <use xlink:href=\"#DejaVuSans-35\" x=\"222.65625\"/>\n      </g>\n     </g>\n    </g>\n    <g id=\"ytick_5\">\n     <g id=\"line2d_11\">\n      <g>\n       <use xlink:href=\"#m16f5b1cc51\" x=\"42.828125\" y=\"68.332121\" style=\"stroke: #000000; stroke-width: 0.8\"/>\n      </g>\n     </g>\n     <g id=\"text_11\">\n      <!-- 0.020 -->\n      <g transform=\"translate(7.2 72.13134)scale(0.1 -0.1)\">\n       <use xlink:href=\"#DejaVuSans-30\"/>\n       <use xlink:href=\"#DejaVuSans-2e\" x=\"63.623047\"/>\n       <use xlink:href=\"#DejaVuSans-30\" x=\"95.410156\"/>\n       <use xlink:href=\"#DejaVuSans-32\" x=\"159.033203\"/>\n       <use xlink:href=\"#DejaVuSans-30\" x=\"222.65625\"/>\n      </g>\n     </g>\n    </g>\n    <g id=\"ytick_6\">\n     <g id=\"line2d_12\">\n      <g>\n       <use xlink:href=\"#m16f5b1cc51\" x=\"42.828125\" y=\"31.726061\" style=\"stroke: #000000; stroke-width: 0.8\"/>\n      </g>\n     </g>\n     <g id=\"text_12\">\n      <!-- 0.025 -->\n      <g transform=\"translate(7.2 35.525279)scale(0.1 -0.1)\">\n       <use xlink:href=\"#DejaVuSans-30\"/>\n       <use xlink:href=\"#DejaVuSans-2e\" x=\"63.623047\"/>\n       <use xlink:href=\"#DejaVuSans-30\" x=\"95.410156\"/>\n       <use xlink:href=\"#DejaVuSans-32\" x=\"159.033203\"/>\n       <use xlink:href=\"#DejaVuSans-35\" x=\"222.65625\"/>\n      </g>\n     </g>\n    </g>\n   </g>\n   <g id=\"patch_3\">\n    <path d=\"M 42.828125 224.64 \nL 42.828125 7.2 \n\" style=\"fill: none; stroke: #000000; stroke-width: 0.8; stroke-linejoin: miter; stroke-linecap: square\"/>\n   </g>\n   <g id=\"patch_4\">\n    <path d=\"M 377.628125 224.64 \nL 377.628125 7.2 \n\" style=\"fill: none; stroke: #000000; stroke-width: 0.8; stroke-linejoin: miter; stroke-linecap: square\"/>\n   </g>\n   <g id=\"patch_5\">\n    <path d=\"M 42.828125 224.64 \nL 377.628125 224.64 \n\" style=\"fill: none; stroke: #000000; stroke-width: 0.8; stroke-linejoin: miter; stroke-linecap: square\"/>\n   </g>\n   <g id=\"patch_6\">\n    <path d=\"M 42.828125 7.2 \nL 377.628125 7.2 \n\" style=\"fill: none; stroke: #000000; stroke-width: 0.8; stroke-linejoin: miter; stroke-linecap: square\"/>\n   </g>\n  </g>\n </g>\n <defs>\n  <clipPath id=\"pf7da4f5868\">\n   <rect x=\"42.828125\" y=\"7.2\" width=\"334.8\" height=\"217.44\"/>\n  </clipPath>\n </defs>\n</svg>\n",
      "text/plain": [
       "<Figure size 600x400 with 1 Axes>"
      ]
     },
     "metadata": {
      "needs_background": "light"
     },
     "output_type": "display_data"
    }
   ],
   "source": [
    "t = 0\n",
    "for i, Psi in enumerate(Psis):\n",
    "    if i % 10 == 0:\n",
    "        X = list()\n",
    "        xi = 0\n",
    "        X.append(xi)\n",
    "        for psi in Psi:\n",
    "            xi += psi * h\n",
    "            X.append(xi)\n",
    "        plt.scatter(X, np.full((len(X)), t), s=1, color='black')\n",
    "        t += tau\n",
    "plt.show()"
   ]
  },
  {
   "cell_type": "code",
   "execution_count": 12,
   "metadata": {},
   "outputs": [
    {
     "data": {
      "application/vnd.plotly.v1+json": {
       "config": {
        "plotlyServerURL": "https://plot.ly"
       },
       "data": [
        {
         "type": "surface",
         "x": [
          0,
          0.1,
          0.2,
          0.30000000000000004,
          0.4,
          0.5,
          0.6000000000000001,
          0.7000000000000001,
          0.8,
          0.9,
          1
         ],
         "y": [
          0,
          0.001,
          0.002,
          0.003,
          0.004,
          0.005,
          0.006,
          0.007,
          0.008,
          0.009000000000000001,
          0.01,
          0.011,
          0.012,
          0.013000000000000001,
          0.014,
          0.015,
          0.016,
          0.017,
          0.018000000000000002,
          0.019,
          0.02,
          0.021,
          0.022,
          0.023,
          0.024,
          0.025,
          0.026000000000000002,
          0.027,
          0.028,
          0.029,
          0.03
         ],
         "z": [
          [
           0,
           0.09983341664682815,
           0.19866933079506122,
           0.2955202066613396,
           0.3894183423086505,
           0.479425538604203,
           0.5646424733950355,
           0.6442176872376911,
           0.7173560908995228,
           0.7833269096274834,
           0.8414709848078965
          ],
          [
           0,
           0.10002870798746052,
           0.19904049519414557,
           0.29603016185027303,
           0.3900156937208879,
           0.4800492286680381,
           0.5652273125399996,
           0.6447002717777276,
           0.7176805782199173,
           0.7834501336809848,
           0
          ],
          [
           0,
           0.10022508271820807,
           0.19941339087697033,
           0.2965417481131501,
           0.39061372934765026,
           0.48067196067833456,
           0.5658092275073788,
           0.6451781460227238,
           0.717999260235152,
           0.7677230896259094,
           0
          ],
          [
           0,
           0.10042254965548922,
           0.19978802494018133,
           0.2970549568555996,
           0.3912124177496123,
           0.4812936875563662,
           0.5663881772560827,
           0.6456513027538154,
           0.7173602328920636,
           0.7536667406866131,
           0
          ],
          [
           0,
           0.10062111768946291,
           0.20016440437648525,
           0.29756977906039833,
           0.391811727055192,
           0.48191436244886454,
           0.5669641220844303,
           0.6460708078594442,
           0.7159938206143951,
           0.7410003077681795,
           0
          ],
          [
           0,
           0.10082079578413737,
           0.20054253606993788,
           0.29808620528352525,
           0.39241162497461435,
           0.48253393876226947,
           0.5675349888212534,
           0.6464038265251032,
           0.7140778704399318,
           0.7295014553591882,
           0
          ],
          [
           0,
           0.1010215929774557,
           0.20092242679116015,
           0.2986042256504881,
           0.393012078814587,
           0.4831523050228261,
           0.5680974613098163,
           0.6466296698641839,
           0.711749943983574,
           0.7189924039205087,
           0
          ],
          [
           0,
           0.10122351838135758,
           0.20130408319248455,
           0.2991238298529337,
           0.3936130539854169,
           0.4837692474664484,
           0.568647562213188,
           0.6467366816804195,
           0.7091165907653529,
           0.7093296872858713,
           0
          ],
          [
           0,
           0.10142658118181624,
           0.20168751180303407,
           0.2996450071225234,
           0.3942145116666732,
           0.4843844327105013,
           0.5691810725630861,
           0.646719814895582,
           0.7062604253832053,
           0.7003965125142211,
           0
          ],
          [
           0,
           0.10163079063884971,
           0.20207271902353488,
           0.3001677461691644,
           0.3948164061116305,
           0.48499740460595553,
           0.5696938261583713,
           0.6465787638093005,
           0.7032455448113395,
           0.6920970031499037,
           0
          ],
          [
           0,
           0.10183615608650483,
           0.20245971112054775,
           0.30069203507802006,
           0.39541868192726465,
           0.4856075907566335,
           0.5701819083432578,
           0.6463165382893393,
           0.700121686657728,
           0.684351821534153,
           0
          ],
          [
           0,
           0.10204268693281124,
           0.20284849421974832,
           0.30121786116490146,
           0.39602127155691486,
           0.4862143152890283,
           0.5706417825505405,
           0.6459383856430638,
           0.6969274294592983,
           0.6770948113321984,
           0
          ],
          [
           0,
           0.10225039265970066,
           0.20323907429787721,
           0.3017452107931634,
           0.39662409310982755,
           0.4868168153180118,
           0.5710703630243875,
           0.6454509836641013,
           0.6936926620288564,
           0.6702704018398462,
           0
          ],
          [
           0,
           0.10245928282288588,
           0.20363145717300207,
           0.302274069157488,
           0.3972270486199507,
           0.48741425922746423,
           0.5714650481288887,
           0.6448618436002868,
           0.69044049357064,
           0.6638315859451784,
           0
          ],
          [
           0,
           0.10266936705169162,
           0.204025648492776,
           0.30280442004125385,
           0.3978300227709607,
           0.4880057654085953,
           0.5718237254286546,
           0.6441788745047863,
           0.687188734825521,
           0.6577383334959013,
           0
          ],
          [
           0,
           0.10288065504882862,
           0.2044216537204314,
           0.30333624555480154,
           0.39843288209191025,
           0.48859042050328305,
           0.5721447571528985,
           0.6434100708191206,
           0.6839510493242777,
           0.6519563375970869,
           0
          ],
          [
           0,
           0.10309315659010067,
           0.20481947811830997,
           0.30386952586201277,
           0.39903547460515937,
           0.48916729650987983,
           0.5724269526059782,
           0.6425632934001445,
           0.6807378503043388,
           0.6464560172779606,
           0
          ],
          [
           0,
           0.10330688152403333,
           0.2052191267287934,
           0.304404238902368,
           0.39963762989308027,
           0.48973546634443504,
           0.5726695324670422,
           0.6416461208664603,
           0.677557001053209,
           0.6412117189044233,
           0
          ],
          [
           0,
           0.10352183977141247,
           0.20562060435256171,
           0.3049403601151539,
           0.4002391595405805,
           0.49029401762701474,
           0.5728720886478581,
           0.6406657534063179,
           0.6744143629499542,
           0.6362010726659689,
           0
          ],
          [
           0,
           0.10373804132471987,
           0.20602391552416735,
           0.3054778621718426,
           0.4008398579053311,
           0.4908420645934033,
           0.5730345423839005,
           0.6396289553252203,
           0.6713142252197579,
           0.6314044708210133,
           0
          ],
          [
           0,
           0.10395549624745304,
           0.20642906448496626,
           0.30601671472192754,
           0.4014395031655938,
           0.4913787581270557,
           0.5731571024640227,
           0.6385420258428843,
           0.6682596426006001,
           0.6268046421240674,
           0
          ],
          [
           0,
           0.10417421467331603,
           0.20683605515349884,
           0.30655688415672694,
           0.40203785859583385,
           0.49190329397277116,
           0.5732402249131987,
           0.6374107901624417,
           0.6652527011502941,
           0.6223863026804592,
           0
          ],
          [
           0,
           0.10439420680526823,
           0.20724489109345604,
           0.3070983333948848,
           0.4026346740222118,
           0.49241491923858577,
           0.5732845749939096,
           0.6362406047815121,
           0.6622947278498097,
           0.618135867881615,
           0
          ],
          [
           0,
           0.10461548291441818,
           0.20765557547940336,
           0.3076410216925478,
           0.4032296874130353,
           0.4929129373209242,
           0.5732909920547563,
           0.6350363725169381,
           0.6593864561489603,
           0.6140412134300166,
           0
          ],
          [
           0,
           0.1048380533387501,
           0.2080681110604672,
           0.30818490448047975,
           0.4038226265629326,
           0.49339671140413516,
           0.5732604575055599,
           0.633802563869682,
           0.6565281568998214,
           0.6100914760332237,
           0
          ],
          [
           0,
           0.10506192848167098,
           0.20848250012221248,
           0.30872993322971504,
           0.4044132108335762,
           0.49386566669234966,
           0.5731940660171042,
           0.6325432422405239,
           0.6537197420401827,
           0.6062768863256867,
           0
          ],
          [
           0,
           0.10528711881036708,
           0.20889874444696066,
           0.3092760553467497,
           0.40500115291801175,
           0.4943192915316485,
           0.5730929999152276,
           0.6312620911813142,
           0.65096084677889,
           0.602588628109527,
           0
          ],
          [
           0,
           0.10551363485395913,
           0.2093168452728109,
           0.3098232140987292,
           0.40558616059987557,
           0.49475713757575984,
           0.5729585066508115,
           0.6299624423781124,
           0.6482508947869574,
           0.5990187191981154,
           0
          ],
          [
           0,
           0.10574148720144676,
           0.2097368032516373,
           0.31037134856861565,
           0.40616793848288596,
           0.495178819140454,
           0.5727918791695943,
           0.6286473034487018,
           0.6455891499290207,
           0.5955599100792114,
           0
          ],
          [
           0,
           0.1059706864994329,
           0.21015861840633993,
           0.31092039363990276,
           0.4067461896698981,
           0.49558401188162654,
           0.5725944389709638,
           0.627319384926627,
           0.642974757315105,
           0.5922055973478207,
           0
          ],
          [
           0,
           0.10620124344962086,
           0.2105822900876286,
           0.3114702800100936,
           0.4073206173744537,
           0.49597245092065617,
           0.5723675216269787,
           0.6259811260195646,
           0.6404067758639137,
           0.588949749438278,
           0
          ]
         ]
        }
       ],
       "layout": {
        "template": {
         "data": {
          "bar": [
           {
            "error_x": {
             "color": "#2a3f5f"
            },
            "error_y": {
             "color": "#2a3f5f"
            },
            "marker": {
             "line": {
              "color": "#E5ECF6",
              "width": 0.5
             },
             "pattern": {
              "fillmode": "overlay",
              "size": 10,
              "solidity": 0.2
             }
            },
            "type": "bar"
           }
          ],
          "barpolar": [
           {
            "marker": {
             "line": {
              "color": "#E5ECF6",
              "width": 0.5
             },
             "pattern": {
              "fillmode": "overlay",
              "size": 10,
              "solidity": 0.2
             }
            },
            "type": "barpolar"
           }
          ],
          "carpet": [
           {
            "aaxis": {
             "endlinecolor": "#2a3f5f",
             "gridcolor": "white",
             "linecolor": "white",
             "minorgridcolor": "white",
             "startlinecolor": "#2a3f5f"
            },
            "baxis": {
             "endlinecolor": "#2a3f5f",
             "gridcolor": "white",
             "linecolor": "white",
             "minorgridcolor": "white",
             "startlinecolor": "#2a3f5f"
            },
            "type": "carpet"
           }
          ],
          "choropleth": [
           {
            "colorbar": {
             "outlinewidth": 0,
             "ticks": ""
            },
            "type": "choropleth"
           }
          ],
          "contour": [
           {
            "colorbar": {
             "outlinewidth": 0,
             "ticks": ""
            },
            "colorscale": [
             [
              0,
              "#0d0887"
             ],
             [
              0.1111111111111111,
              "#46039f"
             ],
             [
              0.2222222222222222,
              "#7201a8"
             ],
             [
              0.3333333333333333,
              "#9c179e"
             ],
             [
              0.4444444444444444,
              "#bd3786"
             ],
             [
              0.5555555555555556,
              "#d8576b"
             ],
             [
              0.6666666666666666,
              "#ed7953"
             ],
             [
              0.7777777777777778,
              "#fb9f3a"
             ],
             [
              0.8888888888888888,
              "#fdca26"
             ],
             [
              1,
              "#f0f921"
             ]
            ],
            "type": "contour"
           }
          ],
          "contourcarpet": [
           {
            "colorbar": {
             "outlinewidth": 0,
             "ticks": ""
            },
            "type": "contourcarpet"
           }
          ],
          "heatmap": [
           {
            "colorbar": {
             "outlinewidth": 0,
             "ticks": ""
            },
            "colorscale": [
             [
              0,
              "#0d0887"
             ],
             [
              0.1111111111111111,
              "#46039f"
             ],
             [
              0.2222222222222222,
              "#7201a8"
             ],
             [
              0.3333333333333333,
              "#9c179e"
             ],
             [
              0.4444444444444444,
              "#bd3786"
             ],
             [
              0.5555555555555556,
              "#d8576b"
             ],
             [
              0.6666666666666666,
              "#ed7953"
             ],
             [
              0.7777777777777778,
              "#fb9f3a"
             ],
             [
              0.8888888888888888,
              "#fdca26"
             ],
             [
              1,
              "#f0f921"
             ]
            ],
            "type": "heatmap"
           }
          ],
          "heatmapgl": [
           {
            "colorbar": {
             "outlinewidth": 0,
             "ticks": ""
            },
            "colorscale": [
             [
              0,
              "#0d0887"
             ],
             [
              0.1111111111111111,
              "#46039f"
             ],
             [
              0.2222222222222222,
              "#7201a8"
             ],
             [
              0.3333333333333333,
              "#9c179e"
             ],
             [
              0.4444444444444444,
              "#bd3786"
             ],
             [
              0.5555555555555556,
              "#d8576b"
             ],
             [
              0.6666666666666666,
              "#ed7953"
             ],
             [
              0.7777777777777778,
              "#fb9f3a"
             ],
             [
              0.8888888888888888,
              "#fdca26"
             ],
             [
              1,
              "#f0f921"
             ]
            ],
            "type": "heatmapgl"
           }
          ],
          "histogram": [
           {
            "marker": {
             "pattern": {
              "fillmode": "overlay",
              "size": 10,
              "solidity": 0.2
             }
            },
            "type": "histogram"
           }
          ],
          "histogram2d": [
           {
            "colorbar": {
             "outlinewidth": 0,
             "ticks": ""
            },
            "colorscale": [
             [
              0,
              "#0d0887"
             ],
             [
              0.1111111111111111,
              "#46039f"
             ],
             [
              0.2222222222222222,
              "#7201a8"
             ],
             [
              0.3333333333333333,
              "#9c179e"
             ],
             [
              0.4444444444444444,
              "#bd3786"
             ],
             [
              0.5555555555555556,
              "#d8576b"
             ],
             [
              0.6666666666666666,
              "#ed7953"
             ],
             [
              0.7777777777777778,
              "#fb9f3a"
             ],
             [
              0.8888888888888888,
              "#fdca26"
             ],
             [
              1,
              "#f0f921"
             ]
            ],
            "type": "histogram2d"
           }
          ],
          "histogram2dcontour": [
           {
            "colorbar": {
             "outlinewidth": 0,
             "ticks": ""
            },
            "colorscale": [
             [
              0,
              "#0d0887"
             ],
             [
              0.1111111111111111,
              "#46039f"
             ],
             [
              0.2222222222222222,
              "#7201a8"
             ],
             [
              0.3333333333333333,
              "#9c179e"
             ],
             [
              0.4444444444444444,
              "#bd3786"
             ],
             [
              0.5555555555555556,
              "#d8576b"
             ],
             [
              0.6666666666666666,
              "#ed7953"
             ],
             [
              0.7777777777777778,
              "#fb9f3a"
             ],
             [
              0.8888888888888888,
              "#fdca26"
             ],
             [
              1,
              "#f0f921"
             ]
            ],
            "type": "histogram2dcontour"
           }
          ],
          "mesh3d": [
           {
            "colorbar": {
             "outlinewidth": 0,
             "ticks": ""
            },
            "type": "mesh3d"
           }
          ],
          "parcoords": [
           {
            "line": {
             "colorbar": {
              "outlinewidth": 0,
              "ticks": ""
             }
            },
            "type": "parcoords"
           }
          ],
          "pie": [
           {
            "automargin": true,
            "type": "pie"
           }
          ],
          "scatter": [
           {
            "marker": {
             "colorbar": {
              "outlinewidth": 0,
              "ticks": ""
             }
            },
            "type": "scatter"
           }
          ],
          "scatter3d": [
           {
            "line": {
             "colorbar": {
              "outlinewidth": 0,
              "ticks": ""
             }
            },
            "marker": {
             "colorbar": {
              "outlinewidth": 0,
              "ticks": ""
             }
            },
            "type": "scatter3d"
           }
          ],
          "scattercarpet": [
           {
            "marker": {
             "colorbar": {
              "outlinewidth": 0,
              "ticks": ""
             }
            },
            "type": "scattercarpet"
           }
          ],
          "scattergeo": [
           {
            "marker": {
             "colorbar": {
              "outlinewidth": 0,
              "ticks": ""
             }
            },
            "type": "scattergeo"
           }
          ],
          "scattergl": [
           {
            "marker": {
             "colorbar": {
              "outlinewidth": 0,
              "ticks": ""
             }
            },
            "type": "scattergl"
           }
          ],
          "scattermapbox": [
           {
            "marker": {
             "colorbar": {
              "outlinewidth": 0,
              "ticks": ""
             }
            },
            "type": "scattermapbox"
           }
          ],
          "scatterpolar": [
           {
            "marker": {
             "colorbar": {
              "outlinewidth": 0,
              "ticks": ""
             }
            },
            "type": "scatterpolar"
           }
          ],
          "scatterpolargl": [
           {
            "marker": {
             "colorbar": {
              "outlinewidth": 0,
              "ticks": ""
             }
            },
            "type": "scatterpolargl"
           }
          ],
          "scatterternary": [
           {
            "marker": {
             "colorbar": {
              "outlinewidth": 0,
              "ticks": ""
             }
            },
            "type": "scatterternary"
           }
          ],
          "surface": [
           {
            "colorbar": {
             "outlinewidth": 0,
             "ticks": ""
            },
            "colorscale": [
             [
              0,
              "#0d0887"
             ],
             [
              0.1111111111111111,
              "#46039f"
             ],
             [
              0.2222222222222222,
              "#7201a8"
             ],
             [
              0.3333333333333333,
              "#9c179e"
             ],
             [
              0.4444444444444444,
              "#bd3786"
             ],
             [
              0.5555555555555556,
              "#d8576b"
             ],
             [
              0.6666666666666666,
              "#ed7953"
             ],
             [
              0.7777777777777778,
              "#fb9f3a"
             ],
             [
              0.8888888888888888,
              "#fdca26"
             ],
             [
              1,
              "#f0f921"
             ]
            ],
            "type": "surface"
           }
          ],
          "table": [
           {
            "cells": {
             "fill": {
              "color": "#EBF0F8"
             },
             "line": {
              "color": "white"
             }
            },
            "header": {
             "fill": {
              "color": "#C8D4E3"
             },
             "line": {
              "color": "white"
             }
            },
            "type": "table"
           }
          ]
         },
         "layout": {
          "annotationdefaults": {
           "arrowcolor": "#2a3f5f",
           "arrowhead": 0,
           "arrowwidth": 1
          },
          "autotypenumbers": "strict",
          "coloraxis": {
           "colorbar": {
            "outlinewidth": 0,
            "ticks": ""
           }
          },
          "colorscale": {
           "diverging": [
            [
             0,
             "#8e0152"
            ],
            [
             0.1,
             "#c51b7d"
            ],
            [
             0.2,
             "#de77ae"
            ],
            [
             0.3,
             "#f1b6da"
            ],
            [
             0.4,
             "#fde0ef"
            ],
            [
             0.5,
             "#f7f7f7"
            ],
            [
             0.6,
             "#e6f5d0"
            ],
            [
             0.7,
             "#b8e186"
            ],
            [
             0.8,
             "#7fbc41"
            ],
            [
             0.9,
             "#4d9221"
            ],
            [
             1,
             "#276419"
            ]
           ],
           "sequential": [
            [
             0,
             "#0d0887"
            ],
            [
             0.1111111111111111,
             "#46039f"
            ],
            [
             0.2222222222222222,
             "#7201a8"
            ],
            [
             0.3333333333333333,
             "#9c179e"
            ],
            [
             0.4444444444444444,
             "#bd3786"
            ],
            [
             0.5555555555555556,
             "#d8576b"
            ],
            [
             0.6666666666666666,
             "#ed7953"
            ],
            [
             0.7777777777777778,
             "#fb9f3a"
            ],
            [
             0.8888888888888888,
             "#fdca26"
            ],
            [
             1,
             "#f0f921"
            ]
           ],
           "sequentialminus": [
            [
             0,
             "#0d0887"
            ],
            [
             0.1111111111111111,
             "#46039f"
            ],
            [
             0.2222222222222222,
             "#7201a8"
            ],
            [
             0.3333333333333333,
             "#9c179e"
            ],
            [
             0.4444444444444444,
             "#bd3786"
            ],
            [
             0.5555555555555556,
             "#d8576b"
            ],
            [
             0.6666666666666666,
             "#ed7953"
            ],
            [
             0.7777777777777778,
             "#fb9f3a"
            ],
            [
             0.8888888888888888,
             "#fdca26"
            ],
            [
             1,
             "#f0f921"
            ]
           ]
          },
          "colorway": [
           "#636efa",
           "#EF553B",
           "#00cc96",
           "#ab63fa",
           "#FFA15A",
           "#19d3f3",
           "#FF6692",
           "#B6E880",
           "#FF97FF",
           "#FECB52"
          ],
          "font": {
           "color": "#2a3f5f"
          },
          "geo": {
           "bgcolor": "white",
           "lakecolor": "white",
           "landcolor": "#E5ECF6",
           "showlakes": true,
           "showland": true,
           "subunitcolor": "white"
          },
          "hoverlabel": {
           "align": "left"
          },
          "hovermode": "closest",
          "mapbox": {
           "style": "light"
          },
          "paper_bgcolor": "white",
          "plot_bgcolor": "#E5ECF6",
          "polar": {
           "angularaxis": {
            "gridcolor": "white",
            "linecolor": "white",
            "ticks": ""
           },
           "bgcolor": "#E5ECF6",
           "radialaxis": {
            "gridcolor": "white",
            "linecolor": "white",
            "ticks": ""
           }
          },
          "scene": {
           "xaxis": {
            "backgroundcolor": "#E5ECF6",
            "gridcolor": "white",
            "gridwidth": 2,
            "linecolor": "white",
            "showbackground": true,
            "ticks": "",
            "zerolinecolor": "white"
           },
           "yaxis": {
            "backgroundcolor": "#E5ECF6",
            "gridcolor": "white",
            "gridwidth": 2,
            "linecolor": "white",
            "showbackground": true,
            "ticks": "",
            "zerolinecolor": "white"
           },
           "zaxis": {
            "backgroundcolor": "#E5ECF6",
            "gridcolor": "white",
            "gridwidth": 2,
            "linecolor": "white",
            "showbackground": true,
            "ticks": "",
            "zerolinecolor": "white"
           }
          },
          "shapedefaults": {
           "line": {
            "color": "#2a3f5f"
           }
          },
          "ternary": {
           "aaxis": {
            "gridcolor": "white",
            "linecolor": "white",
            "ticks": ""
           },
           "baxis": {
            "gridcolor": "white",
            "linecolor": "white",
            "ticks": ""
           },
           "bgcolor": "#E5ECF6",
           "caxis": {
            "gridcolor": "white",
            "linecolor": "white",
            "ticks": ""
           }
          },
          "title": {
           "x": 0.05
          },
          "xaxis": {
           "automargin": true,
           "gridcolor": "white",
           "linecolor": "white",
           "ticks": "",
           "title": {
            "standoff": 15
           },
           "zerolinecolor": "white",
           "zerolinewidth": 2
          },
          "yaxis": {
           "automargin": true,
           "gridcolor": "white",
           "linecolor": "white",
           "ticks": "",
           "title": {
            "standoff": 15
           },
           "zerolinecolor": "white",
           "zerolinewidth": 2
          }
         }
        }
       }
      }
     },
     "metadata": {},
     "output_type": "display_data"
    }
   ],
   "source": [
    "sh_0, sh_1 = A.shape\n",
    "fig = go.Figure(go.Surface(\n",
    "    # contours = {\n",
    "    #     \"x\": {\"show\": True, \"start\": 1.5, \"end\": 2, \"size\": 0.04, \"color\":\"white\"},\n",
    "    #     \"z\": {\"show\": True, \"start\": 0.5, \"end\": 0.8, \"size\": 0.05}\n",
    "    # },\n",
    "    x = np.linspace(a, b, sh_1),\n",
    "    y = np.linspace(0, T, sh_0),\n",
    "    z = A))\n",
    "# fig.update_layout(\n",
    "#         scene = {\n",
    "#             \"xaxis\": {\"nticks\": 20},\n",
    "#             \"zaxis\": {\"nticks\": 4},\n",
    "#             'camera_eye': {\"x\": 0, \"y\": -1, \"z\": 0.5},\n",
    "#             \"aspectratio\": {\"x\": 1, \"y\": 1, \"z\": 0.2}\n",
    "#         })\n",
    "fig.show()"
   ]
  }
 ],
 "metadata": {
  "interpreter": {
   "hash": "670f886bb491df400b8a46c547cdac4d4234710212a6195cc7ddd83502d821f4"
  },
  "kernelspec": {
   "display_name": "Python 3.9.10 64-bit",
   "language": "python",
   "name": "python3"
  },
  "language_info": {
   "codemirror_mode": {
    "name": "ipython",
    "version": 3
   },
   "file_extension": ".py",
   "mimetype": "text/x-python",
   "name": "python",
   "nbconvert_exporter": "python",
   "pygments_lexer": "ipython3",
   "version": "3.9.10"
  },
  "orig_nbformat": 4
 },
 "nbformat": 4,
 "nbformat_minor": 2
}
