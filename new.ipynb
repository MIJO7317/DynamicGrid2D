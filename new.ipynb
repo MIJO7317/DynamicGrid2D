{
 "cells": [
  {
   "cell_type": "code",
   "execution_count": 2,
   "metadata": {},
   "outputs": [],
   "source": [
    "import random\n",
    "import numpy as np\n",
    "import matplotlib\n",
    "import matplotlib.pyplot as plt\n",
    "matplotlib.rcParams[\"figure.dpi\"] = 100\n",
    "import plotly.graph_objects as go\n",
    "from scipy.optimize import fsolve\n",
    "# import warnings\n",
    "# warnings.filterwarnings(\"error\")\n",
    "# import pyvista as pv"
   ]
  },
  {
   "cell_type": "code",
   "execution_count": 15,
   "metadata": {},
   "outputs": [],
   "source": [
    "def F(Y: np.ndarray, K, f, a, b) -> np.ndarray:\n",
    "    N = (Y.shape[0]) // 2\n",
    "    X = Y[:N]\n",
    "    U = Y[N:2*N]\n",
    "    C = Y[2*N]\n",
    "\n",
    "    Yr = np.zeros(2*N+1)\n",
    "    # # fill first equation batch\n",
    "    # E1 = np.zeros(N-1)\n",
    "    # E1rhs = 1/(N-1)*sum(map(lambda i: np.sqrt(1+4/(X[i]**2*X[i+1]**2)*(X[i]*(U[i+1]-C)-X[i+1]*(U[i]-C))**2)*(X[i+1]-X[i]), range(0, N-2+1, 1)))\n",
    "    # for n in range(0, N-2+1, 1):\n",
    "    #     E1[n] = np.sqrt(1+4/(X[n]**2*X[n+1]**2)*(X[n]*(U[n+1]-C)-X[n+1]*(U[n]-C))**2)*(X[n+1]-X[n]) - E1rhs\n",
    "    # fill first equation batch\n",
    "    E1 = np.zeros(N-1)\n",
    "    E1rhs = 1/(N-1)*sum(map(lambda i: np.sqrt((U[i+1]-U[i])**2+(X[i+1]-X[i])**2), range(0, N-2+1, 1)))\n",
    "    for n in range(0, N-2+1, 1):\n",
    "        E1[n] = (U[n+1]-U[n])**2 + (X[n+1]-X[n])**2 - E1rhs**2\n",
    "    # fill second equation batch\n",
    "    E2 = np.zeros(N-2)\n",
    "    for n in range(1, N-2+1, 1):\n",
    "        E2[n-1] = ((K(U[n])+K(U[n+1]))/2*(U[n+1]-U[n])/(X[n+1]-X[n])-(K(U[n-1])+K(U[n]))/2*(U[n]-U[n-1])/(X[n]-X[n-1])) / \\\n",
    "            ((X[n+1]+X[n])/2-(X[n]+X[n-1])/2)+f(U[n], X[n])\n",
    "    # fill boundary values\n",
    "    E3 = np.array(\n",
    "        [U[0]-1, U[N-1]-10, X[0]-a, X[N-1]-b]\n",
    "    )\n",
    "\n",
    "    # Yr = np.zeros(2*N+1)\n",
    "    # Yr[:N-1] = E1\n",
    "    # Yr[N-1:N-1+N-2] = E2\n",
    "    # Yr[N-1+N-2:] = E3\n",
    "\n",
    "    return np.concatenate((E1, E2, E3))"
   ]
  },
  {
   "cell_type": "code",
   "execution_count": 16,
   "metadata": {},
   "outputs": [],
   "source": [
    "T = 1\n",
    "\n",
    "l = 1\n",
    "\n",
    "a = 1\n",
    "b = 2\n",
    "\n",
    "h = 0.01\n",
    "tau = 0.005\n",
    "\n",
    "M = int(T/tau) + 1\n",
    "N = int((b-a)/h) + 1\n",
    "\n",
    "X = np.linspace(a, b, N)\n",
    "U = np.random.rand(N)\n",
    "# U = np.zeros((M, N))\n",
    "\n",
    "# Kuxt = lambda u, x, t: u**2\n",
    "# K = lambda m, n: Kuxt(U[m][n], n*h, m*tau)\n",
    "K = lambda u: u ** 2\n",
    "f = lambda u, x: 0#np.sin(x)\n",
    "\n",
    "# for n in range(N):\n",
    "#     U[0][n] = 0\n",
    "    # U[0][n] = -40*((n*h)-0.5)**2+10\n",
    "    # U[0][n] = 10*np.sin(10*n*h)\n",
    "\n",
    "C = 1\n",
    "# for m in range(1, M):\n",
    "    \n",
    "Y = np.concatenate((X, U, [C]))\n",
    "Yr = fsolve(F, Y, args=(K, f, a, b))\n",
    "X = Yr[:N]\n",
    "U = Yr[N:2*N]\n",
    "C = Yr[2*N]"
   ]
  },
  {
   "cell_type": "code",
   "execution_count": 17,
   "metadata": {},
   "outputs": [
    {
     "data": {
      "text/plain": [
       "(array([1.00000000e+00, 1.01000000e+00, 1.02000000e+00, 1.03000000e+00,\n",
       "        1.04000000e+00, 1.05000000e+00, 1.06000000e+00, 1.07000000e+00,\n",
       "        1.08000000e+00, 1.09000000e+00, 1.10000000e+00, 1.11000000e+00,\n",
       "        1.12000000e+00, 1.13000000e+00, 1.14000000e+00, 1.15000000e+00,\n",
       "        1.16000000e+00, 1.17000000e+00, 1.18000000e+00, 1.19000000e+00,\n",
       "        1.20000000e+00, 1.21000000e+00, 1.22000000e+00, 1.23000000e+00,\n",
       "        1.24000000e+00, 1.25000000e+00, 1.26000000e+00, 1.27000000e+00,\n",
       "        1.28000000e+00, 1.29000000e+00, 1.30000000e+00, 1.31000000e+00,\n",
       "        1.32000000e+00, 1.33000000e+00, 1.34000000e+00, 1.35000000e+00,\n",
       "        1.36000000e+00, 1.37000000e+00, 1.38000000e+00, 1.39000000e+00,\n",
       "        1.40000000e+00, 1.41000000e+00, 1.42000000e+00, 1.43000000e+00,\n",
       "        1.44000000e+00, 1.45000000e+00, 1.46000000e+00, 1.47000000e+00,\n",
       "        1.48000000e+00, 1.49000000e+00, 1.50000000e+00, 1.51000000e+00,\n",
       "        1.52000000e+00, 1.53000000e+00, 1.54000000e+00, 1.55000000e+00,\n",
       "        1.56000000e+00, 1.57000000e+00, 1.58000000e+00, 1.59000000e+00,\n",
       "        1.60000000e+00, 1.61000000e+00, 1.62000000e+00, 1.63000000e+00,\n",
       "        1.64000000e+00, 1.65000000e+00, 1.66000000e+00, 1.67000000e+00,\n",
       "        1.68000000e+00, 1.69000000e+00, 1.70000000e+00, 1.71000000e+00,\n",
       "        1.72000000e+00, 1.73000000e+00, 1.74000000e+00, 1.75000000e+00,\n",
       "        1.76000000e+00, 1.77000000e+00, 1.78000000e+00, 1.79000000e+00,\n",
       "        1.80000000e+00, 1.81000000e+00, 1.82000000e+00, 1.83000000e+00,\n",
       "        1.84000000e+00, 1.85000000e+00, 1.86000000e+00, 1.87000000e+00,\n",
       "        1.88000000e+00, 1.89000000e+00, 1.90000000e+00, 1.91000000e+00,\n",
       "        1.92000000e+00, 1.93000000e+00, 1.94000000e+00, 1.95000000e+00,\n",
       "        1.96000000e+00, 1.97000000e+00, 1.98000000e+00, 1.99000000e+00,\n",
       "        2.00000000e+00, 6.21779100e-01, 3.57297779e-02, 2.13369787e-01,\n",
       "        2.24392085e-01, 5.19866683e-01, 6.34599140e-01, 1.10590569e-01,\n",
       "        1.87549454e-01, 1.04444049e-01, 1.85434598e-01, 9.96908016e-01,\n",
       "        1.49672520e-01, 6.49879121e-01, 3.47559531e-01, 1.49983709e-01,\n",
       "        7.30702604e-01, 6.43960856e-01, 6.86902008e-01, 1.90207153e-01,\n",
       "        3.01595155e-01, 7.39601949e-01, 5.03314146e-01, 4.34441228e-01,\n",
       "        4.89779071e-01, 5.29787285e-01, 1.23892850e-01, 6.84923597e-01,\n",
       "        2.04464213e-01, 1.69094620e-03, 1.14998618e-01, 8.60332751e-01,\n",
       "        2.30393458e-02, 4.15908257e-01, 4.31003292e-01, 8.84451785e-01,\n",
       "        4.31169004e-01, 6.45728235e-01, 7.76558347e-01, 7.11996301e-01,\n",
       "        7.05161512e-01, 9.84158831e-02, 4.97138524e-01, 5.39103212e-01,\n",
       "        5.76673989e-02, 9.65891987e-03, 6.04888804e-01, 9.61454678e-02,\n",
       "        5.30326360e-01, 2.80514005e-01, 6.13580515e-02, 9.92775705e-01,\n",
       "        3.71974008e-01, 3.99873715e-01, 8.12149383e-01, 7.37600553e-01,\n",
       "        6.82291924e-01, 2.51990420e-01, 4.13324031e-01, 3.12175430e-01,\n",
       "        4.99098682e-01, 8.02869971e-01, 3.77919165e-01, 8.53906379e-01,\n",
       "        4.90575294e-01, 1.48885050e-01, 2.63383491e-01, 5.40697927e-01,\n",
       "        2.69208855e-01, 2.91612929e-01, 3.72764858e-01, 9.65837698e-02,\n",
       "        2.64510504e-01, 7.38525309e-01, 1.63967595e-01, 6.63442476e-01,\n",
       "        9.10922816e-01, 1.00046479e-01, 8.85853042e-01, 2.75231030e-01,\n",
       "        8.02166045e-01, 9.93376165e-01, 2.81275784e-01, 7.37247358e-01,\n",
       "        8.36333794e-01, 1.02237668e-01, 4.45823351e-01, 8.42113776e-01,\n",
       "        8.60023564e-01, 6.96041502e-01, 1.05042782e-02, 1.94994063e-01,\n",
       "        5.47907054e-01, 3.69441691e-01, 5.68475610e-01, 5.66287202e-01,\n",
       "        5.95554693e-01, 9.88220937e-02, 9.39730142e-01, 3.87334641e-01,\n",
       "        7.19986691e-01, 8.11361012e-01, 1.00000000e+00]),\n",
       " array([1.  , 1.01, 1.02, 1.03, 1.04, 1.05, 1.06, 1.07, 1.08, 1.09, 1.1 ,\n",
       "        1.11, 1.12, 1.13, 1.14, 1.15, 1.16, 1.17, 1.18, 1.19, 1.2 , 1.21,\n",
       "        1.22, 1.23, 1.24, 1.25, 1.26, 1.27, 1.28, 1.29, 1.3 , 1.31, 1.32,\n",
       "        1.33, 1.34, 1.35, 1.36, 1.37, 1.38, 1.39, 1.4 , 1.41, 1.42, 1.43,\n",
       "        1.44, 1.45, 1.46, 1.47, 1.48, 1.49, 1.5 , 1.51, 1.52, 1.53, 1.54,\n",
       "        1.55, 1.56, 1.57, 1.58, 1.59, 1.6 , 1.61, 1.62, 1.63, 1.64, 1.65,\n",
       "        1.66, 1.67, 1.68, 1.69, 1.7 , 1.71, 1.72, 1.73, 1.74, 1.75, 1.76,\n",
       "        1.77, 1.78, 1.79, 1.8 , 1.81, 1.82, 1.83, 1.84, 1.85, 1.86, 1.87,\n",
       "        1.88, 1.89, 1.9 , 1.91, 1.92, 1.93, 1.94, 1.95, 1.96, 1.97, 1.98,\n",
       "        1.99, 2.  ]),\n",
       " 1.0)"
      ]
     },
     "execution_count": 17,
     "metadata": {},
     "output_type": "execute_result"
    }
   ],
   "source": [
    "Y, X, C"
   ]
  },
  {
   "cell_type": "code",
   "execution_count": 18,
   "metadata": {},
   "outputs": [
    {
     "data": {
      "image/png": "[encoded data removed]",
      "text/plain": [
       "<Figure size 432x288 with 1 Axes>"
      ]
     },
     "metadata": {
      "needs_background": "light"
     },
     "output_type": "display_data"
    }
   ],
   "source": [
    "# UX[N:2*N]\n",
    "# plt.scatter(x=UX[N:2*N], y=UX[:N], s=2)\n",
    "fig = plt.figure()\n",
    "ax = fig.add_subplot(111)\n",
    "plt.plot(X, U, '.r-')\n",
    "# plt.xlim(0, 1)\n",
    "# plt.ylim(-0.5, 0.5)\n",
    "ax.set_aspect('equal', adjustable='box')\n",
    "\n",
    "plt.xlabel(\"x\")\n",
    "plt.ylabel(\"u\")\n",
    "\n",
    "plt.show()"
   ]
  }
 ],
 "metadata": {
  "interpreter": {
   "hash": "8cdd4720bede866ee1b3071e84d868d1c4a135aa16519d603c9b26c0f1a0af05"
  },
  "kernelspec": {
   "display_name": "Python 3.10.2 64-bit",
   "language": "python",
   "name": "python3"
  },
  "language_info": {
   "codemirror_mode": {
    "name": "ipython",
    "version": 3
   },
   "file_extension": ".py",
   "mimetype": "text/x-python",
   "name": "python",
   "nbconvert_exporter": "python",
   "pygments_lexer": "ipython3",
   "version": "3.10.2"
  },
  "orig_nbformat": 4
 },
 "nbformat": 4,
 "nbformat_minor": 2
}
