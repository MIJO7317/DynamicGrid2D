{
 "cells": [
  {
   "cell_type": "code",
   "execution_count": 99,
   "metadata": {},
   "outputs": [],
   "source": [
    "import random\n",
    "import numpy as np\n",
    "import matplotlib\n",
    "import matplotlib.pyplot as plt\n",
    "matplotlib.rcParams[\"figure.dpi\"] = 100\n",
    "import plotly.graph_objects as go\n",
    "from scipy.optimize import fsolve\n",
    "# import warnings\n",
    "# warnings.filterwarnings(\"error\")\n",
    "# import pyvista as pv"
   ]
  },
  {
   "cell_type": "code",
   "execution_count": 100,
   "metadata": {},
   "outputs": [],
   "source": [
    "def F(Y: np.ndarray, K, f, a, b) -> np.ndarray:\n",
    "    N = (Y.shape[0]) // 2\n",
    "    X = Y[:N]\n",
    "    U = Y[N:2*N]\n",
    "    C = Y[2*N]\n",
    "\n",
    "    Yr = np.zeros(2*N+1)\n",
    "    # # fill first equation batch\n",
    "    # E1 = np.zeros(N-1)\n",
    "    # E1rhs = 1/(N-1)*sum(map(lambda i: np.sqrt(1+4/(X[i]**2*X[i+1]**2)*(X[i]*(U[i+1]-C)-X[i+1]*(U[i]-C))**2)*(X[i+1]-X[i]), range(0, N-2+1, 1)))\n",
    "    # for n in range(0, N-2+1, 1):\n",
    "    #     E1[n] = np.sqrt(1+4/(X[n]**2*X[n+1]**2)*(X[n]*(U[n+1]-C)-X[n+1]*(U[n]-C))**2)*(X[n+1]-X[n]) - E1rhs\n",
    "    # fill first equation batch\n",
    "    E1 = np.zeros(N-1)\n",
    "    E1rhs = 1/(N-1)*sum(map(lambda i: np.sqrt(np.power(U[i+1]-U[i], 2)+C*np.power(X[i+1]-X[i], 2)), range(0, N-2+1, 1)))\n",
    "    for n in range(0, N-2+1, 1):\n",
    "        E1[n] = np.sqrt(np.power(U[n+1]-U[n], 2) + C*np.power(X[n+1]-X[n], 2)) - E1rhs\n",
    "    # fill second equation batch\n",
    "    E2 = np.zeros(N-2)\n",
    "    for n in range(1, N-2+1, 1):\n",
    "        E2[n-1] = ((K(U[n])+K(U[n+1]))/2*(U[n+1]-U[n])/(X[n+1]-X[n])-(K(U[n-1])+K(U[n]))/2*(U[n]-U[n-1])/(X[n]-X[n-1])) / \\\n",
    "            ((X[n+1]+X[n])/2-(X[n]+X[n-1])/2)+f(U[n], X[n])\n",
    "    # fill boundary values\n",
    "    E3 = np.array(\n",
    "        [U[0]-0, U[N-1]-1, X[0]-a, X[N-1]-b]\n",
    "    )\n",
    "\n",
    "    # Yr = np.zeros(2*N+1)\n",
    "    # Yr[:N-1] = E1\n",
    "    # Yr[N-1:N-1+N-2] = E2\n",
    "    # Yr[N-1+N-2:] = E3\n",
    "\n",
    "    return np.concatenate((E1, E2, E3))"
   ]
  },
  {
   "cell_type": "code",
   "execution_count": 121,
   "metadata": {},
   "outputs": [
    {
     "name": "stderr",
     "output_type": "stream",
     "text": [
      "C:\\Users\\rouol\\AppData\\Local\\Temp\\ipykernel_19296\\3995649517.py:15: RuntimeWarning: invalid value encountered in sqrt\n",
      "  E1rhs = 1/(N-1)*sum(map(lambda i: np.sqrt(np.power(U[i+1]-U[i], 2)+C*np.power(X[i+1]-X[i], 2)), range(0, N-2+1, 1)))\n",
      "C:\\Users\\rouol\\AppData\\Local\\Temp\\ipykernel_19296\\3995649517.py:17: RuntimeWarning: invalid value encountered in sqrt\n",
      "  E1[n] = np.sqrt(np.power(U[n+1]-U[n], 2) + C*np.power(X[n+1]-X[n], 2)) - E1rhs\n",
      "c:\\Users\\rouol\\AppData\\Local\\Programs\\Python\\Python310\\lib\\site-packages\\scipy\\optimize\\_minpack_py.py:175: RuntimeWarning: The iteration is not making good progress, as measured by the \n",
      "  improvement from the last ten iterations.\n",
      "  warnings.warn(msg, RuntimeWarning)\n"
     ]
    }
   ],
   "source": [
    "T = 1\n",
    "\n",
    "l = 1\n",
    "\n",
    "a = 0\n",
    "b = 1\n",
    "\n",
    "# h = 0.01\n",
    "# tau = 0.005\n",
    "\n",
    "N = 100\n",
    "\n",
    "# M = int(T/tau) + 1\n",
    "# N = int((b-a)/h) + 1\n",
    "\n",
    "# X = np.linspace(a, b, N)\n",
    "X = np.arange(a, b+0.01, 1/99)\n",
    "# U = np.random.rand(N)\n",
    "U = np.linspace(a, b, N)\n",
    "# U = np.zeros((M, N))\n",
    "\n",
    "# Kuxt = lambda u, x, t: u**2\n",
    "# K = lambda m, n: Kuxt(U[m][n], n*h, m*tau)\n",
    "K = lambda u: u\n",
    "f = lambda u, x: 1#np.sin(x)\n",
    "\n",
    "# for n in range(N):\n",
    "#     U[0][n] = 0\n",
    "    # U[0][n] = -40*((n*h)-0.5)**2+10\n",
    "    # U[0][n] = 10*np.sin(10*n*h)\n",
    "\n",
    "C = 1\n",
    "# for m in range(1, M):\n",
    "    \n",
    "Y = np.concatenate((X, U, [C]))\n",
    "Yr = fsolve(F, Y, args=(K, f, a, b))\n",
    "X = Yr[:N]\n",
    "U = Yr[N:2*N]\n",
    "C = Yr[2*N]"
   ]
  },
  {
   "cell_type": "code",
   "execution_count": 126,
   "metadata": {},
   "outputs": [
    {
     "data": {
      "text/plain": [
       "1.1111557549335862"
      ]
     },
     "execution_count": 126,
     "metadata": {},
     "output_type": "execute_result"
    }
   ],
   "source": [
    "# np.linspace(a, b, N), np.zeros(N), 1\n",
    "# max(F(np.concatenate((np.arange(a, b+0.01, 1/99), np.zeros(N), [1])), K, f, a, b))\n",
    "max(F(np.concatenate((X, U, [C])), K, f, a, b))"
   ]
  },
  {
   "cell_type": "code",
   "execution_count": 123,
   "metadata": {},
   "outputs": [
    {
     "data": {
      "image/png": "[encoded data removed]",
      "text/plain": [
       "<Figure size 600x400 with 1 Axes>"
      ]
     },
     "metadata": {
      "needs_background": "light"
     },
     "output_type": "display_data"
    }
   ],
   "source": [
    "# UX[N:2*N]\n",
    "# plt.scatter(x=UX[N:2*N], y=UX[:N], s=2)\n",
    "fig = plt.figure()\n",
    "ax = fig.add_subplot(111)\n",
    "plt.plot(X, U, '.r-')\n",
    "# plt.xlim(0, 1)\n",
    "# plt.ylim(-0.5, 0.5)\n",
    "# ax.set_aspect('equal', adjustable='box')\n",
    "\n",
    "plt.xlabel(\"x\")\n",
    "plt.ylabel(\"u\")\n",
    "\n",
    "plt.show()"
   ]
  }
 ],
 "metadata": {
  "interpreter": {
   "hash": "8cdd4720bede866ee1b3071e84d868d1c4a135aa16519d603c9b26c0f1a0af05"
  },
  "kernelspec": {
   "display_name": "Python 3.10.2 64-bit",
   "language": "python",
   "name": "python3"
  },
  "language_info": {
   "codemirror_mode": {
    "name": "ipython",
    "version": 3
   },
   "file_extension": ".py",
   "mimetype": "text/x-python",
   "name": "python",
   "nbconvert_exporter": "python",
   "pygments_lexer": "ipython3",
   "version": "3.10.2"
  },
  "orig_nbformat": 4
 },
 "nbformat": 4,
 "nbformat_minor": 2
}
