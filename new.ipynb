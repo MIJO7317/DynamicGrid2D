{
 "cells": [
  {
   "cell_type": "code",
   "execution_count": 43,
   "metadata": {},
   "outputs": [],
   "source": [
    "import random\n",
    "import numpy as np\n",
    "import matplotlib\n",
    "import matplotlib.pyplot as plt\n",
    "matplotlib.rcParams[\"figure.dpi\"] = 100\n",
    "import plotly.graph_objects as go\n",
    "from scipy.optimize import fsolve\n",
    "# import warnings\n",
    "# warnings.filterwarnings(\"error\")\n",
    "# import pyvista as pv"
   ]
  },
  {
   "cell_type": "code",
   "execution_count": 54,
   "metadata": {},
   "outputs": [],
   "source": [
    "def F(Y: np.ndarray, K, f, a, b) -> np.ndarray:\n",
    "    N = (Y.shape[0] - 1) // 2\n",
    "    X = Y[:N]\n",
    "    U = Y[N:2*N]\n",
    "    C = Y[2*N]\n",
    "\n",
    "    Yr = np.zeros(2*N+1)\n",
    "    # fill first equation batch\n",
    "    E1 = np.zeros(N-1)\n",
    "    E1rhs = 1/(N-1)*sum(map(lambda i: np.sqrt(1+4/(X[i]**2*X[i+1]**2)*(X[i]*(U[i+1]-C)-X[i+1]*(U[i]-C))**2)*(X[i+1]-X[i]), range(0, N-2+1, 1)))\n",
    "    for n in range(0, N-2+1, 1):\n",
    "        E1[n] = np.sqrt(1+4/(X[n]**2*X[n+1]**2)*(X[n]*(U[n+1]-C)-X[n+1]*(U[n]-C))**2)*(X[n+1]-X[n]) - E1rhs\n",
    "    # fill second equation batch\n",
    "    E2 = np.zeros(N-2)\n",
    "    for n in range(1, N-2+1, 1):\n",
    "        E2[n-1] = ((K(U[n])+K(U[n+1]))/2*(U[n+1]-U[n])/(X[n+1]-X[n])-(K(U[n-1])+K(U[n]))/2*(U[n]-U[n-1])/(X[n]-X[n-1])) / \\\n",
    "            ((X[n+1]+X[n])/2-(X[n]+X[n-1])/2)+f(U[n], X[n])\n",
    "    # fill boundary values\n",
    "    E3 = np.array(\n",
    "        [U[0]-1, U[N-1]-3, X[0]-a, X[N-1]-b]\n",
    "    )\n",
    "\n",
    "    # Yr = np.zeros(2*N+1)\n",
    "    # Yr[:N-1] = E1\n",
    "    # Yr[N-1:N-1+N-2] = E2\n",
    "    # Yr[N-1+N-2:] = E3\n",
    "\n",
    "    return np.concatenate((E1, E2, E3))"
   ]
  },
  {
   "cell_type": "code",
   "execution_count": 55,
   "metadata": {},
   "outputs": [],
   "source": [
    "T = 1\n",
    "\n",
    "l = 1\n",
    "\n",
    "a = 1\n",
    "b = 2\n",
    "\n",
    "h = 0.05\n",
    "tau = 0.005\n",
    "\n",
    "M = int(T/tau) + 1\n",
    "N = int((b-a)/h) + 1\n",
    "\n",
    "X = np.linspace(a, b, N)\n",
    "U = np.random.rand(N)\n",
    "# U = np.zeros((M, N))\n",
    "\n",
    "# Kuxt = lambda u, x, t: u**2\n",
    "# K = lambda m, n: Kuxt(U[m][n], n*h, m*tau)\n",
    "K = lambda u: u ** 2\n",
    "f = lambda u, x: 0#np.sin(x)\n",
    "\n",
    "# for n in range(N):\n",
    "#     U[0][n] = 0\n",
    "    # U[0][n] = -40*((n*h)-0.5)**2+10\n",
    "    # U[0][n] = 10*np.sin(10*n*h)\n",
    "\n",
    "C = 1\n",
    "# for m in range(1, M):\n",
    "    \n",
    "Y = np.concatenate((X, U, [C]))\n",
    "Yr = fsolve(F, Y, args=(K, f, a, b))\n",
    "X = Yr[:N]\n",
    "U = Yr[N:2*N]\n",
    "C = Yr[2*N]"
   ]
  },
  {
   "cell_type": "code",
   "execution_count": 57,
   "metadata": {},
   "outputs": [
    {
     "data": {
      "text/plain": [
       "(array([1.        , 1.05      , 1.1       , 1.15      , 1.2       ,\n",
       "        1.25      , 1.3       , 1.35      , 1.4       , 1.45      ,\n",
       "        1.5       , 1.55      , 1.6       , 1.65      , 1.7       ,\n",
       "        1.75      , 1.8       , 1.85      , 1.9       , 1.95      ,\n",
       "        2.        , 0.46968908, 0.43299107, 0.72513758, 0.28572506,\n",
       "        0.77056581, 0.67514252, 0.70058832, 0.62336595, 0.10572235,\n",
       "        0.57804794, 0.7020289 , 0.33565574, 0.7893104 , 0.31300938,\n",
       "        0.04573685, 0.09175196, 0.55325268, 0.37617694, 0.23303727,\n",
       "        0.25832404, 0.32232416, 1.        ]),\n",
       " array([1.        , 1.04476243, 1.09274555, 1.14204901, 1.19195476,\n",
       "        1.24215831, 1.29251794, 1.34296274, 1.39345523, 1.44397477,\n",
       "        1.49450964, 1.54505304, 1.595601  , 1.64615115, 1.69670213,\n",
       "        1.74725316, 1.7978038 , 1.84835386, 1.89890324, 1.94945194,\n",
       "        2.        ]),\n",
       " 0.6187847491009025)"
      ]
     },
     "execution_count": 57,
     "metadata": {},
     "output_type": "execute_result"
    }
   ],
   "source": [
    "Y, X, C"
   ]
  },
  {
   "cell_type": "code",
   "execution_count": 56,
   "metadata": {},
   "outputs": [
    {
     "data": {
      "image/png": "[encoded data removed]",
      "text/plain": [
       "<Figure size 600x400 with 1 Axes>"
      ]
     },
     "metadata": {
      "needs_background": "light"
     },
     "output_type": "display_data"
    }
   ],
   "source": [
    "# UX[N:2*N]\n",
    "# plt.scatter(x=UX[N:2*N], y=UX[:N], s=2)\n",
    "fig = plt.figure()\n",
    "ax = fig.add_subplot(111)\n",
    "plt.plot(X, U, '.r-')\n",
    "# plt.xlim(0, 1)\n",
    "# plt.ylim(-0.5, 0.5)\n",
    "ax.set_aspect('equal', adjustable='box')\n",
    "\n",
    "plt.xlabel(\"x\")\n",
    "plt.ylabel(\"u\")\n",
    "\n",
    "plt.show()"
   ]
  }
 ],
 "metadata": {
  "interpreter": {
   "hash": "8cdd4720bede866ee1b3071e84d868d1c4a135aa16519d603c9b26c0f1a0af05"
  },
  "kernelspec": {
   "display_name": "Python 3.10.2 64-bit",
   "language": "python",
   "name": "python3"
  },
  "language_info": {
   "codemirror_mode": {
    "name": "ipython",
    "version": 3
   },
   "file_extension": ".py",
   "mimetype": "text/x-python",
   "name": "python",
   "nbconvert_exporter": "python",
   "pygments_lexer": "ipython3",
   "version": "3.10.2"
  },
  "orig_nbformat": 4
 },
 "nbformat": 4,
 "nbformat_minor": 2
}
